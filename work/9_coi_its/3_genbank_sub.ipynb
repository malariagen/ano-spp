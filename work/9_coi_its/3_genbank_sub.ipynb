{
 "cells": [
  {
   "cell_type": "markdown",
   "metadata": {},
   "source": [
    "Prepare fasta files for genbank submissions"
   ]
  },
  {
   "cell_type": "code",
   "execution_count": 1,
   "metadata": {},
   "outputs": [],
   "source": [
    "from Bio import AlignIO, SeqIO\n",
    "import os\n",
    "import pandas as pd"
   ]
  },
  {
   "cell_type": "code",
   "execution_count": 2,
   "metadata": {},
   "outputs": [],
   "source": [
    "# in\n",
    "WD = '../../../data/phylo_ampl_dada2/coi_its2/work/'\n",
    "FA = os.path.join(WD, 'seqman_fa/plate{}.fas')\n",
    "SEQ_META = 'data/species_predictions.csv'\n",
    "PARTNER_META = '../7_species_id/data/0_samples.csv'\n",
    "# out\n",
    "GB_FA = os.path.join(WD, 'genbank_{}.fas')\n",
    "GB_SM = os.path.join(WD, 'genbank_{}.tsv')"
   ]
  },
  {
   "cell_type": "code",
   "execution_count": 3,
   "metadata": {},
   "outputs": [],
   "source": [
    "species_conflict = ['Amar-42','Amar-5','VBS00145']"
   ]
  },
  {
   "cell_type": "code",
   "execution_count": 4,
   "metadata": {},
   "outputs": [
    {
     "data": {
      "text/html": [
       "<div>\n",
       "<style scoped>\n",
       "    .dataframe tbody tr th:only-of-type {\n",
       "        vertical-align: middle;\n",
       "    }\n",
       "\n",
       "    .dataframe tbody tr th {\n",
       "        vertical-align: top;\n",
       "    }\n",
       "\n",
       "    .dataframe thead th {\n",
       "        text-align: right;\n",
       "    }\n",
       "</style>\n",
       "<table border=\"1\" class=\"dataframe\">\n",
       "  <thead>\n",
       "    <tr style=\"text-align: right;\">\n",
       "      <th></th>\n",
       "      <th>partner_species</th>\n",
       "      <th>amplicons_recovered</th>\n",
       "      <th>ampseq_species</th>\n",
       "      <th>bold_best_id</th>\n",
       "      <th>bold_top_%</th>\n",
       "      <th>bold_low_%</th>\n",
       "      <th>COI_length</th>\n",
       "      <th>COI_num_alignments</th>\n",
       "      <th>COI_species_predictions</th>\n",
       "      <th>COI_top10_species</th>\n",
       "      <th>...</th>\n",
       "      <th>ITS2_second_hit</th>\n",
       "      <th>ITS2_second_hit_species</th>\n",
       "      <th>ITS2_second_hit_hsps</th>\n",
       "      <th>ITS2_second_hit_length</th>\n",
       "      <th>ITS2_second_hit_identities</th>\n",
       "      <th>ITS2_second_hit_identity</th>\n",
       "      <th>ITS2_second_hit_score</th>\n",
       "      <th>COI_seqid</th>\n",
       "      <th>ITS2_seqid</th>\n",
       "      <th>Organism</th>\n",
       "    </tr>\n",
       "  </thead>\n",
       "  <tbody>\n",
       "    <tr>\n",
       "      <th>Abro-21</th>\n",
       "      <td>Anopheles_brohieri</td>\n",
       "      <td>21.0</td>\n",
       "      <td>Anopheles_brohieri, Anopheles_demeilloni, Anop...</td>\n",
       "      <td>NaN</td>\n",
       "      <td>NaN</td>\n",
       "      <td>NaN</td>\n",
       "      <td>NaN</td>\n",
       "      <td>NaN</td>\n",
       "      <td>NaN</td>\n",
       "      <td>NaN</td>\n",
       "      <td>...</td>\n",
       "      <td>gi|374676298|gb|JN994151.1|</td>\n",
       "      <td>Anopheles_theileri</td>\n",
       "      <td>1.0</td>\n",
       "      <td>481.0</td>\n",
       "      <td>438.0</td>\n",
       "      <td>91.060291</td>\n",
       "      <td>344.0</td>\n",
       "      <td>NaN</td>\n",
       "      <td>bro.21_A10-ITS2A.ab1</td>\n",
       "      <td>Anopheles brohieri</td>\n",
       "    </tr>\n",
       "    <tr>\n",
       "      <th>Abro-22</th>\n",
       "      <td>Anopheles_brohieri</td>\n",
       "      <td>62.0</td>\n",
       "      <td>Anopheles_brohieri</td>\n",
       "      <td>No_match</td>\n",
       "      <td>NaN</td>\n",
       "      <td>NaN</td>\n",
       "      <td>391.0</td>\n",
       "      <td>500.0</td>\n",
       "      <td>NaN</td>\n",
       "      <td>Anopheles_sp., Anopheles_theileri, Anopheles_a...</td>\n",
       "      <td>...</td>\n",
       "      <td>gi|374676298|gb|JN994151.1|</td>\n",
       "      <td>Anopheles_theileri</td>\n",
       "      <td>1.0</td>\n",
       "      <td>481.0</td>\n",
       "      <td>438.0</td>\n",
       "      <td>91.060291</td>\n",
       "      <td>344.0</td>\n",
       "      <td>bro.22_B10-HCO2198.ab1</td>\n",
       "      <td>bro.22_B10-ITS2A.ab1</td>\n",
       "      <td>Anopheles brohieri</td>\n",
       "    </tr>\n",
       "    <tr>\n",
       "      <th>Abro-30</th>\n",
       "      <td>Anopheles_brohieri</td>\n",
       "      <td>59.0</td>\n",
       "      <td>Anopheles_brohieri</td>\n",
       "      <td>No_match</td>\n",
       "      <td>NaN</td>\n",
       "      <td>NaN</td>\n",
       "      <td>616.0</td>\n",
       "      <td>500.0</td>\n",
       "      <td>NaN</td>\n",
       "      <td>Anopheles_sp., Anopheles_minimus, Anopheles_cf...</td>\n",
       "      <td>...</td>\n",
       "      <td>gi|374676298|gb|JN994151.1|</td>\n",
       "      <td>Anopheles_theileri</td>\n",
       "      <td>1.0</td>\n",
       "      <td>481.0</td>\n",
       "      <td>438.0</td>\n",
       "      <td>91.060291</td>\n",
       "      <td>344.0</td>\n",
       "      <td>bro.30_C10-HCO2198.ab1</td>\n",
       "      <td>bro.30_C10-ITS2A.ab1</td>\n",
       "      <td>Anopheles brohieri</td>\n",
       "    </tr>\n",
       "    <tr>\n",
       "      <th>Abro-33</th>\n",
       "      <td>Anopheles_brohieri</td>\n",
       "      <td>38.0</td>\n",
       "      <td>Anopheles_brohieri, Anopheles_demeilloni, Anop...</td>\n",
       "      <td>No_match</td>\n",
       "      <td>NaN</td>\n",
       "      <td>NaN</td>\n",
       "      <td>616.0</td>\n",
       "      <td>500.0</td>\n",
       "      <td>NaN</td>\n",
       "      <td>Anopheles_sp., Anopheles_minimus, Anopheles_cf...</td>\n",
       "      <td>...</td>\n",
       "      <td>gi|374676298|gb|JN994151.1|</td>\n",
       "      <td>Anopheles_theileri</td>\n",
       "      <td>1.0</td>\n",
       "      <td>480.0</td>\n",
       "      <td>439.0</td>\n",
       "      <td>91.458333</td>\n",
       "      <td>350.0</td>\n",
       "      <td>bro.33_D10-HCO2198.ab1</td>\n",
       "      <td>bro.33_D10-ITS2A.ab1</td>\n",
       "      <td>Anopheles brohieri</td>\n",
       "    </tr>\n",
       "    <tr>\n",
       "      <th>Acar-191</th>\n",
       "      <td>Anopheles_carnevalei</td>\n",
       "      <td>49.0</td>\n",
       "      <td>Anopheles_carnevalei</td>\n",
       "      <td>Anopheles_carnevalei</td>\n",
       "      <td>99.5</td>\n",
       "      <td>92.59</td>\n",
       "      <td>620.0</td>\n",
       "      <td>500.0</td>\n",
       "      <td>NaN</td>\n",
       "      <td>Anopheles_darlingi, Anopheles_coustani, Anophe...</td>\n",
       "      <td>...</td>\n",
       "      <td>gi|471756220|gb|KC189966.1|</td>\n",
       "      <td>Anopheles_nili</td>\n",
       "      <td>1.0</td>\n",
       "      <td>400.0</td>\n",
       "      <td>334.0</td>\n",
       "      <td>83.500000</td>\n",
       "      <td>183.0</td>\n",
       "      <td>car.191_A01-HCO2198.ab1</td>\n",
       "      <td>car.191_B11-ITS2A.ab1</td>\n",
       "      <td>Anopheles carnevalei</td>\n",
       "    </tr>\n",
       "  </tbody>\n",
       "</table>\n",
       "<p>5 rows × 45 columns</p>\n",
       "</div>"
      ],
      "text/plain": [
       "               partner_species  amplicons_recovered  \\\n",
       "Abro-21     Anopheles_brohieri                 21.0   \n",
       "Abro-22     Anopheles_brohieri                 62.0   \n",
       "Abro-30     Anopheles_brohieri                 59.0   \n",
       "Abro-33     Anopheles_brohieri                 38.0   \n",
       "Acar-191  Anopheles_carnevalei                 49.0   \n",
       "\n",
       "                                             ampseq_species  \\\n",
       "Abro-21   Anopheles_brohieri, Anopheles_demeilloni, Anop...   \n",
       "Abro-22                                  Anopheles_brohieri   \n",
       "Abro-30                                  Anopheles_brohieri   \n",
       "Abro-33   Anopheles_brohieri, Anopheles_demeilloni, Anop...   \n",
       "Acar-191                               Anopheles_carnevalei   \n",
       "\n",
       "                  bold_best_id  bold_top_%  bold_low_%  COI_length  \\\n",
       "Abro-21                    NaN         NaN         NaN         NaN   \n",
       "Abro-22               No_match         NaN         NaN       391.0   \n",
       "Abro-30               No_match         NaN         NaN       616.0   \n",
       "Abro-33               No_match         NaN         NaN       616.0   \n",
       "Acar-191  Anopheles_carnevalei        99.5       92.59       620.0   \n",
       "\n",
       "          COI_num_alignments COI_species_predictions  \\\n",
       "Abro-21                  NaN                     NaN   \n",
       "Abro-22                500.0                     NaN   \n",
       "Abro-30                500.0                     NaN   \n",
       "Abro-33                500.0                     NaN   \n",
       "Acar-191               500.0                     NaN   \n",
       "\n",
       "                                          COI_top10_species  ...  \\\n",
       "Abro-21                                                 NaN  ...   \n",
       "Abro-22   Anopheles_sp., Anopheles_theileri, Anopheles_a...  ...   \n",
       "Abro-30   Anopheles_sp., Anopheles_minimus, Anopheles_cf...  ...   \n",
       "Abro-33   Anopheles_sp., Anopheles_minimus, Anopheles_cf...  ...   \n",
       "Acar-191  Anopheles_darlingi, Anopheles_coustani, Anophe...  ...   \n",
       "\n",
       "                      ITS2_second_hit ITS2_second_hit_species  \\\n",
       "Abro-21   gi|374676298|gb|JN994151.1|      Anopheles_theileri   \n",
       "Abro-22   gi|374676298|gb|JN994151.1|      Anopheles_theileri   \n",
       "Abro-30   gi|374676298|gb|JN994151.1|      Anopheles_theileri   \n",
       "Abro-33   gi|374676298|gb|JN994151.1|      Anopheles_theileri   \n",
       "Acar-191  gi|471756220|gb|KC189966.1|          Anopheles_nili   \n",
       "\n",
       "          ITS2_second_hit_hsps  ITS2_second_hit_length  \\\n",
       "Abro-21                    1.0                   481.0   \n",
       "Abro-22                    1.0                   481.0   \n",
       "Abro-30                    1.0                   481.0   \n",
       "Abro-33                    1.0                   480.0   \n",
       "Acar-191                   1.0                   400.0   \n",
       "\n",
       "          ITS2_second_hit_identities  ITS2_second_hit_identity  \\\n",
       "Abro-21                        438.0                 91.060291   \n",
       "Abro-22                        438.0                 91.060291   \n",
       "Abro-30                        438.0                 91.060291   \n",
       "Abro-33                        439.0                 91.458333   \n",
       "Acar-191                       334.0                 83.500000   \n",
       "\n",
       "          ITS2_second_hit_score                COI_seqid  \\\n",
       "Abro-21                   344.0                      NaN   \n",
       "Abro-22                   344.0   bro.22_B10-HCO2198.ab1   \n",
       "Abro-30                   344.0   bro.30_C10-HCO2198.ab1   \n",
       "Abro-33                   350.0   bro.33_D10-HCO2198.ab1   \n",
       "Acar-191                  183.0  car.191_A01-HCO2198.ab1   \n",
       "\n",
       "                     ITS2_seqid              Organism  \n",
       "Abro-21    bro.21_A10-ITS2A.ab1    Anopheles brohieri  \n",
       "Abro-22    bro.22_B10-ITS2A.ab1    Anopheles brohieri  \n",
       "Abro-30    bro.30_C10-ITS2A.ab1    Anopheles brohieri  \n",
       "Abro-33    bro.33_D10-ITS2A.ab1    Anopheles brohieri  \n",
       "Acar-191  car.191_B11-ITS2A.ab1  Anopheles carnevalei  \n",
       "\n",
       "[5 rows x 45 columns]"
      ]
     },
     "execution_count": 4,
     "metadata": {},
     "output_type": "execute_result"
    }
   ],
   "source": [
    "smeta = pd.read_csv(SEQ_META, index_col=0)\n",
    "smeta['partner_species'] = smeta.partner_species.fillna('')\n",
    "smeta['Organism'] = smeta.partner_species.apply(lambda x: ' '.join(x.split('_')[:2]))\n",
    "smeta.loc[smeta.index.isin(species_conflict), 'partner_species'] = 'Anopheles sp.'\n",
    "smeta.loc[smeta.index.isin(species_conflict), 'Organism'] = 'Anopheles sp.'\n",
    "smeta.head()"
   ]
  },
  {
   "cell_type": "code",
   "execution_count": 5,
   "metadata": {},
   "outputs": [],
   "source": [
    "marker_names = {\n",
    "    'coi':'cytochrome oxidase subunit I (COI) gene, partial cds; mitochondrial',\n",
    "    'its':'5.8S ribosomal RNA gene, partial sequence; internal transcribed spacer 2, complete sequence; and 28S ribosomal RNA gene, partial sequence'\n",
    "}\n",
    "marker_plates = {\n",
    "    'coi':(1,2),\n",
    "    'its':(3,4)\n",
    "}\n",
    "marker_seqid_col = {\n",
    "    'coi':'COI_seqid',\n",
    "    'its':'ITS2_seqid'\n",
    "}\n",
    "\n"
   ]
  },
  {
   "cell_type": "code",
   "execution_count": 6,
   "metadata": {},
   "outputs": [
    {
     "name": "stdout",
     "output_type": "stream",
     "text": [
      "marker coi\n",
      "plate 1\n",
      "plate 2\n",
      "marker its\n",
      "plate 3\n",
      "plate 4\n"
     ]
    }
   ],
   "source": [
    "# sequence dat\n",
    "for marker in ('coi','its'):\n",
    "    out_seqs = list() \n",
    "    print('marker',marker)\n",
    "    for plate in marker_plates[marker]:\n",
    "        in_seqs = SeqIO.parse(FA.format(plate), format='fasta')\n",
    "        print('plate',plate)\n",
    "        for seq in in_seqs:\n",
    "            q = '{} == \"{}\"'.format(marker_seqid_col[marker], seq.name)\n",
    "            # print(q, marker)\n",
    "            marker_data = smeta.query(q)\n",
    "            assert marker_data.shape[0] == 1, q\n",
    "            sample_id = marker_data.index[0]\n",
    "            species_tax = marker_data.Organism[0]\n",
    "            species = marker_data.partner_species[0].replace('_',' ')\n",
    "            # no partner species - sample excluded from publication\n",
    "            if species == '':\n",
    "                continue\n",
    "            title = '[organism={species_tax}] {species} isolate {sample_id} {marker}'.format(\n",
    "                      seqname=seq.name, \n",
    "                      species_tax=species_tax,\n",
    "                      species=species,   \n",
    "                      sample_id=sample_id, \n",
    "                      marker=marker_names[marker])\n",
    "            seq.description = title\n",
    "            # we sequenced COI from a reverse primer\n",
    "            if marker == 'coi':\n",
    "                seq.seq = seq.seq.reverse_complement()\n",
    "            out_seqs.append(seq)\n",
    "    SeqIO.write(out_seqs, GB_FA.format(marker), format='fasta')\n"
   ]
  },
  {
   "cell_type": "code",
   "execution_count": 7,
   "metadata": {},
   "outputs": [],
   "source": [
    "# prep for source modifier tables\n",
    "pmeta = pd.read_csv(PARTNER_META, index_col=0)\n",
    "meta = pd.merge(smeta, pmeta, left_index=True, right_index=True)"
   ]
  },
  {
   "cell_type": "code",
   "execution_count": 8,
   "metadata": {},
   "outputs": [
    {
     "data": {
      "text/plain": [
       "(125, 61)"
      ]
     },
     "metadata": {},
     "output_type": "display_data"
    },
    {
     "data": {
      "text/plain": [
       "(124, 61)"
      ]
     },
     "execution_count": 8,
     "metadata": {},
     "output_type": "execute_result"
    }
   ],
   "source": [
    "# remove duplicated theileri sample\n",
    "display(meta.shape)\n",
    "meta = meta[~meta.index.duplicated(keep='first')]\n",
    "meta.shape"
   ]
  },
  {
   "cell_type": "code",
   "execution_count": 9,
   "metadata": {},
   "outputs": [],
   "source": [
    "col_mapping = {\n",
    "    'Specimen Sex':'Sex',\n",
    "    'Collection Context':'Isolation_source',\n",
    "}\n",
    "meta = meta.rename(columns=col_mapping)"
   ]
  },
  {
   "cell_type": "code",
   "execution_count": 10,
   "metadata": {},
   "outputs": [],
   "source": [
    "meta['Isolate'] = meta.index"
   ]
  },
  {
   "cell_type": "code",
   "execution_count": 11,
   "metadata": {},
   "outputs": [],
   "source": [
    "def lat_lon(r):\n",
    "    lat_suffix = ('N' if r.Latitude >= 0 else 'S')\n",
    "    lon_suffix = ('E' if r.Longitude >= 0 else 'W')\n",
    "    return '{:.5f} {} {:.5f} {}'.format(\n",
    "            abs(r.Latitude),lat_suffix,\n",
    "            abs(r.Longitude),lon_suffix)\n",
    "meta['Lat_Lon'] = meta.apply(lat_lon, axis=1)"
   ]
  },
  {
   "cell_type": "code",
   "execution_count": 12,
   "metadata": {},
   "outputs": [],
   "source": [
    "meta['Collection_date'] = pd.to_datetime(meta['Date of Collection']).dt.strftime('%d-%b-%Y')"
   ]
  },
  {
   "cell_type": "code",
   "execution_count": 13,
   "metadata": {},
   "outputs": [],
   "source": [
    "add_cols = [\n",
    "    'Collection_date',\n",
    "    'Country',\n",
    "    'Isolate',\n",
    "    'Isolation_source',\n",
    "    'Organism',\n",
    "    'Lat_Lon'\n",
    "]\n",
    "# source modifier tables\n",
    "for marker in ('coi','its'):\n",
    "    mid = marker_seqid_col[marker]\n",
    "    smdf = meta[[mid,\n",
    "                 *add_cols]]\n",
    "    smdf = smdf.rename(columns={mid:'Sequence_ID'})\n",
    "    smdf = smdf[smdf.Sequence_ID.notna()]\n",
    "    smdf.to_csv(GB_SM.format(marker), sep='\\t', index=False)"
   ]
  },
  {
   "cell_type": "markdown",
   "metadata": {},
   "source": [
    "## Sandbox"
   ]
  },
  {
   "cell_type": "code",
   "execution_count": 14,
   "metadata": {},
   "outputs": [
    {
     "name": "stdout",
     "output_type": "stream",
     "text": [
      "[SeqRecord(seq=Seq('KDIGTLYFIFGAWAGMVGTSLSILIRAELGHPGAFIGDDQIYNVIVTAHAFIMI...NLN', ExtendedIUPACProtein()), id='<unknown id>', name='VBS00156_E09-HCO2198.ab1', description='<unknown description>', dbxrefs=[])]\n"
     ]
    },
    {
     "name": "stderr",
     "output_type": "stream",
     "text": [
      "/Users/am60/miniconda3/envs/62_phylo_reduced/lib/python3.6/site-packages/Bio/Seq.py:2715: BiopythonWarning: Partial codon, len(sequence) not a multiple of three. Explicitly trim the sequence or add trailing N before translation. This may become an error in future.\n",
      "  BiopythonWarning)\n"
     ]
    }
   ],
   "source": [
    "# translation for coi\n",
    "prot_seqs = list()\n",
    "for seq in SeqIO.parse(GB_FA.format('coi'), format='fasta'):\n",
    "#     seq = seq.reverse_complement()\n",
    "    for i in range(3):\n",
    "        prot_seq = seq[i:].translate(table=5)\n",
    "        if '*' not in prot_seq:\n",
    "            prot_seq.name = seq.name\n",
    "            prot_seqs.append(prot_seq)\n",
    "            break\n",
    "    else:\n",
    "        raise ValueError(seq.name)\n",
    "\n",
    "    break\n",
    "print(prot_seqs)"
   ]
  },
  {
   "cell_type": "code",
   "execution_count": null,
   "metadata": {},
   "outputs": [],
   "source": []
  }
 ],
 "metadata": {
  "kernelspec": {
   "display_name": "Python 3",
   "language": "python",
   "name": "python3"
  },
  "language_info": {
   "codemirror_mode": {
    "name": "ipython",
    "version": 3
   },
   "file_extension": ".py",
   "mimetype": "text/x-python",
   "name": "python",
   "nbconvert_exporter": "python",
   "pygments_lexer": "ipython3",
   "version": "3.7.6"
  }
 },
 "nbformat": 4,
 "nbformat_minor": 4
}
