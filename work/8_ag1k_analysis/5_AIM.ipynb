{
 "cells": [
  {
   "cell_type": "markdown",
   "metadata": {},
   "source": [
    "Are there any Ancestry Informative Markers identified in Ag1000g overlapping the amplicon positions?\n",
    "\n",
    "None"
   ]
  },
  {
   "cell_type": "code",
   "execution_count": 1,
   "metadata": {},
   "outputs": [],
   "source": [
    "import pandas as pd"
   ]
  },
  {
   "cell_type": "code",
   "execution_count": 2,
   "metadata": {},
   "outputs": [],
   "source": [
    "PANEL = '../../data/panel_64.csv'\n",
    "AIMS = 'data/Neafsey_top_MS_allele_freqs.2.txt'"
   ]
  },
  {
   "cell_type": "code",
   "execution_count": 3,
   "metadata": {},
   "outputs": [
    {
     "data": {
      "text/plain": [
       "Index(['Primary_ID', 'ID', 'SeekDeep_ID', 'SNP', 'F', 'R', 'chr', 'start',\n",
       "       'end', 'F_deg', 'R_deg', 'identical_seq', 'idenified_lineages',\n",
       "       'aligned_spp', 'unaligned_spp', 'aligned_ampl_length',\n",
       "       'agam_ampl_length', 'aligned_insert_length', 'agam_insert_length',\n",
       "       'total_snvs', 'total_indels', 'insert_snvs', 'insert_indels',\n",
       "       'prop_id_lineages', 'exon', 'gene', 'intron', 'mRNA', 'repeat', 'utr',\n",
       "       'AaegL5_identity', 'AaegL5_q_span', 'AaegL5_s_span', 'AgamP3_identity',\n",
       "       'AgamP3_q_span', 'AgamP3_s_span', 'BDGP6_identity', 'BDGP6_q_span',\n",
       "       'BDGP6_s_span', 'CpipJ2_identity', 'CpipJ2_q_span', 'CpipJ2_s_span',\n",
       "       'Comments', 'Outgroup ampl'],\n",
       "      dtype='object')"
      ]
     },
     "execution_count": 3,
     "metadata": {},
     "output_type": "execute_result"
    }
   ],
   "source": [
    "panel = pd.read_csv(PANEL)\n",
    "panel.columns"
   ]
  },
  {
   "cell_type": "code",
   "execution_count": 4,
   "metadata": {},
   "outputs": [
    {
     "data": {
      "text/html": [
       "<div>\n",
       "<style scoped>\n",
       "    .dataframe tbody tr th:only-of-type {\n",
       "        vertical-align: middle;\n",
       "    }\n",
       "\n",
       "    .dataframe tbody tr th {\n",
       "        vertical-align: top;\n",
       "    }\n",
       "\n",
       "    .dataframe thead th {\n",
       "        text-align: right;\n",
       "    }\n",
       "</style>\n",
       "<table border=\"1\" class=\"dataframe\">\n",
       "  <thead>\n",
       "    <tr style=\"text-align: right;\">\n",
       "      <th></th>\n",
       "      <th>id</th>\n",
       "      <th>chr</th>\n",
       "      <th>pos</th>\n",
       "      <th>ref</th>\n",
       "      <th>alt</th>\n",
       "      <th>freq1</th>\n",
       "      <th>freq2</th>\n",
       "      <th>freq3</th>\n",
       "    </tr>\n",
       "  </thead>\n",
       "  <tbody>\n",
       "    <tr>\n",
       "      <th>0</th>\n",
       "      <td>rs180290715</td>\n",
       "      <td>2L</td>\n",
       "      <td>181564</td>\n",
       "      <td>A</td>\n",
       "      <td>G</td>\n",
       "      <td>0.029412</td>\n",
       "      <td>1.0</td>\n",
       "      <td>0.970588</td>\n",
       "    </tr>\n",
       "    <tr>\n",
       "      <th>1</th>\n",
       "      <td>rs180290738</td>\n",
       "      <td>2L</td>\n",
       "      <td>210286</td>\n",
       "      <td>T</td>\n",
       "      <td>G</td>\n",
       "      <td>0.972222</td>\n",
       "      <td>0.0</td>\n",
       "      <td>0.972222</td>\n",
       "    </tr>\n",
       "    <tr>\n",
       "      <th>2</th>\n",
       "      <td>rs180290751</td>\n",
       "      <td>2L</td>\n",
       "      <td>356421</td>\n",
       "      <td>T</td>\n",
       "      <td>C</td>\n",
       "      <td>1.000000</td>\n",
       "      <td>0.0</td>\n",
       "      <td>1.000000</td>\n",
       "    </tr>\n",
       "    <tr>\n",
       "      <th>3</th>\n",
       "      <td>rs180290761</td>\n",
       "      <td>2L</td>\n",
       "      <td>441325</td>\n",
       "      <td>A</td>\n",
       "      <td>C</td>\n",
       "      <td>0.000000</td>\n",
       "      <td>1.0</td>\n",
       "      <td>1.000000</td>\n",
       "    </tr>\n",
       "    <tr>\n",
       "      <th>4</th>\n",
       "      <td>rs180290764</td>\n",
       "      <td>2L</td>\n",
       "      <td>456831</td>\n",
       "      <td>T</td>\n",
       "      <td>G</td>\n",
       "      <td>1.000000</td>\n",
       "      <td>0.0</td>\n",
       "      <td>1.000000</td>\n",
       "    </tr>\n",
       "  </tbody>\n",
       "</table>\n",
       "</div>"
      ],
      "text/plain": [
       "            id chr     pos ref alt     freq1  freq2     freq3\n",
       "0  rs180290715  2L  181564   A   G  0.029412    1.0  0.970588\n",
       "1  rs180290738  2L  210286   T   G  0.972222    0.0  0.972222\n",
       "2  rs180290751  2L  356421   T   C  1.000000    0.0  1.000000\n",
       "3  rs180290761  2L  441325   A   C  0.000000    1.0  1.000000\n",
       "4  rs180290764  2L  456831   T   G  1.000000    0.0  1.000000"
      ]
     },
     "execution_count": 4,
     "metadata": {},
     "output_type": "execute_result"
    }
   ],
   "source": [
    "aims = pd.read_csv(AIMS, sep='\\t', header=None)\n",
    "aims.columns = ['id','chr','pos','ref','alt','freq1','freq2','freq3']\n",
    "aims.head()"
   ]
  },
  {
   "cell_type": "code",
   "execution_count": 5,
   "metadata": {},
   "outputs": [
    {
     "data": {
      "text/html": [
       "<div>\n",
       "<style scoped>\n",
       "    .dataframe tbody tr th:only-of-type {\n",
       "        vertical-align: middle;\n",
       "    }\n",
       "\n",
       "    .dataframe tbody tr th {\n",
       "        vertical-align: top;\n",
       "    }\n",
       "\n",
       "    .dataframe thead th {\n",
       "        text-align: right;\n",
       "    }\n",
       "</style>\n",
       "<table border=\"1\" class=\"dataframe\">\n",
       "  <thead>\n",
       "    <tr style=\"text-align: right;\">\n",
       "      <th></th>\n",
       "      <th>id</th>\n",
       "      <th>chr</th>\n",
       "      <th>pos</th>\n",
       "      <th>ref</th>\n",
       "      <th>alt</th>\n",
       "      <th>freq1</th>\n",
       "      <th>freq2</th>\n",
       "      <th>freq3</th>\n",
       "      <th>Primary_ID</th>\n",
       "    </tr>\n",
       "  </thead>\n",
       "  <tbody>\n",
       "  </tbody>\n",
       "</table>\n",
       "</div>"
      ],
      "text/plain": [
       "Empty DataFrame\n",
       "Columns: [id, chr, pos, ref, alt, freq1, freq2, freq3, Primary_ID]\n",
       "Index: []"
      ]
     },
     "execution_count": 5,
     "metadata": {},
     "output_type": "execute_result"
    }
   ],
   "source": [
    "aim_in_ampls = []\n",
    "for _, r in panel.iterrows():\n",
    "    aim_in_ampl = aims[(aims.chr == r.chr) &\n",
    "                       (aims.pos > r.start) &\n",
    "                       (aims.pos < r.end)]\n",
    "    aim_in_ampl['Primary_ID'] = r.Primary_ID\n",
    "    aim_in_ampls.append(aim_in_ampl)\n",
    "pd.concat(aim_in_ampls)"
   ]
  },
  {
   "cell_type": "code",
   "execution_count": null,
   "metadata": {},
   "outputs": [],
   "source": []
  }
 ],
 "metadata": {
  "kernelspec": {
   "display_name": "Python 3",
   "language": "python",
   "name": "python3"
  },
  "language_info": {
   "codemirror_mode": {
    "name": "ipython",
    "version": 3
   },
   "file_extension": ".py",
   "mimetype": "text/x-python",
   "name": "python",
   "nbconvert_exporter": "python",
   "pygments_lexer": "ipython3",
   "version": "3.6.7"
  }
 },
 "nbformat": 4,
 "nbformat_minor": 2
}
