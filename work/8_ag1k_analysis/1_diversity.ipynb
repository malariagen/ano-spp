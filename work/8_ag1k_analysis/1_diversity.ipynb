{
 "cells": [
  {
   "cell_type": "markdown",
   "metadata": {},
   "source": [
    "Calculate population diversity statistics:\n",
    "- nucleotide diversity\n",
    "- Waterson Theta\n",
    "- Tajima D\n",
    "\n",
    "All statistics look similar to the whole-genome counterparts:\n",
    "- https://github.com/malariagen/ag1000g-phase2-data-paper/blob/master/artwork/pi.jpeg\n",
    "- https://github.com/malariagen/ag1000g-phase2-data-paper/blob/master/artwork/Watterson_theta.jpeg\n",
    "- https://github.com/malariagen/ag1000g-phase2-data-paper/blob/master/artwork/Tajimas_D.jpeg"
   ]
  },
  {
   "cell_type": "code",
   "execution_count": 1,
   "metadata": {},
   "outputs": [],
   "source": [
    "%run common.ipynb"
   ]
  },
  {
   "cell_type": "markdown",
   "metadata": {},
   "source": [
    "## Allele counts per population"
   ]
  },
  {
   "cell_type": "code",
   "execution_count": 2,
   "metadata": {},
   "outputs": [
    {
     "data": {
      "text/plain": [
       "(2112, 1142, 2)"
      ]
     },
     "execution_count": 2,
     "metadata": {},
     "output_type": "execute_result"
    }
   ],
   "source": [
    "# concatenate variants from all amplicons into a single array\n",
    "ampl_snps = list()\n",
    "for ampl in callset:\n",
    "    ampl_snps.append(callset[ampl]['genotype'])\n",
    "ampl_snps = allel.GenotypeChunkedArray(np.concatenate(ampl_snps))\n",
    "# # snps, samples, ploidy\n",
    "ampl_snps.shape"
   ]
  },
  {
   "cell_type": "code",
   "execution_count": 3,
   "metadata": {},
   "outputs": [
    {
     "data": {
      "text/html": [
       "<div class=\"allel allel-DisplayAsTable\"><span>&lt;AlleleCountsChunkedTable shape=(2112,) dtype=[('AOcol', '&lt;i4', (2,)), ('BFcol', '&lt;i4', (2,)), ('BFgam', '&lt;i4', (2,)), ('CIcol', '&lt;i4', (2,)), ('CMgam', '&lt;i4', (2,)), ('FRgam', '&lt;i4', (2,)), ('GAgam', '&lt;i4', (2,)), ('GHcol', '&lt;i4', (2,)), ('GHgam', '&lt;i4', (2,)), ('GM', '&lt;i4', (2,)), ('GNcol', '&lt;i4', (2,)), ('GNgam', '&lt;i4', (2,)), ('GQgam', '&lt;i4', (2,)), ('GW', '&lt;i4', (2,)), ('KE', '&lt;i4', (2,)), ('UGgam', '&lt;i4', (2,))]\n",
       "   nbytes=264.0K cbytes=30.8K cratio=8.6\n",
       "   values=allel.chunked.storage_zarr.ZarrTable&gt;</span><table><thead><tr><th></th><th style=\"text-align: center\">AOcol</th><th style=\"text-align: center\">BFcol</th><th style=\"text-align: center\">BFgam</th><th style=\"text-align: center\">CIcol</th><th style=\"text-align: center\">CMgam</th><th style=\"text-align: center\">FRgam</th><th style=\"text-align: center\">GAgam</th><th style=\"text-align: center\">GHcol</th><th style=\"text-align: center\">GHgam</th><th style=\"text-align: center\">GM</th><th style=\"text-align: center\">GNcol</th><th style=\"text-align: center\">GNgam</th><th style=\"text-align: center\">GQgam</th><th style=\"text-align: center\">GW</th><th style=\"text-align: center\">KE</th><th style=\"text-align: center\">UGgam</th></tr></thead><tbody><tr><th style=\"text-align: center; background-color: white; border-right: 1px solid black; \">0</th><td style=\"text-align: center\">[156   0]</td><td style=\"text-align: center\">[150   0]</td><td style=\"text-align: center\">[184   0]</td><td style=\"text-align: center\">[142   0]</td><td style=\"text-align: center\">[594   0]</td><td style=\"text-align: center\">[48  0]</td><td style=\"text-align: center\">[138   0]</td><td style=\"text-align: center\">[110   0]</td><td style=\"text-align: center\">[24  0]</td><td style=\"text-align: center\">[130   0]</td><td style=\"text-align: center\">[8 0]</td><td style=\"text-align: center\">[80  0]</td><td style=\"text-align: center\">[18  0]</td><td style=\"text-align: center\">[182   0]</td><td style=\"text-align: center\">[96  0]</td><td style=\"text-align: center\">[222   2]</td></tr><tr><th style=\"text-align: center; background-color: white; border-right: 1px solid black; \">1</th><td style=\"text-align: center\">[156   0]</td><td style=\"text-align: center\">[150   0]</td><td style=\"text-align: center\">[184   0]</td><td style=\"text-align: center\">[142   0]</td><td style=\"text-align: center\">[594   0]</td><td style=\"text-align: center\">[48  0]</td><td style=\"text-align: center\">[138   0]</td><td style=\"text-align: center\">[110   0]</td><td style=\"text-align: center\">[24  0]</td><td style=\"text-align: center\">[129   1]</td><td style=\"text-align: center\">[8 0]</td><td style=\"text-align: center\">[80  0]</td><td style=\"text-align: center\">[18  0]</td><td style=\"text-align: center\">[182   0]</td><td style=\"text-align: center\">[96  0]</td><td style=\"text-align: center\">[224   0]</td></tr><tr><th style=\"text-align: center; background-color: white; border-right: 1px solid black; \">2</th><td style=\"text-align: center\">[156   0]</td><td style=\"text-align: center\">[150   0]</td><td style=\"text-align: center\">[183   1]</td><td style=\"text-align: center\">[141   1]</td><td style=\"text-align: center\">[592   2]</td><td style=\"text-align: center\">[48  0]</td><td style=\"text-align: center\">[138   0]</td><td style=\"text-align: center\">[110   0]</td><td style=\"text-align: center\">[24  0]</td><td style=\"text-align: center\">[130   0]</td><td style=\"text-align: center\">[8 0]</td><td style=\"text-align: center\">[80  0]</td><td style=\"text-align: center\">[17  1]</td><td style=\"text-align: center\">[182   0]</td><td style=\"text-align: center\">[96  0]</td><td style=\"text-align: center\">[224   0]</td></tr><tr><th style=\"text-align: center; background-color: white; border-right: 1px solid black; \">...</th><td style=\"text-align: center\" colspan=\"17\">...</td></tr><tr><th style=\"text-align: center; background-color: white; border-right: 1px solid black; \">2109</th><td style=\"text-align: center\">[156   0]</td><td style=\"text-align: center\">[150   0]</td><td style=\"text-align: center\">[184   0]</td><td style=\"text-align: center\">[142   0]</td><td style=\"text-align: center\">[592   2]</td><td style=\"text-align: center\">[48  0]</td><td style=\"text-align: center\">[138   0]</td><td style=\"text-align: center\">[110   0]</td><td style=\"text-align: center\">[24  0]</td><td style=\"text-align: center\">[130   0]</td><td style=\"text-align: center\">[8 0]</td><td style=\"text-align: center\">[80  0]</td><td style=\"text-align: center\">[18  0]</td><td style=\"text-align: center\">[182   0]</td><td style=\"text-align: center\">[96  0]</td><td style=\"text-align: center\">[224   0]</td></tr><tr><th style=\"text-align: center; background-color: white; border-right: 1px solid black; \">2110</th><td style=\"text-align: center\">[156   0]</td><td style=\"text-align: center\">[150   0]</td><td style=\"text-align: center\">[184   0]</td><td style=\"text-align: center\">[142   0]</td><td style=\"text-align: center\">[593   1]</td><td style=\"text-align: center\">[48  0]</td><td style=\"text-align: center\">[138   0]</td><td style=\"text-align: center\">[110   0]</td><td style=\"text-align: center\">[24  0]</td><td style=\"text-align: center\">[130   0]</td><td style=\"text-align: center\">[8 0]</td><td style=\"text-align: center\">[80  0]</td><td style=\"text-align: center\">[18  0]</td><td style=\"text-align: center\">[182   0]</td><td style=\"text-align: center\">[96  0]</td><td style=\"text-align: center\">[224   0]</td></tr><tr><th style=\"text-align: center; background-color: white; border-right: 1px solid black; \">2111</th><td style=\"text-align: center\">[156   0]</td><td style=\"text-align: center\">[150   0]</td><td style=\"text-align: center\">[184   0]</td><td style=\"text-align: center\">[142   0]</td><td style=\"text-align: center\">[593   1]</td><td style=\"text-align: center\">[48  0]</td><td style=\"text-align: center\">[138   0]</td><td style=\"text-align: center\">[110   0]</td><td style=\"text-align: center\">[24  0]</td><td style=\"text-align: center\">[130   0]</td><td style=\"text-align: center\">[8 0]</td><td style=\"text-align: center\">[80  0]</td><td style=\"text-align: center\">[18  0]</td><td style=\"text-align: center\">[182   0]</td><td style=\"text-align: center\">[96  0]</td><td style=\"text-align: center\">[224   0]</td></tr></tbody></table></div>"
      ],
      "text/plain": [
       "<AlleleCountsChunkedTable shape=(2112,) dtype=[('AOcol', '<i4', (2,)), ('BFcol', '<i4', (2,)), ('BFgam', '<i4', (2,)), ('CIcol', '<i4', (2,)), ('CMgam', '<i4', (2,)), ('FRgam', '<i4', (2,)), ('GAgam', '<i4', (2,)), ('GHcol', '<i4', (2,)), ('GHgam', '<i4', (2,)), ('GM', '<i4', (2,)), ('GNcol', '<i4', (2,)), ('GNgam', '<i4', (2,)), ('GQgam', '<i4', (2,)), ('GW', '<i4', (2,)), ('KE', '<i4', (2,)), ('UGgam', '<i4', (2,))]\n",
       "   nbytes=264.0K cbytes=30.8K cratio=8.6\n",
       "   values=allel.chunked.storage_zarr.ZarrTable>"
      ]
     },
     "execution_count": 3,
     "metadata": {},
     "output_type": "execute_result"
    }
   ],
   "source": [
    "# population allele counts\n",
    "grp = samples.groupby(['population'])\n",
    "pop_ampl_ac = ampl_snps.count_alleles_subpops(grp.indices)\n",
    "pop_ampl_ac"
   ]
  },
  {
   "cell_type": "markdown",
   "metadata": {},
   "source": [
    "## Positions"
   ]
  },
  {
   "cell_type": "code",
   "execution_count": 4,
   "metadata": {},
   "outputs": [
    {
     "data": {
      "text/plain": [
       "9920"
      ]
     },
     "execution_count": 4,
     "metadata": {},
     "output_type": "execute_result"
    }
   ],
   "source": [
    "# total length of amplicon inserts\n",
    "ampl_len = sum(panel_mosquito.end_insert - panel_mosquito.start_insert)\n",
    "ampl_len"
   ]
  },
  {
   "cell_type": "code",
   "execution_count": 5,
   "metadata": {},
   "outputs": [
    {
     "data": {
      "text/plain": [
       "[9885, 9896, 9898, 9901, 9910]"
      ]
     },
     "execution_count": 5,
     "metadata": {},
     "output_type": "execute_result"
    }
   ],
   "source": [
    "corr_pos = list()\n",
    "shift = 0\n",
    "for _, r in panel_mosquito.iterrows():\n",
    "    # read AgamP4 coordinates\n",
    "    init_p = callset[r.name]['POS'][:]\n",
    "    # transform into concatenated sequence coordinates\n",
    "    corr_p = init_p - r.start_insert + shift\n",
    "    # shift to next amplion\n",
    "    shift += r.end_insert - r.start_insert\n",
    "    corr_pos.extend(corr_p)\n",
    "corr_pos[-5:]"
   ]
  },
  {
   "cell_type": "markdown",
   "metadata": {},
   "source": [
    "## Nucleotide diversity"
   ]
  },
  {
   "cell_type": "code",
   "execution_count": 6,
   "metadata": {},
   "outputs": [],
   "source": [
    "# estimate\n",
    "pop_pi = dict()\n",
    "for pop in populations:\n",
    "    pop_pi[pop] = allel.sequence_diversity(corr_pos, \n",
    "                                  pop_ampl_ac[pop], \n",
    "                                  start=1, \n",
    "                                  stop=ampl_len)"
   ]
  },
  {
   "cell_type": "code",
   "execution_count": 7,
   "metadata": {},
   "outputs": [
    {
     "data": {
      "image/png": "[encoded data removed]",
      "text/plain": [
       "<Figure size 576x288 with 1 Axes>"
      ]
     },
     "metadata": {
      "needs_background": "light"
     },
     "output_type": "display_data"
    }
   ],
   "source": [
    "# plot\n",
    "fig, ax = plt.subplots(figsize=(8,4))\n",
    "for pop in populations:\n",
    "    ax.bar(pop_labels[pop], pop_pi[pop], color='g')\n",
    "plt.xticks(rotation=90);"
   ]
  },
  {
   "cell_type": "markdown",
   "metadata": {},
   "source": [
    "## Watterson theta"
   ]
  },
  {
   "cell_type": "code",
   "execution_count": 8,
   "metadata": {},
   "outputs": [],
   "source": [
    "# estimate\n",
    "pop_wt = dict()\n",
    "for pop in populations:\n",
    "    pop_wt[pop] = allel.watterson_theta(corr_pos, \n",
    "                                   pop_ampl_ac[pop], \n",
    "                                   start=1, \n",
    "                                   stop=ampl_len)"
   ]
  },
  {
   "cell_type": "code",
   "execution_count": 9,
   "metadata": {},
   "outputs": [
    {
     "data": {
      "image/png": "[encoded data removed]",
      "text/plain": [
       "<Figure size 504x288 with 1 Axes>"
      ]
     },
     "metadata": {
      "needs_background": "light"
     },
     "output_type": "display_data"
    }
   ],
   "source": [
    "fig, ax = plt.subplots(figsize=(7,4))\n",
    "for pop in populations:\n",
    "    ax.bar(pop_labels[pop], pop_wt[pop], color='g')\n",
    "plt.xticks(rotation=90);"
   ]
  },
  {
   "cell_type": "markdown",
   "metadata": {},
   "source": [
    "## Tajima D"
   ]
  },
  {
   "cell_type": "code",
   "execution_count": 10,
   "metadata": {},
   "outputs": [],
   "source": [
    "# estimate\n",
    "pop_td = dict()\n",
    "for pop in populations:\n",
    "    pop_td[pop] = allel.tajima_d(pop_ampl_ac[pop], \n",
    "                            corr_pos, \n",
    "                            start=1, \n",
    "                            stop=ampl_len)"
   ]
  },
  {
   "cell_type": "code",
   "execution_count": 11,
   "metadata": {},
   "outputs": [
    {
     "data": {
      "image/png": "[encoded data removed]",
      "text/plain": [
       "<Figure size 504x288 with 1 Axes>"
      ]
     },
     "metadata": {
      "needs_background": "light"
     },
     "output_type": "display_data"
    }
   ],
   "source": [
    "fig, ax = plt.subplots(figsize=(7,4))\n",
    "for pop in populations:\n",
    "    ax.bar(pop_labels[pop], pop_td[pop], color='g')\n",
    "plt.xticks(rotation=90);"
   ]
  },
  {
   "cell_type": "markdown",
   "metadata": {},
   "source": [
    "# Table"
   ]
  },
  {
   "cell_type": "code",
   "execution_count": 12,
   "metadata": {},
   "outputs": [
    {
     "data": {
      "text/html": [
       "<div>\n",
       "<style scoped>\n",
       "    .dataframe tbody tr th:only-of-type {\n",
       "        vertical-align: middle;\n",
       "    }\n",
       "\n",
       "    .dataframe tbody tr th {\n",
       "        vertical-align: top;\n",
       "    }\n",
       "\n",
       "    .dataframe thead th {\n",
       "        text-align: right;\n",
       "    }\n",
       "</style>\n",
       "<table border=\"1\" class=\"dataframe\">\n",
       "  <thead>\n",
       "    <tr style=\"text-align: right;\">\n",
       "      <th></th>\n",
       "      <th>AOcol</th>\n",
       "      <th>BFcol</th>\n",
       "      <th>GHcol</th>\n",
       "      <th>CIcol</th>\n",
       "      <th>GNcol</th>\n",
       "      <th>GW</th>\n",
       "      <th>GM</th>\n",
       "      <th>GNgam</th>\n",
       "      <th>BFgam</th>\n",
       "      <th>GHgam</th>\n",
       "      <th>CMgam</th>\n",
       "      <th>UGgam</th>\n",
       "      <th>GAgam</th>\n",
       "      <th>GQgam</th>\n",
       "      <th>FRgam</th>\n",
       "      <th>KE</th>\n",
       "    </tr>\n",
       "  </thead>\n",
       "  <tbody>\n",
       "    <tr>\n",
       "      <th>Nucleotide diversity</th>\n",
       "      <td>0.003758</td>\n",
       "      <td>0.004891</td>\n",
       "      <td>0.004528</td>\n",
       "      <td>0.004661</td>\n",
       "      <td>0.004698</td>\n",
       "      <td>0.004484</td>\n",
       "      <td>0.004251</td>\n",
       "      <td>0.004739</td>\n",
       "      <td>0.004660</td>\n",
       "      <td>0.004582</td>\n",
       "      <td>0.004618</td>\n",
       "      <td>0.004490</td>\n",
       "      <td>0.003994</td>\n",
       "      <td>0.004142</td>\n",
       "      <td>0.002941</td>\n",
       "      <td>0.003024</td>\n",
       "    </tr>\n",
       "    <tr>\n",
       "      <th>Watterson theta</th>\n",
       "      <td>0.003997</td>\n",
       "      <td>0.010740</td>\n",
       "      <td>0.006997</td>\n",
       "      <td>0.007402</td>\n",
       "      <td>0.004432</td>\n",
       "      <td>0.009769</td>\n",
       "      <td>0.006670</td>\n",
       "      <td>0.009464</td>\n",
       "      <td>0.012363</td>\n",
       "      <td>0.006236</td>\n",
       "      <td>0.015794</td>\n",
       "      <td>0.011282</td>\n",
       "      <td>0.004820</td>\n",
       "      <td>0.004924</td>\n",
       "      <td>0.002567</td>\n",
       "      <td>0.002080</td>\n",
       "    </tr>\n",
       "    <tr>\n",
       "      <th>Tajima D</th>\n",
       "      <td>-0.193222</td>\n",
       "      <td>-1.787253</td>\n",
       "      <td>-1.183534</td>\n",
       "      <td>-1.216388</td>\n",
       "      <td>0.327269</td>\n",
       "      <td>-1.748475</td>\n",
       "      <td>-1.198649</td>\n",
       "      <td>-1.728932</td>\n",
       "      <td>-2.015475</td>\n",
       "      <td>-1.066109</td>\n",
       "      <td>-2.131662</td>\n",
       "      <td>-1.919231</td>\n",
       "      <td>-0.560940</td>\n",
       "      <td>-0.672653</td>\n",
       "      <td>0.522424</td>\n",
       "      <td>1.502772</td>\n",
       "    </tr>\n",
       "  </tbody>\n",
       "</table>\n",
       "</div>"
      ],
      "text/plain": [
       "                         AOcol     BFcol     GHcol     CIcol     GNcol  \\\n",
       "Nucleotide diversity  0.003758  0.004891  0.004528  0.004661  0.004698   \n",
       "Watterson theta       0.003997  0.010740  0.006997  0.007402  0.004432   \n",
       "Tajima D             -0.193222 -1.787253 -1.183534 -1.216388  0.327269   \n",
       "\n",
       "                            GW        GM     GNgam     BFgam     GHgam  \\\n",
       "Nucleotide diversity  0.004484  0.004251  0.004739  0.004660  0.004582   \n",
       "Watterson theta       0.009769  0.006670  0.009464  0.012363  0.006236   \n",
       "Tajima D             -1.748475 -1.198649 -1.728932 -2.015475 -1.066109   \n",
       "\n",
       "                         CMgam     UGgam     GAgam     GQgam     FRgam  \\\n",
       "Nucleotide diversity  0.004618  0.004490  0.003994  0.004142  0.002941   \n",
       "Watterson theta       0.015794  0.011282  0.004820  0.004924  0.002567   \n",
       "Tajima D             -2.131662 -1.919231 -0.560940 -0.672653  0.522424   \n",
       "\n",
       "                            KE  \n",
       "Nucleotide diversity  0.003024  \n",
       "Watterson theta       0.002080  \n",
       "Tajima D              1.502772  "
      ]
     },
     "execution_count": 12,
     "metadata": {},
     "output_type": "execute_result"
    }
   ],
   "source": [
    "div = pd.DataFrame([pop_pi, pop_wt, pop_td], \n",
    "        index=['Nucleotide diversity',\n",
    "               'Watterson theta',\n",
    "               'Tajima D'])\n",
    "# div = div.rename(columns=pop_labels)\n",
    "div"
   ]
  },
  {
   "cell_type": "code",
   "execution_count": 13,
   "metadata": {},
   "outputs": [],
   "source": [
    "div.to_csv(DIV_FILE)"
   ]
  },
  {
   "cell_type": "code",
   "execution_count": null,
   "metadata": {},
   "outputs": [],
   "source": []
  }
 ],
 "metadata": {
  "kernelspec": {
   "display_name": "Python 3",
   "language": "python",
   "name": "python3"
  },
  "language_info": {
   "codemirror_mode": {
    "name": "ipython",
    "version": 3
   },
   "file_extension": ".py",
   "mimetype": "text/x-python",
   "name": "python",
   "nbconvert_exporter": "python",
   "pygments_lexer": "ipython3",
   "version": "3.6.7"
  }
 },
 "nbformat": 4,
 "nbformat_minor": 2
}
