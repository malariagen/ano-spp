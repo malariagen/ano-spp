{
 "cells": [
  {
   "cell_type": "code",
   "execution_count": null,
   "metadata": {},
   "outputs": [],
   "source": [
    "from collections import OrderedDict\n",
    "import matplotlib.pyplot as plt\n",
    "import seaborn as sns\n",
    "import pandas as pd\n",
    "import numpy as np\n",
    "import itertools\n",
    "import scipy\n",
    "import allel\n",
    "import zarr\n",
    "import sys\n",
    "import os\n",
    "allel.__version__, zarr.__version__"
   ]
  },
  {
   "cell_type": "code",
   "execution_count": null,
   "metadata": {},
   "outputs": [],
   "source": [
    "PANEL = '../../data/panel_extended_info.csv'\n",
    "SUBSET_DIR = '../../../data/phylo_ampl_ag1k/phase2/AR1'\n",
    "SAMPLE_META = os.path.join(SUBSET_DIR, 'samples/samples.meta.txt')"
   ]
  },
  {
   "cell_type": "code",
   "execution_count": null,
   "metadata": {},
   "outputs": [],
   "source": [
    "DIV_FILE = 'data/diversity.csv'"
   ]
  },
  {
   "cell_type": "code",
   "execution_count": null,
   "metadata": {},
   "outputs": [],
   "source": [
    "panel = pd.read_csv(PANEL)\n",
    "# remove plasmodium primers from consideration\n",
    "panel_mosquito = panel[~panel['Primary_ID'].str.startswith('P')].set_index('Primary_ID')"
   ]
  },
  {
   "cell_type": "code",
   "execution_count": null,
   "metadata": {},
   "outputs": [],
   "source": [
    "# read ag1000g variation data\n",
    "callset = zarr.open(SUBSET_DIR, mode='r')"
   ]
  },
  {
   "cell_type": "code",
   "execution_count": null,
   "metadata": {},
   "outputs": [],
   "source": [
    "# read samples metadata\n",
    "samples = pd.read_csv(SAMPLE_META, delimiter='\\t')\n",
    "samples.loc[samples.m_s.isna(), 'country'].value_counts()"
   ]
  },
  {
   "cell_type": "code",
   "execution_count": null,
   "metadata": {},
   "outputs": [],
   "source": [
    "# add gambiae species for missing M/S values - applicable to Kenya and Gambia\n",
    "# not using unknown species anymore\n",
    "samples['m_s'] = samples.m_s.fillna('S')\n",
    "samples.m_s.value_counts()"
   ]
  },
  {
   "cell_type": "code",
   "execution_count": null,
   "metadata": {},
   "outputs": [],
   "source": [
    "# long population names\n",
    "pop_labels = OrderedDict([\n",
    "    ('AOcol', 'Angola $coluzzii$'),\n",
    "    ('BFcol', 'Burkina Faso $coluzzii$'),\n",
    "    ('GHcol', 'Ghana $coluzzii$'),\n",
    "    ('CIcol', \"Côte d'Ivoire $coluzzii$\"),\n",
    "    ('GNcol', 'Guinea $coluzzii$'),\n",
    "    ('GW', 'Guinea-Bissau'),\n",
    "    ('GM', 'The Gambia'),\n",
    "    ('GNgam', 'Guinea $gambiae$'),\n",
    "    ('BFgam', 'Burkina Faso $gambiae$'),\n",
    "    ('GHgam', 'Ghana $gambiae$'),\n",
    "    ('CMgam', 'Cameroon $gambiae$'),\n",
    "    ('UGgam', 'Uganda $gambiae$'),\n",
    "    ('GAgam', 'Gabon $gambiae$'),\n",
    "    ('GQgam', 'Bioko $gambiae$'),\n",
    "    ('FRgam', 'Mayotte $gambiae$'),\n",
    "    ('KE', 'Kenya'),\n",
    "    ('run1','ANO_SPP Gabon $coluzzii$'), \n",
    "    ('run2','ANO_SPP Gabon $gambiae$'),\n",
    "    ('ref','Reference genome')\n",
    "#     ('colony', 'colony'),\n",
    "])"
   ]
  },
  {
   "cell_type": "code",
   "execution_count": null,
   "metadata": {},
   "outputs": [],
   "source": [
    "# list of populations\n",
    "samples['pop_label'] = samples.population.replace(pop_labels)\n",
    "populations = list(pop_labels.keys())\n",
    "populations"
   ]
  },
  {
   "cell_type": "code",
   "execution_count": null,
   "metadata": {},
   "outputs": [],
   "source": [
    "# colors for PCA and umap\n",
    "reds = sns.color_palette('Reds', 5)\n",
    "blues = sns.color_palette('Blues', 4)\n",
    "greens = sns.color_palette('Greens', 2)\n",
    "browns = sns.color_palette('YlOrBr', 4)\n",
    "purples = sns.color_palette('Purples', 2)\n",
    "greys = sns.color_palette('Greys', 4)\n",
    "pop_colors = {\n",
    "    'Angola $coluzzii$': reds[4],\n",
    "    'Ghana $coluzzii$': reds[3],\n",
    "    'Burkina Faso $coluzzii$': reds[2],\n",
    "    'Côte d\\'Ivoire $coluzzii$': reds[1],\n",
    "    'Guinea $coluzzii$': reds[0],\n",
    "    'Cameroon $gambiae$': blues[3],\n",
    "    'Ghana $gambiae$': blues[2],\n",
    "    'Burkina Faso $gambiae$': blues[1],\n",
    "    'Guinea $gambiae$': blues[0],\n",
    "    'Guinea-Bissau': browns[1],\n",
    "    'The Gambia': browns[2],\n",
    "    'Gabon $gambiae$': greens[1],\n",
    "    'Uganda $gambiae$': greens[0],\n",
    "    'Mayotte $gambiae$': purples[1],\n",
    "    'Bioko $gambiae$': purples[0],\n",
    "    'Kenya': browns[3],\n",
    "    'ANO_SPP Gabon $coluzzii$':greys[3],\n",
    "    'ANO_SPP Gabon $gambiae$':greys[3],\n",
    "    'Reference genome':greys[2]\n",
    "}"
   ]
  },
  {
   "cell_type": "code",
   "execution_count": null,
   "metadata": {},
   "outputs": [],
   "source": []
  }
 ],
 "metadata": {
  "kernelspec": {
   "display_name": "Python 3",
   "language": "python",
   "name": "python3"
  },
  "language_info": {
   "codemirror_mode": {
    "name": "ipython",
    "version": 3
   },
   "file_extension": ".py",
   "mimetype": "text/x-python",
   "name": "python",
   "nbconvert_exporter": "python",
   "pygments_lexer": "ipython3",
   "version": "3.6.7"
  }
 },
 "nbformat": 4,
 "nbformat_minor": 2
}
