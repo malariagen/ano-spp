{
 "cells": [
  {
   "cell_type": "markdown",
   "metadata": {},
   "source": [
    "Results:\n",
    "- we subsetted Ag1000g P2 (1142 samples) zarr to the positions of the amplicon inserts"
   ]
  },
  {
   "cell_type": "code",
   "execution_count": 1,
   "metadata": {},
   "outputs": [
    {
     "data": {
      "text/plain": [
       "('1.2.1', '2.3.2')"
      ]
     },
     "execution_count": 1,
     "metadata": {},
     "output_type": "execute_result"
    }
   ],
   "source": [
    "import matplotlib.pyplot as plt\n",
    "import seaborn as sns\n",
    "import pandas as pd\n",
    "import numpy as np\n",
    "import allel\n",
    "import zarr\n",
    "import sys\n",
    "import os\n",
    "allel.__version__, zarr.__version__"
   ]
  },
  {
   "cell_type": "code",
   "execution_count": 2,
   "metadata": {},
   "outputs": [],
   "source": [
    "PANEL = '../../data/panel_extended_info.csv'\n",
    "# copy of whole dataset\n",
    "LOCAL_DIR = '/Volumes/LaCie/ag1000g/phase2/AR1/'\n",
    "VAR_ZARR = 'variation/main/zarr2-deprecated/ag1000g.phase2.ar1.pass.biallelic/'\n",
    "SAMPLE_META = 'samples/samples.meta.txt'\n",
    "# copy of subsetted dataset\n",
    "SUBSET_DIR = '../../../data/phylo_ampl_ag1k/phase2/AR1'\n"
   ]
  },
  {
   "cell_type": "markdown",
   "metadata": {},
   "source": [
    "## Panel"
   ]
  },
  {
   "cell_type": "code",
   "execution_count": 4,
   "metadata": {},
   "outputs": [
    {
     "data": {
      "text/plain": [
       "Index(['Primary_ID', 'ID', 'SeekDeep_ID', 'SNP', 'F', 'R', 'chr', 'start',\n",
       "       'end', 'F_deg', 'R_deg', 'identical_seq', 'idenified_lineages',\n",
       "       'aligned_spp', 'unaligned_spp', 'aligned_ampl_length',\n",
       "       'agam_ampl_length', 'aligned_insert_length', 'agam_insert_length',\n",
       "       'total_snvs', 'total_indels', 'insert_snvs', 'insert_indels',\n",
       "       'prop_id_lineages', 'exon', 'gene', 'intron', 'mRNA', 'repeat', 'utr',\n",
       "       'AaegL5_identity', 'AaegL5_q_span', 'AaegL5_s_span', 'AgamP3_identity',\n",
       "       'AgamP3_q_span', 'AgamP3_s_span', 'BDGP6_identity', 'BDGP6_q_span',\n",
       "       'BDGP6_s_span', 'CpipJ2_identity', 'CpipJ2_q_span', 'CpipJ2_s_span',\n",
       "       'Comments', 'Outgroup ampl', 'conc_multiplier', 'annotation',\n",
       "       'start_insert', 'end_insert'],\n",
       "      dtype='object')"
      ]
     },
     "execution_count": 4,
     "metadata": {},
     "output_type": "execute_result"
    }
   ],
   "source": [
    "panel = pd.read_csv(PANEL)\n",
    "panel.columns"
   ]
  },
  {
   "cell_type": "code",
   "execution_count": 5,
   "metadata": {},
   "outputs": [
    {
     "name": "stdout",
     "output_type": "stream",
     "text": [
      "(64, 48) (62, 48)\n"
     ]
    }
   ],
   "source": [
    "# remove plasmodium primers from consideration\n",
    "panel_mosquito = panel[~panel['Primary_ID'].str.startswith('P')]\n",
    "print(panel.shape, panel_mosquito.shape)"
   ]
  },
  {
   "cell_type": "markdown",
   "metadata": {},
   "source": [
    "## Subset biallelic sites for amplicon positions"
   ]
  },
  {
   "cell_type": "code",
   "execution_count": 6,
   "metadata": {},
   "outputs": [],
   "source": [
    "# read biallelic sites\n",
    "callset = zarr.open(os.path.join(LOCAL_DIR, VAR_ZARR), mode='r')"
   ]
  },
  {
   "cell_type": "code",
   "execution_count": 7,
   "metadata": {},
   "outputs": [
    {
     "data": {
      "text/plain": [
       "array([False,  True,  True,  True, False,  True,  True,  True,  True,\n",
       "        True, False,  True,  True,  True,  True,  True,  True,  True,\n",
       "       False,  True,  True, False,  True,  True,  True,  True,  True,\n",
       "        True,  True,  True,  True, False, False,  True,  True,  True,\n",
       "       False,  True,  True,  True,  True,  True,  True,  True,  True,\n",
       "        True, False,  True, False,  True,  True,  True,  True,  True,\n",
       "       False,  True,  True,  True,  True,  True, False, False, False,\n",
       "        True, False,  True,  True,  True,  True,  True,  True, False,\n",
       "        True,  True,  True,  True, False,  True,  True,  True,  True,\n",
       "        True,  True,  True, False,  True,  True, False,  True,  True,\n",
       "       False, False, False, False,  True, False,  True, False,  True,\n",
       "        True,  True,  True,  True,  True])"
      ]
     },
     "execution_count": 7,
     "metadata": {},
     "output_type": "execute_result"
    }
   ],
   "source": [
    "def snp_select(chrom, start, stop, ampl):\n",
    "    '''\n",
    "    Collect position and SNP data for region\n",
    "    '''\n",
    "    \n",
    "    \n",
    "    #get genotypes\n",
    "    g = allel.GenotypeChunkedArray(callset[chrom]['calldata']['genotype'])\n",
    "\n",
    "    #get positions\n",
    "    p = allel.VariantChunkedTable(callset[chrom]['variants'],\n",
    "                                     names=['POS'],\n",
    "                                     index='POS')\n",
    "    \n",
    "    #get ref & alt\n",
    "#     ref = callset[chrom]['variants/REF']\n",
    "#     alt = callset[chrom]['variants/ALT']\n",
    "    \n",
    "    pos = p.POS[:]\n",
    "    #just keep SNP positions within the region, exclude start - become 1-based\n",
    "    gp = p.index.locate_range(start + 1, stop)\n",
    "    gf = g[gp]\n",
    "    ac = gf.count_alleles()\n",
    "    # biallelic filter\n",
    "    flt = (ac.max_allele() == 1) & (ac[:, :2].min(axis=1) > 1)\n",
    "    gn = gf.to_n_alt()\n",
    "    \n",
    "    # write all to zarr\n",
    "    root = zarr.open_group(SUBSET_DIR, \"a\")\n",
    "    g = root.create_group(ampl)\n",
    "    g.create_dataset(\"POS\", data=p[gp], dtype='i4')\n",
    "    g.create_dataset(\"genotype\", data=gf, dtype='i4')\n",
    "    g.create_dataset(\"AC\", data=ac, dtype='i4')\n",
    "    g.create_dataset(\"biallelic\", data=flt, dtype=bool)\n",
    "    g.create_dataset(\"NALT\", data=gn, dtype='i4')\n",
    "#     g.create_dataset(\"REF\", data=ref[gp], dtype='U1')\n",
    "\n",
    "    return flt \n",
    "snp_select('2L',12345678, 12348678, 'test')"
   ]
  },
  {
   "cell_type": "code",
   "execution_count": 8,
   "metadata": {},
   "outputs": [
    {
     "name": "stdout",
     "output_type": "stream",
     "text": [
      "\u001b[34mAC\u001b[m\u001b[m        \u001b[34mNALT\u001b[m\u001b[m      \u001b[34mPOS\u001b[m\u001b[m       \u001b[34mbiallelic\u001b[m\u001b[m \u001b[34mgenotype\u001b[m\u001b[m\r\n"
     ]
    }
   ],
   "source": [
    "! ls {SUBSET_DIR}/test"
   ]
  },
  {
   "cell_type": "code",
   "execution_count": 9,
   "metadata": {},
   "outputs": [
    {
     "name": "stdout",
     "output_type": "stream",
     "text": [
      "61"
     ]
    },
    {
     "data": {
      "text/plain": [
       "array([ True,  True,  True, False,  True,  True, False,  True,  True,\n",
       "       False,  True, False,  True,  True, False,  True,  True])"
      ]
     },
     "execution_count": 9,
     "metadata": {},
     "output_type": "execute_result"
    }
   ],
   "source": [
    "# always pre-clean\n",
    "! rm -rf {SUBSET_DIR}\n",
    "# process all amplicoms\n",
    "ampl_snps = dict()\n",
    "for i, r in panel_mosquito.iterrows():\n",
    "    sys.stdout.write('\\r{}'.format(i))\n",
    "    ampl_snps[r['Primary_ID']] = snp_select(r['chr'], r['start_insert'], r['end_insert'], r['Primary_ID'])\n",
    "ampl_snps['1']"
   ]
  },
  {
   "cell_type": "code",
   "execution_count": 10,
   "metadata": {},
   "outputs": [
    {
     "data": {
      "image/png": "[encoded data removed]",
      "text/plain": [
       "<Figure size 1080x288 with 1 Axes>"
      ]
     },
     "metadata": {
      "needs_background": "light"
     },
     "output_type": "display_data"
    }
   ],
   "source": [
    "fig, ax = plt.subplots(1,1, figsize=(15,4))\n",
    "# how many variants in each amplicon?\n",
    "for ampl in panel_mosquito.Primary_ID:\n",
    "    nvar = ampl_snps[ampl][:]\n",
    "    p1 = ax.bar(ampl, nvar.sum(), color='g')\n",
    "    p2 = ax.bar(ampl, (nvar == False).sum(), bottom=nvar.sum(), color='r')\n",
    "    plt.legend((p1[0], p2[0]), ('Biallelic', 'Filtered'))"
   ]
  },
  {
   "cell_type": "code",
   "execution_count": 11,
   "metadata": {},
   "outputs": [
    {
     "name": "stdout",
     "output_type": "stream",
     "text": [
      "total 16\r\n",
      "drwxr-xr-x  4 am60  1567  128  5 Mar 17:28 \u001b[34m.\u001b[m\u001b[m\r\n",
      "drwxr-xr-x  8 am60  1567  256  5 Mar 17:28 \u001b[34m..\u001b[m\u001b[m\r\n",
      "-rw-------  1 am60  1567  313  5 Mar 17:28 .zarray\r\n",
      "-rw-------  1 am60  1567   19  5 Mar 17:28 0\r\n"
     ]
    }
   ],
   "source": [
    "# check zarr\n",
    "! ls -la {SUBSET_DIR}/29/biallelic"
   ]
  },
  {
   "cell_type": "markdown",
   "metadata": {},
   "source": [
    "## Copy metadata"
   ]
  },
  {
   "cell_type": "code",
   "execution_count": 12,
   "metadata": {},
   "outputs": [],
   "source": [
    "! mkdir -p {os.path.dirname(os.path.join(SUBSET_DIR, SAMPLE_META))}\n",
    "! cp {os.path.join(LOCAL_DIR, SAMPLE_META)} {os.path.join(SUBSET_DIR, SAMPLE_META)}"
   ]
  },
  {
   "cell_type": "code",
   "execution_count": null,
   "metadata": {},
   "outputs": [],
   "source": []
  }
 ],
 "metadata": {
  "kernelspec": {
   "display_name": "Python 3",
   "language": "python",
   "name": "python3"
  },
  "language_info": {
   "codemirror_mode": {
    "name": "ipython",
    "version": 3
   },
   "file_extension": ".py",
   "mimetype": "text/x-python",
   "name": "python",
   "nbconvert_exporter": "python",
   "pygments_lexer": "ipython3",
   "version": "3.6.7"
  }
 },
 "nbformat": 4,
 "nbformat_minor": 2
}
