{
 "cells": [
  {
   "cell_type": "markdown",
   "metadata": {},
   "source": [
    "## Extract potential amplicons from MAF alignment\n",
    "* Iterate over chromosomal MAF alignments\n",
    "* Find conserved parts of an alignment using sliding window approach\n",
    "* Amplicons can also span non-conserved regions, these are further referenced as long\n",
    "* Write amplicon MAFs and target coordinates as TSV\n",
    "\n",
    "Parameter for alignment extraction are listed below.\n",
    "\n",
    "## Next step - 20180309 - extract phylogenetic information for amplicons"
   ]
  },
  {
   "cell_type": "code",
   "execution_count": 18,
   "metadata": {},
   "outputs": [],
   "source": [
    "from Bio import AlignIO\n",
    "import numpy as np"
   ]
  },
  {
   "cell_type": "code",
   "execution_count": 38,
   "metadata": {},
   "outputs": [
    {
     "name": "stdout",
     "output_type": "stream",
     "text": [
      "XXXXXXXAGANANCTTATAATTAGCGNNTAATTTACNTTCGATNAATTGGCAGGGGCAAGCTNCGNNAANNAATCNTCNNNTTTATGNGGATTNNANNNATTCCANNGNNNCNGNNTCGGTAAGTACGACNCCNNNNTCNANNNNNCNNGNNGANNNNNNNGANACNATNAANACTACNACNCCNNANGNAANNTNTGGGANTGNTGCTGACAGATGNTATGCATNNGNNCNNCTNCCGNNCANCNNGANNCNNTNTGNAANCGNTANCNNACNTTNCGNNNNCNNGGNNANXXXXXXNNNNGGNNTNNGNCCNAGNNTNGAGATGNGNNTNGCNNTNAANCACGNNATNCTNGNNGACGAAGANCTNNTCNCNTACAGNNCNGGNCCNGANCTGACNNNNATTCTNGGNCNCGACCTCTCCANATACCANCNNATGANNGNGAANGANNTNATNNTGAANCNNATNGTNACNNGNNTGANCANNNXXXXXXANNTNCANNXXXXXXXXXXXXXXXXXXXXXXXXXXXXXXXXXXXXXXXXXXXXXXXXXXXXXXXXXXXXXXXXXXXXXXXXXXXXXXXXXXXXXXXXXXXXXXXXXXXXXXXXXXXXXXXXXXXXXXXXXXXXXXXXXXXXXXXXXXXXXXXXXXXXXXXXXXXXXXXXXXNXXXXXXXXXXXXXXXXXXNCNNNNNNNNNNNXXXXXXXXXXXXXXNNNXXXXXXXXXXXXNCNANNNNNNNNNTGANAANCGNAANGAGCTCATNATATCANCAAAACAATTCAAAGATGGATACNCCTATNNNNNANCGNNGANNNNNNNNCGNNCXXXNAGNTANNTGGANCANTTNTGGNTNTGNGGATCGNGGTNXXXXXXX\n",
      "[[ 11  66]\n",
      " [744 796]] [55 52]\n"
     ]
    }
   ],
   "source": [
    "# Alignment filtering parameters\n",
    "min_species = 21 # minimum number of species in alignment\n",
    "min_aligned = 190 # minimum alignment length, also used as minimum amplicon length\n",
    "\n",
    "min_conserved = 50 # minimum length of flanks with given conservation level - used for primer design and, if possible, target sites\n",
    "max_xs = 0.1 # maximum proportion of indels (represented as X) in flanks\n",
    "max_ns = 0.1 # maximum proportion of substitutions (represented as N) in flanks\n",
    "\n",
    "max_insert = 100 # maximum length of non-conserved sequence between two conserved flanks \n",
    "\n",
    "def seq_repr(alignment):\n",
    "    '''\n",
    "    Given multiple sequence alignment, return first sequence with Ns for ambiguous chars and X's for indels.'''\n",
    "    seq = ''\n",
    "    for i in range(alignment.get_alignment_length()):\n",
    "        col = alignment[:, i]\n",
    "        if '-' in col: # indel stronger than substitution\n",
    "            seq += 'X'\n",
    "        elif len(set(col)) == 1:\n",
    "            seq += col[0]\n",
    "        else:\n",
    "            seq += 'N'\n",
    "    return seq\n",
    "\n",
    "def get_conserved_subsequences(seq, max_ns=0.1, max_xs=0.1, min_len=100):\n",
    "    '''\n",
    "    Given sequence, conservation (max_ns) and indel (max_xs) levels, and minimum subsequence length\n",
    "    return list of tuples for the subsequences with given conservation level (overlapping regions merged).\n",
    "    If no conserved subsequences found, return 'None'.'''\n",
    "    slen = len(seq)\n",
    "    if slen < min_len:\n",
    "        return None\n",
    "    \n",
    "    def is_conserved(s, max_ns, max_xs):\n",
    "        if s.count('N')/len(s) <= max_ns and s.count('X')/len(s) <= max_xs:\n",
    "            return True\n",
    "        else:\n",
    "            return False\n",
    "    cons_windows = [is_conserved(seq[i:i + min_len], max_ns, max_xs) for i in range(slen - min_len + 1)]\n",
    "    if sum(cons_windows) == 0:\n",
    "        return None\n",
    "    \n",
    "    cons_kernels = []\n",
    "    in_kernel = False\n",
    "    for i, cw in enumerate(cons_windows):\n",
    "        if in_kernel:\n",
    "            if cw == False:\n",
    "                in_kernel = False\n",
    "                cons_kernels.append(i + min_len)\n",
    "        elif cw == True:\n",
    "            cons_kernels.append(i)\n",
    "            in_kernel = True\n",
    "    if in_kernel:\n",
    "        cons_kernels.append(i + min_len) \n",
    "        \n",
    "    # merge overlapping kernels\n",
    "    merged_kernels = []\n",
    "    for i in range(len(cons_kernels)//2):\n",
    "        start = cons_kernels[i * 2]\n",
    "        end = cons_kernels[i * 2 + 1]\n",
    "        if not merged_kernels:\n",
    "            merged_kernels.append((start, end))\n",
    "        else:\n",
    "            prev_start = merged_kernels[-1][0]\n",
    "            prev_end = merged_kernels[-1][1]\n",
    "            if prev_end >= start:\n",
    "                upper_bound = max(prev_end, end)\n",
    "                merged_kernels[-1] = (prev_start, upper_bound)  # replace by merged interval\n",
    "            else:\n",
    "                merged_kernels.append((start, end))\n",
    "    \n",
    "    return np.asarray(merged_kernels)\n",
    "\n",
    "# functions test\n",
    "# for alignment in AlignIO.parse(\"../../data/AgamP3_maf/chr2L.maf\", \"maf\"):\n",
    "#     if len(alignment) >= min_species and alignment.get_alignment_length() >= min_aligned:\n",
    "#         seq = seq_repr(alignment)\n",
    "#         cons = get_conserved_subsequences(seq, max_ns=max_ns, max_xs=max_xs, min_len=min_conserved)\n",
    "#         if cons is not None: # conser\n",
    "#             print(seq)\n",
    "#             print(cons, cons[:,1] - cons[:,0])\n",
    "#             break"
   ]
  },
  {
   "cell_type": "code",
   "execution_count": 72,
   "metadata": {},
   "outputs": [
    {
     "name": "stdout",
     "output_type": "stream",
     "text": [
      "[110 227] TCNTTCATGTACCANGAACGCGCCATGACCGAGGGNTGNGCCTCNCCACCACCNGCNGCGGTACTGAGACTTCACAATCAATCNCCATACTACAATATNGTGCGTTTNNXTTNCTTN\n",
      "[1613 1926] AGNNGNACCGANTCGTCCAANCAGCTGGACGCGAAGATGAAGCACAGTAAGGANCTGGACNNGXXXGNNGCNGGNGGXXXCCCNGGNGACCACGGCTATAACCCGAACCACTATATGCGTTCNATTCCAGGTCTNATNTATCACGGCACGCAATCGAGCACNTCNTCCGATTTNTCGCCGATGTCCGAACAAAAGTCNTTACCNCGGCGTGGCCGTTCAAGGTACCATCATCTTCANCTTCATANCACTAACACCACACCANGNCACAAGNCCTCCAAAGCTCAGTCACCANTAGCGTCNCCCCGTAGTAGNN\n",
      "[1941 2018] XXNACNAXXXNAACGTNCCGATACAGCTTCCCCGCATGCCGTCCCAGTTTCGNCCNATNCACAGTAGTNGAACNATN\n",
      "SingleLetterAlphabet() alignment with 21 rows and 313 columns\n",
      "AGCAGAACCGAATCGTCCAATCAGCTGGACGCGAAGATGAAGCA...GTT AgamP3.chr2L\n",
      "AGCAGAACCGAATCGTCCAATCAGCTGGACGCGAAGATGAAGCA...GTT AgamS1.chrscf_1106392397111\n",
      "AGCAGAACCGAATCGTCCAATCAGCTGGACGCGAAGATGAAGCA...GTT AgamM1.chrscf_1925491356\n",
      "AGCAGAACCGAATCGTCCAATCAGCTGGACGCGAAGATGAAGCA...GTT AmerM1.chrsupercont1.338\n",
      "AGCAGAACCGAATCGTCCAATCAGCTGGACGCGAAGATGAAGCA...GTT AaraD1.chrKB704529\n",
      "AGCAGAACCGAATCGTCCAATCAGCTGGACGCGAAGATGAAGCA...GTT AquaS1.chrKB665943\n",
      "AGCAGAACCGAATCGTCCAATCAGCTGGACGCGAAGATGAAGCA...GTT AmelC1.chrsupercont1.4721\n",
      "AGCAGAACCGAATCGTCCAATCAGCTGGACGCGAAGATGAAGCA...GTA AchrA1.chrKB700038\n",
      "AGCCGAACCGAATCGTCCAATCAGCTGGACGCGAAGATGAAGCA...GTT AepiE1.chrKB671571\n",
      "AGCAGAACCGAATCGTCCAACCAGCTGGACGCGAAGATGAAGCA...GTT AminM1.chrKB663721\n",
      "AGCAGAACCGAATCGTCCAACCAGCTGGACGCGAAGATGAAGCA...GTT AculA1.chrsupercont1.1319\n",
      "AGCAGAACCGAATCGTCCAACCAGCTGGACGCGAAGATGAAGCA...GTT AfunF1.chrKB668790\n",
      "AGCCGAACCGAATCGTCCAACCAGCTGGACGCGAAGATGAAGCA...GTT AsteS1.chrKB665154\n",
      "AGCCGAACCGAATCGTCCAACCAGCTGGACGCGAAGATGAAGCA...GTT AsteI2.chrscaffold_00146\n",
      "AGCCGAACCGAATCGTCCAATCAGCTGGACGCGAAGATGAAGCA...GTT AmacM1.chrsupercont1.55\n",
      "AGCCGTACCGAGTCGTCCAACCAGCTGGACGCGAAGATGAAGCA...GTT AfarF1.chrsupercont1.172\n",
      "AGCCGAACCGAGTCGTCCAACCAGCTGGACGCGAAGATGAAGCA...GTT AdirW1.chrKB672835\n",
      "AGCCGCACCGAGTCGTCCAACCAGCTGGACGCGAAGATGAAGCA...GCT AsinS1.chrsupercont1.628\n",
      "...\n",
      "AGTCGCACCGAATCGTCCAACCAGCTGGACGCGAAGATGAAGCA...GTT AalbS1.chrKB672342\n",
      "SingleLetterAlphabet() alignment with 21 rows and 405 columns\n",
      "AGCAGAACCGAATCGTCCAATCAGCTGGACGCGAAGATGAAGCA...ATC AgamP3.chr2L\n",
      "AGCAGAACCGAATCGTCCAATCAGCTGGACGCGAAGATGAAGCA...ATC AgamS1.chrscf_1106392397111\n",
      "AGCAGAACCGAATCGTCCAATCAGCTGGACGCGAAGATGAAGCA...ATC AgamM1.chrscf_1925491356\n",
      "AGCAGAACCGAATCGTCCAATCAGCTGGACGCGAAGATGAAGCA...ATC AmerM1.chrsupercont1.338\n",
      "AGCAGAACCGAATCGTCCAATCAGCTGGACGCGAAGATGAAGCA...ATC AaraD1.chrKB704529\n",
      "AGCAGAACCGAATCGTCCAATCAGCTGGACGCGAAGATGAAGCA...ATC AquaS1.chrKB665943\n",
      "AGCAGAACCGAATCGTCCAATCAGCTGGACGCGAAGATGAAGCA...ATC AmelC1.chrsupercont1.4721\n",
      "AGCAGAACCGAATCGTCCAATCAGCTGGACGCGAAGATGAAGCA...ATC AchrA1.chrKB700038\n",
      "AGCCGAACCGAATCGTCCAATCAGCTGGACGCGAAGATGAAGCA...ATC AepiE1.chrKB671571\n",
      "AGCAGAACCGAATCGTCCAACCAGCTGGACGCGAAGATGAAGCA...ATC AminM1.chrKB663721\n",
      "AGCAGAACCGAATCGTCCAACCAGCTGGACGCGAAGATGAAGCA...ATC AculA1.chrsupercont1.1319\n",
      "AGCAGAACCGAATCGTCCAACCAGCTGGACGCGAAGATGAAGCA...ATC AfunF1.chrKB668790\n",
      "AGCCGAACCGAATCGTCCAACCAGCTGGACGCGAAGATGAAGCA...ATC AsteS1.chrKB665154\n",
      "AGCCGAACCGAATCGTCCAACCAGCTGGACGCGAAGATGAAGCA...ATC AsteI2.chrscaffold_00146\n",
      "AGCCGAACCGAATCGTCCAATCAGCTGGACGCGAAGATGAAGCA...ATC AmacM1.chrsupercont1.55\n",
      "AGCCGTACCGAGTCGTCCAACCAGCTGGACGCGAAGATGAAGCA...ATC AfarF1.chrsupercont1.172\n",
      "AGCCGAACCGAGTCGTCCAACCAGCTGGACGCGAAGATGAAGCA...ATC AdirW1.chrKB672835\n",
      "AGCCGCACCGAGTCGTCCAACCAGCTGGACGCGAAGATGAAGCA...ATC AsinS1.chrsupercont1.628\n",
      "...\n",
      "AGTCGCACCGAATCGTCCAACCAGCTGGACGCGAAGATGAAGCA...ATA AalbS1.chrKB672342\n",
      "[(1613, 1926, 0, 0), (1613, 2018, 1926, 1941)]\n"
     ]
    }
   ],
   "source": [
    "# Candidate amplicon search - within conserved sequences and between consecutive conserved sequences\n",
    "def get_candidate_amplicons(cons, min_len=190, max_insert=50):\n",
    "    '''\n",
    "    Given conservation intervals, minimum amplicon lenght and maximum insert length,\n",
    "    return np.array of plausible amplicons with insert positions'''\n",
    "    ampls = []\n",
    "    for reg in cons: # internal amplicons\n",
    "        if reg[1] - reg[0] >= min_len:\n",
    "            ampls.append((reg[0], reg[1], 0, 0))\n",
    "    for i in range(len(cons) - 1):\n",
    "        for j in range(i + 1, len(cons)):\n",
    "            if cons[j, 0] - cons[i, 1] <= max_insert:\n",
    "                if cons[j, 1] - cons[i, 0] >= min_len:\n",
    "                    ampls.append((cons[i, 0], cons[j, 1],\n",
    "                                  cons[i, 1], cons[j, 0]))\n",
    "    return ampls\n",
    "\n",
    "# function test - long run\n",
    "# for alignment in AlignIO.parse(\"../../data/AgamP3_maf/chr2L.maf\", \"maf\"):\n",
    "#     if len(alignment) >= min_species and alignment.get_alignment_length() >= min_aligned:\n",
    "#         seq = seq_repr(alignment)\n",
    "#         cons = get_conserved_subsequences(seq, max_ns=max_ns, max_xs=max_xs, min_len=min_conserved)\n",
    "#         if cons is not None:\n",
    "#             ampls = get_candidate_amplicons(cons, min_aligned, max_insert)\n",
    "#             if len(ampls) > 0:\n",
    "#                 for reg in cons:\n",
    "#                     print(reg, seq[reg[0]:reg[1]])\n",
    "#                 for ampl in ampls:\n",
    "#                     print(alignment[:, ampl[0]:ampl[1]])\n",
    "#                 print(ampls)\n",
    "#                 break"
   ]
  },
  {
   "cell_type": "code",
   "execution_count": 86,
   "metadata": {},
   "outputs": [
    {
     "name": "stdout",
     "output_type": "stream",
     "text": [
      "26\n"
     ]
    }
   ],
   "source": [
    "def gapped_coord(aln, coord, ref=0):\n",
    "    '''\n",
    "    Transforms coordinate in maf alignment according to number of gaps in ref (i-th seq in alignment)\n",
    "    '''\n",
    "    ngaps = str(aln[ref, :coord].seq).count('-')\n",
    "    return aln[ref].annotations['start'] + coord - ngaps\n",
    "\n",
    "def alignment_to_amplicons(alignment, min_species, min_aligned, max_xs, max_ns, min_conserved, max_insert, annotated=True):\n",
    "    '''\n",
    "    Given alignment and filtering paramters\n",
    "    return list of (alignment, target start, target end)\n",
    "    '''\n",
    "    ampl_data = []\n",
    "    if len(alignment) >= min_species and alignment.get_alignment_length() >= min_aligned:\n",
    "        seq = seq_repr(alignment)\n",
    "        cons = get_conserved_subsequences(seq, max_ns=max_ns, max_xs=max_xs, min_len=min_conserved)\n",
    "        if cons is not None:\n",
    "            ampls = get_candidate_amplicons(cons, min_aligned, max_insert)\n",
    "            if len(ampls) > 0:\n",
    "                for ampl in ampls:\n",
    "                    ampl_aln = alignment[:, ampl[0]:ampl[1]]\n",
    "                    if annotated:\n",
    "                        ampl_aln[0].annotations = alignment[0].annotations.copy()\n",
    "                        ampl_aln[0].annotations['start'] = gapped_coord(alignment, ampl[0])\n",
    "                        ampl_aln[0].annotations['size'] = gapped_coord(alignment, ampl[1]) - ampl_aln[0].annotations['start']\n",
    "                    ampl_data.append((ampl_aln, (ampl[2] - ampl[0], ampl[3] - ampl[0])))\n",
    "                return ampl_data\n",
    "    return None\n",
    "                    \n",
    "# function test - long run\n",
    "# amplicons = []\n",
    "# for alignment in AlignIO.parse(\"../../data/AgamP3_maf/chr2L.maf\", \"maf\"):\n",
    "#     a = alignment_to_amplicons(alignment, min_species, min_aligned, max_xs, max_ns, min_conserved, max_insert)\n",
    "#     if a is not None:\n",
    "#         amplicons.extend(a)\n",
    "# #         print(amplicons)\n",
    "# #         break\n",
    "\n",
    "# print(len(amplicons))"
   ]
  },
  {
   "cell_type": "code",
   "execution_count": 88,
   "metadata": {},
   "outputs": [
    {
     "name": "stdout",
     "output_type": "stream",
     "text": [
      "126\n"
     ]
    }
   ],
   "source": [
    "# exctract amplicons from all chromosomes\n",
    "chromosomes = ['2L','2R','3L','3R','X']\n",
    "chrom_files = [\"../../data/AgamP3_maf/chr\" + chrom + \".maf\" for chrom in chromosomes]\n",
    "\n",
    "amplicons = []\n",
    "\n",
    "# this actually takes some time\n",
    "for chrom_file in chrom_files:\n",
    "    for alignment in AlignIO.parse(chrom_file, \"maf\"):\n",
    "        a = alignment_to_amplicons(alignment, min_species, min_aligned, max_xs, max_ns, min_conserved, max_insert)\n",
    "        if a is not None:\n",
    "            amplicons.extend(a)\n",
    "print(len(amplicons))"
   ]
  },
  {
   "cell_type": "code",
   "execution_count": 89,
   "metadata": {},
   "outputs": [
    {
     "data": {
      "text/plain": [
       "'/Users/am60/malaria/20180129_phylo_ampliseq'"
      ]
     },
     "execution_count": 89,
     "metadata": {},
     "output_type": "execute_result"
    }
   ],
   "source": [
    "%pwd"
   ]
  },
  {
   "cell_type": "code",
   "execution_count": 103,
   "metadata": {},
   "outputs": [
    {
     "data": {
      "text/plain": [
       "126"
      ]
     },
     "execution_count": 103,
     "metadata": {},
     "output_type": "execute_result"
    }
   ],
   "source": [
    "# write amplicons\n",
    "count = 0\n",
    "with open(\"../20180129_phylo_ampliseq/20180226_amplicons.maf\", \"w\") as handle:\n",
    "    for a in amplicons:\n",
    "        count += AlignIO.write(a[0], handle, \"maf\")\n",
    "count"
   ]
  },
  {
   "cell_type": "code",
   "execution_count": 105,
   "metadata": {},
   "outputs": [],
   "source": [
    "# write targets\n",
    "with open(\"../20180129_phylo_ampliseq/20180226_targets.txt\", 'w') as handle:\n",
    "    for a in amplicons:\n",
    "        handle.write('\\t'.join([str(c) for c in a[1]]) + '\\n')"
   ]
  },
  {
   "cell_type": "code",
   "execution_count": 106,
   "metadata": {},
   "outputs": [
    {
     "name": "stdout",
     "output_type": "stream",
     "text": [
      "  26 AgamP3.chr2L\r\n",
      "  49 AgamP3.chr2R\r\n",
      "  17 AgamP3.chr3L\r\n",
      "  33 AgamP3.chr3R\r\n",
      "   1 AgamP3.chrX\r\n"
     ]
    }
   ],
   "source": [
    "!grep AgamP3.chr 20180226_amplicons.maf | cut -d ' ' -f2 | sort | uniq -c\n",
    " "
   ]
  },
  {
   "cell_type": "markdown",
   "metadata": {},
   "source": [
    "# TODO\n",
    "\n",
    "- target search: clusters of N/Xs + 20180226_targets.txt\n",
    "- target search: use DistanceCalculator on concatenated targets to select minimum set of phylogenetically informative markers\n",
    "- apart from prospective amplicons and targets, produce reports and trees per amplicon"
   ]
  },
  {
   "cell_type": "markdown",
   "metadata": {},
   "source": [
    "# Other amplicon-related developments\n",
    "\n",
    "- search amplicons and targets in mtDNA data\n",
    "- same for 16S, but also consider species ID PCR\n",
    "- limited taxonomic primer pick from maf's (e.g., species marker for gambiae complex)\n",
    "- incorporation of population data - variable sites evaluated by frequency/geographic associations\n",
    "- Chris Kozak CRISPR target design script should be similar to population examination (look in Ag1000g notebooks)\n"
   ]
  },
  {
   "cell_type": "code",
   "execution_count": null,
   "metadata": {},
   "outputs": [],
   "source": [
    "    "
   ]
  }
 ],
 "metadata": {
  "kernelspec": {
   "display_name": "Python 3",
   "language": "python",
   "name": "python3"
  },
  "language_info": {
   "codemirror_mode": {
    "name": "ipython",
    "version": 3
   },
   "file_extension": ".py",
   "mimetype": "text/x-python",
   "name": "python",
   "nbconvert_exporter": "python",
   "pygments_lexer": "ipython3",
   "version": "3.6.8"
  }
 },
 "nbformat": 4,
 "nbformat_minor": 2
}
