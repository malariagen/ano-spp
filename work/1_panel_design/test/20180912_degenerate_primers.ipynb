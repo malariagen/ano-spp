{
 "cells": [
  {
   "cell_type": "markdown",
   "metadata": {},
   "source": [
    "Create degenerate primer sequences from alignments and internal primer coordinates"
   ]
  },
  {
   "cell_type": "code",
   "execution_count": 43,
   "metadata": {},
   "outputs": [],
   "source": [
    "import re\n",
    "import pandas as pd\n",
    "from Bio import AlignIO\n",
    "from Bio.Seq import Seq"
   ]
  },
  {
   "cell_type": "code",
   "execution_count": 32,
   "metadata": {},
   "outputs": [],
   "source": [
    "AMPL_FILE = \"data/20180706_comb_ampl.maf\""
   ]
  },
  {
   "cell_type": "code",
   "execution_count": 33,
   "metadata": {},
   "outputs": [],
   "source": [
    "alns = list(AlignIO.parse(AMPL_FILE, \"maf\"))"
   ]
  },
  {
   "cell_type": "code",
   "execution_count": 102,
   "metadata": {},
   "outputs": [
    {
     "data": {
      "text/plain": [
       "7"
      ]
     },
     "execution_count": 102,
     "metadata": {},
     "output_type": "execute_result"
    }
   ],
   "source": [
    "def gapped_coord(seq, coord):\n",
    "    '''\n",
    "    Coordinate of i-th letter in sequence within gapped sequence representation\n",
    "    '''\n",
    "    i = 0 # nucleotides\n",
    "    j = 0 # coordinates\n",
    "    while i < coord:\n",
    "        if str(seq[j]) != '-':\n",
    "            i += 1\n",
    "        j += 1\n",
    "    return j\n",
    "gapped_coord('-A-TA-C', 4)"
   ]
  },
  {
   "cell_type": "code",
   "execution_count": null,
   "metadata": {},
   "outputs": [],
   "source": []
  },
  {
   "cell_type": "code",
   "execution_count": null,
   "metadata": {},
   "outputs": [],
   "source": []
  },
  {
   "cell_type": "code",
   "execution_count": 117,
   "metadata": {},
   "outputs": [
    {
     "data": {
      "text/plain": [
       "['CCTTCAT[G/A]AACAGACGGTTGT', 'GAGCACAT[C/T]AT[T/C]GCCGGT', '20', '209']"
      ]
     },
     "execution_count": 117,
     "metadata": {},
     "output_type": "execute_result"
    }
   ],
   "source": [
    "def get_primers(alignment, fp, rp, min_alts=2):\n",
    "    '''\n",
    "    Locate primer sequences in first sequence in the alignment, \n",
    "    return primers with ambiguities coded as [ref/alt/...].\n",
    "    \n",
    "    min_alts controls for minimum number of genomes with alt alleles to be treated as ambiguous.\n",
    "    Positions with lower number of alts are converted to lowercase.\n",
    "    '''\n",
    "    \n",
    "    \n",
    "    seq = ['', '', 0, 0]\n",
    "    # search in 0-th sequence without gaps\n",
    "    source = str(alignment[0].seq).replace('-','')\n",
    "    \n",
    "    # forward\n",
    "    pmatch = re.search(fp, source, re.IGNORECASE)\n",
    "    seq[2] = str(pmatch.start())\n",
    "    for i in range(gapped_coord(alignment[0], pmatch.start()), gapped_coord(alignment[0], pmatch.end())):\n",
    "        col = alignment[:, i]\n",
    "        ref = col[0]\n",
    "        if len(set(col)) == 1:\n",
    "            seq[0] += ref\n",
    "        else:\n",
    "            alt = set(col)\n",
    "            alt.remove(ref)\n",
    "            seq[0] += '[{}/{}]'.format(ref, '/'.join(alt))\n",
    "    \n",
    "    # reverse\n",
    "    rc_rp = Seq(rp).reverse_complement()\n",
    "    pmatch = re.search(str(rc_rp), source, re.IGNORECASE)\n",
    "    seq[3] = str(pmatch.end()-1)\n",
    "    for i in range(gapped_coord(alignment[0], pmatch.end()) - 1,\n",
    "                   gapped_coord(alignment[0], pmatch.start()) - 1,\n",
    "                   -1):\n",
    "        col = [str(Seq(nt).reverse_complement()) for nt in alignment[:, i]]\n",
    "        ref = col[0]\n",
    "        alt = set(col)\n",
    "        alt.remove(ref)\n",
    "        if len(alt) == 0: # no alts\n",
    "            seq[1] += ref\n",
    "        elif len(alt) == 1 and col.count(''.join(alt)) < min_alts: # single occurence of alt in alignment\n",
    "            seq[1] += ref.lower()\n",
    "        else:\n",
    "            #print(''.join(col))\n",
    "            seq[1] += '[{}/{}]'.format(ref, '/'.join(alt))\n",
    "        \n",
    "    return seq\n",
    "\n",
    "get_primers(alns[508], 'ccttcatgaacagacggttgt', 'gagcacatcattgccggt')"
   ]
  },
  {
   "cell_type": "code",
   "execution_count": 105,
   "metadata": {},
   "outputs": [],
   "source": [
    "all_primers = '''531_cons\tacattagtgctttattacgtggt\tcatttctttggcactttctgat\n",
    "435_var\tttttccacgattacacgacctg\tgatctgtggtgagtacaatcga\n",
    "1_cons\tgccttctttgtctggagtctaa\taatctgaagccgatcttgaaga\n",
    "36_cons\tcaaggccatgaagcaggt\tagtagatgacggcgacct\n",
    "473_var\ttgctatggtacctaaacctacg\tcgatgggtcaaacggaatcg\n",
    "193_var\tgccatgacgatatctacaatgc\tgcgaacgctgattctaattttg\n",
    "508_cons\tccttcatgaacagacggttgt\tgagcacatcattgccggt\n",
    "126_var\tttcaggagctcaccaaatcg\ttccttcacctgttgtactgtat\n",
    "200_cons\ttactttgccgtccaaccg\tagtaaaagtcacactattccct\n",
    "495_var\tttcctcgcacactcatgtaag\ttctcgatgtagaactgcacg\n",
    "416_var\taactggcactagtcatgtacat\tcaattaattccgttagcccgtg\n",
    "577_X\tacacttgtactcggagatgc\tacaactccaacatctccaagat\n",
    "120_cons\tgatgttcatgatgaagcgcac\tgaaaacctcgagctggagatt\n",
    "283_var\tcagaactatattaaacattaatcgc\taaagtattcaacgacctcgacc\n",
    "205_cons\tagacacaaggccttgaagaag\tacagcttcttcttgtcatcgta\n",
    "579_X\tcacctgacactcgatggg\tcatgcagccggctacttg\n",
    "575_X\tagactttcaggccatgatacc\ttcagtgaacgttgacttggtaa\n",
    "576_X\taggagatgcaagttactatcgc\tcactatcgtagcccaggttc\n",
    "582_X\tgaggcgcaggacacgatc\tctcctggatcttctgcatctc\n",
    "587_X\ttttcagcagaaacatccacatg\tgtttcgatgtacttggtggttt\n",
    "474_other\ttgaattatgattaatggtgtgcc\tcaagtgggtgtgacattcca\n",
    "298_other\ttagaattacaatcaagtggaagacg\tttatacagtggatggcagtcg\n",
    "433_other\taatgcttccattaactgccatt\tggttaagttttaatgtgcgtaaca\n",
    "280_other\tttaaacgaaagaagaagaaatc\tacggaggtcgatgggtag\n",
    "248_other\ttactggatgatgatcgtgttct\ttcttctccaagggtttctacag\n",
    "471_other\tttccatcttccggatttat\tttgcgcaccatctggctg\n",
    "567_other\ttcggatgcaaatactgttatga\tcatacaccatctatccggctag\n",
    "439_other\tgtgacagataaattcgatcgc\ttttatcaccgaaagaccgca\n",
    "356_other\ttctatcaccatgcacttcttgt\taatgtagataggctaaaaccgc\n",
    "140_other\tgtgaattagattttaatgaagtaa\tttttagatctgtgttgctctcg\n",
    "297_other\tccatgatgtgctaatctgctta\tttgatccctagagaaaacggtc\n",
    "299_other\ttgttaaggtatttagaattacaatca\tttatacagtggatggcagtcg\n",
    "269_other\taatgattcggatgatttgcttc\tccgtcattatttcccaatcaaa\n",
    "65_other\tgcaaaatttccgtcccatta\tgtttgattaccgacccttcaag\n",
    "101_other\tatcgatgccaaggtgtatcag\taacgtgaagaagagatcgagtc\n",
    "245_other\tcgcaattgtcacaaatctgtat\tgcagtttacggcttttctcc'''"
   ]
  },
  {
   "cell_type": "code",
   "execution_count": 123,
   "metadata": {},
   "outputs": [
    {
     "name": "stdout",
     "output_type": "stream",
     "text": [
      "ACATTAGTGCTTTATTACGTGGT\tCATTTCTTTGGCACTTTCTGAT\n",
      "TTTTCCACGATTACACGACCTG\tGATCTGTGGT[G/A]AGT[A/T/G][C/-/T/A/G][A/-/T/C][A/-][T/-/C][C/-/T][G/-/A][A/-]\n",
      "GCCTTCTTTGTCTGGAGTCTAA\tA[A/G]TC[T/C/A]GA[A/G]gC[C/T/G]GA[T/C]CT[T/A]GAaGA\n",
      "CAAGGCCATGAAGCAGGT\tAGTAGATgACgGC[G/A]ACcT\n",
      "TGCTATGGTACCTAAACCTACG\tCGATGGGTCAAACGGAATCG\n",
      "GCCATGACGATATCTACAATGC\tGCGAACGCTGATTCTAATTTTG\n",
      "CCTTCAT[G/A]AACAGACGGTTGT\tGAGCACAT[C/T]AT[T/C]GCCGGT\n",
      "TTCAGGAGCTCACCAAATCG\tTCCTTCACCTGTTGTACTGTAT\n",
      "TACTTTGCCGTCCAACCG\tAGTAAAAGTCAcACtAtT[C/T][C/G]Ct\n",
      "TTCCTCGCACACTCATGTAAG\tTCTCGATGTAGAACTGCACg\n",
      "AACT[G/T]GCACTAGTCATGTACAT\tCAATTAATTCCGTTAGCCCGTG\n",
      "ACACTTGTACTC[G/C]GAGATGC\tACAA[C/T]TC[C/G]AACATcTC[C/G]AA[G/A]AT\n",
      "GATGTTCAT[G/A]AT[G/A]AAGCGCAC\tGA[A/C/G]AA[C/T]CT[C/T/G]GAGC[T/A]GGAGAT[T/C]\n",
      "CAGAACTATATTAAACATTAATCG[C/T]\tAAAGTATTCAaCGaC[C/-]TC[G/A][A/-/C]C[C/A]\n",
      "AGACACAAGGCCTTGAAGAAG\tACAGCTTCTTCTTGTCaTCGTA\n",
      "[C/T]ACCTGACA[C/T]TCGAT[G/C]GG\t[C/-][A/-/C][T/-/C][G/-/C][C/-/T]AGCCGGCTA[C/T][T/C]TG\n",
      "[A/G]GA[C/T]TTTCAGGCCATGAT[A/C]CC\tTC[A/T/C/G]GTGAA[C/G]GTTGA[C/T]TTgGTAA\n",
      "AGGA[G/A]ATGCAAGTTACTAT[C/T]GC\tC[A/G]CTATCGTAGCCCAG[G/A]TTC\n",
      "GAGGC[G/T/A]CAGGACAC[G/C]AT[C/T]\tcTCCTGGATCTTCTGCATCTC\n",
      "TT[T/C]CAGCAGAAACATCCACATG\tGT[T/C]TCGATGTACTTGGTGGTTT\n",
      "TGAATTATGATTAATGGTGTGCC\tCAAGTGGGTGTGACATTCCA\n",
      "TAGAATTACAATCAAGTGGAAGACG\tTTATACAGTGGATGGCAGTCG\n",
      "AATGCTTCCATTAACTGCCATT\tGGTTAAGTTTTAATGTGCGTAACA\n",
      "TTAAACGAAAGAAGAAGAAATC\t[A/G]CGG[A/G]gGTcGA[T/C]GGG[T/A]AG\n",
      "TACTGGATGATGATCGTGTTCT\tTCTTCTC[C/A/G]AA[G/A]GG[T/C]TT[C/T]TACAG\n",
      "TTCCATCTTCCGGATTTAT\tTTGCGCAc[-/A][-/T][-/A]-----C[A/T/G]TC[T/A]G[G/C][C/A]TG-\n",
      "TCGGATGCAAATACTGTTATGA\tC--a[T/C/G][-/C][-/C][A/T/C/G]C[A/T/G]Cc[A/G][-/T/A][-/C][-/C][-/A/G][T/C/G]-----C[T/C/G][A/G][T/C]-C[C/-/T/A]G[G/T][C/T/A/G]-[T/-/C][A/-/T/G][G/-/A][-/A][-/G][-/G][-/C/G][-/T/G][-/G][-/C]\n",
      "GTGACAGATAAATTCGATCGC\tTTTATCACCgaa[A/-/C][G/C]-------[A/C/G]C[C/T/A/G]--[G/-/T/C/A][C/-/T][A/-/C/G]\n",
      "TCTATCACCATGCACTTCTTGT\tAATGTAGATAGGCTAAAACCGC\n",
      "GTGAATTAGATTTTAATGAAGTAA\tTTTTAGATCTGTGt[-/G]TGCTCtC[G/-/T/A]\n",
      "CCATGATGTGCTAATCTGCTTA\tTTGATCCC[T/C][A/C/G]GAGaA[A/T]Ac[G/C/A]GT[C/G]\n",
      "TGTTAAGGTATTTAGAATTACAATCA\tTTATACAGTGGATGGCAGTCG\n",
      "AATGATTCGGATGATTTGCTTC\tCCGTCATTATTTCCCAATCAAA\n",
      "GCAAAATTTCCGTCCCATTA\tGTTTGATTACC[-/C][-/G][-/A][-/C][-/C][-/C][-/A]GACcC[T/A][T/C][C/-/G]-[-/C/A/G][-/G]AA-G\n",
      "ATCGATGCCAAGGTGTATCAG\tAA[C/G]GT[G/A]AAGAA[G/T/C]AG[A/G]TC[G/C]Ag[T/C]C\n",
      "[-/C][-/G][-/C]CGCAATTGTCACAAATCTGTAT\tGCAGTTTACGGCTTTTCTCC\n"
     ]
    }
   ],
   "source": [
    "for marker in all_primers.split('\\n'):\n",
    "    mdata = marker.split('\\t')\n",
    "    mid = int(mdata[0].split('_')[0])\n",
    "    print('\\t'.join(get_primers(alns[mid], mdata[1], mdata[2])[:2]))"
   ]
  },
  {
   "cell_type": "code",
   "execution_count": null,
   "metadata": {},
   "outputs": [],
   "source": []
  }
 ],
 "metadata": {
  "kernelspec": {
   "display_name": "Python 3",
   "language": "python",
   "name": "python3"
  },
  "language_info": {
   "codemirror_mode": {
    "name": "ipython",
    "version": 3
   },
   "file_extension": ".py",
   "mimetype": "text/x-python",
   "name": "python",
   "nbconvert_exporter": "python",
   "pygments_lexer": "ipython3",
   "version": "3.5.4"
  }
 },
 "nbformat": 4,
 "nbformat_minor": 2
}
