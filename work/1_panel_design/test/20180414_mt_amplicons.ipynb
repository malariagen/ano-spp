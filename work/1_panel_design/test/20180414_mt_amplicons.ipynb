{
 "cells": [
  {
   "cell_type": "markdown",
   "metadata": {},
   "source": [
    "## Extract amplicons from mitochondrial genomes of Anopheles\n",
    "\n",
    "Alignment obtained as follows:\n",
    "\n",
    "- Find 'Anopheles complete mitochondrion' in GenBank - ~130 records\n",
    "- apply filters length=14000-17000, compartment='mitochondrion', exclude RefSeq (as these are duplicates) - 92 records\n",
    "- align with MAFFT\n",
    "- exclude CM003708 (wrong decircularization, Agam), MG930836-60 (shorter subsequence reconstructed, Agam), DQ146364 (too many Ns - the only funestus in dataset, unfortunately) - 62 records\n",
    "- align with MAFFT\n",
    "\n",
    "This notebook covers the following:\n",
    "\n",
    "- get long amplicons (with variable insert) from mt alignment (see 20180223)\n",
    "- extend variable inserts, phylogenetic summary (see 20180309)\n",
    "- gene annotations (see 20180327)"
   ]
  },
  {
   "cell_type": "code",
   "execution_count": 1,
   "metadata": {},
   "outputs": [
    {
     "data": {
      "text/plain": [
       "'1.70'"
      ]
     },
     "execution_count": 1,
     "metadata": {},
     "output_type": "execute_result"
    }
   ],
   "source": [
    "# check biopython version - need >=1.69 to support MAF\n",
    "import Bio\n",
    "Bio.__version__"
   ]
  },
  {
   "cell_type": "code",
   "execution_count": 89,
   "metadata": {},
   "outputs": [],
   "source": [
    "# Setting up - slightly modified from 20180223, 20180309, \n",
    "from Bio import AlignIO\n",
    "import numpy as np\n",
    "import pandas as pd\n",
    "from Bio import Phylo\n",
    "from Bio.Phylo.TreeConstruction import DistanceCalculator\n",
    "\n",
    "\n",
    "# Alignment filtering parameters\n",
    "min_aligned = 190 # minimum alignment length, also used as minimum amplicon length\n",
    "min_conserved = 50 # minimum length of flanks with given conservation level - used for primer design and, if possible, target sites\n",
    "max_xs = 0.1 # maximum proportion of indels (represented as X) in flanks\n",
    "max_ns = 0.1 # maximum proportion of substitutions (represented as N) in flanks\n",
    "max_insert = 100 # maximum length of non-conserved sequence between two conserved flanks \n",
    "\n",
    "def seq_repr(alignment):\n",
    "    '''\n",
    "    Given multiple sequence alignment, return first sequence with Ns for ambiguous chars and X's for indels.'''\n",
    "    seq = ''\n",
    "    for i in range(alignment.get_alignment_length()):\n",
    "        col = alignment[:, i]\n",
    "        if '-' in col: # indel stronger than substitution\n",
    "            seq += 'X'\n",
    "        elif len(set(col)) == 1:\n",
    "            seq += col[0]\n",
    "        else:\n",
    "            seq += 'N'\n",
    "    return seq\n",
    "\n",
    "def get_conserved_subsequences(seq, max_ns=0.1, max_xs=0.1, min_len=100):\n",
    "    '''\n",
    "    Given sequence, conservation (max_ns) and indel (max_xs) levels, and minimum subsequence length\n",
    "    return list of tuples for the subsequences with given conservation level (overlapping regions merged).\n",
    "    If no conserved subsequences found, return 'None'.'''\n",
    "    slen = len(seq)\n",
    "    if slen < min_len:\n",
    "        return None\n",
    "    \n",
    "    def is_conserved(s, max_ns, max_xs):\n",
    "        if s.count('N')/len(s) <= max_ns and s.count('X')/len(s) <= max_xs:\n",
    "            return True\n",
    "        else:\n",
    "            return False\n",
    "    cons_windows = [is_conserved(seq[i:i + min_len], max_ns, max_xs) for i in range(slen - min_len + 1)]\n",
    "    if sum(cons_windows) == 0:\n",
    "        return None\n",
    "    \n",
    "    cons_kernels = []\n",
    "    in_kernel = False\n",
    "    for i, cw in enumerate(cons_windows):\n",
    "        if in_kernel:\n",
    "            if cw == False:\n",
    "                in_kernel = False\n",
    "                cons_kernels.append(i + min_len)\n",
    "        elif cw == True:\n",
    "            cons_kernels.append(i)\n",
    "            in_kernel = True\n",
    "    if in_kernel:\n",
    "        cons_kernels.append(i + min_len) \n",
    "        \n",
    "    # merge overlapping kernels\n",
    "    merged_kernels = []\n",
    "    for i in range(len(cons_kernels)//2):\n",
    "        start = cons_kernels[i * 2]\n",
    "        end = cons_kernels[i * 2 + 1]\n",
    "        if not merged_kernels:\n",
    "            merged_kernels.append((start, end))\n",
    "        else:\n",
    "            prev_start = merged_kernels[-1][0]\n",
    "            prev_end = merged_kernels[-1][1]\n",
    "            if prev_end >= start:\n",
    "                upper_bound = max(prev_end, end)\n",
    "                merged_kernels[-1] = (prev_start, upper_bound)  # replace by merged interval\n",
    "            else:\n",
    "                merged_kernels.append((start, end))\n",
    "    \n",
    "    return np.asarray(merged_kernels)\n",
    "\n",
    "# Candidate amplicon search - within conserved sequences and between consecutive conserved sequences\n",
    "def get_candidate_amplicons(cons, min_len=190, max_insert=50):\n",
    "    '''\n",
    "    Given conservation intervals, minimum amplicon lenght and maximum insert length,\n",
    "    return np.array of plausible amplicons with insert positions'''\n",
    "    ampls = []\n",
    "    for reg in cons: # internal amplicons\n",
    "        if reg[1] - reg[0] >= min_len:\n",
    "            ampls.append((reg[0], reg[1], 0, 0))\n",
    "    for i in range(len(cons) - 1):\n",
    "        for j in range(i + 1, len(cons)):\n",
    "            if cons[j, 0] - cons[i, 1] <= max_insert:\n",
    "                if cons[j, 1] - cons[i, 0] >= min_len:\n",
    "                    ampls.append((cons[i, 0], cons[j, 1],\n",
    "                                  cons[i, 1], cons[j, 0]))\n",
    "    return ampls\n",
    "\n",
    "def gapped_coord(aln, coord, ref=0):\n",
    "    '''\n",
    "    Transforms coordinate in maf alignment according to number of gaps in ref (i-th seq in alignment)\n",
    "    '''\n",
    "    ngaps = str(aln[ref, :coord].seq).count('-')\n",
    "    return coord - ngaps\n",
    "\n",
    "def alignment_to_amplicons(alignment, min_species, min_aligned, max_xs, max_ns, min_conserved, max_insert):\n",
    "    '''\n",
    "    Given alignment and filtering paramters\n",
    "    return list of (alignment, target start, target end)\n",
    "    '''\n",
    "    ampl_data = []\n",
    "    if len(alignment) >= min_species and alignment.get_alignment_length() >= min_aligned:\n",
    "        seq = seq_repr(alignment)\n",
    "        cons = get_conserved_subsequences(seq, max_ns=max_ns, max_xs=max_xs, min_len=min_conserved)\n",
    "        if cons is not None:\n",
    "            ampls = get_candidate_amplicons(cons, min_aligned, max_insert)\n",
    "            if len(ampls) > 0:\n",
    "                for ampl in ampls:\n",
    "                    ampl_aln = alignment[:, ampl[0]:ampl[1]]\n",
    "                    ampl_data.append((ampl_aln, ampl))\n",
    "                return ampl_data\n",
    "    return None\n",
    "\n",
    "def prop_var(seq):\n",
    "    '''\n",
    "    Return propotion of variable nucleotides in seq_repr of alignment'''\n",
    "    return (seq.count('N') + seq.count('X'))/len(seq)\n",
    "\n",
    "def extend_variable(seq, start, end, min_ambig=0.5):\n",
    "    '''\n",
    "    Extends flanks of variable insert. Works only if seq[0:start] and seq[end:len(seq)] are conserved.\n",
    "    This should be true for pre-selected amplicons (see 20180223).\n",
    "    Parameters - sequence, start and end of variable target to be extended,\n",
    "    minimum proportion of variable sites for extended region. '''\n",
    "    var_start = False\n",
    "    for i in range(0, start - 1):\n",
    "        if prop_var(seq[i:start]) >= min_ambig:\n",
    "            #print(seq[i:start])\n",
    "            var_start = True\n",
    "        if var_start:\n",
    "            if seq[i] in 'NX':\n",
    "                ext_start = i\n",
    "                #print(ext_start)\n",
    "                break\n",
    "    else:\n",
    "        ext_start = start\n",
    "    \n",
    "    var_end = False\n",
    "    for i in reversed(range(end + 1,len(seq))):\n",
    "        if prop_var(seq[end:i]) >= min_ambig:\n",
    "            #print(seq[end:i])\n",
    "            var_end = True\n",
    "        if var_end:\n",
    "            if seq[i - 1] in 'NX':\n",
    "                ext_end = i\n",
    "                #print(ext_end)\n",
    "                break\n",
    "    else:\n",
    "        ext_end = end\n",
    "    \n",
    "    return (ext_start, ext_end)\n",
    "\n",
    "def identical_clusters(x):\n",
    "    aln = x['aln']\n",
    "    '''\n",
    "    Given alignment, return list of sets with species IDs with identical sequences'''\n",
    "    \n",
    "\n",
    "    ids = [set()]\n",
    "    dm = DistanceCalculator('identity').get_distance(aln)\n",
    "    dm.names = [n.split('.')[0] for n in dm.names]\n",
    "    for i in range(len(dm)):\n",
    "        for j in range(i + 1, len(dm)):\n",
    "            if dm[i,j] == 0:\n",
    "                n1 = dm.names[i]\n",
    "                n2 = dm.names[j]\n",
    "                for cl in ids:\n",
    "                    if (n1 in cl):\n",
    "                        if (n2 in cl):\n",
    "                            break\n",
    "                        if (n2 not in cl):\n",
    "                            cl.add(n2)\n",
    "                            break\n",
    "                else:\n",
    "                    ids.append(set((n1, n2)))\n",
    "        \n",
    "    return ids[1:]\n",
    "\n",
    "def annotate(x):\n",
    "\n",
    "    ins_str = '{}\\t{}\\t{}\\n'.format('KT382817.1', x['ins_start'], x['ins_end'])\n",
    "    ins_bed = pybedtools.BedTool(ins_str, from_string=True)\n",
    "    ins_annot = KT382817_annot.intersect(ins_bed).to_dataframe()\n",
    "    ins_annot = ins_annot[ins_annot.feature.isin(['tRNA','rRNA','CDS'])]\n",
    "    prods = []\n",
    "    for x in ins_annot.attributes:\n",
    "        attrs = x.split(';')\n",
    "        for attr in attrs:\n",
    "            if attr.startswith('product='):\n",
    "                prods.append(attr[8:])\n",
    "    return ';'.join(prods)\n",
    "\n",
    "def phylo_tree(aln, vectorized=True):\n",
    "    if vectorized:\n",
    "        aln = aln['aln']\n",
    "    '''\n",
    "    Given alignment, return NJ tree in nwk format'''\n",
    "    from Bio.Phylo.TreeConstruction import DistanceCalculator, DistanceTreeConstructor\n",
    "    calculator = DistanceCalculator('identity')\n",
    "    dm = calculator.get_distance(aln)     \n",
    "    dm.names = [n.split('.')[0] for n in dm.names]\n",
    "    constructor = DistanceTreeConstructor()\n",
    "    tree = constructor.nj(dm)\n",
    "    return tree"
   ]
  },
  {
   "cell_type": "code",
   "execution_count": 3,
   "metadata": {},
   "outputs": [
    {
     "data": {
      "text/plain": [
       "<<class 'Bio.Align.MultipleSeqAlignment'> instance (65 records of length 16226, SingleLetterAlphabet()) at 109ce3080>"
      ]
     },
     "execution_count": 3,
     "metadata": {},
     "output_type": "execute_result"
    }
   ],
   "source": [
    "# Find amplicons in mitochondrial alignment\n",
    "\n",
    "aln_file = '/Users/am60/malaria/20180129_phylo_ampliseq/mt_rrna/wmt65.aln.fasta'\n",
    "mt_aln = AlignIO.read(aln_file, \"fasta\")\n",
    "mt_aln\n",
    "# amplicon_data = alignment_to_amplicons(mt_aln, 65, min_aligned, max_xs, max_ns, min_conserved, max_insert)\n",
    "# amplicon_data"
   ]
  },
  {
   "cell_type": "code",
   "execution_count": 21,
   "metadata": {},
   "outputs": [
    {
     "data": {
      "text/plain": [
       "[(<<class 'Bio.Align.MultipleSeqAlignment'> instance (65 records of length 200, SingleLetterAlphabet()) at 1115c16d8>,\n",
       "  (5961, 6161, 0, 0)),\n",
       " (<<class 'Bio.Align.MultipleSeqAlignment'> instance (65 records of length 228, SingleLetterAlphabet()) at 111384ac8>,\n",
       "  (3733, 3961, 3821, 3908)),\n",
       " (<<class 'Bio.Align.MultipleSeqAlignment'> instance (65 records of length 263, SingleLetterAlphabet()) at 111623710>,\n",
       "  (5961, 6224, 6161, 6171)),\n",
       " (<<class 'Bio.Align.MultipleSeqAlignment'> instance (65 records of length 364, SingleLetterAlphabet()) at 111607438>,\n",
       "  (5961, 6325, 6161, 6251)),\n",
       " (<<class 'Bio.Align.MultipleSeqAlignment'> instance (65 records of length 225, SingleLetterAlphabet()) at 11165e160>,\n",
       "  (12687, 12912, 12763, 12783)),\n",
       " (<<class 'Bio.Align.MultipleSeqAlignment'> instance (65 records of length 278, SingleLetterAlphabet()) at 111644e48>,\n",
       "  (12783, 13061, 12912, 12928)),\n",
       " (<<class 'Bio.Align.MultipleSeqAlignment'> instance (65 records of length 309, SingleLetterAlphabet()) at 111654b70>,\n",
       "  (12928, 13237, 13061, 13156)),\n",
       " (<<class 'Bio.Align.MultipleSeqAlignment'> instance (65 records of length 236, SingleLetterAlphabet()) at 111668898>,\n",
       "  (13156, 13392, 13237, 13257)),\n",
       " (<<class 'Bio.Align.MultipleSeqAlignment'> instance (65 records of length 268, SingleLetterAlphabet()) at 1116785c0>,\n",
       "  (14162, 14430, 14340, 14365)),\n",
       " (<<class 'Bio.Align.MultipleSeqAlignment'> instance (65 records of length 253, SingleLetterAlphabet()) at 1116892e8>,\n",
       "  (14365, 14618, 14430, 14512)),\n",
       " (<<class 'Bio.Align.MultipleSeqAlignment'> instance (65 records of length 276, SingleLetterAlphabet()) at 111690fd0>,\n",
       "  (14619, 14895, 14690, 14766))]"
      ]
     },
     "execution_count": 21,
     "metadata": {},
     "output_type": "execute_result"
    }
   ],
   "source": [
    "aln = alignment_to_amplicons(mt_aln, min_species=65, min_aligned=min_aligned, max_xs=max_xs, \n",
    "                           max_ns=max_ns, min_conserved=min_conserved, \n",
    "                           max_insert=max_insert)\n",
    "aln"
   ]
  },
  {
   "cell_type": "code",
   "execution_count": 11,
   "metadata": {},
   "outputs": [
    {
     "data": {
      "text/plain": [
       "10"
      ]
     },
     "execution_count": 11,
     "metadata": {},
     "output_type": "execute_result"
    }
   ],
   "source": [
    "# write only amplicons with long insert\n",
    "count = 0\n",
    "with open(\"/Users/am60/malaria/20180129_phylo_ampliseq/mt_rrna/20180414_mt_amplicons.maf\", \"w\") as handle:\n",
    "    for a in aln[1:]: \n",
    "        count += AlignIO.write(a[0], handle, \"maf\")\n",
    "count"
   ]
  },
  {
   "cell_type": "code",
   "execution_count": 40,
   "metadata": {},
   "outputs": [
    {
     "data": {
      "text/plain": [
       "mt0     3733\n",
       "mt1     5961\n",
       "mt2     5961\n",
       "mt3    12687\n",
       "mt4    12783\n",
       "mt5    12928\n",
       "mt6    13156\n",
       "mt7    14162\n",
       "mt8    14365\n",
       "mt9    14619\n",
       "Name: ampl_aln_start, dtype: int64"
      ]
     },
     "execution_count": 40,
     "metadata": {},
     "output_type": "execute_result"
    }
   ],
   "source": [
    "# extend variable inserts for long insert amplicons\n",
    "# and create basic data object\n",
    "long_alns = OrderedDict()\n",
    "for (i, a) in enumerate(aln[1:]):\n",
    "    seq = seq_repr(a[0])\n",
    "    # for insert extension use internal coordinates\n",
    "    (start, end) = extend_variable(seq, a[1][2]-a[1][0], a[1][3]-a[1][0])\n",
    "    insert = seq[start:end]\n",
    "    long_alns['mt' + str(i)] = dict([\n",
    "            ('aln', a[0]), # alignment object for amplicon\n",
    "            ('ampl_aln_start', a[1][0]), # coordinates in alignment\n",
    "            ('ampl_aln_end', a[1][1]), \n",
    "            ('ins_aln_start', a[1][0] + start),\n",
    "            ('ins_aln_end', a[1][0] + end),\n",
    "            ('ampl_start', gapped_coord(mt_aln, a[1][0], ref=0)), # coordinates in KT382817.1 (Anopheles atroparvus mtDNA)\n",
    "            ('ampl_start', gapped_coord(mt_aln, a[1][1], ref=0)), \n",
    "            ('ins_start', gapped_coord(mt_aln, a[1][0] + start, ref=0)),\n",
    "            ('ins_end', gapped_coord(mt_aln, a[1][0] + end, ref=0)),\n",
    "            ('ampl_seq', seq),\n",
    "            ('ins_seq', insert)\n",
    "            ])\n",
    "\n",
    "laln_data = pd.DataFrame.from_dict(long_alns, orient='index')\n",
    "laln_data[['ampl_aln_start']]"
   ]
  },
  {
   "cell_type": "code",
   "execution_count": 48,
   "metadata": {},
   "outputs": [],
   "source": [
    "# sets of sequences that cannot be identified\n",
    "laln_data['identical_clusters'] = laln_data.apply(identical_clusters, axis=1)"
   ]
  },
  {
   "cell_type": "code",
   "execution_count": 52,
   "metadata": {},
   "outputs": [],
   "source": [
    "import pybedtools"
   ]
  },
  {
   "cell_type": "code",
   "execution_count": 87,
   "metadata": {},
   "outputs": [
    {
     "data": {
      "text/plain": [
       "mt0    tRNA-Lys;tRNA-Asp\n",
       "mt1             tRNA-Asn\n",
       "mt2    tRNA-Asn;tRNA-Ser\n",
       "mt3    16S ribosomal RNA\n",
       "mt4    16S ribosomal RNA\n",
       "mt5    16S ribosomal RNA\n",
       "mt6    16S ribosomal RNA\n",
       "mt7    12S ribosomal RNA\n",
       "mt8    12S ribosomal RNA\n",
       "mt9    12S ribosomal RNA\n",
       "Name: ins_genes, dtype: object"
      ]
     },
     "execution_count": 87,
     "metadata": {},
     "output_type": "execute_result"
    }
   ],
   "source": [
    "# annotate using first of sequences in \n",
    "KT382817_annot = pybedtools.BedTool('/Users/am60/malaria/20180129_phylo_ampliseq/mt_rrna/KT382817.gff3')\n",
    "\n",
    "laln_data['ins_genes'] = laln_data.apply(annotate, axis=1)\n",
    "laln_data['ins_genes'] "
   ]
  },
  {
   "cell_type": "code",
   "execution_count": 94,
   "metadata": {},
   "outputs": [],
   "source": [
    "# add conventional marker coordinates in mt_aln\n",
    "# Sallum 2002 COI - based on AF417695.1 Aalb sequence lookup in mt_aln\n",
    "sallum_coi = (2069, 2971)\n",
    "# Sallum 2002 COII - based on AF417731.1 Aalb sequence\n",
    "sallum_coii = (3087, 3689)\n",
    "# whole mitochondrial genome prior to tandem repeats\n",
    "wmt = (1, 14949)"
   ]
  },
  {
   "cell_type": "code",
   "execution_count": 90,
   "metadata": {},
   "outputs": [],
   "source": [
    "# construct trees for amplicons\n",
    "laln_data['trees'] = laln_data.apply(phylo_tree, axis=1)"
   ]
  },
  {
   "cell_type": "code",
   "execution_count": 101,
   "metadata": {},
   "outputs": [
    {
     "name": "stdout",
     "output_type": "stream",
     "text": [
      "SingleLetterAlphabet() alignment with 65 rows and 14950 columns\n",
      "aatgaattgcctg-ataaaaaggattaccttgatagggtaaatc...tgt KT382817.1/1-15458\n",
      "aatgaattgcctg-ataaaaaggattaccttgatagggtaaatc...tgt L04272.1/1-15455\n",
      "aatgaattgcctg-ataaaaaggattaccttgatagggtaaatc...tgt KT218684.1/1-15076\n",
      "aatgaattgcctg-atgaaaaggattaccttgatagggtaaatc...tgt GQ918273.1/1-15385\n",
      "aatgaattgcctg-atgaaaaggattaccttgatagggtaaatc...tgt GQ918272.1/1-15386\n",
      "aatgaattgcctg-acaaaaaggattaccttgatagggtaaatc...tgt KR732656.1/1-15330\n",
      "aatgaattgcctg-ataaaaaggattaccttgatagggtaaatc...tgt KT895423.1/1-15395\n",
      "aatgaattgcctg-ataaaaaggattaccttgatagggtaaatc...tgt JX219736.1/1-15412\n",
      "aatgaattgcctg-ataaaaaggattaccttgatagggtaaatc...tgt JX219735.1/1-15412\n",
      "aatgaattgcctg-ataaaaaggattaccttgatagggtaaatc...tgt JX219734.1/1-15336\n",
      "aatggattgcctg-ataaaaaggattaccttgatagggtaaatc...tgt JX219733.1/1-15412\n",
      "aatgaattgcctg-ataaaaaggattaccttgatagggtaaatc...tgt KT899887.1/1-15406\n",
      "-atgaattgcctg-ataaaaaggattaccttgatagggtaaatc...tgt MG930894.1/1-15364\n",
      "-atgaattgcctg-ataaaaaggattaccttgatagggtaaatc...tgt MG930893.1/1-15361\n",
      "-atgaattgcctg-ataaaaaggattaccttgatagggtaaatc...tgt MG930888.1/1-15360\n",
      "-atgaattgcctg-ataaaaaggattaccttgatagggtaaatc...tgt MG930887.1/1-15364\n",
      "-atgaattgcctg-ataaaaaggattaccttgatagggtaaatc...tgt MG930886.1/1-15364\n",
      "-atgaattgcctg-ataaaaaggattaccttgatagggtaaatc...tgt MG930885.1/1-14902\n",
      "...\n",
      "aatgaattgcctg-ataaaaaggattaccttgatagggtaaatc...tgt HQ335344.1/1-15413\n",
      "SingleLetterAlphabet() alignment with 65 rows and 904 columns\n",
      "ttattaactgaccgaaatttaaatacttcatttttcgacccagc...cat KT382817.1/1-15458\n",
      "cttttaacagatcgaaacttaaatacatcattctttgacccagc...cat L04272.1/1-15455\n",
      "cttttaacagatcgaaatttaaatacctcattctttgacccagc...ctt KT218684.1/1-15076\n",
      "ttattaacagatcgaaatttaaatacttctttctttgatccagc...cat GQ918273.1/1-15385\n",
      "ttattaacagaccgaaatttaaatacttctttctttgatccagc...cat GQ918272.1/1-15386\n",
      "ttattaactgatcgaaatttaaatacttcattctttgatccagc...cat KR732656.1/1-15330\n",
      "ttattaactgatcgaaatcttaatacttcattctttgatccagc...ctt KT895423.1/1-15395\n",
      "ttattaacagaccgaaacttaaatacatcattttttgaccctgc...ctt JX219736.1/1-15412\n",
      "ttattaacagaccgaaacttaaatacatcattttttgaccctgc...ctt JX219735.1/1-15412\n",
      "ttattaacagatcgaaatttaaatacttcattttttgacccagc...ctt JX219734.1/1-15336\n",
      "ctattaacagatcgaaatttaaatacttctttttttgatccagc...cgt JX219733.1/1-15412\n",
      "ttattaacagaccgaaatttaaatacttcattttttgatccagc...cat KT899887.1/1-15406\n",
      "ttattaactgatcgaaatttaaatacatctttctttgatccagc...ctc MG930894.1/1-15364\n",
      "ttattaactgatcgaaatttaaatacatctttctttgatccagc...ctc MG930893.1/1-15361\n",
      "ttattaactgatcgaaatttaaatacatctttctttgatccagc...ctc MG930888.1/1-15360\n",
      "ttattaactgatcgaaatttaaatacatctttctttgatccagc...ctc MG930887.1/1-15364\n",
      "ttattaactgatcgaaatttaaatacatctttctttgatccagc...ctc MG930886.1/1-15364\n",
      "ttattaactgatcgaaatttaaatacatctttctttgatccagc...ctc MG930885.1/1-14902\n",
      "...\n",
      "ttattaactgatcgaaatttaaatacatcattctttgatccagc...cat HQ335344.1/1-15413\n",
      "SingleLetterAlphabet() alignment with 65 rows and 604 columns\n",
      "caagatagttcttctcctttaatagaacaattaaattttttcca...taa KT382817.1/1-15458\n",
      "caagatagttcttcccctttaatagaacaattaaattttttcca...taa L04272.1/1-15455\n",
      "caagatagttcttcacctttaatagaacaattaaatttttttca...taa KT218684.1/1-15076\n",
      "caagatagttcttctcctttaatagaacaattaaacttttttca...taa GQ918273.1/1-15385\n",
      "caagatagttcttctcctttaatagaacaattaaacttttttca...taa GQ918272.1/1-15386\n",
      "caagatagatcatcacctttaatagaacaattaaatttttttca...taa KR732656.1/1-15330\n",
      "caagatagatcatctcctttaatagaacaattaaatttttttca...taa KT895423.1/1-15395\n",
      "caagatagttcttctcctttaatagaacaattaaacttttttca...taa JX219736.1/1-15412\n",
      "caagatagttcttctcctttaatagaacaattaaacttttttca...taa JX219735.1/1-15412\n",
      "caagatagttcttctcctttaatagaacaattaaacttttttca...taa JX219734.1/1-15336\n",
      "caagacagttcttcccctttaatagaacaattaaacttttttca...taa JX219733.1/1-15412\n",
      "caagatagttcttcccctttaatagaacaattaaacttttttca...taa KT899887.1/1-15406\n",
      "caagatagttcttctcctttaatagaacaattaaacttttttca...taa MG930894.1/1-15364\n",
      "caagatagttcttctcctttaatagaacaattaaacttttttca...taa MG930893.1/1-15361\n",
      "caagatagttcttctcctttaatagaacaattaaacttttttca...taa MG930888.1/1-15360\n",
      "caagatagttcttctcctttaatagaacaattaaacttttttca...taa MG930887.1/1-15364\n",
      "caagatagttcttctcctttaatagaacaattaaacttttttca...taa MG930886.1/1-15364\n",
      "caagatagttcttctcctttaatagaacaattaaacttttttca...taa MG930885.1/1-14902\n",
      "...\n",
      "caagatagttcttctcctttaatagaacaattaaatttttttca...taa HQ335344.1/1-15413\n"
     ]
    }
   ],
   "source": [
    "# construct trees for conventional markers\n",
    "# write to file\n",
    "# order: wmt, coi, coii, amplicons\n",
    "with open('/Users/am60/malaria/20180129_phylo_ampliseq/mt_rrna/20180414_mt_trees.nwk', 'w') as o:\n",
    "    for reg in (wmt, sallum_coi, sallum_coii):\n",
    "        subaln = mt_aln[:, reg[0] - 1:reg[1] + 1] # first and last nucleotides of region to be included\n",
    "        t = phylo_tree(subaln, vectorized=False)\n",
    "        Phylo.write(t, o, 'newick')\n",
    "    for t in laln_data.trees:\n",
    "        Phylo.write(t, o, 'newick')\n",
    "    "
   ]
  },
  {
   "cell_type": "code",
   "execution_count": 113,
   "metadata": {},
   "outputs": [
    {
     "name": "stdout",
     "output_type": "stream",
     "text": [
      "7\n",
      "4\n"
     ]
    }
   ],
   "source": [
    "# make trees for fake half-overlapping 220-bp regions from COI and COII\n",
    "\n",
    "def split_reg(reg, l=220, s=110):\n",
    "    subreg = []\n",
    "    pos = reg[0] + l\n",
    "    while pos < reg[1]:\n",
    "        subreg.append((pos - l, pos))\n",
    "        pos += s\n",
    "    return subreg\n",
    "\n",
    "with open('/Users/am60/malaria/20180129_phylo_ampliseq/mt_rrna/20180414_coi220_trees.nwk', 'w') as o:\n",
    "    for reg in (sallum_coi, sallum_coii):\n",
    "        srs = split_reg(reg, l=220, s=110)\n",
    "        print(len(srs))\n",
    "        for sr in srs:\n",
    "            saln = mt_aln[:, sr[0]:sr[1]]\n",
    "            st = phylo_tree(saln, vectorized=False)\n",
    "            Phylo.write(st, o, 'newick')\n"
   ]
  },
  {
   "cell_type": "code",
   "execution_count": null,
   "metadata": {},
   "outputs": [],
   "source": []
  }
 ],
 "metadata": {
  "kernelspec": {
   "display_name": "Python 3",
   "language": "python",
   "name": "python3"
  },
  "language_info": {
   "codemirror_mode": {
    "name": "ipython",
    "version": 3
   },
   "file_extension": ".py",
   "mimetype": "text/x-python",
   "name": "python",
   "nbconvert_exporter": "python",
   "pygments_lexer": "ipython3",
   "version": "3.5.4"
  }
 },
 "nbformat": 4,
 "nbformat_minor": 2
}
