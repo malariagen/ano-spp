{
 "cells": [
  {
   "cell_type": "markdown",
   "metadata": {},
   "source": [
    "## CANCELLED - see 20180223 for amplicon extraction\n",
    "\n",
    "\n",
    "## Extract potential amplicons from MAF alignment\n",
    "* Iterate over chromosomal MAF alignments\n",
    "* Find conserved parts of an alignment using sliding window approach\n",
    "\n",
    "Parameter for alignment extraction are listed below."
   ]
  },
  {
   "cell_type": "code",
   "execution_count": 1,
   "metadata": {},
   "outputs": [
    {
     "data": {
      "text/plain": [
       "'1.70'"
      ]
     },
     "execution_count": 1,
     "metadata": {},
     "output_type": "execute_result"
    }
   ],
   "source": [
    "# check biopython version - need >=1.69 to support MAF\n",
    "import Bio\n",
    "Bio.__version__"
   ]
  },
  {
   "cell_type": "code",
   "execution_count": 21,
   "metadata": {},
   "outputs": [],
   "source": [
    "from Bio import AlignIO\n",
    "import numpy as np"
   ]
  },
  {
   "cell_type": "code",
   "execution_count": 30,
   "metadata": {},
   "outputs": [],
   "source": [
    "# Alignment selection parameters\n",
    "min_species = 21 # minimum number of species in alignment\n",
    "min_aligned = 50 # minimum alignment length\n",
    "\n",
    "# Alignment filtering parameters\n",
    "min_conserved = 50 # minimum length of region with given conservation level\n",
    "max_xs = 0.1 # maximum proportion of indels (represented as X) in alignments\n",
    "max_ns = 0.1 # maximum proportion of substitutions (represented as N) in alignments\n",
    "\n",
    "def seq_repr(alignment):\n",
    "    '''\n",
    "    Given multiple sequence alignment, return first sequence with Ns for ambiguous chars and X's for indels.'''\n",
    "    seq = ''\n",
    "    for i in range(alignment.get_alignment_length()):\n",
    "        col = alignment[:, i]\n",
    "        if '-' in col: # indel stronger than substitution\n",
    "            seq += 'X'\n",
    "        elif len(set(col)) == 1:\n",
    "            seq += col[0]\n",
    "        else:\n",
    "            seq += 'N'\n",
    "    return seq\n",
    "\n",
    "def get_conserved_subsequences(seq, max_ns=0.1, max_xs=0.1, min_len=100):\n",
    "    '''\n",
    "    Given sequence, conservation (max_ns) and indel (max_xs) levels, and minimum subsequence length\n",
    "    return list of tuples for the subsequences with given conservation level (overlapping regions merged).\n",
    "    If no conserved subsequences found, return 'None'.'''\n",
    "    slen = len(seq)\n",
    "    if slen < min_len:\n",
    "        return None\n",
    "    \n",
    "    def is_conserved(s, max_ns, max_xs):\n",
    "        if s.count('N')/len(s) <= max_ns and s.count('X')/len(s) <= max_xs:\n",
    "            return True\n",
    "        else:\n",
    "            return False\n",
    "    cons_windows = [is_conserved(seq[i:i + min_len], max_ns, max_xs) for i in range(slen - min_len + 1)]\n",
    "    if sum(cons_windows) == 0:\n",
    "        return None\n",
    "    \n",
    "    cons_kernels = []\n",
    "    in_kernel = False\n",
    "    for i, cw in enumerate(cons_windows):\n",
    "        if in_kernel:\n",
    "            if cw == False:\n",
    "                in_kernel = False\n",
    "                cons_kernels.append(i + min_len)\n",
    "        elif cw == True:\n",
    "            cons_kernels.append(i)\n",
    "            in_kernel = True\n",
    "    if in_kernel:\n",
    "        cons_kernels.append(i + min_len) \n",
    "        \n",
    "    # merge overlapping kernels\n",
    "    merged_kernels = []\n",
    "    for i in range(len(cons_kernels)//2):\n",
    "        start = cons_kernels[i * 2]\n",
    "        end = cons_kernels[i * 2 + 1]\n",
    "        if not merged_kernels:\n",
    "            merged_kernels.append((start, end))\n",
    "        else:\n",
    "            prev_start = merged_kernels[-1][0]\n",
    "            prev_end = merged_kernels[-1][1]\n",
    "            if prev_end >= start:\n",
    "                upper_bound = max(prev_end, end)\n",
    "                merged_kernels[-1] = (prev_start, upper_bound)  # replace by merged interval\n",
    "            else:\n",
    "                merged_kernels.append((start, end))\n",
    "    \n",
    "    return np.asarray(merged_kernels)\n",
    "\n",
    "def gapped_coord(aln, coord, ref=0):\n",
    "    '''\n",
    "    Transforms coordinate in maf alignment according to number of gaps in ref (i-th seq in alignment)\n",
    "    '''\n",
    "    ngaps = str(aln[ref, :coord].seq).count('-')\n",
    "    return aln[ref].annotations['start'] + coord - ngaps\n",
    "\n",
    "def alignment_filter(alignment, min_species, min_aligned, max_xs, max_ns, \n",
    "                           min_conserved, annotated=True):\n",
    "    '''\n",
    "    Given alignment and filtering paramters\n",
    "    return list of matching subalignments \n",
    "    '''\n",
    "    tgt_data = []\n",
    "    if len(alignment) >= min_species and alignment.get_alignment_length() >= min_aligned:\n",
    "        seq = seq_repr(alignment)\n",
    "        cons = get_conserved_subsequences(seq, max_ns=max_ns, max_xs=max_xs, min_len=min_conserved)\n",
    "        if cons is not None:\n",
    "            for tgt in cons:\n",
    "                tgt_aln = alignment[:, tgt[0]:tgt[1]]\n",
    "                if annotated:\n",
    "                    tgt_aln[0].annotations = alignment[0].annotations.copy()\n",
    "                    tgt_aln[0].annotations['start'] = gapped_coord(alignment, tgt[0])\n",
    "                    tgt_aln[0].annotations['size'] = gapped_coord(alignment, tgt[1]) - tgt_aln[0].annotations['start']\n",
    "                \n",
    "                tgt_data.append(tgt_aln)\n",
    "    return tgt_data"
   ]
  },
  {
   "cell_type": "code",
   "execution_count": 33,
   "metadata": {},
   "outputs": [
    {
     "name": "stdout",
     "output_type": "stream",
     "text": [
      "335852 348308\n"
     ]
    }
   ],
   "source": [
    "import sys\n",
    "\n",
    "\n",
    "\n",
    "agam_size = 0\n",
    "aln_size = 0\n",
    "with open(\"/Users/am60/malaria/20180129_phylo_ampliseq/21sp_50_50_01_01.maf\", \"w\") as maf_file, \\\n",
    "     open(\"/Users/am60/malaria/20180129_phylo_ampliseq/21sp_50_50_01_01.fa\", \"w\") as fasta_file:\n",
    "    for chrom in ['2L','2R','3L','3R','X']:\n",
    "        for alignment in AlignIO.parse(\"/Users/am60/data/AgamP3_maf/chr{}.maf\".format(chrom), \"maf\"):\n",
    "            alns = alignment_filter(alignment, min_species, min_aligned, max_xs, max_ns, \n",
    "                                   min_conserved)\n",
    "            if len(alns) > 0:\n",
    "                for aln in alns:\n",
    "                    agam_size += aln[0].annotations['size']\n",
    "                    aln_size += aln.get_alignment_length()\n",
    "                    AlignIO.write(aln, maf_file, \"maf\")\n",
    "                    fasta_file.write('>{}_{}_{}\\n{}\\n'.format(\n",
    "                            aln[0].id,\n",
    "                            aln[0].annotations['start'],\n",
    "                            aln[0].annotations['size'],\n",
    "                            aln[0].seq))\n",
    "print(agam_size, aln_size)"
   ]
  },
  {
   "cell_type": "code",
   "execution_count": 17,
   "metadata": {},
   "outputs": [
    {
     "name": "stdout",
     "output_type": "stream",
     "text": [
      "NNNNNNNNNNNNNNNNNNNNNNNNNNNNNNNNNNNNNNNNNNNNNNNNNNNNNNNNNNNNNNNNNNNNNNNNNNNNNNNNNNNNNNNNNNNNNNNNNNNNNNNNNNNNNNNNNNNNNNNNNNNNNNNNNNNNNNNNNNNNNNNNNNNNNNNNNNNNNNNNNNNNNNNNNNNNNNNNNNNNNNNNNNNNNNNNNNNNNNNNNNNNNNNNNNNNNNNNNNNNNNNNNNNNNNNNNNNNNNNNNNNNNNNNNNNNNNNNNNNNNNNNNNNNNNNNNNNNNNNNNNNNNNNNNNNNNNNNNNNNNNNNNNNNNNNNNNNNNNNNNNNNNNNNNNNNNNNNNNNNNNNNNNNNNNNNNNNNNNNNNNNNNNNNNNNNNNNNNNNNNNNNNNNNNNNNNNNNNNNNNNNNNNNNNNNNNNNNNNNNNNNNNNNNNNNNNNNNNNNNNNNNNNNNNNNNNNNNNNNNNNNNNNNNNNNNNNNNNNNNNNNNNNNNNNNNNNNNNNNNNNNNNNNNNNNNNNNNNNNNNNNNNNNNNNNNNNNNNNNNNNNNNNNNNNNNNNNNNNNNNNNNNNNNNNNNNNNNNNNNNNNNNNNNNNNNNNNNNNNNNNNNNNNNNNNNNNNNNNNNNNNNNNNNNNNNNNNNNNNNNNNNNNNNNNNNNNNNNNNNNNNNNNNNNNNNNNNNNNNNNNNNNNNNNNNNNNNNNNNNNNNNNNNNNNNNNNNNNNNNNNNNNNNNNNNNNNNNNNNNNNNNNNNNNNNNNNNNNNNNNNNNNNNNNNNNNNNNNNNNNNNNNNNNNNNNNNNNNNNNNNNNNNNNNNNNNNNNNNNNNNNNNNNNNNNNNNNNNNNNNNNNNNNNNNNNNNNNNNNNNNNNNNNNNNNNNNNNNNNNNNNNNNNNNNNNNNNNNNNNNNNNNNNNNNNNNNNNNNNNNNNNNNNNNNNNNNNNNNNNNNNNNNNNNNNNNNNNNNNNNNNNNNNNNNNNNNNNNNNNNNNNNNNNNNNNNNNNNNNNNNNNNNNNNNNNNNNNNNNNNNNNNNNNNNNNNNNNNNNNNNNNNNNNNNNNNNNNNNNNNNNNNNNNNNNNNNNNNNNNNNNNNNNNNNNNNNNNNNNNNNNNNNNNNN\n"
     ]
    }
   ],
   "source": [
    "for alignment in AlignIO.parse(\"/Users/am60//data/AgamP3_maf/chr2L.maf\", \"maf\"):\n",
    "    print(alignment[0].seq)\n",
    "    break"
   ]
  },
  {
   "cell_type": "code",
   "execution_count": null,
   "metadata": {},
   "outputs": [],
   "source": []
  }
 ],
 "metadata": {
  "kernelspec": {
   "display_name": "Python 3",
   "language": "python",
   "name": "python3"
  },
  "language_info": {
   "codemirror_mode": {
    "name": "ipython",
    "version": 3
   },
   "file_extension": ".py",
   "mimetype": "text/x-python",
   "name": "python",
   "nbconvert_exporter": "python",
   "pygments_lexer": "ipython3",
   "version": "3.5.4"
  }
 },
 "nbformat": 4,
 "nbformat_minor": 2
}
