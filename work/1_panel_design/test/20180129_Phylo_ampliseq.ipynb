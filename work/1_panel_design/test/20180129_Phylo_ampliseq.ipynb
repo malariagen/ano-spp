{
 "cells": [
  {
   "cell_type": "markdown",
   "metadata": {},
   "source": [
    "## CANCELLED - see 20180223 for amplicon extraction\n",
    "\n",
    "\n",
    "# Amplicon seq for species differentiation\n",
    "\n",
    "Given:\n",
    "- minimal reference genome for Anopheles genus. These are the regions somehow (Robert Waterhouse) extracted from the whole-genome alignment of 21 species as present in all of the species. Substitutions replaced with Ns. It is strange that long exons were not massively extracted.\n",
    "- specifications for primer design (minimum primer length = 20, product length 190-250)\n",
    "- genomic features from Ag1000g and A. gambiae genome annotation\n",
    "\n",
    "Get a set of candidate sequences suitable \n",
    "- for primer design\n",
    "- as phylogenetic markers for discrimination of main lineages within the genus\n",
    "\n",
    "\n",
    "\n",
    "## Step 1. Primer design fitting\n",
    "\n",
    "Extract minimal genome regions fitting primer design parameters. \n",
    "```bash\n",
    "cat refanogenome.fas | grep -B1 '[ACTG]\\{20\\}[ATGCN]\\{150,210\\}[ACTG]\\{20\\}' | grep -v -- '^--$' > refanogenome_ampliseq.fa\n",
    "```\n",
    "17 sequences remained. Note that some of those might have more than one target, and some targets might lack Ns, i.e. interspecific variability.\n",
    "\n",
    "## Step 2. Comparative genomics checks\n",
    "\n",
    "BLAST against all Anopheles genomic and transcriptomic datasets at VectorBase. Most datasets show 18 hits due to duplication of 2R.684 (both copies retained at 2R chromosome) - consider discarding. In some scaffolds, additional identical copies of other fragments are identified (treated as misassemblies).\n",
    "\n",
    "Comparative genomics dataset from RW saved in ```AgamP3_maf``` folder. Visual analysis performed at https://data.broadinstitute.org/compbio1/cav.php. AgamP3 coordinates, variation statistics, and comments added to ```refanogenome_ampliseq_annot.txt``` as following:\n",
    "\n",
    "    <chr>.<block_ID>.<block start>-<block end>.reg<reg number>_<variants in amplicon> (<comment>)\n",
    "\n",
    "\n",
    "## Next\n",
    "\n",
    "- contact amplicon design team for additional restrictions, Primer3-like input format, and raw data output\n",
    "- additional phylogenetic markers can be extracted from .maf files. Some script for that potentially can be obrained from Robert Waterhouse. \n",
    "- For phylogenetic analyses, hit sequences can be extracted with from BLAST pairwise outfmt with Bio::SearchIO::HSPFragment. Alternatively, cav's \"Fasta Out\" button can be used.\n",
    "- Further checks of AgamPEST4 hits include: gene ID + intron/exon number, accessibility, masking of polymorphic sites.\n",
    "- add mitochondrial markers via complete genome alignment from NCBI Nucleotide (or Mike Fontaine)\n",
    "- add insecticide resistance markers, see C Clarkson et al. draft, contact Chris Jacob(?)\n",
    "\n"
   ]
  },
  {
   "cell_type": "code",
   "execution_count": null,
   "metadata": {
    "collapsed": true
   },
   "outputs": [],
   "source": []
  }
 ],
 "metadata": {
  "kernelspec": {
   "display_name": "Python 3",
   "language": "python",
   "name": "python3"
  },
  "language_info": {
   "codemirror_mode": {
    "name": "ipython",
    "version": 3
   },
   "file_extension": ".py",
   "mimetype": "text/x-python",
   "name": "python",
   "nbconvert_exporter": "python",
   "pygments_lexer": "ipython3",
   "version": "3.5.4"
  }
 },
 "nbformat": 4,
 "nbformat_minor": 2
}
