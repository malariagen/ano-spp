{
 "cells": [
  {
   "cell_type": "markdown",
   "metadata": {},
   "source": [
    "## CANCELLED - see 20180223 for amplicon extraction"
   ]
  },
  {
   "cell_type": "code",
   "execution_count": 3,
   "metadata": {},
   "outputs": [],
   "source": [
    "from Bio import AlignIO\n",
    "from collections import OrderedDict"
   ]
  },
  {
   "cell_type": "code",
   "execution_count": 7,
   "metadata": {},
   "outputs": [
    {
     "name": "stdout",
     "output_type": "stream",
     "text": [
      "Alignment of 21 sequences, total length 198\n",
      "CTTTCTTTTCGCCAACCTCATCGTGACGATCGTGGTGCTCGGTGGACTGTTGGCAACGATCGAAAAGCATCTGCCTACTGCCATCCGGCAGACGTTCCGGTATGACAAGCATGCACTGAAGGGATCATCG---GTCCGATTGGTGTCCCTGCTGGAGATCCTGAAGGCA-----CACACATT--CACAAACAAACATT\n",
      "['AgamP3.chr2L\\t71583\\tC\\tT\\t18\\t3', 'AgamP3.chr2L\\t71586\\tT\\tC\\t18\\t3', 'AgamP3.chr2L\\t71587\\tC\\tT\\t18\\t3', 'AgamP3.chr2L\\t71589\\tT\\tA,G\\t5\\t5,11', 'AgamP3.chr2L\\t71590\\tT\\tC\\t19\\t2', 'AgamP3.chr2L\\t71593\\tG\\tA\\t20\\t1', 'AgamP3.chr2L\\t71594\\tC\\tT\\t4\\t17', 'AgamP3.chr2L\\t71595\\tC\\tG\\t18\\t3', 'AgamP3.chr2L\\t71598\\tC\\tT\\t19\\t2', 'AgamP3.chr2L\\t71601\\tC\\tG\\t7\\t14', 'AgamP3.chr2L\\t71604\\tC\\tT\\t20\\t1', 'AgamP3.chr2L\\t71605\\tG\\tA,T\\t17\\t2,2', 'AgamP3.chr2L\\t71607\\tG\\tA,C\\t14\\t5,2', 'AgamP3.chr2L\\t71610\\tG\\tC,A\\t9\\t9,3', 'AgamP3.chr2L\\t71611\\tA\\tG\\t6\\t15', 'AgamP3.chr2L\\t71613\\tC\\tT,G\\t14\\t2,5', 'AgamP3.chr2L\\t71616\\tG\\tA,T,C\\t16\\t3,1,1', 'AgamP3.chr2L\\t71619\\tG\\tA,T\\t16\\t1,4', 'AgamP3.chr2L\\t71622\\tC\\tA,T,G\\t14\\t1,1,5', 'AgamP3.chr2L\\t71625\\tT\\tC,G\\t16\\t4,1', 'AgamP3.chr2L\\t71628\\tA\\tC,T,G\\t15\\t1,4,1', 'AgamP3.chr2L\\t71629\\tC\\tT\\t15\\t6', 'AgamP3.chr2L\\t71631\\tG\\tC,A\\t18\\t1,2', 'AgamP3.chr2L\\t71632\\tT\\tC\\t17\\t4', 'AgamP3.chr2L\\t71636\\tC\\tT\\t20\\t1', 'AgamP3.chr2L\\t71637\\tA\\tC,G\\t13\\t4,4', 'AgamP3.chr2L\\t71640\\tG\\tC,T,A\\t7\\t9,4,1', 'AgamP3.chr2L\\t71643\\tC\\tT\\t18\\t3', 'AgamP3.chr2L\\t71646\\tA\\tG\\t9\\t12', 'AgamP3.chr2L\\t71648\\tA\\tC\\t20\\t1', 'AgamP3.chr2L\\t71649\\tG\\tA,T\\t18\\t2,1', 'AgamP3.chr2L\\t71652\\tT\\tC\\t17\\t4', 'AgamP3.chr2L\\t71655\\tG\\tA,T,C\\t14\\t1,4,2', 'AgamP3.chr2L\\t71658\\tT\\tA,C,G\\t3\\t5,6,7', 'AgamP3.chr2L\\t71659\\tA\\tG\\t19\\t2', 'AgamP3.chr2L\\t71660\\tC\\tT\\t18\\t3', 'AgamP3.chr2L\\t71661\\tT\\tA,C,G\\t9\\t5,6,1', 'AgamP3.chr2L\\t71664\\tC\\tT,G\\t15\\t1,5', 'AgamP3.chr2L\\t71667\\tC\\tA,T\\t10\\t2,9', 'AgamP3.chr2L\\t71670\\tG\\tA\\t16\\t5', 'AgamP3.chr2L\\t71673\\tG\\tA\\t18\\t3', 'AgamP3.chr2L\\t71679\\tC\\tT\\t15\\t6', 'AgamP3.chr2L\\t71682\\tG\\tC\\t11\\t10', 'AgamP3.chr2L\\t71685\\tT\\tC\\t6\\t15', 'AgamP3.chr2L\\t71687\\tA\\tG\\t4\\t17', 'AgamP3.chr2L\\t71688\\tC\\tT\\t15\\t6', 'AgamP3.chr2L\\t71691\\tG\\tA\\t12\\t9', 'AgamP3.chr2L\\t71694\\tT\\tC\\t11\\t10', 'AgamP3.chr2L\\t71697\\tA\\tC,G\\t9\\t4,8', 'AgamP3.chr2L\\t71698\\tC\\tA\\t20\\t1', 'AgamP3.chr2L\\t71700\\tG\\tC,T\\t12\\t6,3', 'AgamP3.chr2L\\t71703\\tG\\tA\\t12\\t9', 'AgamP3.chr2L\\t71705\\tG\\tA\\t20\\t1', 'AgamP3.chr2L\\t71706\\tA\\tC,T,G\\t6\\t7,5,3', 'AgamP3.chr2L\\t71707\\tT\\tA\\t9\\t12', 'AgamP3.chr2L\\t71709\\tA\\tC,G\\t10\\t1,10', 'AgamP3.chr2L\\t71710\\tT\\tC\\t4\\t17', 'AgamP3.chr2L\\t71712\\tG\\tC,A\\t19\\t1,1', 'AgamP3.chr2L\\t71712\\t-\\tC\\t19\\t2', 'AgamP3.chr2L\\t71712\\t-\\tC\\t19\\t2', 'AgamP3.chr2L\\t71712\\t-\\tC,T\\t19\\t1,1', 'AgamP3.chr2L\\t71714\\tT\\tA\\t3\\t18', 'AgamP3.chr2L\\t71715\\tC\\tT\\t8\\t13', 'AgamP3.chr2L\\t71718\\tA\\tC,T,G\\t7\\t1,9,4', 'AgamP3.chr2L\\t71719\\tT\\tC\\t17\\t4', 'AgamP3.chr2L\\t71720\\tT\\tG\\t20\\t1', 'AgamP3.chr2L\\t71721\\tG\\tC\\t19\\t2', 'AgamP3.chr2L\\t71724\\tG\\tC,T\\t11\\t6,4', 'AgamP3.chr2L\\t71727\\tC\\tT,G\\t11\\t2,8', 'AgamP3.chr2L\\t71728\\tC\\tT\\t16\\t5', 'AgamP3.chr2L\\t71731\\tC\\tT\\t19\\t2', 'AgamP3.chr2L\\t71736\\tG\\tA\\t15\\t6', 'AgamP3.chr2L\\t71737\\tA\\tG\\t4\\t17', 'AgamP3.chr2L\\t71739\\tC\\tA,T,G\\t11\\t1,6,3', 'AgamP3.chr2L\\t71741\\tT\\tC\\t4\\t17', 'AgamP3.chr2L\\t71742\\tG\\tC,A\\t15\\t5,1', 'AgamP3.chr2L\\t71745\\tG\\tA\\t17\\t4', 'AgamP3.chr2L\\t71747\\tC\\tT\\t20\\t1', 'AgamP3.chr2L\\t71748\\tA\\t-,G\\t15\\t5,1', 'AgamP3.chr2L\\t71748\\t-\\tT\\t20\\t1', 'AgamP3.chr2L\\t71748\\t-\\tG\\t20\\t1', 'AgamP3.chr2L\\t71748\\t-\\tG\\t20\\t1', 'AgamP3.chr2L\\t71748\\t-\\tT\\t20\\t1', 'AgamP3.chr2L\\t71748\\t-\\tT\\t20\\t1', 'AgamP3.chr2L\\t71749\\tC\\tA,-\\t3\\t1,17', 'AgamP3.chr2L\\t71750\\tA\\t-\\t4\\t17', 'AgamP3.chr2L\\t71751\\tC\\tA,-\\t3\\t1,17', 'AgamP3.chr2L\\t71752\\tA\\t-\\t4\\t17', 'AgamP3.chr2L\\t71753\\tC\\t-\\t4\\t17', 'AgamP3.chr2L\\t71754\\tA\\t-\\t4\\t17', 'AgamP3.chr2L\\t71755\\tT\\tC,-\\t3\\t1,17', 'AgamP3.chr2L\\t71756\\tT\\t-\\t4\\t17', 'AgamP3.chr2L\\t71756\\t-\\tT\\t20\\t1', 'AgamP3.chr2L\\t71756\\t-\\tT\\t20\\t1', 'AgamP3.chr2L\\t71757\\tC\\t-,T\\t3\\t17,1', 'AgamP3.chr2L\\t71758\\tA\\t-\\t4\\t17', 'AgamP3.chr2L\\t71759\\tC\\t-\\t4\\t17', 'AgamP3.chr2L\\t71760\\tA\\t-\\t4\\t17', 'AgamP3.chr2L\\t71761\\tA\\t-\\t3\\t18', 'AgamP3.chr2L\\t71762\\tA\\t-\\t3\\t18', 'AgamP3.chr2L\\t71763\\tC\\t-\\t3\\t18', 'AgamP3.chr2L\\t71764\\tA\\t-\\t3\\t18', 'AgamP3.chr2L\\t71765\\tA\\t-\\t3\\t18', 'AgamP3.chr2L\\t71766\\tA\\t-\\t3\\t18', 'AgamP3.chr2L\\t71767\\tC\\t-\\t3\\t18', 'AgamP3.chr2L\\t71768\\tA\\t-\\t3\\t18', 'AgamP3.chr2L\\t71769\\tT\\t-\\t3\\t18', 'AgamP3.chr2L\\t71770\\tT\\t-\\t3\\t18']\n"
     ]
    }
   ],
   "source": [
    "# parameters for filtering the alignment\n",
    "min_species = 21\n",
    "min_aligned = 190\n",
    "\n",
    "def snp_count(alignment, start=0, end=None):\n",
    "    # list variants using coordinates in seq1\n",
    "    if end == None:\n",
    "        end = alignment.get_alignment_length()\n",
    "    snps_data = []\n",
    "    chrom = alignment[0].id\n",
    "    aln_start = alignment[0].annotations['start'] + 1 # convert to 1-based for compartibility with genome browsers\n",
    "    ngaps = 0\n",
    "    \n",
    "    for i in range(alignment.get_alignment_length()):\n",
    "        col = alignment[:, i]\n",
    "        if col[0] == '-':\n",
    "            ngaps += 1\n",
    "        snps = set(col)\n",
    "        if len(snps) > 1 and i in range(start, end): # variable position within region of interest\n",
    "            ref = col[0]\n",
    "            snp_data = '%s\\t%d\\t%s' % (chrom, aln_start + i - ngaps, ref)\n",
    "            snps.remove(ref)\n",
    "            alt_data = []\n",
    "            for snp in snps:\n",
    "                alt_data += [snp, col.count(snp)]\n",
    "            snp_data += '\\t%s\\t%d\\t%s' % (','.join(alt_data[0::2]), col.count(ref), \\\n",
    "                                          ','.join([str(i) for i in alt_data[1::2]]))\n",
    "            snps_data.append(snp_data)\n",
    "    return snps_data\n",
    "\n",
    "# test output for a single good position\n",
    "for alignment in AlignIO.parse(\"../../data/AgamP3_maf/chr2L.maf\", \"maf\"):\n",
    "    if len(alignment) >= min_species and alignment.get_alignment_length() >= min_aligned:\n",
    "        print('Alignment of %i sequences, total length %i' % (len(alignment), alignment.get_alignment_length()))\n",
    "        print(alignment[0].seq)\n",
    "        print(snp_count(alignment))\n",
    "        break"
   ]
  },
  {
   "cell_type": "code",
   "execution_count": 8,
   "metadata": {},
   "outputs": [
    {
     "name": "stdout",
     "output_type": "stream",
     "text": [
      "257\n",
      "NNNN-NN-NNNTNGNGNCANC-NAANGNTNNGGNNNNNNNNNNNNNNNNN-NNNNNNNN---N---NNNNNNNN---NNNNNNNNNNNN---NNATNNGAN---NNNNNN--NNNNCCNAGGTNTCNTTNATAAACTTCGTTGCTTCACTNTGTGGNGCNGGNGGTATTCAAGCATTCAAAACCATGCGAACTCTTAGNGCNCTGAGACCNCTACGTGCNATGTCCCGNATGCAGGGAATGAGGGTACGTAANNNNN\n",
      "257\n",
      "TTAA-TT-ATATGGAGACAAC-AAAAGTTATGGGCGGTTATGGATAAACT-ACACGATA---A---TAATTCAT---CAAACATTCACT---GGATTTGAC---CCATAC--TTTTCCTAGGTATCTTTGATAAACTTCGTTGCTTCACTTTGTGGAGCTGGTGGTATTCAAGCATTCAAAACCATGCGAACTCTTAGAGCCCTGAGACCACTACGTGCCATGTCCCGTATGCAGGGAATGAGGGTACGTAATTAAA\n",
      "((130, 252), (150, 232))\n"
     ]
    }
   ],
   "source": [
    "import re\n",
    "\n",
    "# constraint on target sequence parameters and initial conserved flanks\n",
    "# only first match per alignment is returned\n",
    "min_conserved = 20\n",
    "max_target = 100\n",
    "min_ns_in_target = 3\n",
    "max_gapopens_in_target = 2\n",
    "\n",
    "def seq_repr(alignment):\n",
    "    # sequence representation of alignment - based on first sequence in alignment\n",
    "    seq = ''\n",
    "    for i in range(alignment.get_alignment_length()):\n",
    "        col = alignment[:, i]\n",
    "        if col[0] == '-':\n",
    "            seq += '-'\n",
    "        elif len(set(col)) == 1:\n",
    "            seq += col[0]\n",
    "        else:\n",
    "            seq += 'N'\n",
    "    return seq\n",
    "            \n",
    "def find_targets(seq, min_conserved, max_target, min_ns_in_target, max_gapopens_in_target):\n",
    "    \n",
    "    prog = re.compile('[ACTG]{%d,}([ACTGN-]{,%d})[ACTG]{%d,}' % (min_conserved, max_target, min_conserved))\n",
    "    match = re.search(prog, seq)\n",
    "    if match:\n",
    "        if match.group(1).count('N') >= min_ns_in_target:\n",
    "            if len(re.findall('-', match.group(1))) <= max_gapopens_in_target:\n",
    "                return (match.span(), match.span(1))\n",
    "    return False\n",
    "    \n",
    "for alignment in AlignIO.parse(\"../../data/AgamP3_maf/chr2L.maf\", \"maf\"):\n",
    "    if len(alignment) >= min_species and alignment.get_alignment_length() >= min_aligned:\n",
    "        seq = seq_repr(alignment)\n",
    "        \n",
    "        ampl = find_targets(seq, min_conserved, max_target, min_ns_in_target, max_gapopens_in_target)\n",
    "        if ampl:\n",
    "            print(len(seq))\n",
    "            print(seq)\n",
    "            print(alignment.get_alignment_length())\n",
    "            print(alignment[0].seq)\n",
    "            print(ampl)\n",
    "            break\n",
    "    "
   ]
  },
  {
   "cell_type": "code",
   "execution_count": 9,
   "metadata": {},
   "outputs": [
    {
     "name": "stdout",
     "output_type": "stream",
     "text": [
      "[123, 150]\n",
      "[232, 255]\n"
     ]
    }
   ],
   "source": [
    "# extend flanks until their conservation is high enough\n",
    "max_ns = 0.1\n",
    "max_gaps = 0\n",
    "def extend_flank(seq, flank_span, max_ns, left=True):\n",
    "\n",
    "    if left:\n",
    "        max_flank_len = flank_span[0]\n",
    "    else:\n",
    "        max_flank_len = len(seq) - flank_span[1]\n",
    "    for i in range(max_flank_len):\n",
    "        flank = seq[flank_span[0] : flank_span[1]]\n",
    "        flank_ns = flank.count('N') / float(len(flank))\n",
    "        flank_gaps = flank.count('-') / float(len(flank))\n",
    "        if flank_ns > max_ns or flank_gaps > max_gaps:\n",
    "            break\n",
    "        if left:\n",
    "            flank_span[0] -= 1\n",
    "        else:\n",
    "            flank_span[1] += 1\n",
    "        \n",
    "    return flank_span\n",
    "\n",
    "for alignment in AlignIO.parse(\"../../data/AgamP3_maf/chr2L.maf\", \"maf\"):\n",
    "    if len(alignment) >= min_species and alignment.get_alignment_length() >= min_aligned:\n",
    "        seq = seq_repr(alignment)\n",
    "        \n",
    "        ampl = find_targets(seq, min_conserved, max_target, min_ns_in_target, max_gapopens_in_target)\n",
    "        if ampl:\n",
    "            lflank = extend_flank(seq, [ampl[0][0], ampl[1][0]], max_ns, left=True)\n",
    "            rflank = extend_flank(seq, [ampl[1][1], ampl[0][1]], max_ns, left=False)\n",
    "            print(lflank)\n",
    "            print(rflank)\n",
    "            \n",
    "            break"
   ]
  },
  {
   "cell_type": "code",
   "execution_count": 10,
   "metadata": {},
   "outputs": [
    {
     "name": "stdout",
     "output_type": "stream",
     "text": [
      "346\n",
      "13536469\n",
      "NNN----------------NNNNNNNNNNN-NNNN--------------NNCAGCAANGGATGTCANCGNTGCGTTGTAATTTATCAGAAGCANATAAACATACTNCAGTATAAAGAAAGTGAGTGTGAAGATTTTTATNCNGGCCAGTTGAATCCAGCTGCAATGCCTATTCATAGCGTTTTAAAAAGTGATCGGGGCTTAGCTCATCCCAACATGAACGGGCATTCAAGAATATCNTCATCGGATCCNTATATGCGATCCAATGAAGATAGCGACAATTGTAAGC-AANAG---NNAANNNCTNNNNTTTATNNTTTTTATNAGNGANNNA-TCCNNNN-NN--\n",
      "((70, 237), (93, 193))\n",
      "[49, 93]\n",
      "[193, 288]\n",
      "3.3293413173652695\n"
     ]
    }
   ],
   "source": [
    "# scoring formula for the amplicons - unused\n",
    "\n",
    "def score_ampl(seq, target, lflank, rflank):\n",
    "    \n",
    "    return (lflank[1]-lflank[0] + rflank[1]-rflank[0]) / (target[1]-target[0]) * \\\n",
    "                    seq[target[0]:target[1]].count('N')\n",
    "i = 0\n",
    "for alignment in AlignIO.parse(\"../data/AgamP3_maf/chr2L.maf\", \"maf\"):\n",
    "    if len(alignment) >= min_species and alignment.get_alignment_length() >= min_aligned:\n",
    "        seq = seq_repr(alignment)\n",
    "        \n",
    "        ampl = find_targets(seq, min_conserved, max_target, min_ns_in_target, max_gapopens_in_target)\n",
    "        if ampl:\n",
    "            lflank = extend_flank(seq, [ampl[0][0], ampl[1][0]], max_ns, left=True)\n",
    "            rflank = extend_flank(seq, [ampl[1][1], ampl[0][1]], max_ns, left=False)\n",
    "            if rflank[1] - lflank[0] > 200:\n",
    "                print(len(seq))\n",
    "                print(alignment[0].annotations['start'])\n",
    "                print(seq)\n",
    "                print(ampl)\n",
    "                print(lflank)\n",
    "                print(rflank)\n",
    "                print(score_ampl(seq, ampl[0], lflank, rflank))\n",
    "                break"
   ]
  },
  {
   "cell_type": "code",
   "execution_count": 11,
   "metadata": {},
   "outputs": [
    {
     "data": {
      "text/plain": [
       "'/Users/am60/malaria'"
      ]
     },
     "execution_count": 11,
     "metadata": {},
     "output_type": "execute_result"
    }
   ],
   "source": [
    "%pwd"
   ]
  },
  {
   "cell_type": "code",
   "execution_count": 15,
   "metadata": {},
   "outputs": [
    {
     "name": "stdout",
     "output_type": "stream",
     "text": [
      "AgamP3.chr2L\t13536532\tT\tC\t15\t6\n",
      "AgamP3.chr2L\t13536544\tC\tA\t19\t2\n",
      "AgamP3.chr2L\t13536578\tA\tG\t19\t2\n",
      "AgamP3.\n"
     ]
    }
   ],
   "source": [
    "# final product filtering and output\n",
    "min_ampl_len = 190\n",
    "\n",
    "chromosomes = ['2L','2R','3L','3R','X']\n",
    "chrom_files = [\"../../data/AgamP3_maf/chr\" + chrom + \".maf\" for chrom in chromosomes]\n",
    "\n",
    "targets = ''\n",
    "flanks = ''\n",
    "\n",
    "# this actually takes some time\n",
    "for chrom_file in chrom_files:\n",
    "    for alignment in AlignIO.parse(chrom_file, \"maf\"):\n",
    "        if len(alignment) >= min_species and alignment.get_alignment_length() >= min_aligned:\n",
    "            seq = seq_repr(alignment)\n",
    "            ampl = find_targets(seq, min_conserved, max_target, min_ns_in_target, max_gapopens_in_target)\n",
    "            if ampl:\n",
    "                lflank = extend_flank(seq, [ampl[0][0], ampl[1][0]], max_ns, left=True)\n",
    "                rflank = extend_flank(seq, [ampl[1][1], ampl[0][1]], max_ns, left=False)\n",
    "                if rflank[1] - lflank[0] > min_ampl_len:\n",
    "                    targets += '\\n'.join(snp_count(alignment, ampl[1][0], ampl[1][1])) + '\\n' # target\n",
    "                    flanks += '\\n'.join(snp_count(alignment, lflank[0], lflank[1])) + '\\n'\n",
    "                    flanks += '\\n'.join(snp_count(alignment, rflank[0], rflank[1])) + '\\n'\n",
    "\n",
    "print(targets[:100])"
   ]
  },
  {
   "cell_type": "code",
   "execution_count": 16,
   "metadata": {},
   "outputs": [],
   "source": [
    "with open('../20180129_phylo_ampliseq/anopheles_phylo_targets.txt', 'w') as o:\n",
    "    o.write(targets)\n",
    "    \n",
    "with open('../20180129_phylo_ampliseq/anopheles_phylo_flanks.txt', 'w') as o:\n",
    "    o.write(flanks)\n",
    "    "
   ]
  },
  {
   "cell_type": "markdown",
   "metadata": {},
   "source": [
    "Results are saved into two separate files, these can be imported in Excel as different spreadsheets\n",
    "\n",
    "## TODO\n",
    "\n",
    "- Use pandas df and ExcelWriter for output formatting\n",
    "- Optionally: extract minimally filtered hits, then perform subsequent filtering on that dataset"
   ]
  },
  {
   "cell_type": "code",
   "execution_count": null,
   "metadata": {},
   "outputs": [],
   "source": []
  }
 ],
 "metadata": {
  "kernelspec": {
   "display_name": "Python 3",
   "language": "python",
   "name": "python3"
  },
  "language_info": {
   "codemirror_mode": {
    "name": "ipython",
    "version": 3
   },
   "file_extension": ".py",
   "mimetype": "text/x-python",
   "name": "python",
   "nbconvert_exporter": "python",
   "pygments_lexer": "ipython3",
   "version": "3.5.4"
  }
 },
 "nbformat": 4,
 "nbformat_minor": 2
}
