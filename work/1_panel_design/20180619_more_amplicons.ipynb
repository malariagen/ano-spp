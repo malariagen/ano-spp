{
 "cells": [
  {
   "cell_type": "markdown",
   "metadata": {},
   "source": [
    "## Extract amplicons from MAF alignment\n",
    "- test run for alignments of >=5 genomes - bimodal distribution: apart from almost all species alginments, there are ~7 species (gambiae complex) alignments\n",
    "- relaxed amplicon search parameters: allow missing species in alignment (max 11), shorter flanks (40 bp) and longer inserts (200 bp)\n",
    "- filter amplicons variable target (940 markers left)\n",
    "- extend amplicons\n",
    "- discriminative power analysis (aka clusters of identical sequences), remove if less than 10 identified lineages \n",
    "- annotate amplicons with genes and repeats, remove amplicons with repeats (663 markers left)\n",
    "- write combined maf and metadata\n",
    "\n",
    "Hints from downstream analysis:\n",
    "- length filter should be applied for agam reference length, not only to aligned length\n",
    "- within-intron markers are not treated as introns, but can be estimated from Gene=AGAP* and Exon=None\n",
    "\n",
    "__Next__, rerun tree shape analysis, Aedes/Culex/Dmel blast, and assign priority to markers."
   ]
  },
  {
   "cell_type": "code",
   "execution_count": 12,
   "metadata": {},
   "outputs": [],
   "source": [
    "import numpy as np\n",
    "import pandas as pd\n",
    "import matplotlib.pyplot as plt\n",
    "import pybedtools\n",
    "from Bio import Phylo\n",
    "from Bio import AlignIO\n",
    "from Bio.Phylo.TreeConstruction import DistanceCalculator, DistanceTreeConstructor\n",
    "from collections import Counter\n",
    "from scipy.stats import gaussian_kde"
   ]
  },
  {
   "cell_type": "markdown",
   "metadata": {},
   "source": [
    "## Filenames and parameters"
   ]
  },
  {
   "cell_type": "code",
   "execution_count": null,
   "metadata": {},
   "outputs": [],
   "source": [
    "DATA_DIR = \"../../../data/\"\n",
    "# multiple genome alignment file from Neafsey et al 2015 Science paper\n",
    "CHR_FILE = DATA_DIR + \"AgamP3_21genome_maf/chr{}.maf\"\n",
    "# annotations from VectorBase\n",
    "GENES = pybedtools.BedTool(DATA_DIR + \"genome/agamP3/Anopheles-gambiae-PEST_BASEFEATURES_AgamP3.8.gff3.gz\")\n",
    "REPEATS = pybedtools.BedTool(DATA_DIR + \"genome/agamP3/Anopheles-gambiae-PEST_REPEATFEATURES_AgamP3.gff3.gz\")\n",
    "AMPL_FILE = \"data/20180619_comb_ampl.maf\"\n",
    "TREE_FILE = \"data/20180619_comb_ampl_tree.nwk\"\n",
    "META_FILE = \"data/20180619_comb_ampl_data.csv\""
   ]
  },
  {
   "cell_type": "code",
   "execution_count": 5,
   "metadata": {},
   "outputs": [],
   "source": [
    "# Alignment filtering parameters\n",
    "min_species = 10 # minimum number of species in alignment \n",
    "min_aligned = 150 # minimum alignment length, also used as minimum amplicon length\n",
    "                  # relaxed compared to first iteration (190)\n",
    "min_conserved = 40 # minimum length of flanks with given conservation level (used for primer design), \n",
    "                   # here set lower than in the first iteration (50)\n",
    "max_xs = 0.1 # maximum proportion of indels (represented as X) in flanks\n",
    "max_ns = 0.1 # maximum proportion of substitutions (represented as N) in flanks\n",
    "\n",
    "max_insert = 200 # maximum length of non-conserved sequence between two conserved flank\n",
    "                 # increased compared to first iteration (100)\n",
    "    \n",
    "min_id_lineages = 10 # minimum number of distinct sequences in alignment\n",
    "                     # this cutoff removes ubiquitous gambiae complex-only alignments"
   ]
  },
  {
   "cell_type": "markdown",
   "metadata": {},
   "source": [
    "\n",
    "\n",
    "## Find amplicons in alignment - min 5 species (test)"
   ]
  },
  {
   "cell_type": "code",
   "execution_count": 5,
   "metadata": {},
   "outputs": [],
   "source": [
    "def seq_repr(alignment):\n",
    "    '''\n",
    "    Given multiple sequence alignment, return first sequence with Ns for ambiguous chars and X's for indels.'''\n",
    "    seq = ''\n",
    "    for i in range(alignment.get_alignment_length()):\n",
    "        col = alignment[:, i]\n",
    "        if '-' in col: # indel has higher priority than substitution\n",
    "            seq += 'X'\n",
    "        elif len(set(col)) == 1:\n",
    "            seq += col[0]\n",
    "        else:\n",
    "            seq += 'N'\n",
    "    return seq\n",
    "\n",
    "def get_conserved_subsequences(seq, max_ns, max_xs, min_len):\n",
    "    '''\n",
    "    Given sequence, substitution (max_ns) and indel (max_xs) levels, and minimum subsequence length\n",
    "    return list of tuples for the subsequences with given conservation level (overlapping regions merged).\n",
    "    If no conserved subsequences found, return 'None'.'''\n",
    "    slen = len(seq)\n",
    "    if slen < min_len:\n",
    "        return None\n",
    "    \n",
    "    def is_conserved(s, max_ns, max_xs):\n",
    "        if s.count('N')/len(s) <= max_ns and s.count('X')/len(s) <= max_xs:\n",
    "            return True\n",
    "        else:\n",
    "            return False\n",
    "        \n",
    "    cons_windows = [is_conserved(seq[i:i + min_len], max_ns, max_xs) for i in range(slen - min_len + 1)]\n",
    "    if sum(cons_windows) == 0:\n",
    "        return None\n",
    "    \n",
    "    cons_kernels = []\n",
    "    in_kernel = False\n",
    "    for i, cw in enumerate(cons_windows):\n",
    "        if in_kernel:\n",
    "            if cw == False:\n",
    "                in_kernel = False\n",
    "                cons_kernels.append(i + min_len)\n",
    "        elif cw == True:\n",
    "            cons_kernels.append(i)\n",
    "            in_kernel = True\n",
    "    if in_kernel:\n",
    "        cons_kernels.append(i + min_len) \n",
    "        \n",
    "    # merge overlapping kernels\n",
    "    merged_kernels = []\n",
    "    for i in range(len(cons_kernels)//2):\n",
    "        start = cons_kernels[i * 2]\n",
    "        end = cons_kernels[i * 2 + 1]\n",
    "        if not merged_kernels:\n",
    "            merged_kernels.append((start, end))\n",
    "        else:\n",
    "            prev_start = merged_kernels[-1][0]\n",
    "            prev_end = merged_kernels[-1][1]\n",
    "            if prev_end >= start:\n",
    "                upper_bound = max(prev_end, end)\n",
    "                merged_kernels[-1] = (prev_start, upper_bound)  # replace by merged interval\n",
    "            else:\n",
    "                merged_kernels.append((start, end))\n",
    "    \n",
    "    return np.asarray(merged_kernels)\n",
    "\n",
    "# functions test\n",
    "# for alignment in AlignIO.parse(\"../../data/AgamP3_maf/chr2L.maf\", \"maf\"):\n",
    "#     if len(alignment) >= min_species and alignment.get_alignment_length() >= min_aligned:\n",
    "#         seq = seq_repr(alignment)\n",
    "#         cons = get_conserved_subsequences(seq, max_ns=max_ns, max_xs=max_xs, min_len=min_conserved)\n",
    "#         if cons is not None: # conser\n",
    "#             print(seq)\n",
    "#             print(cons, cons[:,1] - cons[:,0])\n",
    "#             break"
   ]
  },
  {
   "cell_type": "code",
   "execution_count": 6,
   "metadata": {},
   "outputs": [],
   "source": [
    "# Candidate amplicon search - within conserved sequences and between consecutive conserved sequences\n",
    "def get_candidate_amplicons(cons, min_len, max_insert):\n",
    "    '''\n",
    "    Given conserved subsequence intervals, minimum amplicon length and maximum insert length,\n",
    "    return list of plausible amplicons with insert positions'''\n",
    "    ampls = []\n",
    "    for reg in cons: # internal amplicons\n",
    "        if reg[1] - reg[0] >= min_len:\n",
    "            ampls.append((reg[0], reg[1], 0, 0))\n",
    "    for i in range(len(cons) - 1):\n",
    "        for j in range(i + 1, len(cons)):\n",
    "            if cons[j, 0] - cons[i, 1] <= max_insert:\n",
    "                if cons[j, 1] - cons[i, 0] >= min_len:\n",
    "                    ampls.append((cons[i, 0], cons[j, 1],\n",
    "                                  cons[i, 1], cons[j, 0]))\n",
    "    return ampls\n",
    "\n",
    "# function test - long run\n",
    "# for alignment in AlignIO.parse(\"../../data/AgamP3_maf/chr2L.maf\", \"maf\"):\n",
    "#     if len(alignment) >= min_species and alignment.get_alignment_length() >= min_aligned:\n",
    "#         seq = seq_repr(alignment)\n",
    "#         cons = get_conserved_subsequences(seq, max_ns=max_ns, max_xs=max_xs, min_len=min_conserved)\n",
    "#         if cons is not None:\n",
    "#             ampls = get_candidate_amplicons(cons, min_aligned, max_insert)\n",
    "#             if len(ampls) > 0:\n",
    "#                 for reg in cons:\n",
    "#                     print(reg, seq[reg[0]:reg[1]])\n",
    "#                 for ampl in ampls:\n",
    "#                     print(alignment[:, ampl[0]:ampl[1]])\n",
    "#                 print(ampls)\n",
    "#                 break"
   ]
  },
  {
   "cell_type": "code",
   "execution_count": 207,
   "metadata": {},
   "outputs": [
    {
     "name": "stdout",
     "output_type": "stream",
     "text": [
      "[(<<class 'Bio.Align.MultipleSeqAlignment'> instance (21 records of length 259, SingleLetterAlphabet()) at 10b32ba90>, (67, 170))]\n",
      "9810327\n"
     ]
    }
   ],
   "source": [
    "def gapped_coord(aln, coord, ref=0):\n",
    "    '''\n",
    "    Transforms coordinate in maf alignment according to number of gaps in ref (i-th seq in alignment)\n",
    "    '''\n",
    "    ngaps = str(aln[ref, :coord].seq).count('-')\n",
    "    return aln[ref].annotations['start'] + coord - ngaps\n",
    "\n",
    "def alignment_to_amplicons(alignment, min_species, min_aligned, max_xs, max_ns, \n",
    "                           min_conserved, max_insert, annotated=True):\n",
    "    '''\n",
    "    Given alignment and filtering paramters\n",
    "    return list of (alignment, target start, target end)\n",
    "    '''\n",
    "    ampl_data = []\n",
    "    if len(alignment) >= min_species and alignment.get_alignment_length() >= min_aligned:\n",
    "        seq = seq_repr(alignment)\n",
    "        cons = get_conserved_subsequences(seq, max_ns=max_ns, max_xs=max_xs, min_len=min_conserved)\n",
    "        if cons is not None:\n",
    "            ampls = get_candidate_amplicons(cons, min_aligned, max_insert)\n",
    "            if len(ampls) > 0:\n",
    "                for ampl in ampls:\n",
    "                    ampl_aln = alignment[:, ampl[0]:ampl[1]]\n",
    "                    if annotated:\n",
    "                        ampl_aln[0].annotations = alignment[0].annotations.copy()\n",
    "                        ampl_aln[0].annotations['start'] = gapped_coord(alignment, ampl[0])\n",
    "                        ampl_aln[0].annotations['size'] = gapped_coord(alignment, ampl[1]) - ampl_aln[0].annotations['start']\n",
    "                    ampl_data.append((ampl_aln, (ampl[2] - ampl[0], ampl[3] - ampl[0])))\n",
    "                return ampl_data\n",
    "    return None\n",
    "                    \n",
    "#function test\n",
    "test_amplicons = []\n",
    "for alignment in AlignIO.parse(CHR_FILE.format('3L'), \"maf\"):\n",
    "    if alignment[0].annotations['start'] > 9800000:\n",
    "        a = alignment_to_amplicons(alignment, min_species=21, min_aligned=190, max_xs=0.1, max_ns=0.1, \n",
    "                                   min_conserved=40, max_insert=200)\n",
    "        if a is not None:\n",
    "            test_amplicons.extend(a)\n",
    "            print(test_amplicons)\n",
    "            break\n",
    "    if alignment[0].annotations['start'] > 9811000:\n",
    "        break\n",
    "\n",
    "print(test_amplicons[0][0][0].annotations['start'])"
   ]
  },
  {
   "cell_type": "code",
   "execution_count": 246,
   "metadata": {},
   "outputs": [
    {
     "data": {
      "image/png": "[encoded data removed]",
      "text/plain": [
       "<matplotlib.figure.Figure at 0x1146e5a90>"
      ]
     },
     "metadata": {},
     "output_type": "display_data"
    }
   ],
   "source": [
    "# proportion of variable nucleotides depending on window size\n",
    "x = seq_repr(test_amplicons[0][0])\n",
    "for n in ('N','X'):\n",
    "    for window in (40,50):\n",
    "        plt.plot([\n",
    "            (x[i:i+window].count(n)/window) \n",
    "            for i in range(len(x)-window)], label='{} {}'.format(n, window))\n",
    "plt.axhline(y=0.1, color='r', linestyle='-', label='cutoff')\n",
    "plt.legend();\n",
    "# insert size becomes higher than conservative cutoff for this intron marker - increase maximum variable insert "
   ]
  },
  {
   "cell_type": "code",
   "execution_count": 15,
   "metadata": {},
   "outputs": [
    {
     "name": "stdout",
     "output_type": "stream",
     "text": [
      "/Users/am60/data/AgamP3_21genome_maf/chr2L.maf\n",
      "/Users/am60/data/AgamP3_21genome_maf/chr2R.maf\n",
      "/Users/am60/data/AgamP3_21genome_maf/chr3L.maf\n",
      "/Users/am60/data/AgamP3_21genome_maf/chr3R.maf\n",
      "/Users/am60/data/AgamP3_21genome_maf/chrX.maf\n",
      "/Users/am60/data/AgamP3_21genome_maf/chrUnkn.maf\n",
      "17090\n",
      "CPU times: user 1h 26s, sys: 20 s, total: 1h 46s\n",
      "Wall time: 1h 25min 55s\n"
     ]
    }
   ],
   "source": [
    "%%time\n",
    "amplicons = []\n",
    "# exctract amplicons\n",
    "for chrom in ('2L', '2R', '3L', '3R', 'X', 'Unkn'):\n",
    "    print(CHRX_FILE.format(chrom))\n",
    "    for alignment in AlignIO.parse(CHR_FILE.format(chrom), \"maf\"):\n",
    "        a = alignment_to_amplicons(alignment, min_species, min_aligned, max_xs, max_ns, min_conserved, max_insert, annotated=True)\n",
    "        if a is not None:\n",
    "            amplicons.extend(a)\n",
    "print(len(amplicons))"
   ]
  },
  {
   "cell_type": "code",
   "execution_count": 99,
   "metadata": {},
   "outputs": [
    {
     "data": {
      "image/png": "[encoded data removed]",
      "text/plain": [
       "<matplotlib.figure.Figure at 0x1a246353c8>"
      ]
     },
     "metadata": {},
     "output_type": "display_data"
    }
   ],
   "source": [
    "# number of aligned speicies\n",
    "ax = plt.figure().gca()\n",
    "ax.hist([len(a[0]) for a in amplicons], bins=range(5, 23))\n",
    "plt.yscale('log')\n",
    "ax.xaxis.set_major_locator(MaxNLocator(integer=True));\n",
    "# clearly bimodal distribution"
   ]
  },
  {
   "cell_type": "code",
   "execution_count": 26,
   "metadata": {},
   "outputs": [
    {
     "name": "stdout",
     "output_type": "stream",
     "text": [
      "Counter({'AgamP3': 16837, 'AaraD1': 16545, 'AgamS1': 16234, 'AmerM1': 16154, 'AquaS1': 16042, 'AgamM1': 15113, 'AmelC1': 14593, 'AchrA1': 68, 'AepiE1': 27, 'AsteS1': 4, 'AsteI2': 4, 'AalbS1': 4, 'AmacM1': 4, 'AminM1': 1, 'AfunF1': 1})\n"
     ]
    }
   ],
   "source": [
    "genomes = Counter()\n",
    "for a in amplicons:\n",
    "    if len(a[0]) < 12:\n",
    "        for i in range(len(a[0])):\n",
    "            genomes[a[0][i].id.split('.')[0]] += 1\n",
    "print(genomes)\n",
    "# most markers recovered in ~7 genomes are found only within gambiae group "
   ]
  },
  {
   "cell_type": "markdown",
   "metadata": {},
   "source": [
    "## Find amplicons in alignment - min 10 species (experiment)"
   ]
  },
  {
   "cell_type": "code",
   "execution_count": 211,
   "metadata": {},
   "outputs": [
    {
     "name": "stdout",
     "output_type": "stream",
     "text": [
      "/Users/am60/data/AgamP3_21genome_maf/chr2L.maf\n",
      "/Users/am60/data/AgamP3_21genome_maf/chr2R.maf\n",
      "/Users/am60/data/AgamP3_21genome_maf/chr3L.maf\n",
      "/Users/am60/data/AgamP3_21genome_maf/chr3R.maf\n",
      "/Users/am60/data/AgamP3_21genome_maf/chrX.maf\n",
      "/Users/am60/data/AgamP3_21genome_maf/chrUNKN.maf\n",
      "/Users/am60/data/AgamP3_21genome_maf/chrY_unplaced.maf\n",
      "1158\n",
      "CPU times: user 54min 37s, sys: 17 s, total: 54min 54s\n",
      "Wall time: 55min 24s\n"
     ]
    }
   ],
   "source": [
    "%%time\n",
    "amplicons = []\n",
    "# exctract amplicons\n",
    "for chrom in ('2L', '2R', '3L', '3R', 'X', 'UNKN', 'Y_unplaced'):\n",
    "    print(CHR_FILE.format(chrom))\n",
    "    for alignment in AlignIO.parse(CHR_FILE.format(chrom), \"maf\"):\n",
    "        a = alignment_to_amplicons(alignment, min_species, min_aligned, max_xs, max_ns, min_conserved, max_insert, annotated=True)\n",
    "        if a is not None:\n",
    "            amplicons.extend(a)\n",
    "print(len(amplicons))"
   ]
  },
  {
   "cell_type": "code",
   "execution_count": 212,
   "metadata": {},
   "outputs": [
    {
     "data": {
      "image/png": "[encoded data removed]",
      "text/plain": [
       "<matplotlib.figure.Figure at 0x10b8bddd8>"
      ]
     },
     "metadata": {},
     "output_type": "display_data"
    }
   ],
   "source": [
    "# number of aligned speicies\n",
    "ax = plt.figure().gca()\n",
    "ax.hist([len(a[0]) for a in amplicons], bins=range(5, 23))\n",
    "plt.yscale('log')\n",
    "ax.xaxis.set_major_locator(MaxNLocator(integer=True));"
   ]
  },
  {
   "cell_type": "markdown",
   "metadata": {},
   "source": [
    "## Remove amplicons without targets"
   ]
  },
  {
   "cell_type": "code",
   "execution_count": 213,
   "metadata": {},
   "outputs": [
    {
     "data": {
      "text/plain": [
       "940"
      ]
     },
     "execution_count": 213,
     "metadata": {},
     "output_type": "execute_result"
    }
   ],
   "source": [
    "flt_amplicons = [a for a in amplicons if a[1][0] > 0]\n",
    "len(flt_amplicons)"
   ]
  },
  {
   "cell_type": "code",
   "execution_count": 214,
   "metadata": {},
   "outputs": [
    {
     "name": "stdout",
     "output_type": "stream",
     "text": [
      "(<<class 'Bio.Align.MultipleSeqAlignment'> instance (21 records of length 259, SingleLetterAlphabet()) at 10dec0898>, (67, 170))\n"
     ]
    }
   ],
   "source": [
    "# check for the most informative marker from first iteration\n",
    "for a in amplicons:\n",
    "    if a[0][0].annotations['start'] > 9810300 and a[0][0].annotations['start'] < 9810500:\n",
    "        print(a)"
   ]
  },
  {
   "cell_type": "markdown",
   "metadata": {},
   "source": [
    "## Extend variable insert"
   ]
  },
  {
   "cell_type": "code",
   "execution_count": 215,
   "metadata": {},
   "outputs": [],
   "source": [
    "def prop_var(seq):\n",
    "    '''\n",
    "    Return propotion of variable nucleotides in seq_repr of alignment'''\n",
    "    return (seq.count('N') + seq.count('X'))/len(seq)\n",
    "\n",
    "def extend_variable(seq, start, end, min_ambig=0.5):\n",
    "    '''\n",
    "    Extends flanks of variable insert. Works only if seq[0:start] and seq[end:len(seq)] are conserved.\n",
    "    This should be true for pre-selected amplicons (see 20180223).\n",
    "    Parameters - sequence, start and end of variable target to be extended,\n",
    "    minimum proportion of variable sites for extended region. '''\n",
    "    var_start = False\n",
    "    for i in range(0, start - 1):\n",
    "        if prop_var(seq[i:start]) >= min_ambig:\n",
    "            #print(seq[i:start])\n",
    "            var_start = True\n",
    "        if var_start:\n",
    "            if seq[i] in 'NX':\n",
    "                ext_start = i\n",
    "                #print(ext_start)\n",
    "                break\n",
    "    else:\n",
    "        ext_start = start\n",
    "    \n",
    "    var_end = False\n",
    "    for i in reversed(range(end + 1,len(seq))):\n",
    "        if prop_var(seq[end:i]) >= min_ambig:\n",
    "            #print(seq[end:i])\n",
    "            var_end = True\n",
    "        if var_end:\n",
    "            if seq[i - 1] in 'NX':\n",
    "                ext_end = i\n",
    "                #print(ext_end)\n",
    "                break\n",
    "    else:\n",
    "        ext_end = end\n",
    "    \n",
    "    return (ext_start, ext_end)\n"
   ]
  },
  {
   "cell_type": "code",
   "execution_count": 216,
   "metadata": {},
   "outputs": [
    {
     "data": {
      "text/plain": [
       "(<<class 'Bio.Align.MultipleSeqAlignment'> instance (21 records of length 185, SingleLetterAlphabet()) at 10be4bc18>,\n",
       " (51, 141))"
      ]
     },
     "metadata": {},
     "output_type": "display_data"
    },
    {
     "data": {
      "text/plain": [
       "[<<class 'Bio.Align.MultipleSeqAlignment'> instance (21 records of length 185, SingleLetterAlphabet()) at 10be4bc18>,\n",
       " 'CGNAACGGTAGAGGACGTTTNGTTGGTGTNCCTGGNAGCGANAGAAAACCNNTGGTACTNTCAACATATCTNGANGCNCANGAACANNTGCCNTANGCNGANGATTCNAANGCNGTNACNCCNATGTCNGANGAAAATGGNGCAATCATNGTNCCAGTATACTANGCTAANTTAGGTACAXXXXX',\n",
       " 51,\n",
       " 141,\n",
       " 'NTGGTACTNTCAACATATCTNGANGCNCANGAACANNTGCCNTANGCNGANGATTCNAANGCNGTNACNCCNATGTCNGANGAAAATGGN']"
      ]
     },
     "metadata": {},
     "output_type": "display_data"
    }
   ],
   "source": [
    "long_amplicons = []\n",
    "for a in flt_amplicons:\n",
    "    seq = seq_repr(a[0])\n",
    "    (start, end) = extend_variable(seq, a[1][0], a[1][1])\n",
    "    insert = seq[start:end]\n",
    "    long_amplicons.append([a[0], seq, start, end, insert])\n",
    "display(flt_amplicons[0], long_amplicons[0])"
   ]
  },
  {
   "cell_type": "markdown",
   "metadata": {},
   "source": [
    "## Discriminative power analysis (identical clusters) "
   ]
  },
  {
   "cell_type": "code",
   "execution_count": 217,
   "metadata": {},
   "outputs": [
    {
     "data": {
      "text/plain": [
       "[<<class 'Bio.Align.MultipleSeqAlignment'> instance (21 records of length 185, SingleLetterAlphabet()) at 10be4bc18>,\n",
       " 'CGNAACGGTAGAGGACGTTTNGTTGGTGTNCCTGGNAGCGANAGAAAACCNNTGGTACTNTCAACATATCTNGANGCNCANGAACANNTGCCNTANGCNGANGATTCNAANGCNGTNACNCCNATGTCNGANGAAAATGGNGCAATCATNGTNCCAGTATACTANGCTAANTTAGGTACAXXXXX',\n",
       " 51,\n",
       " 141,\n",
       " 'NTGGTACTNTCAACATATCTNGANGCNCANGAACANNTGCCNTANGCNGANGATTCNAANGCNGTNACNCCNATGTCNGANGAAAATGGN',\n",
       " [{'AaraD1', 'AgamM1', 'AgamP3', 'AgamS1', 'AmelC1', 'AquaS1'},\n",
       "  {'AsteI2', 'AsteS1'},\n",
       "  {'AatrE1', 'AsinS1'}],\n",
       " 14]"
      ]
     },
     "execution_count": 217,
     "metadata": {},
     "output_type": "execute_result"
    }
   ],
   "source": [
    "def identical_clusters(aln):\n",
    "    '''\n",
    "    Given alignment, return list of sets with species IDs with identical sequences'''\n",
    "    \n",
    "\n",
    "    ids = [set()]\n",
    "    dm = DistanceCalculator('identity').get_distance(aln)\n",
    "    dm.names = [n.split('.')[0] for n in dm.names]\n",
    "    for i in range(len(dm)):\n",
    "        for j in range(i + 1, len(dm)):\n",
    "            if dm[i,j] == 0:\n",
    "                n1 = dm.names[i]\n",
    "                n2 = dm.names[j]\n",
    "                for cl in ids:\n",
    "                    if (n1 in cl):\n",
    "                        if (n2 in cl):\n",
    "                            break\n",
    "                        if (n2 not in cl):\n",
    "                            cl.add(n2)\n",
    "                            break\n",
    "                else:\n",
    "                    ids.append(set((n1, n2)))\n",
    "    \n",
    "    id_clusters = ids[1:]\n",
    "    \n",
    "    discrim = len(dm) - sum([len(cl)-1 for cl in id_clusters]) \n",
    "        \n",
    "    return [id_clusters, discrim]\n",
    "\n",
    "cl_amplicons = []\n",
    "\n",
    "for a in long_amplicons:\n",
    "    target = a[0][:, a[2]:a[3]]\n",
    "    cl_amplicons.append(a + identical_clusters(target))\n",
    "\n",
    "cl_amplicons[0]"
   ]
  },
  {
   "cell_type": "code",
   "execution_count": 218,
   "metadata": {},
   "outputs": [
    {
     "data": {
      "image/png": "[encoded data removed]",
      "text/plain": [
       "<matplotlib.figure.Figure at 0x1097cedd8>"
      ]
     },
     "metadata": {},
     "output_type": "display_data"
    }
   ],
   "source": [
    "# how many lineages can each amplicon discriminate?\n",
    "from matplotlib.ticker import MaxNLocator\n",
    "ax = plt.figure().gca()\n",
    "ax.hist([a[-1] for a in cl_amplicons], bins=range(20))\n",
    "ax.xaxis.set_major_locator(MaxNLocator(integer=True));"
   ]
  },
  {
   "cell_type": "code",
   "execution_count": 219,
   "metadata": {},
   "outputs": [
    {
     "data": {
      "image/png": "[encoded data removed]",
      "text/plain": [
       "<matplotlib.figure.Figure at 0x1a23156160>"
      ]
     },
     "metadata": {},
     "output_type": "display_data"
    }
   ],
   "source": [
    "# divide number of species aligned to obtain estimates of relative informativeness\n",
    "data = [a[-1]/len(a[0]) for a in cl_amplicons]\n",
    "density = gaussian_kde(data)\n",
    "xs = np.linspace(0,1,200)\n",
    "density.covariance_factor = lambda : .1\n",
    "density._compute_covariance()\n",
    "f, (ax1, ax2) = plt.subplots(2, 1, sharex=True, figsize=(5, 10))\n",
    "ax1.hist(data, bins=20)\n",
    "ax2.plot(xs,density(xs))\n",
    "plt.show()"
   ]
  },
  {
   "cell_type": "code",
   "execution_count": 220,
   "metadata": {},
   "outputs": [
    {
     "data": {
      "text/plain": [
       "753"
      ]
     },
     "metadata": {},
     "output_type": "display_data"
    },
    {
     "data": {
      "image/png": "[encoded data removed]",
      "text/plain": [
       "<matplotlib.figure.Figure at 0x10f61bdd8>"
      ]
     },
     "metadata": {},
     "output_type": "display_data"
    }
   ],
   "source": [
    "# set identification power cutoff of 0.5\n",
    "# unique sequences divided by total sequences in alignment\n",
    "# unused in current variation\n",
    "info_amplicons = [a for a in cl_amplicons if a[-1]/len(a[0]) >= 0.5]\n",
    "plt.hist([a[-1]/len(a[0]) for a in info_amplicons], bins=20);\n",
    "display(len(info_amplicons))"
   ]
  },
  {
   "cell_type": "code",
   "execution_count": 227,
   "metadata": {},
   "outputs": [
    {
     "data": {
      "text/plain": [
       "940"
      ]
     },
     "execution_count": 227,
     "metadata": {},
     "output_type": "execute_result"
    }
   ],
   "source": [
    "len(cl_amplicons)"
   ]
  },
  {
   "cell_type": "markdown",
   "metadata": {},
   "source": [
    "## Create metadata"
   ]
  },
  {
   "cell_type": "code",
   "execution_count": 250,
   "metadata": {},
   "outputs": [
    {
     "data": {
      "text/plain": [
       "(940, 17)"
      ]
     },
     "metadata": {},
     "output_type": "display_data"
    },
    {
     "data": {
      "text/plain": [
       "3R      268\n",
       "2R      262\n",
       "2L      199\n",
       "3L      154\n",
       "X        33\n",
       "UNKN     24\n",
       "Name: chr, dtype: int64"
      ]
     },
     "execution_count": 250,
     "metadata": {},
     "output_type": "execute_result"
    }
   ],
   "source": [
    "amplicon_stats = []\n",
    "for aln in cl_amplicons:\n",
    "    amplicon_stats.append({\n",
    "        'seqid': aln[0][0].id,\n",
    "        'start': aln[0][0].annotations['start'],\n",
    "        'end': gapped_coord(aln[0], aln[0].get_alignment_length()),\n",
    "        'aligned_len': aln[0].get_alignment_length(),\n",
    "        'snvs': aln[1].count('N'),\n",
    "        'indels': aln[1].count('X'),\n",
    "        'target_start': gapped_coord(aln[0], aln[2]),\n",
    "        'target_end': gapped_coord(aln[0], aln[3]),\n",
    "        'target_aligned_len': aln[3] - aln[2],\n",
    "        'target_snvs': aln[4].count('N'),\n",
    "        'target_indels': aln[4].count('X'),\n",
    "        'aligned_species': len(aln[0]),\n",
    "        'unid_species': aln[5],\n",
    "        'id_lineages': aln[6],\n",
    "        'informativeness': aln[6]/len(aln[0]),\n",
    "        'chr': aln[0][0].id[10:],\n",
    "        'alignment': aln[0]\n",
    "    })\n",
    "meta = pd.DataFrame(amplicon_stats)\n",
    "display(meta.shape)\n",
    "# explore markers per chromsome\n",
    "meta['chr'].value_counts()"
   ]
  },
  {
   "cell_type": "markdown",
   "metadata": {},
   "source": [
    "## Annotate amplicons - genes and repeats"
   ]
  },
  {
   "cell_type": "code",
   "execution_count": 229,
   "metadata": {},
   "outputs": [
    {
     "data": {
      "text/plain": [
       "'2L   2403094   2403278'"
      ]
     },
     "execution_count": 229,
     "metadata": {},
     "output_type": "execute_result"
    }
   ],
   "source": [
    "# create list of BED intervals for amplicons\n",
    "amplicon_beds = meta[['chr', 'start', 'end']].to_string(header=False, index=False).split('\\n')\n",
    "amplicon_beds[0]"
   ]
  },
  {
   "cell_type": "code",
   "execution_count": 230,
   "metadata": {},
   "outputs": [
    {
     "data": {
      "text/plain": [
       "{'exon': 'E013980A;E013980B;E013980C',\n",
       " 'gene': 'AGAP004707',\n",
       " 'intron': 'None',\n",
       " 'mRNA': 'AGAP004707-RA;AGAP004707-RB;AGAP004707-RC',\n",
       " 'repeat': 'None',\n",
       " 'utr': 'None'}"
      ]
     },
     "execution_count": 230,
     "metadata": {},
     "output_type": "execute_result"
    }
   ],
   "source": [
    "def bt_to_df(bt):\n",
    "    '''\n",
    "    Convert bedtool to pandas dataframe replacing empty files with None'''\n",
    "    if len(bt) > 0:\n",
    "        return bt.to_dataframe()\n",
    "    else:\n",
    "        return None\n",
    "    \n",
    "def annotate_interval(bed_str, genes, repeats):\n",
    "    '''\n",
    "    Annotate interval in string format genes and repats annotation tracks\n",
    "    '''\n",
    "    def bt_to_df(bt):\n",
    "        '''\n",
    "        Convert bedtool to pandas dataframe'''\n",
    "        if len(bt) > 0:\n",
    "            return bt.to_dataframe()\n",
    "        else:\n",
    "            return pd.DataFrame()\n",
    "\n",
    "    def get_attrs(d, feature, attr_id):\n",
    "        '''\n",
    "        From gff dataframe extract list of features by attribute ID\n",
    "        Attribute string example for gene feature:\n",
    "        ID=AGAP001235;biotype=protein_coding\n",
    "        '''\n",
    "        out = []\n",
    "        try:\n",
    "            for attr in d[d.feature == feature]['attributes']:\n",
    "                for a in attr.split(';'):\n",
    "                    aa = a.split('=')\n",
    "                    if aa[0] == attr_id:\n",
    "                        out.append(aa[1])\n",
    "            if len(out) > 0:\n",
    "                return ';'.join(out)\n",
    "        except: # no annotations\n",
    "            pass\n",
    "            \n",
    "        return 'None'\n",
    "    \n",
    "    attr_dict = dict()\n",
    "    \n",
    "    # intersect\n",
    "    a_bed = pybedtools.BedTool(bed_str, from_string=True) \n",
    "    ag_gff = genes.intersect(a_bed)\n",
    "    ar_gff = repeats.intersect(a_bed)\n",
    "    # convert annotations to dataframe\n",
    "    ampl_annot = pd.concat([bt_to_df(ag_gff), bt_to_df(ar_gff)])\n",
    "    # extract annotations\n",
    "    attr_dict = {\n",
    "    'gene': get_attrs(ampl_annot, 'gene', 'ID'),\n",
    "    'mRNA': get_attrs(ampl_annot, 'mRNA', 'ID'),\n",
    "    'exon': get_attrs(ampl_annot, 'exon', 'ID'),\n",
    "    'repeat': get_attrs(ampl_annot, 'repeat', 'Name'),\n",
    "    }\n",
    "    attr_dict['utr'] = ('Yes' if ('utr' in str(ampl_annot['feature'])) else 'None')\n",
    "    attr_dict['intron'] = ('Yes' if (attr_dict['mRNA'].count(';') < attr_dict['exon'].count(';')) else 'None')\n",
    "    \n",
    "    return attr_dict\n",
    "\n",
    "annotate_interval(amplicon_beds[0], GENES, REPEATS)"
   ]
  },
  {
   "cell_type": "code",
   "execution_count": 233,
   "metadata": {},
   "outputs": [
    {
     "name": "stdout",
     "output_type": "stream",
     "text": [
      "CPU times: user 9.92 s, sys: 11.3 s, total: 21.2 s\n",
      "Wall time: 1h 10min 12s\n"
     ]
    }
   ],
   "source": [
    "%%time\n",
    "# annotation dictionary\n",
    "ann_dict = dict()\n",
    "for (i, bed) in enumerate(amplicon_beds):\n",
    "    ann_dict[i] = annotate_interval(bed, GENES, REPEATS)\n",
    "pd.DataFrame(ann_dict)"
   ]
  },
  {
   "cell_type": "code",
   "execution_count": 234,
   "metadata": {},
   "outputs": [
    {
     "data": {
      "text/plain": [
       "(940, 23)"
      ]
     },
     "metadata": {},
     "output_type": "display_data"
    },
    {
     "data": {
      "text/plain": [
       "None                     858\n",
       "dust                      59\n",
       "trf                       12\n",
       "trf;dust                   3\n",
       "dust;dust                  3\n",
       "CR1Fam21_2                 1\n",
       "trf;trf;dust               1\n",
       "TSESSEBEII                 1\n",
       "Agam_U89801_TsessebeI      1\n",
       "Ty3_gypsy_Ele108           1\n",
       "Name: repeat, dtype: int64"
      ]
     },
     "execution_count": 234,
     "metadata": {},
     "output_type": "execute_result"
    }
   ],
   "source": [
    "# combine metadata, explore repeats\n",
    "meta_ann = pd.concat([meta, pd.DataFrame(ann_dict).T], axis=1)\n",
    "display(meta_ann.shape)\n",
    "meta_ann['repeat'].value_counts()"
   ]
  },
  {
   "cell_type": "code",
   "execution_count": 267,
   "metadata": {},
   "outputs": [
    {
     "data": {
      "text/plain": [
       "(663, 23)"
      ]
     },
     "execution_count": 267,
     "metadata": {},
     "output_type": "execute_result"
    }
   ],
   "source": [
    "# remove repeats and <10 lineages\n",
    "meta_nonrep = meta_ann[(meta_ann['repeat'] == 'None') & (meta_ann['id_lineages'] >= min_id_lineages)]\n",
    "meta_nonrep.shape"
   ]
  },
  {
   "cell_type": "code",
   "execution_count": 268,
   "metadata": {},
   "outputs": [
    {
     "data": {
      "text/plain": [
       "None          294\n",
       "AGAP010147     15\n",
       "AGAP002859      7\n",
       "AGAP002884      6\n",
       "AGAP001497      6\n",
       "AGAP005134      6\n",
       "AGAP012048      6\n",
       "AGAP008559      5\n",
       "AGAP006176      5\n",
       "AGAP003271      5\n",
       "Name: gene, dtype: int64"
      ]
     },
     "execution_count": 268,
     "metadata": {},
     "output_type": "execute_result"
    }
   ],
   "source": [
    "# markers per gene\n",
    "meta_nonrep['gene'].value_counts().head(10)"
   ]
  },
  {
   "cell_type": "markdown",
   "metadata": {},
   "source": [
    "Overall, multiple markers per gene are common. Top-2: \n",
    "\n",
    "- AGAP010147 - myosin heavy chain (3R:49Mbp)\n",
    "- AGAP002859 - Na/Ca-exchange protein (dmel) (2R:28Mbp)"
   ]
  },
  {
   "cell_type": "code",
   "execution_count": 275,
   "metadata": {},
   "outputs": [
    {
     "name": "stdout",
     "output_type": "stream",
     "text": [
      "42 introns\n",
      "38 genes\n"
     ]
    }
   ],
   "source": [
    "# inronic markers\n",
    "print('{} introns'.format(meta_nonrep[meta_nonrep['intron'] == 'Yes'].shape[0]))\n",
    "print('{} genes'.format(meta_nonrep[meta_nonrep['intron'] == 'Yes']['gene'].nunique()))"
   ]
  },
  {
   "cell_type": "markdown",
   "metadata": {},
   "source": [
    "## Write alignments"
   ]
  },
  {
   "cell_type": "code",
   "execution_count": 278,
   "metadata": {},
   "outputs": [
    {
     "data": {
      "text/plain": [
       "663"
      ]
     },
     "execution_count": 278,
     "metadata": {},
     "output_type": "execute_result"
    }
   ],
   "source": [
    "# write combined autosomal and X-chromosomal amplicons \n",
    "count = 0\n",
    "with open(AMPL_FILE, \"w\") as handle:\n",
    "    for a in meta_nonrep['alignment']:\n",
    "        count += AlignIO.write(a, handle, \"maf\")\n",
    "count"
   ]
  },
  {
   "cell_type": "code",
   "execution_count": 279,
   "metadata": {},
   "outputs": [
    {
     "name": "stdout",
     "output_type": "stream",
     "text": [
      "663\r\n"
     ]
    }
   ],
   "source": [
    "# Number of amplicons total\n",
    "!grep -c AgamP3 {AMPL_FILE}"
   ]
  },
  {
   "cell_type": "markdown",
   "metadata": {},
   "source": [
    "## Write trees"
   ]
  },
  {
   "cell_type": "code",
   "execution_count": 10,
   "metadata": {},
   "outputs": [],
   "source": [
    "def phylo_tree(aln):\n",
    "    '''\n",
    "    Given alignment, return NJ tree in nwk format'''\n",
    "    calculator = DistanceCalculator('identity')\n",
    "    dm = calculator.get_distance(aln)     \n",
    "    dm.names = [n.split('.')[0] for n in dm.names]\n",
    "    constructor = DistanceTreeConstructor()\n",
    "    tree = constructor.nj(dm)\n",
    "    return tree"
   ]
  },
  {
   "cell_type": "code",
   "execution_count": 13,
   "metadata": {},
   "outputs": [],
   "source": [
    "ampl_alns = AlignIO.parse(AMPL_FILE, \"maf\")"
   ]
  },
  {
   "cell_type": "code",
   "execution_count": 14,
   "metadata": {},
   "outputs": [],
   "source": [
    "ampl_trees = [phylo_tree(a) for a in ampl_alns]"
   ]
  },
  {
   "cell_type": "code",
   "execution_count": 19,
   "metadata": {},
   "outputs": [
    {
     "name": "stdout",
     "output_type": "stream",
     "text": [
      "     663 data/20180619_comb_ampl_tree.nwk\r\n"
     ]
    }
   ],
   "source": [
    "with open(TREE_FILE, 'w') as o:\n",
    "    Phylo.write(trees=ampl_trees, file=o, format='newick')\n",
    "! wc -l {TREE_FILE}"
   ]
  },
  {
   "cell_type": "markdown",
   "metadata": {},
   "source": [
    "## Write metadata"
   ]
  },
  {
   "cell_type": "code",
   "execution_count": 289,
   "metadata": {},
   "outputs": [
    {
     "data": {
      "text/html": [
       "<div>\n",
       "<style scoped>\n",
       "    .dataframe tbody tr th:only-of-type {\n",
       "        vertical-align: middle;\n",
       "    }\n",
       "\n",
       "    .dataframe tbody tr th {\n",
       "        vertical-align: top;\n",
       "    }\n",
       "\n",
       "    .dataframe thead th {\n",
       "        text-align: right;\n",
       "    }\n",
       "</style>\n",
       "<table border=\"1\" class=\"dataframe\">\n",
       "  <thead>\n",
       "    <tr style=\"text-align: right;\">\n",
       "      <th></th>\n",
       "      <th>aligned_len</th>\n",
       "      <th>aligned_species</th>\n",
       "      <th>chr</th>\n",
       "      <th>end</th>\n",
       "      <th>id_lineages</th>\n",
       "      <th>indels</th>\n",
       "      <th>informativeness</th>\n",
       "      <th>seqid</th>\n",
       "      <th>snvs</th>\n",
       "      <th>start</th>\n",
       "      <th>...</th>\n",
       "      <th>target_snvs</th>\n",
       "      <th>target_start</th>\n",
       "      <th>unid_species</th>\n",
       "      <th>exon</th>\n",
       "      <th>gene</th>\n",
       "      <th>intron</th>\n",
       "      <th>mRNA</th>\n",
       "      <th>repeat</th>\n",
       "      <th>utr</th>\n",
       "      <th>id lineage proportion</th>\n",
       "    </tr>\n",
       "  </thead>\n",
       "  <tbody>\n",
       "    <tr>\n",
       "      <th>658</th>\n",
       "      <td>286</td>\n",
       "      <td>21</td>\n",
       "      <td>UNKN</td>\n",
       "      <td>31857759</td>\n",
       "      <td>17</td>\n",
       "      <td>6</td>\n",
       "      <td>0.809524</td>\n",
       "      <td>AgamP3.chrUNKN</td>\n",
       "      <td>43</td>\n",
       "      <td>31857478</td>\n",
       "      <td>...</td>\n",
       "      <td>24</td>\n",
       "      <td>31857533</td>\n",
       "      <td>[{AquaS1, AmelC1, AgamP3}, {AgamM1, AgamS1}, {...</td>\n",
       "      <td>None</td>\n",
       "      <td>None</td>\n",
       "      <td>None</td>\n",
       "      <td>None</td>\n",
       "      <td>None</td>\n",
       "      <td>None</td>\n",
       "      <td>0.809524</td>\n",
       "    </tr>\n",
       "    <tr>\n",
       "      <th>659</th>\n",
       "      <td>254</td>\n",
       "      <td>21</td>\n",
       "      <td>UNKN</td>\n",
       "      <td>31857857</td>\n",
       "      <td>15</td>\n",
       "      <td>76</td>\n",
       "      <td>0.714286</td>\n",
       "      <td>AgamP3.chrUNKN</td>\n",
       "      <td>23</td>\n",
       "      <td>31857641</td>\n",
       "      <td>...</td>\n",
       "      <td>5</td>\n",
       "      <td>31857754</td>\n",
       "      <td>[{AmerM1, AgamP3, AaraD1, AgamM1, AquaS1, Agam...</td>\n",
       "      <td>None</td>\n",
       "      <td>None</td>\n",
       "      <td>None</td>\n",
       "      <td>None</td>\n",
       "      <td>None</td>\n",
       "      <td>None</td>\n",
       "      <td>0.714286</td>\n",
       "    </tr>\n",
       "    <tr>\n",
       "      <th>660</th>\n",
       "      <td>200</td>\n",
       "      <td>19</td>\n",
       "      <td>UNKN</td>\n",
       "      <td>31943559</td>\n",
       "      <td>17</td>\n",
       "      <td>99</td>\n",
       "      <td>0.894737</td>\n",
       "      <td>AgamP3.chrUNKN</td>\n",
       "      <td>18</td>\n",
       "      <td>31943410</td>\n",
       "      <td>...</td>\n",
       "      <td>16</td>\n",
       "      <td>31943447</td>\n",
       "      <td>[{AgamM1, AgamP3}, {AsteI2, AsteS1}]</td>\n",
       "      <td>None</td>\n",
       "      <td>None</td>\n",
       "      <td>None</td>\n",
       "      <td>None</td>\n",
       "      <td>None</td>\n",
       "      <td>None</td>\n",
       "      <td>0.894737</td>\n",
       "    </tr>\n",
       "    <tr>\n",
       "      <th>661</th>\n",
       "      <td>217</td>\n",
       "      <td>17</td>\n",
       "      <td>UNKN</td>\n",
       "      <td>33274168</td>\n",
       "      <td>13</td>\n",
       "      <td>117</td>\n",
       "      <td>0.764706</td>\n",
       "      <td>AgamP3.chrUNKN</td>\n",
       "      <td>14</td>\n",
       "      <td>33274010</td>\n",
       "      <td>...</td>\n",
       "      <td>11</td>\n",
       "      <td>33274053</td>\n",
       "      <td>[{AgamM1, AmelC1, AaraD1, AgamS1}, {AsteI2, As...</td>\n",
       "      <td>None</td>\n",
       "      <td>None</td>\n",
       "      <td>None</td>\n",
       "      <td>None</td>\n",
       "      <td>None</td>\n",
       "      <td>None</td>\n",
       "      <td>0.764706</td>\n",
       "    </tr>\n",
       "    <tr>\n",
       "      <th>662</th>\n",
       "      <td>279</td>\n",
       "      <td>13</td>\n",
       "      <td>UNKN</td>\n",
       "      <td>38751330</td>\n",
       "      <td>10</td>\n",
       "      <td>153</td>\n",
       "      <td>0.769231</td>\n",
       "      <td>AgamP3.chrUNKN</td>\n",
       "      <td>30</td>\n",
       "      <td>38751128</td>\n",
       "      <td>...</td>\n",
       "      <td>24</td>\n",
       "      <td>38751177</td>\n",
       "      <td>[{AgamM1, AaraD1, AgamS1}, {AsteI2, AsteS1}]</td>\n",
       "      <td>None</td>\n",
       "      <td>None</td>\n",
       "      <td>None</td>\n",
       "      <td>None</td>\n",
       "      <td>None</td>\n",
       "      <td>None</td>\n",
       "      <td>0.769231</td>\n",
       "    </tr>\n",
       "  </tbody>\n",
       "</table>\n",
       "<p>5 rows × 23 columns</p>\n",
       "</div>"
      ],
      "text/plain": [
       "     aligned_len  aligned_species   chr       end  id_lineages  indels  \\\n",
       "658          286               21  UNKN  31857759           17       6   \n",
       "659          254               21  UNKN  31857857           15      76   \n",
       "660          200               19  UNKN  31943559           17      99   \n",
       "661          217               17  UNKN  33274168           13     117   \n",
       "662          279               13  UNKN  38751330           10     153   \n",
       "\n",
       "     informativeness           seqid  snvs     start          ...           \\\n",
       "658         0.809524  AgamP3.chrUNKN    43  31857478          ...            \n",
       "659         0.714286  AgamP3.chrUNKN    23  31857641          ...            \n",
       "660         0.894737  AgamP3.chrUNKN    18  31943410          ...            \n",
       "661         0.764706  AgamP3.chrUNKN    14  33274010          ...            \n",
       "662         0.769231  AgamP3.chrUNKN    30  38751128          ...            \n",
       "\n",
       "     target_snvs  target_start  \\\n",
       "658           24      31857533   \n",
       "659            5      31857754   \n",
       "660           16      31943447   \n",
       "661           11      33274053   \n",
       "662           24      38751177   \n",
       "\n",
       "                                          unid_species  exon  gene intron  \\\n",
       "658  [{AquaS1, AmelC1, AgamP3}, {AgamM1, AgamS1}, {...  None  None   None   \n",
       "659  [{AmerM1, AgamP3, AaraD1, AgamM1, AquaS1, Agam...  None  None   None   \n",
       "660               [{AgamM1, AgamP3}, {AsteI2, AsteS1}]  None  None   None   \n",
       "661  [{AgamM1, AmelC1, AaraD1, AgamS1}, {AsteI2, As...  None  None   None   \n",
       "662       [{AgamM1, AaraD1, AgamS1}, {AsteI2, AsteS1}]  None  None   None   \n",
       "\n",
       "     mRNA repeat   utr id lineage proportion  \n",
       "658  None   None  None              0.809524  \n",
       "659  None   None  None              0.714286  \n",
       "660  None   None  None              0.894737  \n",
       "661  None   None  None              0.764706  \n",
       "662  None   None  None              0.769231  \n",
       "\n",
       "[5 rows x 23 columns]"
      ]
     },
     "execution_count": 289,
     "metadata": {},
     "output_type": "execute_result"
    }
   ],
   "source": [
    "# final formatting changes (only column-wise)\n",
    "meta_nonrep['id lineage proportion'] = meta_nonrep.id_lineages / meta_nonrep.aligned_species\n",
    "meta_nonrep.reset_index(drop=True, inplace=True)\n",
    "meta_nonrep.drop(columns=['alignment'], inplace=True)\n",
    "meta_nonrep.tail()"
   ]
  },
  {
   "cell_type": "code",
   "execution_count": 290,
   "metadata": {},
   "outputs": [],
   "source": [
    "meta_nonrep.to_csv(META_FILE)"
   ]
  }
 ],
 "metadata": {
  "kernelspec": {
   "display_name": "Python 3",
   "language": "python",
   "name": "python3"
  },
  "language_info": {
   "codemirror_mode": {
    "name": "ipython",
    "version": 3
   },
   "file_extension": ".py",
   "mimetype": "text/x-python",
   "name": "python",
   "nbconvert_exporter": "python",
   "pygments_lexer": "ipython3",
   "version": "3.6.7"
  }
 },
 "nbformat": 4,
 "nbformat_minor": 2
}
