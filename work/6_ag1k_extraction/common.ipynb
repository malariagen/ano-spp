{
 "cells": [
  {
   "cell_type": "markdown",
   "metadata": {},
   "source": [
    "Common libs and constants for Ag1000g data analysis"
   ]
  },
  {
   "cell_type": "code",
   "execution_count": 1,
   "metadata": {},
   "outputs": [
    {
     "data": {
      "text/plain": [
       "('1.2.1', '2.3.2')"
      ]
     },
     "execution_count": 1,
     "metadata": {},
     "output_type": "execute_result"
    }
   ],
   "source": [
    "from scipy.spatial.distance import pdist, cdist\n",
    "import matplotlib.pyplot as plt\n",
    "import seaborn as sns\n",
    "import pandas as pd\n",
    "import numpy as np\n",
    "import itertools\n",
    "import scipy\n",
    "import allel\n",
    "import zarr\n",
    "import sys\n",
    "import os\n",
    "allel.__version__, zarr.__version__"
   ]
  },
  {
   "cell_type": "code",
   "execution_count": 2,
   "metadata": {},
   "outputs": [],
   "source": [
    "# ag1k data files\n",
    "# newer zarr does not have sample metadata\n",
    "# HAPS_ZARR = '../../../data/ag1k/ag1000g.phase2.ar1.haplotypes/'\n",
    "HAPS_ZARR = '../../../data/ag1k/haplotypes/'\n",
    "HAPS_X_ZARR = '../../../data/ag1k/haplotypes_X/'\n",
    "SAMPLE_META = '../../../data/ag1k/phase2_samples.meta.txt'\n",
    "# panel\n",
    "PANEL = '../../data/panel_extended_info.csv'\n",
    "# mosquito amplicons\n",
    "AMPLS = [str(i) for i in range(62)]\n",
    "# outputs\n",
    "WD = '../../../data/phylo_ampl_ag1k_hap/'\n",
    "AMPL_HAP_ZARR = os.path.join(WD, 'ampl_hap')\n",
    "WSP_VAR_FILE = 'data/1_wsp_var.csv'"
   ]
  },
  {
   "cell_type": "code",
   "execution_count": 3,
   "metadata": {},
   "outputs": [],
   "source": [
    "! mkdir -p {AMPL_HAP_ZARR}\n",
    "! mkdir -p 'data'"
   ]
  },
  {
   "cell_type": "code",
   "execution_count": 4,
   "metadata": {},
   "outputs": [
    {
     "data": {
      "text/plain": [
       "Index(['ID', 'SeekDeep_ID', 'SNP', 'F', 'R', 'chr', 'start', 'end', 'F_deg',\n",
       "       'R_deg', 'identical_seq', 'idenified_lineages', 'aligned_spp',\n",
       "       'unaligned_spp', 'aligned_ampl_length', 'agam_ampl_length',\n",
       "       'aligned_insert_length', 'agam_insert_length', 'total_snvs',\n",
       "       'total_indels', 'insert_snvs', 'insert_indels', 'prop_id_lineages',\n",
       "       'exon', 'gene', 'intron', 'mRNA', 'repeat', 'utr', 'AaegL5_identity',\n",
       "       'AaegL5_q_span', 'AaegL5_s_span', 'AgamP3_identity', 'AgamP3_q_span',\n",
       "       'AgamP3_s_span', 'BDGP6_identity', 'BDGP6_q_span', 'BDGP6_s_span',\n",
       "       'CpipJ2_identity', 'CpipJ2_q_span', 'CpipJ2_s_span', 'Comments',\n",
       "       'Outgroup ampl', 'start_insert', 'end_insert'],\n",
       "      dtype='object')"
      ]
     },
     "execution_count": 4,
     "metadata": {},
     "output_type": "execute_result"
    }
   ],
   "source": [
    "# read amplicon data\n",
    "panel = pd.read_csv(PANEL)\n",
    "# get insert coordinates - variation in primers is not picked up by sequencing\n",
    "panel['start_insert'] = panel.start + panel.F.str.len()\n",
    "panel['end_insert'] = panel.end - panel.R.str.len()\n",
    "# remove plasmodium primers from consideration\n",
    "panel_mosquito = panel[panel['Primary_ID'].isin(AMPLS)].set_index('Primary_ID')\n",
    "panel_mosquito.columns"
   ]
  },
  {
   "cell_type": "code",
   "execution_count": 5,
   "metadata": {},
   "outputs": [
    {
     "data": {
      "text/plain": [
       "Index(['ox_code', 'src_code', 'population', 'country', 'location', 'site',\n",
       "       'contributor', 'contact', 'year', 'm_s', 'sex', 'n_sequences',\n",
       "       'mean_coverage', 'ebi_sample_acc', 'latitude', 'longitude'],\n",
       "      dtype='object')"
      ]
     },
     "execution_count": 5,
     "metadata": {},
     "output_type": "execute_result"
    }
   ],
   "source": [
    "# read samples metadata\n",
    "samples = pd.read_csv(SAMPLE_META, delimiter='\\t')\n",
    "samples.columns"
   ]
  },
  {
   "cell_type": "code",
   "execution_count": 6,
   "metadata": {},
   "outputs": [
    {
     "data": {
      "text/plain": [
       "gabmiae     654\n",
       "coluzzii    283\n",
       "unknown     204\n",
       "hybrid        1\n",
       "Name: species, dtype: int64"
      ]
     },
     "execution_count": 6,
     "metadata": {},
     "output_type": "execute_result"
    }
   ],
   "source": [
    "# species\n",
    "ms_sp = {\n",
    " 'M':'coluzzii',\n",
    " 'S':'gambiae',\n",
    " 'M/S':'hybrid'}\n",
    "samples['species'] = samples.m_s.replace(ms_sp)\n",
    "# add unknown species for missing M/S values - applicable to Kenya\n",
    "samples['species'] = samples.species.fillna('unknown')\n",
    "samples.species.value_counts()"
   ]
  },
  {
   "cell_type": "code",
   "execution_count": 7,
   "metadata": {},
   "outputs": [
    {
     "data": {
      "text/plain": [
       "Cameroon coluzzii            297\n",
       "Uganda gambiae               112\n",
       "Burkina gambiae               92\n",
       "Guinea-Bissau                 91\n",
       "Angola coluzzii               78\n",
       "Burkina coluzzii              75\n",
       "Côte d'Ivoire coluzzii        71\n",
       "Gabon gambiae                 69\n",
       "Gambia                        65\n",
       "Ghana coluzzii                55\n",
       "Kenya                         48\n",
       "Guinea gambiae                40\n",
       "Mayotte gambiae               24\n",
       "Ghana gambiae                 12\n",
       "Equatorial Guinea gambiae      9\n",
       "Guinea colizzii                4\n",
       "Name: pop_long, dtype: int64"
      ]
     },
     "execution_count": 7,
     "metadata": {},
     "output_type": "execute_result"
    }
   ],
   "source": [
    "# populations\n",
    "populations = {\n",
    "    'AOcol': 'Angola coluzzii',\n",
    "    'GHcol': 'Ghana coluzzii',\n",
    "    'BFcol': 'Burkina coluzzii',\n",
    "    'CIcol': 'Côte d\\'Ivoire coluzzii',\n",
    "    'GNcol': 'Guinea colizzii',\n",
    "    'CMgam': 'Cameroon coluzzii',\n",
    "    'GHgam': 'Ghana gambiae',\n",
    "    'BFgam': 'Burkina gambiae',\n",
    "    'GNgam': 'Guinea gambiae',\n",
    "    'GW': 'Guinea-Bissau',\n",
    "    'GM': 'Gambia',\n",
    "    'GAgam': 'Gabon gambiae',\n",
    "    'UGgam': 'Uganda gambiae',\n",
    "    'FRgam': 'Mayotte gambiae',\n",
    "    'GQgam': 'Equatorial Guinea gambiae',\n",
    "    'KE': 'Kenya',\n",
    "}\n",
    "samples['pop_long'] = samples.population.replace(populations)\n",
    "samples.pop_long.value_counts()"
   ]
  },
  {
   "cell_type": "code",
   "execution_count": 8,
   "metadata": {},
   "outputs": [],
   "source": [
    "# population colours\n",
    "reds = sns.color_palette('Reds', 5)\n",
    "blues = sns.color_palette('Blues', 4)\n",
    "greens = sns.color_palette('Greens', 2)\n",
    "browns = sns.color_palette('YlOrBr', 4)\n",
    "purples = sns.color_palette('Purples', 2)\n",
    "greys = sns.color_palette('Greys', 3)\n",
    "pop_colors = {\n",
    "    'Angola coluzzii': reds[4],\n",
    "    'Ghana coluzzii': reds[3],\n",
    "    'Burkina coluzzii': reds[2],\n",
    "    'Côte d\\'Ivoire coluzzii': reds[1],\n",
    "    'Guinea coluzzii': reds[0],\n",
    "    'Cameroon colizzii': blues[3],\n",
    "    'Ghana gambiae': blues[2],\n",
    "    'Burkina gambiae': blues[1],\n",
    "    'Guinea gambiae': blues[0],\n",
    "    'Guinea-Bissau': browns[1],\n",
    "    'Gambia': browns[2],\n",
    "    'Gabon gambiae': greens[1],\n",
    "    'Uganda gambiae': greens[0],\n",
    "    'Mayotte gambiae': purples[1],\n",
    "    'Equatorial Guinea gambiae': purples[0],\n",
    "    'Kenya': greys[1],\n",
    "}"
   ]
  },
  {
   "cell_type": "code",
   "execution_count": null,
   "metadata": {},
   "outputs": [],
   "source": []
  }
 ],
 "metadata": {
  "kernelspec": {
   "display_name": "Python 3",
   "language": "python",
   "name": "python3"
  },
  "language_info": {
   "codemirror_mode": {
    "name": "ipython",
    "version": 3
   },
   "file_extension": ".py",
   "mimetype": "text/x-python",
   "name": "python",
   "nbconvert_exporter": "python",
   "pygments_lexer": "ipython3",
   "version": "3.7.6"
  }
 },
 "nbformat": 4,
 "nbformat_minor": 2
}
