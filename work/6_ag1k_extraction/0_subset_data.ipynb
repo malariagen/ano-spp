{
 "cells": [
  {
   "cell_type": "code",
   "execution_count": null,
   "metadata": {},
   "outputs": [],
   "source": []
  },
  {
   "cell_type": "code",
   "execution_count": 1,
   "metadata": {},
   "outputs": [],
   "source": [
    "%run common.ipynb"
   ]
  },
  {
   "cell_type": "code",
   "execution_count": 2,
   "metadata": {},
   "outputs": [],
   "source": [
    "# read callsets\n",
    "callset_a = zarr.open(HAPS_ZARR, mode='r')\n",
    "callset_x = zarr.open(HAPS_X_ZARR, mode='r')"
   ]
  },
  {
   "cell_type": "code",
   "execution_count": 3,
   "metadata": {},
   "outputs": [
    {
     "data": {
      "text/html": [
       "<link rel=\"stylesheet\" href=\"//cdnjs.cloudflare.com/ajax/libs/jstree/3.3.3/themes/default/style.min.css\"/><div id=\"f8d0113b-9135-41de-a77f-9ab09c88c2ff\" class=\"zarr-tree\"><ul><li data-jstree='{\"type\": \"Group\"}' class='jstree-open'><span>2L</span><ul><li data-jstree='{\"type\": \"Group\"}' class=''><span>calldata</span><ul><li data-jstree='{\"type\": \"Array\"}' class=''><span>genotype (8906423, 1164, 2) int8</span></li></ul></li><li data-jstree='{\"type\": \"Array\"}' class=''><span>samples (1164,) |S8</span></li><li data-jstree='{\"type\": \"Group\"}' class=''><span>variants</span><ul><li data-jstree='{\"type\": \"Array\"}' class=''><span>ALT (8906423,) |S1</span></li><li data-jstree='{\"type\": \"Array\"}' class=''><span>ID (8906423,) |S8</span></li><li data-jstree='{\"type\": \"Array\"}' class=''><span>POS (8906423,) int32</span></li><li data-jstree='{\"type\": \"Array\"}' class=''><span>REF (8906423,) |S1</span></li></ul></li></ul></li></ul></div>\n",
       "<script>\n",
       "    if (!require.defined('jquery')) {\n",
       "        require.config({\n",
       "            paths: {\n",
       "                jquery: '//cdnjs.cloudflare.com/ajax/libs/jquery/1.12.1/jquery.min'\n",
       "            },\n",
       "        });\n",
       "    }\n",
       "    if (!require.defined('jstree')) {\n",
       "        require.config({\n",
       "            paths: {\n",
       "                jstree: '//cdnjs.cloudflare.com/ajax/libs/jstree/3.3.3/jstree.min'\n",
       "            },\n",
       "        });\n",
       "    }\n",
       "    require(['jstree'], function() {\n",
       "        $('#f8d0113b-9135-41de-a77f-9ab09c88c2ff').jstree({\n",
       "            types: {\n",
       "                Group: {\n",
       "                    icon: \"fa fa-folder\"\n",
       "                },\n",
       "                Array: {\n",
       "                    icon: \"fa fa-table\"\n",
       "                }\n",
       "            },\n",
       "            plugins: [\"types\"]\n",
       "        });\n",
       "    });\n",
       "</script>\n"
      ],
      "text/plain": [
       "2L\n",
       " ├── calldata\n",
       " │   └── genotype (8906423, 1164, 2) int8\n",
       " ├── samples (1164,) |S8\n",
       " └── variants\n",
       "     ├── ALT (8906423,) |S1\n",
       "     ├── ID (8906423,) |S8\n",
       "     ├── POS (8906423,) int32\n",
       "     └── REF (8906423,) |S1"
      ]
     },
     "execution_count": 3,
     "metadata": {},
     "output_type": "execute_result"
    }
   ],
   "source": [
    "callset_a['2L'].tree()"
   ]
  },
  {
   "cell_type": "markdown",
   "metadata": {},
   "source": [
    "# Consolidate sample sets"
   ]
  },
  {
   "cell_type": "code",
   "execution_count": 4,
   "metadata": {},
   "outputs": [
    {
     "data": {
      "text/plain": [
       "(1142,)"
      ]
     },
     "execution_count": 4,
     "metadata": {},
     "output_type": "execute_result"
    }
   ],
   "source": [
    "# metadata\n",
    "# samples\n",
    "s_samples = samples.ox_code\n",
    "s_samples.shape"
   ]
  },
  {
   "cell_type": "code",
   "execution_count": 7,
   "metadata": {},
   "outputs": [
    {
     "data": {
      "text/plain": [
       "(1164,)"
      ]
     },
     "execution_count": 7,
     "metadata": {},
     "output_type": "execute_result"
    }
   ],
   "source": [
    "# haplotype data\n",
    "# extract autosomal samples from a single chromosome\n",
    "a_samples = pd.Series(callset_a['2L/samples'], dtype=str)\n",
    "a_samples.shape"
   ]
  },
  {
   "cell_type": "code",
   "execution_count": 8,
   "metadata": {},
   "outputs": [
    {
     "data": {
      "text/plain": [
       "1142"
      ]
     },
     "execution_count": 8,
     "metadata": {},
     "output_type": "execute_result"
    }
   ],
   "source": [
    "# all samples with metadata exist in autosomal haplotypes\n",
    "a_in_s = a_samples.isin(samples.ox_code)\n",
    "a_in_s.sum()"
   ]
  },
  {
   "cell_type": "code",
   "execution_count": 9,
   "metadata": {},
   "outputs": [
    {
     "data": {
      "text/plain": [
       "1142    AD0142-C\n",
       "1143    AD0143-C\n",
       "1144    AD0231-C\n",
       "1145    AD0232-C\n",
       "1146    AD0254-C\n",
       "1147    AD0255-C\n",
       "1148    AD0277-C\n",
       "1149    AD0278-C\n",
       "1150    AD0305-C\n",
       "1151    AD0306-C\n",
       "1152    AD0324-C\n",
       "1153    AD0325-C\n",
       "1154    AD0347-C\n",
       "1155    AD0348-C\n",
       "1156    AD0371-C\n",
       "1157    AD0372-C\n",
       "1158    AD0422-C\n",
       "1159    AD0423-C\n",
       "1160    AD0447-C\n",
       "1161    AD0448-C\n",
       "1162    AD0473-C\n",
       "1163    AD0474-C\n",
       "dtype: object"
      ]
     },
     "execution_count": 9,
     "metadata": {},
     "output_type": "execute_result"
    }
   ],
   "source": [
    "# autosomal haplotypes not in metadata - terminal part\n",
    "# will be excluded\n",
    "a_samples[~a_in_s]"
   ]
  },
  {
   "cell_type": "code",
   "execution_count": 10,
   "metadata": {},
   "outputs": [
    {
     "data": {
      "text/plain": [
       "(1099,)"
      ]
     },
     "execution_count": 10,
     "metadata": {},
     "output_type": "execute_result"
    }
   ],
   "source": [
    "# extract X-chromosome samples from a single chromosome\n",
    "x_samples = pd.Series(callset_x['X']['samples'], dtype=str)\n",
    "x_samples.shape"
   ]
  },
  {
   "cell_type": "code",
   "execution_count": 11,
   "metadata": {},
   "outputs": [
    {
     "data": {
      "text/plain": [
       "1058"
      ]
     },
     "execution_count": 11,
     "metadata": {},
     "output_type": "execute_result"
    }
   ],
   "source": [
    "# some samples are not in metadata\n",
    "x_in_s = x_samples.isin(s_samples)\n",
    "x_in_s.sum()"
   ]
  },
  {
   "cell_type": "code",
   "execution_count": 13,
   "metadata": {},
   "outputs": [
    {
     "data": {
      "text/plain": [
       "1058    AB9001-Y\n",
       "1059    AB9002-Y\n",
       "1060    AB9003-Y\n",
       "1061    AB9004-Y\n",
       "1062    AB9005-Y\n",
       "1063    AB9006-Y\n",
       "1064    AB9007-Y\n",
       "1065    AB9008-Y\n",
       "1066    AB9009-Y\n",
       "1067    AB9010-Y\n",
       "1068    AB9011-Y\n",
       "1069    AB9012-Y\n",
       "1070    AB9013-Y\n",
       "1071    AN9014-Y\n",
       "1072    AN9015-Y\n",
       "1073    AN9016-Y\n",
       "1074    AN9017-Y\n",
       "1075    AN9018-Y\n",
       "1076    AN9019-Y\n",
       "1077    AN9020-Y\n",
       "1078    AN9021-Y\n",
       "1079    AN9022-Y\n",
       "1080    AN9023-Y\n",
       "1081    AN9024-Y\n",
       "1082    AN9025-Y\n",
       "1083    AN9026-Y\n",
       "1084    AN9027-Y\n",
       "1085    AN9028-Y\n",
       "1086    AN9029-Y\n",
       "1087    AN9030-Y\n",
       "1088    AN9031-Y\n",
       "1089    AN9032-Y\n",
       "1090    AN9033-Y\n",
       "1091    AN9034-Y\n",
       "1092    AN9035-Y\n",
       "1093    AP9036-Y\n",
       "1094    AP9037-Y\n",
       "1095    AP9038-Y\n",
       "1096    AP9039-Y\n",
       "1097    AP9040-Y\n",
       "1098    AP9041-Y\n",
       "dtype: object"
      ]
     },
     "execution_count": 13,
     "metadata": {},
     "output_type": "execute_result"
    }
   ],
   "source": [
    "# X-chromosomal haplotypes not in metadata - terminal part\n",
    "# will be excluded\n",
    "x_samples[~x_in_s]"
   ]
  },
  {
   "cell_type": "code",
   "execution_count": 14,
   "metadata": {},
   "outputs": [
    {
     "data": {
      "text/plain": [
       "CMgam    44\n",
       "BFgam    25\n",
       "FRgam    12\n",
       "BFcol     3\n",
       "Name: population, dtype: int64"
      ]
     },
     "execution_count": 14,
     "metadata": {},
     "output_type": "execute_result"
    }
   ],
   "source": [
    "# metadata samples not included in X haplotypes\n",
    "# is distributed across different populations\n",
    "s_in_x = s_samples.isin(x_samples)\n",
    "samples.loc[~s_in_x, 'population'].value_counts()"
   ]
  },
  {
   "cell_type": "markdown",
   "metadata": {},
   "source": [
    "# Extract data for amplicon inserts"
   ]
  },
  {
   "cell_type": "code",
   "execution_count": 20,
   "metadata": {},
   "outputs": [],
   "source": [
    "# set up initial sample masks\n",
    "slice_autosomal = slice(0,1142)\n",
    "slice_x = slice(0,1058)"
   ]
  },
  {
   "cell_type": "code",
   "execution_count": 25,
   "metadata": {},
   "outputs": [
    {
     "name": "stdout",
     "output_type": "stream",
     "text": [
      "Processing 61...\n",
      "Done!\n"
     ]
    }
   ],
   "source": [
    "! rm -rf {AMPL_HAP_ZARR}\n",
    "root = zarr.open_group(AMPL_HAP_ZARR, \"a\")\n",
    "\n",
    "for i, r in panel_mosquito.iterrows():\n",
    "    \n",
    "    # amplicon data\n",
    "    name = r.name\n",
    "    chrom = r['chr']\n",
    "    start = r['start_insert']\n",
    "    end = r['end_insert']\n",
    "    \n",
    "    os.sys.stdout.write('\\rProcessing {}...'.format(name))\n",
    "    \n",
    "    # read whole chromosome zarr\n",
    "    if chrom == 'X':\n",
    "        calldata = callset_x['X']\n",
    "    else:\n",
    "        calldata = callset_a[chrom]\n",
    "    \n",
    "    # select amplicon positions in original arrays\n",
    "    in_ampl = (calldata['variants/POS'][:] >= start) & (calldata['variants/POS'][:] <= end)\n",
    "    in_ampl = np.where(in_ampl)[0]\n",
    "    # count variants\n",
    "    nvar = in_ampl.shape[0]\n",
    "    # convert amplicon positions to slice for faster access\n",
    "    in_ampl = slice(in_ampl[0], # min start\n",
    "                    in_ampl[-1] + 1) # end to be included\n",
    "    \n",
    "    # create amplicon group\n",
    "    g = root.create_group(name)\n",
    "    \n",
    "    # write samples\n",
    "    sampledata = calldata['samples']\n",
    "    if chrom == 'X':\n",
    "        sampledata = sampledata[slice_x]\n",
    "    else:\n",
    "        sampledata = sampledata[slice_autosomal]\n",
    "    # write with string datatype to avoid conversion on read\n",
    "    g.create_dataset('samples', data=np.array(sampledata, dtype=str))\n",
    "    \n",
    "    # annotations are copied as is\n",
    "    var = g.create_group('variants')\n",
    "    var.create_dataset('POS', data=calldata['variants/POS'][in_ampl], dtype='int32')\n",
    "    var.create_dataset('REF', data=calldata['variants/REF'][in_ampl], dtype='S1')\n",
    "    var.create_dataset('ALT', data=calldata['variants/ALT'][in_ampl], dtype='S1')\n",
    "    \n",
    "    # calldata is subsetted according to sample mapping\n",
    "    call = g.create_group('calldata')\n",
    "    # variation data is aligned to metadata samples\n",
    "    if chrom == 'X':\n",
    "        # remove samples not in meta\n",
    "        genotype_sub = calldata['calldata/genotype'][in_ampl, slice_x, :]\n",
    "        # do not fill the all-missing-data samples\n",
    "#         # template for extended sample list filled with missing data\n",
    "#         genotype_sub = np.full([nvar,\n",
    "#                                 s_samples.shape[0],\n",
    "#                                 2], \n",
    "#                                -1)\n",
    "#         # fill in genotyping data, missing data remains for samples not in X\n",
    "#         genotype_sub[:, s_in_x, :] = genotype_x\n",
    "    else:\n",
    "        # remove samples not in meta\n",
    "        genotype_sub = calldata['calldata/genotype'][in_ampl, slice_autosomal, :]\n",
    "    call.create_dataset('genotype', data=genotype_sub, dtype='int8')\n",
    "    \n",
    "print('\\nDone!')"
   ]
  },
  {
   "cell_type": "markdown",
   "metadata": {},
   "source": [
    "## Explore data"
   ]
  },
  {
   "cell_type": "code",
   "execution_count": 3,
   "metadata": {},
   "outputs": [],
   "source": [
    "callset = zarr.open_group(AMPL_HAP_ZARR, 'r')"
   ]
  },
  {
   "cell_type": "code",
   "execution_count": 10,
   "metadata": {},
   "outputs": [
    {
     "data": {
      "image/png": "[encoded data removed]",
      "text/plain": [
       "<Figure size 1080x288 with 1 Axes>"
      ]
     },
     "metadata": {
      "needs_background": "light"
     },
     "output_type": "display_data"
    }
   ],
   "source": [
    "# total number of samples and heterogygosity\n",
    "fig, ax = plt.subplots(1,1, figsize=(15,4))\n",
    "\n",
    "homs = dict()\n",
    "\n",
    "for ampl in AMPLS:\n",
    "    gt = allel.GenotypeArray(callset[ampl]['calldata/genotype'])\n",
    "    # homozygous if alleles (2) are the same across all variants (0) in sample (1)\n",
    "    is_hom = (gt[:,:,0] == gt[:,:,1]).all(axis=0)\n",
    "    homs[ampl] = is_hom\n",
    "    p1 = ax.bar(ampl, is_hom.sum(), color='g')\n",
    "    p2 = ax.bar(ampl, (is_hom == False).sum(), bottom=is_hom.sum(), color='r')\n",
    "    plt.legend((p1[0], p2[0]), ('Homozygous', 'Heterozygous'))"
   ]
  },
  {
   "cell_type": "code",
   "execution_count": 12,
   "metadata": {},
   "outputs": [
    {
     "data": {
      "text/plain": [
       "0.41496163054664925"
      ]
     },
     "execution_count": 12,
     "metadata": {},
     "output_type": "execute_result"
    }
   ],
   "source": [
    "# average heterozygosity\n",
    "np.mean([(h == False).sum() / h.shape[0] for h in homs.values()])"
   ]
  },
  {
   "cell_type": "code",
   "execution_count": 5,
   "metadata": {},
   "outputs": [
    {
     "data": {
      "image/png": "[encoded data removed]",
      "text/plain": [
       "<Figure size 1080x288 with 1 Axes>"
      ]
     },
     "metadata": {
      "needs_background": "light"
     },
     "output_type": "display_data"
    }
   ],
   "source": [
    "# biallelic vs non-biallelic variants\n",
    "fig, ax = plt.subplots(1,1, figsize=(15,4))\n",
    "\n",
    "for ampl in AMPLS:\n",
    "    gt = allel.GenotypeArray(callset[ampl]['calldata/genotype'])\n",
    "    ac = gt.count_alleles()\n",
    "    biallelic = ac.is_biallelic()\n",
    "    p1 = ax.bar(ampl, biallelic.sum(), color='g')\n",
    "    p2 = ax.bar(ampl, (biallelic == False).sum(), bottom=biallelic.sum(), color='r')\n",
    "    plt.legend((p1[0], p2[0]), ('Biallelic', 'Non-biallelic'))\n",
    "# non-biallelic most likely result from samples missing from X"
   ]
  },
  {
   "cell_type": "code",
   "execution_count": 6,
   "metadata": {},
   "outputs": [
    {
     "data": {
      "image/png": "[encoded data removed]",
      "text/plain": [
       "<Figure size 1080x288 with 1 Axes>"
      ]
     },
     "metadata": {
      "needs_background": "light"
     },
     "output_type": "display_data"
    }
   ],
   "source": [
    "# get segregating vs non-segregaing variants\n",
    "fig, ax = plt.subplots(1,1, figsize=(15,4))\n",
    "\n",
    "for ampl in AMPLS:\n",
    "    gt = allel.GenotypeArray(callset[ampl]['calldata/genotype'])\n",
    "    ac = gt.count_alleles()\n",
    "    # segregating - biallelic & minor allele count over one\n",
    "    segregating = (ac.max_allele() == 1) & (ac[:, :2].min(axis=1) > 1)\n",
    "    p1 = ax.bar(ampl, segregating.sum(), color='g')\n",
    "    p2 = ax.bar(ampl, (segregating == False).sum(), bottom=segregating.sum(), color='r')\n",
    "    plt.legend((p1[0], p2[0]), ('Segregating', 'Non-segregating'))\n",
    "    "
   ]
  },
  {
   "cell_type": "code",
   "execution_count": 7,
   "metadata": {},
   "outputs": [
    {
     "data": {
      "image/png": "[encoded data removed]",
      "text/plain": [
       "<Figure size 1080x288 with 1 Axes>"
      ]
     },
     "metadata": {
      "needs_background": "light"
     },
     "output_type": "display_data"
    }
   ],
   "source": [
    "# missing genotypes\n",
    "# all-missing genotype samples on X currently excluded\n",
    "fig, ax = plt.subplots(1,1, figsize=(15,4))\n",
    "\n",
    "for ampl in callset:\n",
    "    gt = allel.GenotypeArray(callset[ampl]['calldata/genotype'])\n",
    "    # missing - non-biallelic calls exist\n",
    "    missing = ((gt.flatten() != 0) & (gt.flatten() != 1)).sum()\n",
    "    p = ax.bar(ampl, missing, color='r')\n",
    "    plt.legend(['Missing'])"
   ]
  },
  {
   "cell_type": "code",
   "execution_count": null,
   "metadata": {},
   "outputs": [],
   "source": []
  }
 ],
 "metadata": {
  "kernelspec": {
   "display_name": "Python 3",
   "language": "python",
   "name": "python3"
  },
  "language_info": {
   "codemirror_mode": {
    "name": "ipython",
    "version": 3
   },
   "file_extension": ".py",
   "mimetype": "text/x-python",
   "name": "python",
   "nbconvert_exporter": "python",
   "pygments_lexer": "ipython3",
   "version": "3.6.7"
  }
 },
 "nbformat": 4,
 "nbformat_minor": 2
}
