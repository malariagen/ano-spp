{
 "cells": [
  {
   "cell_type": "code",
   "execution_count": 1,
   "metadata": {},
   "outputs": [],
   "source": [
    "import numpy as np\n",
    "import pandas as pd\n",
    "import seaborn as sns\n",
    "import matplotlib.pyplot as plt"
   ]
  },
  {
   "cell_type": "code",
   "execution_count": 2,
   "metadata": {},
   "outputs": [],
   "source": [
    "READS = '../../../data/phylo_ampl_dada2/run9/dada2/output/stats.tsv'\n",
    "HAPS = '../../../data/phylo_ampl_dada2/run9/dada2/output/haplotypes.tsv'"
   ]
  },
  {
   "cell_type": "code",
   "execution_count": 3,
   "metadata": {},
   "outputs": [
    {
     "data": {
      "text/html": [
       "<div>\n",
       "<style scoped>\n",
       "    .dataframe tbody tr th:only-of-type {\n",
       "        vertical-align: middle;\n",
       "    }\n",
       "\n",
       "    .dataframe tbody tr th {\n",
       "        vertical-align: top;\n",
       "    }\n",
       "\n",
       "    .dataframe thead th {\n",
       "        text-align: right;\n",
       "    }\n",
       "</style>\n",
       "<table border=\"1\" class=\"dataframe\">\n",
       "  <thead>\n",
       "    <tr style=\"text-align: right;\">\n",
       "      <th></th>\n",
       "      <th>s_Sample</th>\n",
       "      <th>target</th>\n",
       "      <th>input</th>\n",
       "      <th>filtered</th>\n",
       "      <th>denoisedF</th>\n",
       "      <th>denoisedR</th>\n",
       "      <th>merged</th>\n",
       "      <th>nonchim</th>\n",
       "      <th>final</th>\n",
       "    </tr>\n",
       "  </thead>\n",
       "  <tbody>\n",
       "    <tr>\n",
       "      <th>21128</th>\n",
       "      <td>16_9d7</td>\n",
       "      <td>16</td>\n",
       "      <td>182</td>\n",
       "      <td>182</td>\n",
       "      <td>182</td>\n",
       "      <td>182</td>\n",
       "      <td>182</td>\n",
       "      <td>182</td>\n",
       "      <td>182</td>\n",
       "    </tr>\n",
       "  </tbody>\n",
       "</table>\n",
       "</div>"
      ],
      "text/plain": [
       "      s_Sample target  input  filtered  denoisedF  denoisedR  merged  nonchim  \\\n",
       "21128   16_9d7     16    182       182        182        182     182      182   \n",
       "\n",
       "       final  \n",
       "21128    182  "
      ]
     },
     "execution_count": 3,
     "metadata": {},
     "output_type": "execute_result"
    }
   ],
   "source": [
    "reads = pd.read_csv(READS, sep='\\t')\n",
    "reads.sample()"
   ]
  },
  {
   "cell_type": "code",
   "execution_count": 4,
   "metadata": {},
   "outputs": [
    {
     "data": {
      "text/plain": [
       "(51392, 9)"
      ]
     },
     "metadata": {},
     "output_type": "display_data"
    },
    {
     "data": {
      "text/plain": [
       "(51200, 9)"
      ]
     },
     "metadata": {},
     "output_type": "display_data"
    }
   ],
   "source": [
    "# remove original mosquito samples\n",
    "display(reads.shape)\n",
    "reads = reads[~reads.s_Sample.str.startswith('A')]\n",
    "display(reads.shape)"
   ]
  },
  {
   "cell_type": "code",
   "execution_count": 5,
   "metadata": {},
   "outputs": [
    {
     "data": {
      "text/html": [
       "<div>\n",
       "<style scoped>\n",
       "    .dataframe tbody tr th:only-of-type {\n",
       "        vertical-align: middle;\n",
       "    }\n",
       "\n",
       "    .dataframe tbody tr th {\n",
       "        vertical-align: top;\n",
       "    }\n",
       "\n",
       "    .dataframe thead th {\n",
       "        text-align: right;\n",
       "    }\n",
       "</style>\n",
       "<table border=\"1\" class=\"dataframe\">\n",
       "  <thead>\n",
       "    <tr style=\"text-align: right;\">\n",
       "      <th></th>\n",
       "      <th>s_Sample</th>\n",
       "      <th>input</th>\n",
       "      <th>filtered</th>\n",
       "      <th>denoisedF</th>\n",
       "      <th>denoisedR</th>\n",
       "      <th>merged</th>\n",
       "      <th>nonchim</th>\n",
       "      <th>final</th>\n",
       "      <th>target</th>\n",
       "    </tr>\n",
       "  </thead>\n",
       "  <tbody>\n",
       "    <tr>\n",
       "      <th>154</th>\n",
       "      <td>13_0d5</td>\n",
       "      <td>79.983871</td>\n",
       "      <td>79.370968</td>\n",
       "      <td>79.209677</td>\n",
       "      <td>79.274194</td>\n",
       "      <td>78.354839</td>\n",
       "      <td>78.354839</td>\n",
       "      <td>78.048387</td>\n",
       "      <td>M</td>\n",
       "    </tr>\n",
       "  </tbody>\n",
       "</table>\n",
       "</div>"
      ],
      "text/plain": [
       "    s_Sample      input   filtered  denoisedF  denoisedR     merged  \\\n",
       "154   13_0d5  79.983871  79.370968  79.209677  79.274194  78.354839   \n",
       "\n",
       "       nonchim      final target  \n",
       "154  78.354839  78.048387      M  "
      ]
     },
     "execution_count": 5,
     "metadata": {},
     "output_type": "execute_result"
    }
   ],
   "source": [
    "# mean read counts across mosquito targets\n",
    "mr = reads[~reads.target.str.startswith('P')].groupby('s_Sample').mean().reset_index()\n",
    "mr['target'] = 'M'\n",
    "mr.sample()"
   ]
  },
  {
   "cell_type": "code",
   "execution_count": 6,
   "metadata": {},
   "outputs": [
    {
     "data": {
      "text/plain": [
       "(51200, 9)"
      ]
     },
     "metadata": {},
     "output_type": "display_data"
    },
    {
     "data": {
      "text/plain": [
       "(1600, 9)"
      ]
     },
     "metadata": {},
     "output_type": "display_data"
    }
   ],
   "source": [
    "# subset to plasmodium targets only\n",
    "display(reads.shape)\n",
    "reads = reads[reads.target.str.startswith('P')]\n",
    "display(reads.shape)"
   ]
  },
  {
   "cell_type": "code",
   "execution_count": 7,
   "metadata": {},
   "outputs": [
    {
     "data": {
      "text/plain": [
       "(1600, 9)"
      ]
     },
     "metadata": {},
     "output_type": "display_data"
    },
    {
     "data": {
      "text/plain": [
       "(2400, 9)"
      ]
     },
     "metadata": {},
     "output_type": "display_data"
    }
   ],
   "source": [
    "# add averaged mosquito targets\n",
    "display(reads.shape)\n",
    "reads = pd.concat([reads, mr], sort=True)\n",
    "display(reads.shape)"
   ]
  },
  {
   "cell_type": "code",
   "execution_count": 8,
   "metadata": {},
   "outputs": [
    {
     "data": {
      "text/html": [
       "<div>\n",
       "<style scoped>\n",
       "    .dataframe tbody tr th:only-of-type {\n",
       "        vertical-align: middle;\n",
       "    }\n",
       "\n",
       "    .dataframe tbody tr th {\n",
       "        vertical-align: top;\n",
       "    }\n",
       "\n",
       "    .dataframe thead th {\n",
       "        text-align: right;\n",
       "    }\n",
       "</style>\n",
       "<table border=\"1\" class=\"dataframe\">\n",
       "  <thead>\n",
       "    <tr style=\"text-align: right;\">\n",
       "      <th></th>\n",
       "      <th>denoisedF</th>\n",
       "      <th>denoisedR</th>\n",
       "      <th>filtered</th>\n",
       "      <th>final</th>\n",
       "      <th>input</th>\n",
       "      <th>merged</th>\n",
       "      <th>nonchim</th>\n",
       "      <th>s_Sample</th>\n",
       "      <th>target</th>\n",
       "      <th>pool</th>\n",
       "      <th>original_sample</th>\n",
       "    </tr>\n",
       "  </thead>\n",
       "  <tbody>\n",
       "    <tr>\n",
       "      <th>6654</th>\n",
       "      <td>41.0</td>\n",
       "      <td>41.0</td>\n",
       "      <td>41.0</td>\n",
       "      <td>41.0</td>\n",
       "      <td>41.0</td>\n",
       "      <td>41.0</td>\n",
       "      <td>41.0</td>\n",
       "      <td>12_0d4</td>\n",
       "      <td>P1</td>\n",
       "      <td>12</td>\n",
       "      <td>0d4</td>\n",
       "    </tr>\n",
       "  </tbody>\n",
       "</table>\n",
       "</div>"
      ],
      "text/plain": [
       "      denoisedF  denoisedR  filtered  final  input  merged  nonchim s_Sample  \\\n",
       "6654       41.0       41.0      41.0   41.0   41.0    41.0     41.0   12_0d4   \n",
       "\n",
       "     target pool original_sample  \n",
       "6654     P1   12             0d4  "
      ]
     },
     "execution_count": 8,
     "metadata": {},
     "output_type": "execute_result"
    }
   ],
   "source": [
    "# separate pool and original sample\n",
    "p = reads.s_Sample.str.split('_', n=1, expand=True)\n",
    "reads['pool'] = p[0]\n",
    "reads['original_sample'] = p[1]\n",
    "reads.sample()"
   ]
  },
  {
   "cell_type": "code",
   "execution_count": 9,
   "metadata": {},
   "outputs": [],
   "source": [
    "# convert pool to two-digit string\n",
    "reads['pool'] = reads.pool.apply(lambda x: x.zfill(2))"
   ]
  },
  {
   "cell_type": "code",
   "execution_count": 10,
   "metadata": {},
   "outputs": [
    {
     "data": {
      "text/html": [
       "<div>\n",
       "<style scoped>\n",
       "    .dataframe tbody tr th:only-of-type {\n",
       "        vertical-align: middle;\n",
       "    }\n",
       "\n",
       "    .dataframe tbody tr th {\n",
       "        vertical-align: top;\n",
       "    }\n",
       "\n",
       "    .dataframe thead th {\n",
       "        text-align: right;\n",
       "    }\n",
       "</style>\n",
       "<table border=\"1\" class=\"dataframe\">\n",
       "  <thead>\n",
       "    <tr style=\"text-align: right;\">\n",
       "      <th></th>\n",
       "      <th>denoisedF</th>\n",
       "      <th>denoisedR</th>\n",
       "      <th>filtered</th>\n",
       "      <th>final</th>\n",
       "      <th>input</th>\n",
       "      <th>merged</th>\n",
       "      <th>nonchim</th>\n",
       "      <th>s_Sample</th>\n",
       "      <th>target</th>\n",
       "      <th>pool</th>\n",
       "      <th>original_sample</th>\n",
       "      <th>pool_target</th>\n",
       "    </tr>\n",
       "  </thead>\n",
       "  <tbody>\n",
       "    <tr>\n",
       "      <th>487</th>\n",
       "      <td>260.177419</td>\n",
       "      <td>260.177419</td>\n",
       "      <td>260.193548</td>\n",
       "      <td>259.419355</td>\n",
       "      <td>263.903226</td>\n",
       "      <td>259.467742</td>\n",
       "      <td>259.467742</td>\n",
       "      <td>3_ps10e4</td>\n",
       "      <td>M</td>\n",
       "      <td>03</td>\n",
       "      <td>ps10e4</td>\n",
       "      <td>03_M</td>\n",
       "    </tr>\n",
       "  </tbody>\n",
       "</table>\n",
       "</div>"
      ],
      "text/plain": [
       "      denoisedF   denoisedR    filtered       final       input      merged  \\\n",
       "487  260.177419  260.177419  260.193548  259.419355  263.903226  259.467742   \n",
       "\n",
       "        nonchim  s_Sample target pool original_sample pool_target  \n",
       "487  259.467742  3_ps10e4      M   03          ps10e4        03_M  "
      ]
     },
     "execution_count": 10,
     "metadata": {},
     "output_type": "execute_result"
    }
   ],
   "source": [
    "# create pool-target combination\n",
    "reads['pool_target'] = reads['pool'] + '_' + reads['target']\n",
    "reads.sample()"
   ]
  },
  {
   "cell_type": "code",
   "execution_count": 15,
   "metadata": {},
   "outputs": [
    {
     "data": {
      "image/png": "[encoded data removed]",
      "text/plain": [
       "<Figure size 864x864 with 2 Axes>"
      ]
     },
     "metadata": {
      "needs_background": "light"
     },
     "output_type": "display_data"
    }
   ],
   "source": [
    "# heatmap of final reads\n",
    "d = reads.pivot(index='pool_target', columns='original_sample', values='final').replace(0, np.nan)\n",
    "d = np.log10(d)\n",
    "fig, ax = plt.subplots(1,1, figsize=(12,12))\n",
    "sns.heatmap(d, ax=ax, cmap='coolwarm_r', vmin=1)\n",
    "ax.collections[0].colorbar.set_ticks(range(5));"
   ]
  },
  {
   "cell_type": "code",
   "execution_count": null,
   "metadata": {},
   "outputs": [],
   "source": []
  }
 ],
 "metadata": {
  "kernelspec": {
   "display_name": "Python 3",
   "language": "python",
   "name": "python3"
  },
  "language_info": {
   "codemirror_mode": {
    "name": "ipython",
    "version": 3
   },
   "file_extension": ".py",
   "mimetype": "text/x-python",
   "name": "python",
   "nbconvert_exporter": "python",
   "pygments_lexer": "ipython3",
   "version": "3.6.7"
  }
 },
 "nbformat": 4,
 "nbformat_minor": 2
}
