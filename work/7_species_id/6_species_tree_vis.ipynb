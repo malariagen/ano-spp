{
 "cells": [
  {
   "cell_type": "markdown",
   "metadata": {},
   "source": [
    "Visualisation of species tree with interesting taxonomic groups\n",
    "\n",
    "Manual steps: defining species for basal divergence in high-level groups"
   ]
  },
  {
   "cell_type": "code",
   "execution_count": 1,
   "metadata": {},
   "outputs": [],
   "source": [
    "%run common.ipynb"
   ]
  },
  {
   "cell_type": "markdown",
   "metadata": {},
   "source": [
    "# Basic tree manipulations"
   ]
  },
  {
   "cell_type": "code",
   "execution_count": 2,
   "metadata": {},
   "outputs": [],
   "source": [
    "t = ete3.Tree(SPECIES_TREE)\n",
    "x = [leaf.name for leaf in t]\n",
    "# re-shape tree\n",
    "\n",
    "# re-root to Kertezsia\n",
    "t.set_outgroup(t.get_common_ancestor('Anopheles_bellator','Anopheles_cruzii'))\n",
    "# reorder nodes\n",
    "t.ladderize(direction=1)\n",
    "# node appearance\n",
    "ns = ete3.NodeStyle(size=0)\n",
    "for n in t.traverse():\n",
    "    n.set_style(ns)"
   ]
  },
  {
   "cell_type": "markdown",
   "metadata": {},
   "source": [
    "## sequencing data import"
   ]
  },
  {
   "cell_type": "code",
   "execution_count": 3,
   "metadata": {},
   "outputs": [],
   "source": [
    "seq_data = pd.read_csv(CLUSTERING)"
   ]
  },
  {
   "cell_type": "markdown",
   "metadata": {},
   "source": [
    "# Groups definition"
   ]
  },
  {
   "cell_type": "code",
   "execution_count": 4,
   "metadata": {},
   "outputs": [],
   "source": [
    "# read taxonomy\n",
    "c = pd.read_csv(TAXONOMY_FILE)\n",
    "# remove species not included in tree\n",
    "c = c[c.species.isin(x)]"
   ]
  },
  {
   "cell_type": "code",
   "execution_count": 5,
   "metadata": {},
   "outputs": [
    {
     "data": {
      "text/html": [
       "<div>\n",
       "<style scoped>\n",
       "    .dataframe tbody tr th:only-of-type {\n",
       "        vertical-align: middle;\n",
       "    }\n",
       "\n",
       "    .dataframe tbody tr th {\n",
       "        vertical-align: top;\n",
       "    }\n",
       "\n",
       "    .dataframe thead th {\n",
       "        text-align: right;\n",
       "    }\n",
       "</style>\n",
       "<table border=\"1\" class=\"dataframe\">\n",
       "  <thead>\n",
       "    <tr style=\"text-align: right;\">\n",
       "      <th></th>\n",
       "      <th>species</th>\n",
       "      <th>subgenus</th>\n",
       "      <th>section</th>\n",
       "      <th>series</th>\n",
       "      <th>group</th>\n",
       "      <th>subgroup</th>\n",
       "      <th>complex</th>\n",
       "      <th>species_ncbi</th>\n",
       "    </tr>\n",
       "  </thead>\n",
       "  <tbody>\n",
       "    <tr>\n",
       "      <th>11</th>\n",
       "      <td>Anopheles_carnevalei</td>\n",
       "      <td>Cellia</td>\n",
       "      <td>NaN</td>\n",
       "      <td>Neomyzomyia</td>\n",
       "      <td>Ardensis</td>\n",
       "      <td>NaN</td>\n",
       "      <td>Nili</td>\n",
       "      <td>Anopheles carnevalei</td>\n",
       "    </tr>\n",
       "  </tbody>\n",
       "</table>\n",
       "</div>"
      ],
      "text/plain": [
       "                 species subgenus section       series     group subgroup  \\\n",
       "11  Anopheles_carnevalei   Cellia     NaN  Neomyzomyia  Ardensis      NaN   \n",
       "\n",
       "   complex          species_ncbi  \n",
       "11    Nili  Anopheles carnevalei  "
      ]
     },
     "execution_count": 5,
     "metadata": {},
     "output_type": "execute_result"
    }
   ],
   "source": [
    "c[c.species == 'Anopheles_carnevalei']"
   ]
  },
  {
   "cell_type": "code",
   "execution_count": 6,
   "metadata": {},
   "outputs": [],
   "source": [
    "def get_spp(name, rank):\n",
    "    return t.get_common_ancestor(*c.loc[c[rank] == name, 'species'].to_list())\n",
    "\n",
    "# key groups\n",
    "g = {\n",
    "    # subgenera - use basal divergence only\n",
    "    'Kerteszia_subgenus':get_spp('Kerteszia', 'subgenus'),\n",
    "    'Anopheles_subgenus':get_spp('Anopheles', 'subgenus'),\n",
    "    'Nyssorhynchus_subgenus':get_spp('Nyssorhynchus', 'subgenus'),\n",
    "    'Cellia_subgenus':get_spp('Cellia', 'subgenus'),\n",
    "    # series - use basal divergence only\n",
    "    'Myzomyia_series':get_spp('Myzomyia', 'series'),\n",
    "    'Neocellia_series':get_spp('Neocellia', 'series'),\n",
    "    'Pyreto-_phorus_series':get_spp('Pyretophorus', 'series'),\n",
    "    # non-monophyletic series with low support\n",
    "#     'Neomyzomyia_series':get_spp('Neomyzomyia', 'series'),\n",
    "    # groups and complexes - all species in all cases except gambiae complex\n",
    "    'Marshallii_group':get_spp('Marshallii','group'),\n",
    "    'Maculatus_group':get_spp('Maculatus','group'),\n",
    "    'Gambiae_complex':get_spp('Gambiae','complex'),\n",
    "    'Sundaicus_complex':get_spp('Sundaicus','complex'),\n",
    "    # note the disagreement on rank between NCBI and Harbach\n",
    "    'Punctulatus_group':get_spp('Punctulatus','complex'),\n",
    "    'Leucosphyrus_group':get_spp('Leucosphyrus','group'),\n",
    "    # loss of monophyly between nil/car and dur/vin\n",
    "#     'Ardensis_group':get_spp('Ardensis','group'),\n",
    "    'Nili_complex':get_spp('Nili','complex'),\n",
    "    'Coustani_group':get_spp('Coustani','group')\n",
    "}"
   ]
  },
  {
   "cell_type": "markdown",
   "metadata": {},
   "source": [
    "# Tree drawing"
   ]
  },
  {
   "cell_type": "code",
   "execution_count": 7,
   "metadata": {},
   "outputs": [],
   "source": [
    "def group_color(group, color):\n",
    "    for node in group.iter_descendants(\"postorder\"):\n",
    "        node.set_style(ete3.NodeStyle(bgcolor=color, size=0))\n",
    "    group.set_style(ete3.NodeStyle(bgcolor=color, size=0))\n",
    "# background colours\n",
    "# color names from https://stackoverflow.com/questions/22408237/named-colors-in-matplotlib\n",
    "# subgenera\n",
    "# group_color('Celia_subgenus', \"LightSteelBlue\")\n",
    "# group_color('Anopheles_subgenus', \"DarkSeaGreen\")\n",
    "# group_color('Nyssorhynchus_subgenus', \"Khaki\")\n",
    "# group_color('Kertezsia_subgenus', \"PeachPuff\")\n",
    "# series\n",
    "# group_color('Myzomiya_series', \"Silver\")\n",
    "# group_color('Neocellia_series', \"SkyBlue\")\n",
    "# group_color('Pyretophorus_series', \"Gainsboro\")\n",
    "# group_color('Neomyzomia_series', \"PowderBlue\")\n",
    "# group_color('Neomyzomia_2_series', \"PowderBlue\")\n",
    "# groups and complexes - red for unresolved, green for resolved\n",
    "for name, group in g.items():\n",
    "    if ('group' in name) or ('complex' in name):\n",
    "        group_color(group, \"SkyBlue\")\n",
    "\n",
    "group_color(t.get_common_ancestor('Anopheles_gambiae',\n",
    "                                  'Anopheles_coluzzii'), \n",
    "            \"MistyRose\")\n",
    "group_color(t.get_common_ancestor('Anopheles_coustani',\n",
    "                                  'Anopheles_tenebrosus',\n",
    "                                  'Anopheles_paludis',\n",
    "                                  'Anopheles_ziemanni'), \n",
    "            \"MistyRose\")\n",
    "group_color(t.get_common_ancestor('Anopheles_brohieri',\n",
    "                                  'Anopheles_demeilloni',\n",
    "                                  'Anopheles_hancocki'), \n",
    "            \"MistyRose\")"
   ]
  },
  {
   "cell_type": "code",
   "execution_count": 8,
   "metadata": {},
   "outputs": [],
   "source": [
    "# add group names\n",
    "for name, group in g.items():\n",
    "    # species complex\n",
    "    if 'group' in name or 'complex' in name:\n",
    "        fsize=12\n",
    "    # higher level\n",
    "    else:\n",
    "        fsize=14\n",
    "    for s in name.split('_'):#[:2]:\n",
    "        tf = ete3.TextFace(s, fsize=12)\n",
    "        tf.hz_align=1\n",
    "        tf.opacity=0.7\n",
    "        group.add_face(tf, column=0, position='branch-right')"
   ]
  },
  {
   "cell_type": "code",
   "execution_count": 9,
   "metadata": {},
   "outputs": [],
   "source": [
    "# add shapes to leaves\n",
    "# samples per species\n",
    "# sp_samples = pd.read_csv(CLUSTERING).groupby('species')['s_Sample'].unique().to_dict()\n",
    "# for leaf in t.iter_leaves():\n",
    "#     # reference genome samples present in species\n",
    "#     ref_match = [x.startswith('anopheles') for x in sp_samples[leaf.name]]\n",
    "#     # all-reference in species\n",
    "#     if sum(ref_match) == len(ref_match):\n",
    "#         nstyle = ete3.NodeStyle(shape='circle', size=5, fgcolor='DarkBlue')\n",
    "#     # reference genomes present in species\n",
    "#     elif sum(ref_match) > 0:\n",
    "#         nstyle = ete3.NodeStyle(shape='square', size=5, fgcolor='DarkBlue')\n",
    "#     # no reference genomes\n",
    "#     else:\n",
    "#         nstyle = ete3.NodeStyle(shape='circle', size=0, fgcolor='DarkRed')\n",
    "#     leaf.set_style(nstyle)\n",
    "#     # pretty species names\n",
    "    \n",
    "    "
   ]
  },
  {
   "cell_type": "code",
   "execution_count": 10,
   "metadata": {},
   "outputs": [],
   "source": [
    "# remove branch lengths\n",
    "t.convert_to_ultrametric()\n",
    "\n",
    "from ete3 import Tree, faces, AttrFace, TreeStyle, NodeStyle, TextFace\n",
    "\n",
    "# branches and support values\n",
    "def layout(node):\n",
    "    \n",
    "    node.img_style[\"hz_line_width\"] = 2 # Change the horizotal lines stroke size\n",
    "    node.img_style[\"vt_line_width\"] = 2 # Change the vertical lines stroke size\n",
    "    if node.is_leaf():\n",
    "        sp = node.name\n",
    "        pretty_sp = 'An. ' + sp[10:]\n",
    "        sp_samples = seq_data.loc[seq_data.species == sp, 's_Sample'].drop_duplicates()\n",
    "        seq_nsamples = (~sp_samples.str.startswith('anoph')).sum()\n",
    "        ref_nsamples = sp_samples.str.startswith('anoph').sum()\n",
    "        faces.add_face_to_node(TextFace(pretty_sp, fsize=12), \n",
    "                               node, column=0, position='aligned', aligned=True)\n",
    "        faces.add_face_to_node(TextFace(\"{}+\".format(seq_nsamples), fsize=12), \n",
    "                               node, column=1, position='aligned', aligned=True)\n",
    "        faces.add_face_to_node(TextFace(\"{}\".format(ref_nsamples), fsize=12), \n",
    "                               node, column=2, position='aligned', aligned=True)\n",
    "    if not node.is_leaf():\n",
    "        faces.add_face_to_node(AttrFace(\"support\", fsize=8, formatter=\"%g \", fgcolor='darkred'), \n",
    "                      node, position='branch-top', column=0)\n",
    "\n",
    "# tree appearance\n",
    "ts = ete3.TreeStyle()\n",
    "ts.layout_fn = layout\n",
    "ts.show_branch_support = False\n",
    "ts.show_leaf_name = False\n",
    "ts.show_branch_length = False\n",
    "ts.show_scale = False\n",
    "ts.draw_guiding_lines = True\n",
    "ts.guiding_lines_type = 0\n",
    "ts.guiding_lines_color = \"black\"\n",
    "\n",
    "ts.allow_face_overlap = True\n",
    "ts.extra_branch_line_type = 0\n",
    "ts.extra_branch_line_color = \"black\"\n",
    "# t.show(tree_style=ts)\n"
   ]
  },
  {
   "cell_type": "code",
   "execution_count": 11,
   "metadata": {},
   "outputs": [],
   "source": [
    "t.render(SPECIES_TREE_FIG, tree_style=ts, units='in', h=13, dpi=300);"
   ]
  },
  {
   "cell_type": "markdown",
   "metadata": {},
   "source": [
    "# Sample tree"
   ]
  },
  {
   "cell_type": "code",
   "execution_count": 23,
   "metadata": {},
   "outputs": [],
   "source": [
    "# short names for non-standard assemblies\n",
    "shortnames = {\n",
    "    'anopheles-aquasalis-A_aquasalis_v1':'aaquv1',\n",
    "    'anopheles-punctulatus-apwgs2contigsjxxa01':'apunj1',\n",
    "    'anopheles-cracens-ASM209184v1-scaffolds':'acrav1',\n",
    "    'anopheles-koliensis-akwgs3contigsjxxb01':'akolj1',\n",
    "    'anopheles-arabiensis-sharakhov':'aaras1'\n",
    "}\n",
    "\n",
    "t = ete3.Tree(SAMPLE_TREE)\n",
    "t.set_outgroup(t.get_common_ancestor('Abel-SP24','Acru-RS32'))\n",
    "t.ladderize\n",
    "t.ladderize(direction=1)\n",
    "ns = ete3.NodeStyle(size=0)\n",
    "for n in t.traverse():\n",
    "    # shorten names for assemblies\n",
    "    if n.name in shortnames.keys():\n",
    "        n.name = shortnames[n.name]\n",
    "    elif n.name.startswith('anopheles'):\n",
    "        for delim in ('chromosomes', 'scaffolds'):\n",
    "            if delim in n.name:\n",
    "                shortname = n.name.split(delim)[-1]\n",
    "                if len(shortname) > 0:\n",
    "                    n.name = shortname\n",
    "    n.set_style(ns)\n",
    "t.render(SAMPLE_TREE_FIG);"
   ]
  },
  {
   "cell_type": "code",
   "execution_count": null,
   "metadata": {},
   "outputs": [],
   "source": []
  }
 ],
 "metadata": {
  "kernelspec": {
   "display_name": "Python 3",
   "language": "python",
   "name": "python3"
  },
  "language_info": {
   "codemirror_mode": {
    "name": "ipython",
    "version": 3
   },
   "file_extension": ".py",
   "mimetype": "text/x-python",
   "name": "python",
   "nbconvert_exporter": "python",
   "pygments_lexer": "ipython3",
   "version": "3.6.7"
  }
 },
 "nbformat": 4,
 "nbformat_minor": 2
}
