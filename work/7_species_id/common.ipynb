{
 "cells": [
  {
   "cell_type": "code",
   "execution_count": null,
   "metadata": {},
   "outputs": [],
   "source": []
  },
  {
   "cell_type": "code",
   "execution_count": null,
   "metadata": {},
   "outputs": [],
   "source": [
    "from Bio.Phylo.TreeConstruction import DistanceCalculator\n",
    "from Bio import AlignIO\n",
    "import matplotlib.pyplot as plt\n",
    "import seaborn as sns\n",
    "import pandas as pd\n",
    "import numpy as np\n",
    "import itertools\n",
    "import ete3\n",
    "import sys\n",
    "import os "
   ]
  },
  {
   "cell_type": "code",
   "execution_count": null,
   "metadata": {},
   "outputs": [],
   "source": [
    "# editable text in pdf export\n",
    "import matplotlib as mpl\n",
    "mpl.rcParams['pdf.fonttype'] = 42"
   ]
  },
  {
   "cell_type": "code",
   "execution_count": null,
   "metadata": {},
   "outputs": [],
   "source": [
    "PANEL = '../../data/panel_extended_info.csv'\n",
    "\n",
    "# key data files\n",
    "SEQ_FILE = 'data/0_haplotypes.csv'\n",
    "SEQ_META_FILE = 'data/0_samples.csv'\n",
    "TAXONOMY_FILE = 'data/0_taxonomy.csv'\n",
    "REF_FILE = '../4_ref_extraction/data/refs.csv'\n",
    "REF_META_FILE = '../4_ref_extraction/data/samples_ref.csv'\n",
    "\n",
    "# sample and sequencing metadata\n",
    "COMB_SEQ_META = 'data/1_sample_seq.csv'\n",
    "\n",
    "# threholds\n",
    "GC_THRESHOLDS = '../6_ag1k_extraction/data/1_wsp_var.csv'\n",
    "COMB_THRESHOLDS = 'data/2_thresholds.csv'\n",
    "\n",
    "# filters\n",
    "BAD_SAMPLES = 'data/2_bad_samples.csv'\n",
    "OUTLIER_GENOTYPES = 'data/3_outlier_genotypes.csv'\n",
    "SPLIT_ALLELES = 'data/3_split_alleles.csv'\n",
    "\n",
    "# clustering\n",
    "SPP_PRED = 'data/4_spp_predictions.csv'\n",
    "\n",
    "# species tree\n",
    "GENE_TREES = 'data/5_gene_trees.nwk'\n",
    "SPECIES_TREE = 'data/5_species_tree.nwk'\n",
    "SPECIES_TREE_FIG = 'data/6_species_tree.pdf'\n",
    "# sample tree\n",
    "SAMPLE_TREE = 'data/5_sample_tree.nwk'\n",
    "SAMPLE_TREE_FIG = 'data/6_sample_tree.pdf'\n",
    "\n",
    "\n",
    "# whole-genome tree\n",
    "WG_TREE = 'src/neafsey2015_fig1.nwk'\n",
    "WG_TREE_FIG = 'data/7_wg_tree.png'\n",
    "\n",
    "# working files\n",
    "WD = '../../../data/phylo_ampl_dada2/phylo_reduced'\n",
    "ALN_ALL = os.path.join(WD, 'aln_all/{}.fa')\n",
    "COMB_SEQ = os.path.join(WD, 'comb_seq.csv')\n",
    "COMB_META = os.path.join(WD, 'comb_meta.csv')\n",
    "CLUSTERING = os.path.join(WD, 'clustering.csv')\n",
    "SP_TREE_DIR = os.path.join(WD, 'species_tree')\n",
    "MAPPING = os.path.join(SP_TREE_DIR, 'sp-sample_map.txt')\n",
    "SAMPLE_MAPPING = os.path.join(WD, '/5-sample-hap-map.txt')\n",
    "\n",
    "ALN_SP_TREE = os.path.join(SP_TREE_DIR, '{}.fa')\n",
    "\n",
    "\n",
    "# params\n",
    "AMPLS = [str(x) for x in range(62)]"
   ]
  },
  {
   "cell_type": "code",
   "execution_count": null,
   "metadata": {},
   "outputs": [],
   "source": [
    "! mkdir -p {os.path.dirname(ALN_ALL)}"
   ]
  },
  {
   "cell_type": "code",
   "execution_count": null,
   "metadata": {},
   "outputs": [],
   "source": [
    "! mkdir -p {SP_TREE_DIR}"
   ]
  },
  {
   "cell_type": "code",
   "execution_count": null,
   "metadata": {},
   "outputs": [],
   "source": [
    "# read panel\n",
    "panel_data = pd.read_csv(PANEL)\n",
    "# remove non-mosquito amplicons\n",
    "panel_data = panel_data[panel_data.Primary_ID.isin(AMPLS)]\n",
    "# reset index\n",
    "panel_data = panel_data.set_index('Primary_ID')\n",
    "panel_data.columns"
   ]
  }
 ],
 "metadata": {
  "kernelspec": {
   "display_name": "Python 3",
   "language": "python",
   "name": "python3"
  },
  "language_info": {
   "codemirror_mode": {
    "name": "ipython",
    "version": 3
   },
   "file_extension": ".py",
   "mimetype": "text/x-python",
   "name": "python",
   "nbconvert_exporter": "python",
   "pygments_lexer": "ipython3",
   "version": "3.6.7"
  }
 },
 "nbformat": 4,
 "nbformat_minor": 2
}
