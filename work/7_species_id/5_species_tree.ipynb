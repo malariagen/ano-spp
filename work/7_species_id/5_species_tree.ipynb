{
 "cells": [
  {
   "cell_type": "markdown",
   "metadata": {},
   "source": [
    "For filtered dataset - sample filters on, genotype filters off:\n",
    "\n",
    "- generate amplicon (gene) trees for pseudohaploid samples\n",
    "- generate species tree reconciling gene trees\n",
    "\n",
    "Manual steps: none"
   ]
  },
  {
   "cell_type": "code",
   "execution_count": 1,
   "metadata": {},
   "outputs": [],
   "source": [
    "%run common.ipynb"
   ]
  },
  {
   "cell_type": "markdown",
   "metadata": {},
   "source": [
    "## Install and test astral"
   ]
  },
  {
   "cell_type": "code",
   "execution_count": 2,
   "metadata": {},
   "outputs": [],
   "source": [
    "# astral not packaged in conda, install from github\n",
    "# output jar\n",
    "astral = '../../../bin/Astral/astral.5.6.3.jar'\n",
    "# install\n",
    "if not os.path.isfile(astral):\n",
    "    ! wget https://github.com/smirarab/ASTRAL/raw/master/Astral.5.6.3.zip -P {BIN_DIR}\n",
    "    ! unzip {os.path.join(BIN_DIR, 'Astral.5.6.3.zip')} -d {BIN_DIR}\n",
    "    ! rm {os.path.join(BIN_DIR, '*.zip*')}"
   ]
  },
  {
   "cell_type": "code",
   "execution_count": 3,
   "metadata": {},
   "outputs": [
    {
     "name": "stdout",
     "output_type": "stream",
     "text": [
      "\n",
      "================== ASTRAL ===================== \n",
      "\n",
      "This is ASTRAL version 5.6.3\n",
      "Gene trees are treated as unrooted\n",
      "424 trees read from ../../../bin/Astral/test_data/song_primates.424.gene.tre\n",
      "All output trees will be *arbitrarily* rooted at Marmoset\n",
      "\n",
      "======== Running the main analysis\n",
      "Number of taxa: 14 (14 species)\n",
      "Taxa: [Marmoset, Orangutan, Human, Chimpanzee, Gorilla, Macaque, Galago, Mouse_Lemur, Tree_Shrew, Rat, Tarsier, Rabbit, Horse, Sloth]\n",
      "Taxon occupancy: {Human=424, Rat=424, Tarsier=424, Galago=424, Rabbit=424, Macaque=424, Sloth=424, Marmoset=424, Tree_Shrew=424, Chimpanzee=424, Mouse_Lemur=424, Horse=424, Orangutan=424, Gorilla=424}\n",
      "Number of gene trees: 424\n",
      "0 trees have missing taxa\n",
      "Calculating quartet distance matrix (for completion of X)\n",
      "Species tree distances calculated ...\n",
      "Building set of clusters (X) from gene trees \n",
      "------------------------------\n",
      "gradient0: 339\n",
      "Number of Clusters after addition by distance: 339\n",
      "calculating extra bipartitions to be added at level 1 ...\n",
      "Adding to X using resolutions of greedy consensus ...\n",
      "Limit for sigma of degrees:400\n",
      "polytomy size limit : 3\n",
      "discarded polytomies:  [3]\n",
      "Threshold 0.0:\n",
      "Threshold 0.01:\n",
      "Threshold 0.02:\n",
      "Threshold 0.05:\n",
      "Threshold 0.1:\n",
      "Threshold 0.2:\n",
      "Threshold 0.3333333333333333:\n",
      "polytomy of size 3; rounds with additions with at least 5 support: 0; clusters: 339\n",
      "max k is :0\n",
      "Number of Clusters after addition by greedy: 339\n",
      "gradient0 in heuristiic: 339\n",
      "partitions formed in 0.374 secs\n",
      "Dynamic Programming starting after 0.374 secs\n",
      "Using tree-based weight calculation.\n",
      "Using polytree-based weight calculation.\n",
      "Polytree max score: 424424\n",
      "Polytree building time: 0.1 seconds.\n",
      "Number of quartet trees in the gene trees: 424424\n",
      "Size of largest cluster: 14\n",
      "Greedy score: 389226\n",
      "estimationFactor: 1.090430752313566\n",
      "Sub-optimal score: 389226\n",
      "Total Number of elements weighted: 452\n",
      "Normalized score (portion of input quartet trees satisfied before correcting for multiple individuals): 0.9182656965675834\n",
      "Optimization score: 389734\n",
      "Optimal tree inferred in 0.628 secs.\n",
      "(Gorilla,((Human,Chimpanzee),(Orangutan,(Macaque,(Marmoset,(Tarsier,((Galago,Mouse_Lemur),((Horse,Sloth),(Tree_Shrew,(Rat,Rabbit))))))))));\n",
      "Final quartet score is: 389734\n",
      "Final normalized quartet score is: 0.9182656965675834\n",
      "(Marmoset,((Tarsier,((Galago,Mouse_Lemur)1:2.4018020540034675,((Horse,Sloth)1:2.6056351956741435,(Tree_Shrew,(Rat,Rabbit)1:0.8024369743576611)0.92:0.08540838439417373)1:1.9852014529353605)1:0.655284855661726)1:4.260329699696363,(Macaque,(Orangutan,((Human,Chimpanzee)1:0.6408490436022495,Gorilla)1:2.3251916476229617)1:2.5898315305010144)1:2.7005416959060815));\n",
      "(Marmoset,((Tarsier,((Galago,Mouse_Lemur)1:2.4018020540034675,((Horse,Sloth)1:2.6056351956741435,(Tree_Shrew,(Rat,Rabbit)1:0.8024369743576611)0.92:0.08540838439417373)1:1.9852014529353605)1:0.655284855661726)1:4.260329699696363,(Macaque,(Orangutan,((Human,Chimpanzee)1:0.6408490436022495,Gorilla)1:2.3251916476229617)1:2.5898315305010144)1:2.7005416959060815):0.0); \n",
      "Weight calculation took 0.063613435 secs\n",
      "ASTRAL finished in 0.889 secs\n"
     ]
    }
   ],
   "source": [
    "# test installation\n",
    "! java -jar {astral} -i {os.path.dirname(astral)}/test_data/song_primates.424.gene.tre"
   ]
  },
  {
   "cell_type": "markdown",
   "metadata": {},
   "source": [
    "## Import and filter sequencing data"
   ]
  },
  {
   "cell_type": "code",
   "execution_count": 5,
   "metadata": {},
   "outputs": [
    {
     "data": {
      "text/plain": [
       "Index(['s_Sample', 'target', 'consensus', 'reads', 'species', 'combUID',\n",
       "       'ag1k_cluster', 'multisp_cluster', 'outlier_genotype', 'split_alleles'],\n",
       "      dtype='object')"
      ]
     },
     "execution_count": 5,
     "metadata": {},
     "output_type": "execute_result"
    }
   ],
   "source": [
    "seq_data = pd.read_csv(CLUSTERING, dtype={'target':str})\n",
    "seq_data.columns"
   ]
  },
  {
   "cell_type": "code",
   "execution_count": 6,
   "metadata": {},
   "outputs": [
    {
     "data": {
      "text/plain": [
       "(10057, 10)"
      ]
     },
     "metadata": {},
     "output_type": "display_data"
    },
    {
     "data": {
      "text/plain": [
       "(9589, 10)"
      ]
     },
     "metadata": {},
     "output_type": "display_data"
    }
   ],
   "source": [
    "# filter sequencing data \n",
    "hq_seq_data = seq_data[(seq_data.species != 'unknown')] # &\n",
    "#                        (~seq_data.outlier_genotype) & \n",
    "#                        (~seq_data.split_alleles)]\n",
    "display(seq_data.shape, hq_seq_data.shape)"
   ]
  },
  {
   "cell_type": "markdown",
   "metadata": {},
   "source": [
    "## Make pseudohaploid samples\n",
    "\n",
    "Generate two pseudohaploid sample IDs for each of the diploid sample. For homozygous samples, use same sequence for both alleles. For multiple allelic sequences, use first two sequences as these appear in `hq_seq_data`.\n"
   ]
  },
  {
   "cell_type": "code",
   "execution_count": 7,
   "metadata": {},
   "outputs": [
    {
     "data": {
      "text/html": [
       "<div>\n",
       "<style scoped>\n",
       "    .dataframe tbody tr th:only-of-type {\n",
       "        vertical-align: middle;\n",
       "    }\n",
       "\n",
       "    .dataframe tbody tr th {\n",
       "        vertical-align: top;\n",
       "    }\n",
       "\n",
       "    .dataframe thead th {\n",
       "        text-align: right;\n",
       "    }\n",
       "</style>\n",
       "<table border=\"1\" class=\"dataframe\">\n",
       "  <thead>\n",
       "    <tr style=\"text-align: right;\">\n",
       "      <th></th>\n",
       "      <th>s_Sample</th>\n",
       "      <th>target</th>\n",
       "      <th>0</th>\n",
       "      <th>species</th>\n",
       "      <th>hap_Sample</th>\n",
       "    </tr>\n",
       "  </thead>\n",
       "  <tbody>\n",
       "    <tr>\n",
       "      <th>0</th>\n",
       "      <td>Abel-SP24</td>\n",
       "      <td>1</td>\n",
       "      <td>AGCCCGGCACTCGGAGGAGGTTCGCTGACTGCTCTGCCGGTCATTG...</td>\n",
       "      <td>Anopheles_bellator</td>\n",
       "      <td>Abel-SP24-1</td>\n",
       "    </tr>\n",
       "    <tr>\n",
       "      <th>1</th>\n",
       "      <td>Abel-SP24</td>\n",
       "      <td>15</td>\n",
       "      <td>AAGCGATCGCGAATCGGGCCGGCCGTGCGCATCCTGGGCATGATCG...</td>\n",
       "      <td>Anopheles_bellator</td>\n",
       "      <td>Abel-SP24-1</td>\n",
       "    </tr>\n",
       "    <tr>\n",
       "      <th>2</th>\n",
       "      <td>Abel-SP24</td>\n",
       "      <td>22</td>\n",
       "      <td>AAACGCGCAGCGCACTGCAGAATGAACGCAATCCGGGCAGCAGCTG...</td>\n",
       "      <td>Anopheles_bellator</td>\n",
       "      <td>Abel-SP24-1</td>\n",
       "    </tr>\n",
       "    <tr>\n",
       "      <th>3</th>\n",
       "      <td>Abel-SP24</td>\n",
       "      <td>24</td>\n",
       "      <td>AATGTAGCCCCGAGCGCGAAGCCGTCAAGCTGCTGCGCGCCACGTC...</td>\n",
       "      <td>Anopheles_bellator</td>\n",
       "      <td>Abel-SP24-1</td>\n",
       "    </tr>\n",
       "    <tr>\n",
       "      <th>4</th>\n",
       "      <td>Abel-SP24</td>\n",
       "      <td>26</td>\n",
       "      <td>CATAAAATGTTGCCGGTGGCTGGTGCCGGCGCACGGTACCCGGGAA...</td>\n",
       "      <td>Anopheles_bellator</td>\n",
       "      <td>Abel-SP24-1</td>\n",
       "    </tr>\n",
       "  </tbody>\n",
       "</table>\n",
       "</div>"
      ],
      "text/plain": [
       "    s_Sample target                                                  0  \\\n",
       "0  Abel-SP24      1  AGCCCGGCACTCGGAGGAGGTTCGCTGACTGCTCTGCCGGTCATTG...   \n",
       "1  Abel-SP24     15  AAGCGATCGCGAATCGGGCCGGCCGTGCGCATCCTGGGCATGATCG...   \n",
       "2  Abel-SP24     22  AAACGCGCAGCGCACTGCAGAATGAACGCAATCCGGGCAGCAGCTG...   \n",
       "3  Abel-SP24     24  AATGTAGCCCCGAGCGCGAAGCCGTCAAGCTGCTGCGCGCCACGTC...   \n",
       "4  Abel-SP24     26  CATAAAATGTTGCCGGTGGCTGGTGCCGGCGCACGGTACCCGGGAA...   \n",
       "\n",
       "              species   hap_Sample  \n",
       "0  Anopheles_bellator  Abel-SP24-1  \n",
       "1  Anopheles_bellator  Abel-SP24-1  \n",
       "2  Anopheles_bellator  Abel-SP24-1  \n",
       "3  Anopheles_bellator  Abel-SP24-1  \n",
       "4  Anopheles_bellator  Abel-SP24-1  "
      ]
     },
     "execution_count": 7,
     "metadata": {},
     "output_type": "execute_result"
    }
   ],
   "source": [
    "def get_first_seq(df):\n",
    "    return df.consensus.iloc[0]\n",
    "first_seq = hq_seq_data.groupby(by=['s_Sample','target']).apply(get_first_seq).reset_index()\n",
    "first_seq['species'] = hq_seq_data.groupby(by=['s_Sample','target'])['species'].max().reset_index(drop=True)\n",
    "first_seq['hap_Sample'] = first_seq.s_Sample + '-1'\n",
    "first_seq.head()"
   ]
  },
  {
   "cell_type": "code",
   "execution_count": 8,
   "metadata": {},
   "outputs": [
    {
     "data": {
      "text/html": [
       "<div>\n",
       "<style scoped>\n",
       "    .dataframe tbody tr th:only-of-type {\n",
       "        vertical-align: middle;\n",
       "    }\n",
       "\n",
       "    .dataframe tbody tr th {\n",
       "        vertical-align: top;\n",
       "    }\n",
       "\n",
       "    .dataframe thead th {\n",
       "        text-align: right;\n",
       "    }\n",
       "</style>\n",
       "<table border=\"1\" class=\"dataframe\">\n",
       "  <thead>\n",
       "    <tr style=\"text-align: right;\">\n",
       "      <th></th>\n",
       "      <th>s_Sample</th>\n",
       "      <th>target</th>\n",
       "      <th>0</th>\n",
       "      <th>species</th>\n",
       "      <th>hap_Sample</th>\n",
       "    </tr>\n",
       "  </thead>\n",
       "  <tbody>\n",
       "    <tr>\n",
       "      <th>0</th>\n",
       "      <td>Abel-SP24</td>\n",
       "      <td>1</td>\n",
       "      <td>AGCCCGGCACTCGGAGGAGGTTCGCTGACTGCTCTGCCGGTCATTG...</td>\n",
       "      <td>Anopheles_bellator</td>\n",
       "      <td>Abel-SP24-2</td>\n",
       "    </tr>\n",
       "    <tr>\n",
       "      <th>1</th>\n",
       "      <td>Abel-SP24</td>\n",
       "      <td>15</td>\n",
       "      <td>AAGCGATCGCGAATCGGTCCGGCCGTGCGCATCCTGGGCATGATCG...</td>\n",
       "      <td>Anopheles_bellator</td>\n",
       "      <td>Abel-SP24-2</td>\n",
       "    </tr>\n",
       "    <tr>\n",
       "      <th>2</th>\n",
       "      <td>Abel-SP24</td>\n",
       "      <td>22</td>\n",
       "      <td>AAACGCGCAGCGCACTGCAGAATGAACGCAATCCGGGCAGCAGCTG...</td>\n",
       "      <td>Anopheles_bellator</td>\n",
       "      <td>Abel-SP24-2</td>\n",
       "    </tr>\n",
       "    <tr>\n",
       "      <th>3</th>\n",
       "      <td>Abel-SP24</td>\n",
       "      <td>24</td>\n",
       "      <td>AATGTAGCCCCGAGCGCGAAGCCGTCAAGCTGCTGCGCGCCACGTC...</td>\n",
       "      <td>Anopheles_bellator</td>\n",
       "      <td>Abel-SP24-2</td>\n",
       "    </tr>\n",
       "    <tr>\n",
       "      <th>4</th>\n",
       "      <td>Abel-SP24</td>\n",
       "      <td>26</td>\n",
       "      <td>CATAAAATGTTGCCGGTGGCTGGTGCCGGCGCACGGTACCCGGGAA...</td>\n",
       "      <td>Anopheles_bellator</td>\n",
       "      <td>Abel-SP24-2</td>\n",
       "    </tr>\n",
       "  </tbody>\n",
       "</table>\n",
       "</div>"
      ],
      "text/plain": [
       "    s_Sample target                                                  0  \\\n",
       "0  Abel-SP24      1  AGCCCGGCACTCGGAGGAGGTTCGCTGACTGCTCTGCCGGTCATTG...   \n",
       "1  Abel-SP24     15  AAGCGATCGCGAATCGGTCCGGCCGTGCGCATCCTGGGCATGATCG...   \n",
       "2  Abel-SP24     22  AAACGCGCAGCGCACTGCAGAATGAACGCAATCCGGGCAGCAGCTG...   \n",
       "3  Abel-SP24     24  AATGTAGCCCCGAGCGCGAAGCCGTCAAGCTGCTGCGCGCCACGTC...   \n",
       "4  Abel-SP24     26  CATAAAATGTTGCCGGTGGCTGGTGCCGGCGCACGGTACCCGGGAA...   \n",
       "\n",
       "              species   hap_Sample  \n",
       "0  Anopheles_bellator  Abel-SP24-2  \n",
       "1  Anopheles_bellator  Abel-SP24-2  \n",
       "2  Anopheles_bellator  Abel-SP24-2  \n",
       "3  Anopheles_bellator  Abel-SP24-2  \n",
       "4  Anopheles_bellator  Abel-SP24-2  "
      ]
     },
     "execution_count": 8,
     "metadata": {},
     "output_type": "execute_result"
    }
   ],
   "source": [
    "def get_second_seq(df):\n",
    "    if df.shape[0] > 1:\n",
    "        return df.consensus.iloc[1]\n",
    "    else:\n",
    "        return df.consensus.iloc[0]\n",
    "second_seq = hq_seq_data.groupby(by=['s_Sample','target']).apply(get_second_seq).reset_index()\n",
    "second_seq['species'] = hq_seq_data.groupby(by=['s_Sample','target'])['species'].max().reset_index(drop=True)\n",
    "second_seq['hap_Sample'] = second_seq.s_Sample + '-2'\n",
    "second_seq.head()"
   ]
  },
  {
   "cell_type": "code",
   "execution_count": 9,
   "metadata": {},
   "outputs": [
    {
     "data": {
      "text/plain": [
       "(7224, 5)"
      ]
     },
     "metadata": {},
     "output_type": "display_data"
    },
    {
     "data": {
      "text/plain": [
       "(14448, 5)"
      ]
     },
     "execution_count": 9,
     "metadata": {},
     "output_type": "execute_result"
    }
   ],
   "source": [
    "display(second_seq.shape)\n",
    "comb_seq = pd.concat([first_seq, second_seq])\n",
    "comb_seq.shape"
   ]
  },
  {
   "cell_type": "markdown",
   "metadata": {},
   "source": [
    "## Species-sample mapping"
   ]
  },
  {
   "cell_type": "code",
   "execution_count": 9,
   "metadata": {},
   "outputs": [
    {
     "name": "stdout",
     "output_type": "stream",
     "text": [
      "Anopheles_aconitus:VBS00053-1,VBS00055-1,VBS00053-2,VBS00055-2\r\n"
     ]
    }
   ],
   "source": [
    "# sequence-species mapping file\n",
    "with open(MAPPING, 'w') as o:\n",
    "    for _, r in comb_seq.groupby('species')['hap_Sample'] \\\n",
    "                      .unique() \\\n",
    "                      .reset_index() \\\n",
    "                      .iterrows():\n",
    "        o.write('{}:{}\\n'.format(r[0], ','.join(r[1])))\n",
    "! head -1 {MAPPING}"
   ]
  },
  {
   "cell_type": "markdown",
   "metadata": {},
   "source": [
    "## Alignment"
   ]
  },
  {
   "cell_type": "code",
   "execution_count": 10,
   "metadata": {},
   "outputs": [
    {
     "name": "stdout",
     "output_type": "stream",
     "text": [
      "Processing 61\n",
      "Done!\n"
     ]
    }
   ],
   "source": [
    "# seequence export and alignment    \n",
    "for ampl in AMPLS:\n",
    "    sys.stdout.write('\\rProcessing {}'.format(ampl))\n",
    "    # subset amplicon data\n",
    "    ampl_data = comb_seq[comb_seq.target == ampl]\n",
    "    with open('temp.fa', 'w') as o:\n",
    "        for (i, row) in ampl_data.iterrows():\n",
    "            o.write('>{}\\n{}\\n'.format(row.hap_Sample,\n",
    "                                       row[0]))\n",
    "    ! mafft temp.fa > {ALN_SP_TREE.format(ampl)} 2> /dev/null\n",
    "    ! rm temp.fa\n",
    "sys.stdout.write('\\nDone!\\n')"
   ]
  },
  {
   "cell_type": "markdown",
   "metadata": {},
   "source": [
    "## Gene trees"
   ]
  },
  {
   "cell_type": "code",
   "execution_count": 11,
   "metadata": {},
   "outputs": [
    {
     "name": "stdout",
     "output_type": "stream",
     "text": [
      "Processing 61      62 data/5_gene_trees.nwk\n"
     ]
    }
   ],
   "source": [
    "# write all trees into single file\n",
    "! rm -f {GENE_TREES}\n",
    "for ampl in AMPLS:\n",
    "    sys.stdout.write('\\rProcessing {}'.format(ampl))\n",
    "    ! FastTree -nt {ALN_SP_TREE.format(ampl)} >> {GENE_TREES} 2> /dev/null\n",
    "! wc -l {GENE_TREES}"
   ]
  },
  {
   "cell_type": "markdown",
   "metadata": {},
   "source": [
    "## Species tree"
   ]
  },
  {
   "cell_type": "code",
   "execution_count": 12,
   "metadata": {},
   "outputs": [
    {
     "name": "stdout",
     "output_type": "stream",
     "text": [
      "\n",
      "================== ASTRAL ===================== \n",
      "\n",
      "This is ASTRAL version 5.6.3\n",
      "Gene trees are treated as unrooted\n",
      "62 trees read from data/5_gene_trees.nwk\n",
      "All output trees will be *arbitrarily* rooted at Anopheles_atroparvus\n",
      "\n",
      "======== Running the main analysis\n",
      "Number of taxa: 306 (56 species)\n",
      "Taxa: {Anopheles_sinensis=[anopheles-sinensis-sinensisscaffoldsasins2-1, anopheles-sinensis-sinensisscaffoldsasins2-2, anopheles-sinensis-chinascaffoldsasinc2-1, anopheles-sinensis-chinascaffoldsasinc2-2], Anopheles_oryzalimnetes=[Aory-SP141-2, Aory-SP141-1], Anopheles_vagus=[VBS00158-1, VBS00158-2, VBS00157-2, VBS00157-1, VBS00156-2, VBS00156-1, VBS00154-1, VBS00154-2], Anopheles_farauti=[anopheles-farauti-far1scaffoldsafarf2-1, anopheles-farauti-far1scaffoldsafarf2-2], Anopheles_maculatus_A=[VBS00108-2, VBS00108-1, VBS00107-2, VBS00107-1], Anopheles_maculatus_B=[anopheles-maculatus-maculatus3scaffoldsamacm1-1, anopheles-maculatus-maculatus3scaffoldsamacm1-2], Anopheles_tenebrosus=[Aten-185-2, Aten-185-1, Aten-79-1, Aten-79-2, Aten-954-1, Aten-954-2, Aten-191-2, Aten-191-1, Aten-333-1, Aten-333-2], Anopheles_arabiensis=[anopheles-arabiensis-sharakhov-1, anopheles-arabiensis-sharakhov-2, anopheles-arabiensis-dongolascaffoldsaarad1-1, anopheles-arabiensis-dongolascaffoldsaarad1-2], Anopheles_aquasalis=[anopheles-aquasalis-A_aquasalis_v1-1, anopheles-aquasalis-A_aquasalis_v1-2], Anopheles_vinckei=[Avin-M0012-2, Avin-B0009-1, Avin-B0009-2, Avin-M0009-1, Avin-M0009-2, Avin-M0012-1, Avin-M0004-1, Avin-M0004-2, Avin-B0004-1, Avin-B0004-2], Anopheles_hancocki=[Ahan-615-1, Ahan-615-2, Ahan-6-1-2, Ahan-6-1-1], Anopheles_rhodesiensis=[Arho-7-1-2, Arho-7-1-1, Arho-7-4-2, Arho-7-4-1, Arho-7-2-1, Arho-7-2-2, Arho-7-3-2, Arho-7-3-1], Anopheles_gabonensis=[Agab-M192-2, Agab-M192-1], Anopheles_annularis=[VBS00003-1, VBS00003-2, VBS00002-1, VBS00002-2, VBS00001-1, VBS00001-2, VBS00004-1, VBS00004-2], Anopheles_tessellatus=[VBS00150-1, VBS00150-2, VBS00149-1, VBS00149-2], Anopheles_cracens=[anopheles-cracens-ASM209184v1-scaffolds-2, anopheles-cracens-ASM209184v1-scaffolds-1], Anopheles_quadriannulatus=[anopheles-quadriannulatus-sangwescaffoldsaquas1-1, anopheles-quadriannulatus-sangwescaffoldsaquas1-2], Anopheles_jebudensis=[Ajab-B620-1, Ajab-B620-2], Anopheles_coluzzii=[anopheles-coluzzii-mali-nihscaffoldsacolm1-1, anopheles-coluzzii-mali-nihscaffoldsacolm1-2, Acol-570-1, Acol-570-2, Acol-558-2, Acol-558-1, Acol-645-2, Acol-645-1], Anopheles_sundaicus=[VBS00147-1, VBS00147-2, VBS00146-1, VBS00146-2, VBS00144-1, VBS00144-2, VBS00148-1, VBS00148-2], Anopheles_dureni=[Adur-97-6-2, Adur-97-6-1, Adur-97-5-1, Adur-97-5-2, Adur-97-4-2, Adur-97-4-1, Adur-97-3-2, Adur-97-3-1], Anopheles_christyi=[anopheles-christyi-achkn1017scaffoldsachra1-1, anopheles-christyi-achkn1017scaffoldsachra1-2], Anopheles_brohieri=[Abro-22-2, Abro-22-1, Abro-33-2, Abro-33-1, Abro-21-2, Abro-21-1, Abro-30-2, Abro-30-1], Anopheles_punctulatus=[anopheles-punctulatus-apwgs2contigsjxxa01-2, anopheles-punctulatus-apwgs2contigsjxxa01-1], Anopheles_maculipalpis=[Amac-50-2, Amac-50-1, Amac-49-2, Amac-49-1, Amac-42-2, Amac-42-1, Amac-44-2, Amac-44-1], Anopheles_albimanus=[anopheles-albimanus-steclachromosomesaalbs2-2, anopheles-albimanus-steclachromosomesaalbs2-1], Anopheles_balabacensis=[VBS00122-2, VBS00122-1], Anopheles_ziemanni=[Azie-77-2, Azie-77-1, Azie-334-1, Azie-334-2, Azie-1032-2, Azie-1055-2, Azie-1032-1, Azie-1055-1, Azie-70-2, Azie-70-1], Anopheles_epiroticus=[anopheles-epiroticus-epiroticus2scaffoldsaepie1-2, anopheles-epiroticus-epiroticus2scaffoldsaepie1-1], Anopheles_moucheti=[Amou-2-1-1, Amou-2-1-2, Amou-2-4-1, Amou-2-4-2, Amou-2-5-2, Amou-2-5-1, Amou-2-2-1, Amou-2-2-2, Amou-2-3-1, Amou-2-3-2], Anopheles_melas=[anopheles-melas-cm1001059ascaffoldsamelc2-1, anopheles-melas-cm1001059ascaffoldsamelc2-2], Anopheles_atroparvus=[anopheles-atroparvus-ebrochromosomesaatre3-2, anopheles-atroparvus-ebrochromosomesaatre3-1], Anopheles_darlingi=[anopheles-darlingi-coariscaffoldsadarc3-2, anopheles-darlingi-coariscaffoldsadarc3-1], Anopheles_paludis=[Apal-81-2, Apal-81-1, Apal-257-1, Apal-257-2], Anopheles_merus=[anopheles-merus-mafscaffoldsamerm2-2, anopheles-merus-mafscaffoldsamerm2-1], Anopheles_koliensis=[anopheles-koliensis-akwgs3contigsjxxb01-1, anopheles-koliensis-akwgs3contigsjxxb01-2], Anopheles_cruzii=[Acru-RS32-1, Acru-RS32-2], Anopheles_coustani=[Acou-80-2, Acou-80-1, Acou-962-1, Acou-962-2, Acou-959-1, Acou-959-2, Acou-71-1, Acou-71-2, Acou-956-2, Acou-956-1], Anopheles_bellator=[Abel-SP24-1, Abel-SP24-2], Anopheles_dirus_A=[VBS00049-1, VBS00049-2, VBS00051-2, VBS00051-1, VBS00048-2, VBS00048-1, VBS00050-2, VBS00050-1, anopheles-dirus-wrair2scaffoldsadirw1-2, anopheles-dirus-wrair2scaffoldsadirw1-1], Anopheles_nili_ss=[Anils-7-1, Anils-7-2], Anopheles_minimus_A=[VBS00059-2, VBS00059-1, VBS00061-2, VBS00061-1, anopheles-minimus-minimus1scaffoldsaminm1-1, anopheles-minimus-minimus1scaffoldsaminm1-2], Anopheles_aconitus=[VBS00055-2, VBS00055-1, VBS00053-1, VBS00053-2], Anopheles_stephensi=[anopheles-stephensi-sda-500scaffoldsastes1-2, anopheles-stephensi-sda-500scaffoldsastes1-1, anopheles-stephensi-indianscaffoldsastei2-1, anopheles-stephensi-indianscaffoldsastei2-2], Anopheles_implexus=[Aimp-M190-2, Aimp-M190-1, Aimp-M0030-2, Aimp-M0030-1, Aimp-M0001-1, Aimp-M0001-2, Aimp-M1449-1, Aimp-M1449-2], Anopheles_jamesii=[VBS00128-2, VBS00128-1, VBS00127-2, VBS00127-1, VBS00125-2, VBS00125-1], Anopheles_carnevalei=[Acar-193-1, Acar-193-2, Acar-192-1, Acar-192-2, Acar-195-2, Acar-195-1, Acar-194-1, Acar-194-2, Acar-191-2, Acar-191-1], Anopheles_hyrcanus=[VBS00086-2, VBS00086-1, VBS00085-1, VBS00085-2, VBS00083-1, VBS00083-2, VBS00082-1, VBS00082-2], Anopheles_gambiae=[Agam-38-1, Agam-38-2, Agam-30-2, Agam-30-1, anopheles-gambiae-pestchromosomesagamp4-2, anopheles-gambiae-pestchromosomesagamp4-1, Agam-32-2, Agam-32-1, Agam-35-1, Agam-35-2, anopheles-gambiae-pimperenascaffoldsagams1-1, anopheles-gambiae-pimperenascaffoldsagams1-2, Agam-37-1, Agam-37-2], Anopheles_nili=[Anil-238-1, Anil-238-2, Anil-237-1, Anil-237-2, Anil-236-1, Anil-236-2, Anil-233-1, Anil-233-2, Anil-239-2, Anil-239-1], Anopheles_culicifacies=[anopheles-culicifacies-37scaffoldsacula1-1, anopheles-culicifacies-37scaffoldsacula1-2], Anopheles_barbirostris=[VBS00025-2, VBS00025-1, VBS00024-1, VBS00024-2, VBS00023-2, VBS00023-1, VBS00022-1, VBS00022-2, VBS00021-2, VBS00021-1], Anopheles_theileri=[Athe-6-2-2, Athe-6-2-1, Athe-2-2, Athe-2-1, Athe-1-2, Athe-1-1, Athe-6-1-2, Athe-6-1-1], Anopheles_demeilloni=[Adem-32-1, Adem-32-2, Adem-19-1, Adem-19-2, Adem-34-2, Adem-34-1], Anopheles_funestus=[anopheles-funestus-fumozchromosomesafunf3-1, anopheles-funestus-fumozchromosomesafunf3-2, Afun-13-2, Afun-13-1, anopheles-funestus-fumozscaffoldsafunf1-1, anopheles-funestus-fumozscaffoldsafunf1-2, Afun-1-1, Afun-1-2, Afun-9-1, Afun-9-2, Afun-3-1, Afun-3-2], Anopheles_rampae=[VBS00112-1, VBS00112-2, VBS00115-2, VBS00115-1, VBS00114-2, VBS00114-1, VBS00113-2, VBS00113-1]}\n",
      "Taxon occupancy: {VBS00158-1=56, VBS00112-1=57, anopheles-atroparvus-ebrochromosomesaatre3-2=34, Abro-22-2=62, VBS00158-2=56, anopheles-atroparvus-ebrochromosomesaatre3-1=34, anopheles-darlingi-coariscaffoldsadarc3-2=34, anopheles-darlingi-coariscaffoldsadarc3-1=34, Avin-M0012-2=50, Abro-22-1=62, anopheles-aquasalis-A_aquasalis_v1-1=34, Athe-6-2-2=48, Agam-38-1=57, Athe-6-2-1=48, Agam-38-2=57, anopheles-coluzzii-mali-nihscaffoldsacolm1-1=59, anopheles-coluzzii-mali-nihscaffoldsacolm1-2=59, Azie-77-2=47, Azie-77-1=47, VBS00150-1=52, Adem-32-1=28, anopheles-aquasalis-A_aquasalis_v1-2=34, Acar-193-1=48, Acar-193-2=48, VBS00150-2=52, Adem-32-2=28, VBS00112-2=57, Aimp-M190-2=3, VBS00147-1=54, Abro-33-2=38, Acou-80-2=45, VBS00147-2=54, Acou-80-1=45, Aimp-M190-1=3, Abro-33-1=38, Ahan-615-1=53, Ahan-615-2=53, VBS00003-1=50, VBS00049-1=52, VBS00003-2=50, VBS00049-2=52, Anil-238-1=46, Anil-238-2=46, Avin-B0009-1=52, Avin-B0009-2=52, VBS00157-2=56, anopheles-arabiensis-sharakhov-1=60, VBS00157-1=56, Aten-185-2=46, Aten-185-1=46, anopheles-arabiensis-sharakhov-2=60, Abro-21-2=21, Abro-21-1=21, VBS00051-2=27, Acou-962-1=48, VBS00051-1=27, Acou-962-2=48, VBS00059-2=57, VBS00059-1=57, Arho-7-1-2=60, Acar-192-1=51, Arho-7-1-1=60, Acar-192-2=51, Amou-2-1-1=55, Adur-97-6-2=42, Adur-97-6-1=42, VBS00146-1=55, anopheles-funestus-fumozchromosomesafunf3-1=48, VBS00146-2=55, Acou-959-1=53, Acou-959-2=53, Amou-2-1-2=55, anopheles-funestus-fumozchromosomesafunf3-2=48, VBS00086-2=40, anopheles-koliensis-akwgs3contigsjxxb01-1=42, Apal-81-2=33, VBS00002-1=50, VBS00086-1=40, anopheles-koliensis-akwgs3contigsjxxb01-2=42, Apal-81-1=33, VBS00002-2=50, VBS00048-2=47, VBS00025-2=41, Aten-79-1=45, VBS00025-1=41, Anil-237-1=39, Anil-237-2=39, VBS00048-1=47, VBS00108-2=53, VBS00108-1=53, Agam-30-2=58, anopheles-sinensis-sinensisscaffoldsasins2-1=37, Agam-30-1=58, anopheles-sinensis-sinensisscaffoldsasins2-2=37, Aten-79-2=45, Amac-50-2=58, Acou-71-1=44, Amac-50-1=58, VBS00156-2=57, Afun-13-2=1, Afun-13-1=1, Acou-71-2=44, anopheles-funestus-fumozscaffoldsafunf1-1=50, VBS00050-2=52, VBS00050-1=52, anopheles-arabiensis-dongolascaffoldsaarad1-1=62, anopheles-funestus-fumozscaffoldsafunf1-2=50, Adur-97-5-1=29, anopheles-arabiensis-dongolascaffoldsaarad1-2=62, Adem-19-1=45, Adem-19-2=45, Acar-195-2=46, Adem-34-2=58, anopheles-culicifacies-37scaffoldsacula1-1=55, Adem-34-1=58, Acar-195-1=46, VBS00156-1=57, anopheles-culicifacies-37scaffoldsacula1-2=55, Adur-97-5-2=29, VBS00122-2=51, VBS00122-1=51, Ahan-6-1-2=59, VBS00085-1=42, VBS00024-1=41, VBS00001-1=33, VBS00085-2=42, Ahan-6-1-1=59, VBS00001-2=33, Anil-236-1=47, VBS00024-2=41, Anil-236-2=47, VBS00107-2=46, VBS00107-1=46, anopheles-gambiae-pestchromosomesagamp4-2=62, anopheles-gambiae-pestchromosomesagamp4-1=62, Azie-334-1=45, Azie-334-2=45, Abel-SP24-1=16, Abel-SP24-2=16, Adur-97-4-2=38, Adur-97-4-1=38, Anils-7-1=26, Anils-7-2=26, Acar-194-1=49, Acar-194-2=49, anopheles-quadriannulatus-sangwescaffoldsaquas1-1=61, anopheles-quadriannulatus-sangwescaffoldsaquas1-2=61, anopheles-dirus-wrair2scaffoldsadirw1-2=49, Avin-M0009-1=52, anopheles-dirus-wrair2scaffoldsadirw1-1=49, Abro-30-2=59, Abro-30-1=59, anopheles-stephensi-sda-500scaffoldsastes1-2=59, anopheles-stephensi-sda-500scaffoldsastes1-1=59, Acol-570-1=52, VBS00061-2=55, Acol-570-2=52, VBS00061-1=55, Avin-M0009-2=52, VBS00023-2=46, VBS00023-1=46, Agam-32-2=59, Agam-32-1=59, Aimp-M0030-2=46, Avin-M0012-1=50, Aimp-M0030-1=46, VBS00144-1=45, VBS00144-2=45, anopheles-epiroticus-epiroticus2scaffoldsaepie1-2=53, Athe-2-2=61, Athe-2-1=61, anopheles-epiroticus-epiroticus2scaffoldsaepie1-1=53, anopheles-maculatus-maculatus3scaffoldsamacm1-1=44, Adur-97-3-2=45, Adur-97-3-1=45, anopheles-maculatus-maculatus3scaffoldsamacm1-2=44, Amac-49-2=53, Amac-49-1=53, Aten-954-1=45, VBS00154-1=50, Arho-7-4-2=59, Arho-7-4-1=59, Aten-954-2=45, VBS00154-2=50, Acol-558-2=58, Acol-558-1=58, Amou-2-4-1=58, Acru-RS32-1=26, Avin-M0004-1=50, Amou-2-4-2=58, Acru-RS32-2=26, Avin-M0004-2=50, VBS00022-1=44, VBS00083-1=50, VBS00083-2=50, VBS00022-2=44, VBS00128-2=52, anopheles-sinensis-chinascaffoldsasinc2-1=40, VBS00128-1=52, anopheles-sinensis-chinascaffoldsasinc2-2=40, anopheles-cracens-ASM209184v1-scaffolds-2=43, anopheles-cracens-ASM209184v1-scaffolds-1=43, Athe-1-2=60, Athe-1-1=60, Aory-SP141-2=14, Aory-SP141-1=14, Agam-35-1=58, Agam-35-2=58, VBS00055-2=41, VBS00055-1=41, Afun-1-1=61, Afun-1-2=61, VBS00115-2=59, Afun-9-1=3, VBS00115-1=59, Amac-42-2=58, Ajab-B620-1=59, Afun-9-2=3, Amac-42-1=58, Ajab-B620-2=59, Amou-2-5-2=59, VBS00082-1=46, Amou-2-5-1=59, VBS00021-2=46, VBS00082-2=46, VBS00021-1=46, Anil-233-1=45, Anil-233-2=45, Avin-B0004-1=52, anopheles-minimus-minimus1scaffoldsaminm1-1=54, Avin-B0004-2=52, anopheles-minimus-minimus1scaffoldsaminm1-2=54, VBS00127-2=55, VBS00127-1=55, Aimp-M0001-1=48, Aimp-M0001-2=48, Apal-257-1=13, Apal-257-2=13, anopheles-gambiae-pimperenascaffoldsagams1-1=62, anopheles-christyi-achkn1017scaffoldsachra1-1=49, anopheles-christyi-achkn1017scaffoldsachra1-2=49, anopheles-gambiae-pimperenascaffoldsagams1-2=62, anopheles-melas-cm1001059ascaffoldsamelc2-1=60, anopheles-melas-cm1001059ascaffoldsamelc2-2=60, Acar-191-2=49, Arho-7-2-1=3, anopheles-merus-mafscaffoldsamerm2-2=61, anopheles-merus-mafscaffoldsamerm2-1=61, VBS00114-2=54, VBS00114-1=54, Aten-191-2=47, Aten-191-1=47, Acar-191-1=49, Arho-7-2-2=3, VBS00149-1=50, VBS00149-2=50, Amou-2-2-1=60, Acou-956-2=25, Amou-2-2-2=60, Acou-956-1=25, Azie-1032-2=41, Azie-1055-2=30, Azie-1032-1=41, anopheles-albimanus-steclachromosomesaalbs2-2=38, Aimp-M1449-1=48, anopheles-albimanus-steclachromosomesaalbs2-1=38, Azie-1055-1=30, anopheles-stephensi-indianscaffoldsastei2-1=59, anopheles-stephensi-indianscaffoldsastei2-2=59, Aimp-M1449-2=48, Agab-M192-2=55, anopheles-punctulatus-apwgs2contigsjxxa01-2=40, anopheles-punctulatus-apwgs2contigsjxxa01-1=40, VBS00053-1=31, Agam-37-1=55, Agam-37-2=55, Anil-239-2=47, Athe-6-1-2=61, Athe-6-1-1=61, Agab-M192-1=55, VBS00053-2=31, Acol-645-2=45, Acol-645-1=45, Afun-3-1=50, Amac-44-2=56, Afun-3-2=50, Amac-44-1=56, Azie-70-2=34, VBS00113-2=51, Arho-7-3-2=59, Azie-70-1=34, VBS00113-1=51, Arho-7-3-1=59, VBS00148-1=57, VBS00148-2=57, Amou-2-3-1=59, Amou-2-3-2=59, VBS00004-1=56, VBS00004-2=56, anopheles-farauti-far1scaffoldsafarf2-1=45, anopheles-farauti-far1scaffoldsafarf2-2=45, Anil-239-1=47, Aten-333-1=48, Aten-333-2=48, VBS00125-2=59, VBS00125-1=59}\n",
      "Number of gene trees: 62\n",
      "62 trees have missing taxa\n",
      "Calculating quartet distance matrix (for completion of X)\n"
     ]
    },
    {
     "name": "stdout",
     "output_type": "stream",
     "text": [
      "Species tree distances calculated ...\n",
      "Will attempt to complete bipartitions from X before adding using a distance matrix.\n",
      "Building set of clusters (X) from gene trees \n",
      "In second round sampling 4 rounds will be done\n",
      "------------------------------\n",
      "gradient0: 2275\n",
      "------------------------------\n",
      "gradient1: 48\n",
      "------------------------------\n",
      "gradient2: 14\n",
      "------------------------------\n",
      "gradient3: 18\n",
      "Number of Clusters after addition by distance: 2355\n",
      "calculating extra bipartitions to be added at level 1 ...\n",
      "Adding to X using resolutions of greedy consensus ...\n",
      "Limit for sigma of degrees:1450\n",
      "polytomy size limit : 13\n",
      "discarded polytomies:  [3, 3, 3, 3, 4, 4, 4, 4, 5, 5, 6, 13]\n",
      "Threshold 0.0:\n",
      "Threshold 0.01:\n",
      "Threshold 0.02:\n",
      "Threshold 0.05:\n",
      "Threshold 0.1:\n",
      "polytomy of size 3; rounds with additions with at least 5 support: 0; clusters: 2355\n",
      "polytomy of size 4; rounds with additions with at least 5 support: 0; clusters: 2355\n",
      "Threshold 0.2:\n",
      "polytomy of size 4; rounds with additions with at least 5 support: 0; clusters: 2355\n",
      "polytomy of size 5; rounds with additions with at least 5 support: 0; clusters: 2355\n",
      "polytomy of size 5; rounds with additions with at least 5 support: 0; clusters: 2355\n",
      "polytomy of size 3; rounds with additions with at least 5 support: 0; clusters: 2355\n",
      "polytomy of size 4; rounds with additions with at least 5 support: 0; clusters: 2355\n",
      "Threshold 0.3333333333333333:\n",
      "polytomy of size 3; rounds with additions with at least 5 support: 0; clusters: 2355\n",
      "polytomy of size 4; rounds with additions with at least 5 support: 0; clusters: 2355\n",
      "polytomy of size 3; rounds with additions with at least 5 support: 0; clusters: 2355\n",
      "polytomy of size 6; rounds with additions with at least 5 support: 0; clusters: 2355\n",
      "polytomy of size 13; rounds with additions with at least 5 support: 0; clusters: 2357\n",
      "max k is :0\n",
      "Number of Clusters after addition by greedy: 2357\n",
      "gradient0 in heuristiic: 2357\n",
      "calculating extra bipartitions to be added at level 1 ...\n",
      "Adding to X using resolutions of greedy consensus ...\n",
      "Limit for sigma of degrees:1450\n",
      "polytomy size limit : 13\n",
      "discarded polytomies:  [3, 3, 3, 3, 4, 4, 4, 4, 5, 5, 6, 13]\n",
      "Threshold 0.0:\n",
      "Threshold 0.01:\n",
      "Threshold 0.02:\n",
      "Threshold 0.05:\n",
      "Threshold 0.1:\n",
      "polytomy of size 3; rounds with additions with at least 5 support: 0; clusters: 2357\n",
      "polytomy of size 4; rounds with additions with at least 5 support: 0; clusters: 2357\n",
      "Threshold 0.2:\n",
      "polytomy of size 4; rounds with additions with at least 5 support: 0; clusters: 2357\n",
      "polytomy of size 5; rounds with additions with at least 5 support: 0; clusters: 2357\n",
      "polytomy of size 5; rounds with additions with at least 5 support: 0; clusters: 2357\n",
      "polytomy of size 3; rounds with additions with at least 5 support: 0; clusters: 2357\n",
      "polytomy of size 4; rounds with additions with at least 5 support: 0; clusters: 2357\n",
      "Threshold 0.3333333333333333:\n",
      "polytomy of size 3; rounds with additions with at least 5 support: 0; clusters: 2357\n",
      "polytomy of size 4; rounds with additions with at least 5 support: 0; clusters: 2357\n",
      "polytomy of size 3; rounds with additions with at least 5 support: 0; clusters: 2357\n",
      "polytomy of size 6; rounds with additions with at least 5 support: 0; clusters: 2357\n",
      "polytomy of size 13; rounds with additions with at least 5 support: 0; clusters: 2357\n",
      "max k is :0\n",
      "Number of Clusters after addition by greedy: 2357\n",
      "gradient1 in heuristiic: 0\n",
      "calculating extra bipartitions to be added at level 1 ...\n",
      "Adding to X using resolutions of greedy consensus ...\n",
      "Limit for sigma of degrees:1450\n",
      "polytomy size limit : 13\n",
      "discarded polytomies:  [3, 3, 3, 3, 4, 4, 4, 4, 5, 5, 6, 13]\n",
      "Threshold 0.0:\n",
      "Threshold 0.01:\n",
      "Threshold 0.02:\n",
      "Threshold 0.05:\n",
      "Threshold 0.1:\n",
      "polytomy of size 3; rounds with additions with at least 5 support: 0; clusters: 2357\n",
      "polytomy of size 4; rounds with additions with at least 5 support: 0; clusters: 2357\n",
      "Threshold 0.2:\n",
      "polytomy of size 4; rounds with additions with at least 5 support: 0; clusters: 2357\n",
      "polytomy of size 5; rounds with additions with at least 5 support: 0; clusters: 2357\n",
      "polytomy of size 5; rounds with additions with at least 5 support: 0; clusters: 2357\n",
      "polytomy of size 3; rounds with additions with at least 5 support: 0; clusters: 2357\n",
      "polytomy of size 4; rounds with additions with at least 5 support: 0; clusters: 2357\n",
      "Threshold 0.3333333333333333:\n",
      "polytomy of size 3; rounds with additions with at least 5 support: 0; clusters: 2357\n",
      "polytomy of size 4; rounds with additions with at least 5 support: 0; clusters: 2357\n",
      "polytomy of size 3; rounds with additions with at least 5 support: 0; clusters: 2357\n",
      "polytomy of size 6; rounds with additions with at least 5 support: 0; clusters: 2357\n",
      "polytomy of size 13; rounds with additions with at least 5 support: 0; clusters: 2357\n",
      "max k is :0\n",
      "Number of Clusters after addition by greedy: 2357\n",
      "gradient2 in heuristiic: 0\n",
      "calculating extra bipartitions to be added at level 1 ...\n",
      "Adding to X using resolutions of greedy consensus ...\n",
      "Limit for sigma of degrees:1450\n",
      "polytomy size limit : 13\n",
      "discarded polytomies:  [3, 3, 3, 3, 4, 4, 4, 4, 5, 5, 6, 13]\n",
      "Threshold 0.0:\n",
      "Threshold 0.01:\n",
      "Threshold 0.02:\n",
      "Threshold 0.05:\n",
      "Threshold 0.1:\n",
      "polytomy of size 3; rounds with additions with at least 5 support: 0; clusters: 2357\n",
      "polytomy of size 4; rounds with additions with at least 5 support: 0; clusters: 2357\n",
      "Threshold 0.2:\n",
      "polytomy of size 4; rounds with additions with at least 5 support: 0; clusters: 2357\n",
      "polytomy of size 5; rounds with additions with at least 5 support: 0; clusters: 2357\n",
      "polytomy of size 5; rounds with additions with at least 5 support: 0; clusters: 2357\n",
      "polytomy of size 3; rounds with additions with at least 5 support: 0; clusters: 2357\n",
      "polytomy of size 4; rounds with additions with at least 5 support: 0; clusters: 2357\n",
      "Threshold 0.3333333333333333:\n",
      "polytomy of size 3; rounds with additions with at least 5 support: 0; clusters: 2357\n",
      "polytomy of size 4; rounds with additions with at least 5 support: 0; clusters: 2357\n",
      "polytomy of size 3; rounds with additions with at least 5 support: 0; clusters: 2357\n",
      "polytomy of size 6; rounds with additions with at least 5 support: 0; clusters: 2357\n",
      "polytomy of size 13; rounds with additions with at least 5 support: 0; clusters: 2357\n",
      "max k is :0\n",
      "Number of Clusters after addition by greedy: 2357\n",
      "gradient3 in heuristiic: 0\n",
      "partitions formed in 11.616 secs\n",
      "Dynamic Programming starting after 11.616 secs\n",
      "Using tree-based weight calculation.\n",
      "Using polytree-based weight calculation.\n",
      "Polytree max score: 9218070982\n",
      "Polytree building time: 0.061 seconds.\n",
      "Number of quartet trees in the gene trees: 9194473196\n",
      "Size of largest cluster: 306\n",
      "Greedy score: 5510310052\n",
      "estimationFactor: 1.6728770058624574\n",
      "Sub-optimal score: 5742188816\n",
      "Total Number of elements weighted: 4842\n",
      "Normalized score (portion of input quartet trees satisfied before correcting for multiple individuals): 0.689650758812218\n",
      "Optimization score: 6340975416\n",
      "Optimal tree inferred in 14.168 secs.\n",
      "(Anopheles_nili_ss,(Anopheles_nili,(Anopheles_carnevalei,(((Anopheles_vinckei,Anopheles_dureni),(((Anopheles_bellator,Anopheles_cruzii),(Anopheles_darlingi,(Anopheles_albimanus,(Anopheles_aquasalis,Anopheles_oryzalimnetes)))),(Anopheles_implexus,(Anopheles_atroparvus,(Anopheles_barbirostris,((Anopheles_hyrcanus,Anopheles_sinensis),(Anopheles_paludis,(Anopheles_coustani,(Anopheles_ziemanni,Anopheles_tenebrosus))))))))),((Anopheles_tessellatus,((Anopheles_punctulatus,(Anopheles_koliensis,Anopheles_farauti)),(Anopheles_balabacensis,(Anopheles_dirus_A,Anopheles_cracens)))),((Anopheles_christyi,((Anopheles_vagus,(Anopheles_sundaicus,Anopheles_epiroticus)),(Anopheles_melas,(Anopheles_merus,(Anopheles_quadriannulatus,(Anopheles_arabiensis,(Anopheles_gambiae,Anopheles_coluzzii))))))),((Anopheles_stephensi,((Anopheles_maculatus_B,(Anopheles_rampae,Anopheles_maculatus_A)),(Anopheles_maculipalpis,(Anopheles_annularis,Anopheles_jamesii)))),((Anopheles_aconitus,(Anopheles_minimus_A,Anopheles_culicifacies)),((Anopheles_gabonensis,(Anopheles_rhodesiensis,Anopheles_funestus)),((Anopheles_moucheti,Anopheles_jebudensis),(Anopheles_theileri,(Anopheles_demeilloni,(Anopheles_brohieri,Anopheles_hancocki)))))))))))));\n",
      "Final quartet score is: 6945284322\n",
      "Final normalized quartet score is: 0.7553759931587494\n"
     ]
    },
    {
     "name": "stdout",
     "output_type": "stream",
     "text": [
      "You may want to ignore posterior probabilities and other statistics related to the following branch branch because the effective number of genes impacting it is only 14:\n",
      "\t{Anopheles_bellator}\n",
      "You may want to ignore posterior probabilities and other statistics related to the following branch branch because the effective number of genes impacting it is only 14:\n",
      "\t{Anopheles_cruzii}\n",
      "You may want to ignore posterior probabilities and other statistics related to the following branch branch because the effective number of genes impacting it is only 13:\n",
      "\t{Anopheles_bellator, Anopheles_cruzii}\n",
      "You may want to ignore posterior probabilities and other statistics related to the following branch branch because the effective number of genes impacting it is only 10:\n",
      "\t{Anopheles_aquasalis}\n",
      "You may want to ignore posterior probabilities and other statistics related to the following branch branch because the effective number of genes impacting it is only 10:\n",
      "\t{Anopheles_oryzalimnetes}\n",
      "You may want to ignore posterior probabilities and other statistics related to the following branch branch because the effective number of genes impacting it is only 7:\n",
      "\t{Anopheles_aquasalis, Anopheles_oryzalimnetes}\n",
      "((anopheles-atroparvus-ebrochromosomesaatre3-2,anopheles-atroparvus-ebrochromosomesaatre3-1)1:3.149882953381249,(((VBS00025-2,VBS00025-1,VBS00024-1,VBS00024-2,VBS00023-2,VBS00023-1,VBS00022-1,VBS00022-2,VBS00021-2,VBS00021-1)1:2.639029242192608,(((VBS00086-2,VBS00086-1,VBS00085-1,VBS00085-2,VBS00083-1,VBS00083-2,VBS00082-1,VBS00082-2)0.92:0.24871819729807237,(anopheles-sinensis-sinensisscaffoldsasins2-1,anopheles-sinensis-sinensisscaffoldsasins2-2,anopheles-sinensis-chinascaffoldsasinc2-1,anopheles-sinensis-chinascaffoldsasinc2-2)1:1.745477511698072)0.95:0.26965481064829544,((Apal-81-2,Apal-81-1,Apal-257-1,Apal-257-2)0.87:0.2893647707659424,((Acou-80-2,Acou-80-1,Acou-962-1,Acou-962-2,Acou-959-1,Acou-959-2,Acou-71-1,Acou-71-2,Acou-956-2,Acou-956-1)0.4:0.014946120489523271,((Azie-77-2,Azie-77-1,Azie-334-1,Azie-334-2,Azie-1032-2,Azie-1055-2,Azie-1032-1,Azie-1055-1,Azie-70-2,Azie-70-1)0.51:0.05701325151827572,(Aten-185-2,Aten-185-1,Aten-79-1,Aten-79-2,Aten-954-1,Aten-954-2,Aten-191-2,Aten-191-1,Aten-333-1,Aten-333-2)0.28:0.0)0.37:0.012080512122571595)0.67:0.14248466876647609)1:1.0457197141491537)1:1.1603790429940317)0.93:0.25681104552362,((Aimp-M190-2,Aimp-M190-1,Aimp-M0030-2,Aimp-M0030-1,Aimp-M0001-1,Aimp-M0001-2,Aimp-M1449-1,Aimp-M1449-2)1:2.9892026027581666,((((Abel-SP24-1,Abel-SP24-2)1:2.2708363946794665,(Acru-RS32-1,Acru-RS32-2)1:1.5645730884199396)1:1.0935232191606385,((anopheles-darlingi-coariscaffoldsadarc3-2,anopheles-darlingi-coariscaffoldsadarc3-1)1:3.1354942159291492,((anopheles-albimanus-steclachromosomesaalbs2-2,anopheles-albimanus-steclachromosomesaalbs2-1)1:3.120895416507997,((anopheles-aquasalis-A_aquasalis_v1-1,anopheles-aquasalis-A_aquasalis_v1-2)1:1.7917594692280545,(Aory-SP141-2,Aory-SP141-1)1:1.106709498900729)0.57:0.15190096009324291)0.71:0.1389318938156375)1:1.3028861903499815)0.91:0.3026074180374423,(((Avin-M0012-2,Avin-B0009-1,Avin-B0009-2,Avin-M0009-1,Avin-M0009-2,Avin-M0012-1,Avin-M0004-1,Avin-M0004-2,Avin-B0004-1,Avin-B0004-2)1:2.7903697347882845,(Adur-97-6-2,Adur-97-6-1,Adur-97-5-1,Adur-97-5-2,Adur-97-4-2,Adur-97-4-1,Adur-97-3-2,Adur-97-3-1)1:3.270835563798911)1:1.302600358975523,((((VBS00150-1,VBS00150-2,VBS00149-1,VBS00149-2)1:2.2480019782816405,(((anopheles-punctulatus-apwgs2contigsjxxa01-2,anopheles-punctulatus-apwgs2contigsjxxa01-1)1:3.205452804536062,((anopheles-koliensis-akwgs3contigsjxxb01-1,anopheles-koliensis-akwgs3contigsjxxb01-2)1:3.0600491389220648,(anopheles-farauti-far1scaffoldsafarf2-1,anopheles-farauti-far1scaffoldsafarf2-2)1:3.0600322166157543)0.81:0.1768012538583057)1:1.609481955238914,((VBS00122-2,VBS00122-1)1:1.6869187109653596,((VBS00049-1,VBS00049-2,VBS00051-2,VBS00051-1,VBS00048-2,VBS00048-1,VBS00050-2,VBS00050-1,anopheles-dirus-wrair2scaffoldsadirw1-2,anopheles-dirus-wrair2scaffoldsadirw1-1)1:1.1531139390060454,(anopheles-cracens-ASM209184v1-scaffolds-2,anopheles-cracens-ASM209184v1-scaffolds-1)1:3.214843347202904)0.81:0.215421762955916)1:1.28378241328326)0.79:0.14482842066564003)1:0.5345381948239983,(((anopheles-christyi-achkn1017scaffoldsachra1-1,anopheles-christyi-achkn1017scaffoldsachra1-2)1:3.506557897319981,(((VBS00158-1,VBS00158-2,VBS00157-2,VBS00157-1,VBS00156-2,VBS00156-1,VBS00154-1,VBS00154-2)1:1.9738709202947882,((VBS00147-1,VBS00147-2,VBS00146-1,VBS00146-2,VBS00144-1,VBS00144-2,VBS00148-1,VBS00148-2)0.97:0.3401327902084474,(anopheles-epiroticus-epiroticus2scaffoldsaepie1-2,anopheles-epiroticus-epiroticus2scaffoldsaepie1-1)1:2.9728238550414336)1:2.2858962873578363)1:2.2902423148860733,((anopheles-melas-cm1001059ascaffoldsamelc2-1,anopheles-melas-cm1001059ascaffoldsamelc2-2)1:2.8000209803900202,((anopheles-merus-mafscaffoldsamerm2-2,anopheles-merus-mafscaffoldsamerm2-1)1:3.5384626355013014,((anopheles-quadriannulatus-sangwescaffoldsaquas1-1,anopheles-quadriannulatus-sangwescaffoldsaquas1-2)1:2.7107706497579414,((anopheles-arabiensis-sharakhov-1,anopheles-arabiensis-sharakhov-2,anopheles-arabiensis-dongolascaffoldsaarad1-1,anopheles-arabiensis-dongolascaffoldsaarad1-2)1:3.3833847147367955,((Agam-38-1,Agam-38-2,Agam-30-2,Agam-30-1,anopheles-gambiae-pestchromosomesagamp4-2,anopheles-gambiae-pestchromosomesagamp4-1,Agam-32-2,Agam-32-1,Agam-35-1,Agam-35-2,anopheles-gambiae-pimperenascaffoldsagams1-1,anopheles-gambiae-pimperenascaffoldsagams1-2,Agam-37-1,Agam-37-2)0.82:0.16068367271038497,(anopheles-coluzzii-mali-nihscaffoldsacolm1-1,anopheles-coluzzii-mali-nihscaffoldsacolm1-2,Acol-570-1,Acol-570-2,Acol-558-2,Acol-558-1,Acol-645-2,Acol-645-1)0.52:0.05611063010311775)0.59:0.09046623418289901)0.48:0.04438149232759247)0.92:0.20669332962623466)0.26:0.0)1:2.6945476584674126)0.56:0.08259923189892322)1:0.5772067067519311,(((anopheles-stephensi-sda-500scaffoldsastes1-2,anopheles-stephensi-sda-500scaffoldsastes1-1,anopheles-stephensi-indianscaffoldsastei2-1,anopheles-stephensi-indianscaffoldsastei2-2)1:3.681910784797841,(((anopheles-maculatus-maculatus3scaffoldsamacm1-1,anopheles-maculatus-maculatus3scaffoldsamacm1-2)1:3.2713979935100257,((VBS00112-1,VBS00112-2,VBS00115-2,VBS00115-1,VBS00114-2,VBS00114-1,VBS00113-2,VBS00113-1)0.99:0.34839714220678586,(VBS00108-2,VBS00108-1,VBS00107-2,VBS00107-1)1:0.7248911199673393)1:0.8272704417910308)1:1.665885185094494,((Amac-50-2,Amac-50-1,Amac-49-2,Amac-49-1,Amac-42-2,Amac-42-1,Amac-44-2,Amac-44-1)1:3.362995951274762,((VBS00003-1,VBS00003-2,VBS00002-1,VBS00002-2,VBS00001-1,VBS00001-2,VBS00004-1,VBS00004-2)1:2.5300242325905313,(VBS00128-2,VBS00128-1,VBS00127-2,VBS00127-1,VBS00125-2,VBS00125-1)1:2.4848064064140805)1:0.4611691403280042)0.6:0.07085876197603914)0.32:0.0074955541516566835)1:0.6027718562296916,(((VBS00055-2,VBS00055-1,VBS00053-1,VBS00053-2)1:2.3964737627158947,((VBS00059-2,VBS00059-1,VBS00061-2,VBS00061-1,anopheles-minimus-minimus1scaffoldsaminm1-1,anopheles-minimus-minimus1scaffoldsaminm1-2)1:2.337748391884626,(anopheles-culicifacies-37scaffoldsacula1-1,anopheles-culicifacies-37scaffoldsacula1-2)1:3.531027398734069)0.95:0.2507008125336364)1:0.8049928323860985,(((Agab-M192-2,Agab-M192-1)1:3.4479887908991955,((Arho-7-1-2,Arho-7-1-1,Arho-7-4-2,Arho-7-4-1,Arho-7-2-1,Arho-7-2-2,Arho-7-3-2,Arho-7-3-1)1:3.1905443303449172,(anopheles-funestus-fumozchromosomesafunf3-1,anopheles-funestus-fumozchromosomesafunf3-2,Afun-13-2,Afun-13-1,anopheles-funestus-fumozscaffoldsafunf1-1,anopheles-funestus-fumozscaffoldsafunf1-2,Afun-1-1,Afun-1-2,Afun-9-1,Afun-9-2,Afun-3-1,Afun-3-2)1:2.243361771508856)0.7:0.10345599330698727)0.61:0.07374580691070108,(((Amou-2-1-1,Amou-2-1-2,Amou-2-4-1,Amou-2-4-2,Amou-2-5-2,Amou-2-5-1,Amou-2-2-1,Amou-2-2-2,Amou-2-3-1,Amou-2-3-2)1:2.5302194384009202,(Ajab-B620-1,Ajab-B620-2)1:3.052580382177107)1:0.8254756974558252,((Athe-6-2-2,Athe-6-2-1,Athe-2-2,Athe-2-1,Athe-1-2,Athe-1-1,Athe-6-1-2,Athe-6-1-1)1:2.0634694269337746,((Adem-32-1,Adem-32-2,Adem-19-1,Adem-19-2,Adem-34-2,Adem-34-1)0.49:0.05868612695050851,((Abro-22-2,Abro-22-1,Abro-33-2,Abro-33-1,Abro-21-2,Abro-21-1,Abro-30-2,Abro-30-1)0.35:0.0,(Ahan-615-1,Ahan-615-2,Ahan-6-1-2,Ahan-6-1-1)0.82:0.24185411420653735)0.45:0.04618024806937018)1:2.73024776838846)1:0.629049074634291)1:0.36609470574974845)0.7:0.09705788762245446)1:0.5878456255568755)1:0.3652983604242487)1:0.39079817556044444)0.81:0.1416716635728013,((Acar-193-1,Acar-193-2,Acar-192-1,Acar-192-2,Acar-195-2,Acar-195-1,Acar-194-1,Acar-194-2,Acar-191-2,Acar-191-1)1:1.4005765652955975,((Anil-238-1,Anil-238-2,Anil-237-1,Anil-237-2,Anil-236-1,Anil-236-2,Anil-233-1,Anil-233-2,Anil-239-2,Anil-239-1)0.88:0.25187209492555723,(Anils-7-1,Anils-7-2)1:2.8292840659163256)0.99:0.48067165498158293)1:2.9710158447416632)0.24:0.014184590881705594)0.66:0.10049126749428326)0.82:0.1991486454152236)1:0.5613659021643647)1:3.149882953381249);\n",
      "Weight calculation took 3.836895169 secs\n",
      "ASTRAL finished in 16.921 secs\n"
     ]
    }
   ],
   "source": [
    "! java -jar {astral} -i {GENE_TREES} -o {SPECIES_TREE} -a {MAPPING}"
   ]
  },
  {
   "cell_type": "markdown",
   "metadata": {},
   "source": [
    "## Sample tree"
   ]
  },
  {
   "cell_type": "code",
   "execution_count": 10,
   "metadata": {},
   "outputs": [
    {
     "name": "stdout",
     "output_type": "stream",
     "text": [
      "Abel-SP24:Abel-SP24-1,Abel-SP24-2\r\n"
     ]
    }
   ],
   "source": [
    "with open(SAMPLE_MAPPING, 'w') as o:\n",
    "    for _, r in comb_seq.groupby('s_Sample')['hap_Sample'] \\\n",
    "                      .unique() \\\n",
    "                      .reset_index() \\\n",
    "                      .iterrows():\n",
    "        \n",
    "        o.write('{}:{}\\n'.format(r[0], ','.join(r[1])))\n",
    "! head -1 {SAMPLE_MAPPING}"
   ]
  },
  {
   "cell_type": "code",
   "execution_count": 11,
   "metadata": {},
   "outputs": [
    {
     "name": "stdout",
     "output_type": "stream",
     "text": [
      "\n",
      "================== ASTRAL ===================== \n",
      "\n",
      "This is ASTRAL version 5.6.3\n",
      "Gene trees are treated as unrooted\n",
      "62 trees read from data/5_gene_trees.nwk\n",
      "All output trees will be *arbitrarily* rooted at VBS00112\n",
      "\n",
      "======== Running the main analysis\n",
      "Number of taxa: 306 (153 species)\n",
      "Taxa: {Aimp-M0001=[Aimp-M0001-1, Aimp-M0001-2], Avin-B0009=[Avin-B0009-1, Avin-B0009-2], Aten-191=[Aten-191-2, Aten-191-1], anopheles-farauti-far1scaffoldsafarf2=[anopheles-farauti-far1scaffoldsafarf2-1, anopheles-farauti-far1scaffoldsafarf2-2], Athe-6-2=[Athe-6-2-2, Athe-6-2-1], Abro-22=[Abro-22-2, Abro-22-1], Acol-570=[Acol-570-1, Acol-570-2], Athe-6-1=[Athe-6-1-2, Athe-6-1-1], Abro-21=[Abro-21-2, Abro-21-1], Anils-7=[Anils-7-1, Anils-7-2], Avin-M0012=[Avin-M0012-2, Avin-M0012-1], anopheles-gambiae-pimperenascaffoldsagams1=[anopheles-gambiae-pimperenascaffoldsagams1-1, anopheles-gambiae-pimperenascaffoldsagams1-2], anopheles-funestus-fumozchromosomesafunf3=[anopheles-funestus-fumozchromosomesafunf3-1, anopheles-funestus-fumozchromosomesafunf3-2], Avin-B0004=[Avin-B0004-1, Avin-B0004-2], VBS00114=[VBS00114-2, VBS00114-1], VBS00113=[VBS00113-2, VBS00113-1], VBS00115=[VBS00115-2, VBS00115-1], Avin-M0009=[Avin-M0009-1, Avin-M0009-2], VBS00112=[VBS00112-1, VBS00112-2], anopheles-atroparvus-ebrochromosomesaatre3=[anopheles-atroparvus-ebrochromosomesaatre3-2, anopheles-atroparvus-ebrochromosomesaatre3-1], Amou-2-1=[Amou-2-1-1, Amou-2-1-2], anopheles-sinensis-sinensisscaffoldsasins2=[anopheles-sinensis-sinensisscaffoldsasins2-1, anopheles-sinensis-sinensisscaffoldsasins2-2], Ahan-615=[Ahan-615-1, Ahan-615-2], Amou-2-5=[Amou-2-5-2, Amou-2-5-1], Amou-2-4=[Amou-2-4-1, Amou-2-4-2], Amou-2-3=[Amou-2-3-1, Amou-2-3-2], Amou-2-2=[Amou-2-2-1, Amou-2-2-2], Aten-185=[Aten-185-2, Aten-185-1], Acar-195=[Acar-195-2, Acar-195-1], anopheles-sinensis-chinascaffoldsasinc2=[anopheles-sinensis-chinascaffoldsasinc2-1, anopheles-sinensis-chinascaffoldsasinc2-2], Acar-194=[Acar-194-1, Acar-194-2], Acar-193=[Acar-193-1, Acar-193-2], Acar-192=[Acar-192-1, Acar-192-2], VBS00128=[VBS00128-2, VBS00128-1], anopheles-funestus-fumozscaffoldsafunf1=[anopheles-funestus-fumozscaffoldsafunf1-1, anopheles-funestus-fumozscaffoldsafunf1-2], VBS00004=[VBS00004-1, VBS00004-2], VBS00125=[VBS00125-2, VBS00125-1], VBS00003=[VBS00003-1, VBS00003-2], Abel-SP24=[Abel-SP24-1, Abel-SP24-2], VBS00127=[VBS00127-2, VBS00127-1], Acou-962=[Acou-962-1, Acou-962-2], VBS00002=[VBS00002-1, VBS00002-2], VBS00122=[VBS00122-2, VBS00122-1], VBS00001=[VBS00001-1, VBS00001-2], Acar-191=[Acar-191-2, Acar-191-1], VBS00083=[VBS00083-1, VBS00083-2], VBS00086=[VBS00086-2, VBS00086-1], Aten-79=[Aten-79-1, Aten-79-2], anopheles-darlingi-coariscaffoldsadarc3=[anopheles-darlingi-coariscaffoldsadarc3-2, anopheles-darlingi-coariscaffoldsadarc3-1], VBS00085=[VBS00085-1, VBS00085-2], Aimp-M1449=[Aimp-M1449-1, Aimp-M1449-2], VBS00082=[VBS00082-1, VBS00082-2], Aten-333=[Aten-333-1, Aten-333-2], Aimp-M190=[Aimp-M190-2, Aimp-M190-1], anopheles-gambiae-pestchromosomesagamp4=[anopheles-gambiae-pestchromosomesagamp4-2, anopheles-gambiae-pestchromosomesagamp4-1], Athe-1=[Athe-1-2, Athe-1-1], Athe-2=[Athe-2-2, Athe-2-1], VBS00059=[VBS00059-2, VBS00059-1], anopheles-quadriannulatus-sangwescaffoldsaquas1=[anopheles-quadriannulatus-sangwescaffoldsaquas1-1, anopheles-quadriannulatus-sangwescaffoldsaquas1-2], VBS00055=[VBS00055-2, VBS00055-1], VBS00051=[VBS00051-2, VBS00051-1], anopheles-koliensis-akwgs3contigsjxxb01=[anopheles-koliensis-akwgs3contigsjxxb01-1, anopheles-koliensis-akwgs3contigsjxxb01-2], VBS00050=[VBS00050-2, VBS00050-1], VBS00053=[VBS00053-1, VBS00053-2], Azie-1032=[Azie-1032-2, Azie-1032-1], anopheles-albimanus-steclachromosomesaalbs2=[anopheles-albimanus-steclachromosomesaalbs2-2, anopheles-albimanus-steclachromosomesaalbs2-1], Abro-30=[Abro-30-2, Abro-30-1], Abro-33=[Abro-33-2, Abro-33-1], Acru-RS32=[Acru-RS32-1, Acru-RS32-2], VBS00107=[VBS00107-2, VBS00107-1], VBS00108=[VBS00108-2, VBS00108-1], Afun-9=[Afun-9-1, Afun-9-2], anopheles-punctulatus-apwgs2contigsjxxa01=[anopheles-punctulatus-apwgs2contigsjxxa01-2, anopheles-punctulatus-apwgs2contigsjxxa01-1], Adur-97-6=[Adur-97-6-2, Adur-97-6-1], VBS00061=[VBS00061-2, VBS00061-1], anopheles-arabiensis-sharakhov=[anopheles-arabiensis-sharakhov-1, anopheles-arabiensis-sharakhov-2], Aten-954=[Aten-954-1, Aten-954-2], Afun-3=[Afun-3-1, Afun-3-2], anopheles-dirus-wrair2scaffoldsadirw1=[anopheles-dirus-wrair2scaffoldsadirw1-2, anopheles-dirus-wrair2scaffoldsadirw1-1], Adur-97-3=[Adur-97-3-2, Adur-97-3-1], Afun-1=[Afun-1-1, Afun-1-2], Adur-97-4=[Adur-97-4-2, Adur-97-4-1], Adur-97-5=[Adur-97-5-1, Adur-97-5-2], anopheles-epiroticus-epiroticus2scaffoldsaepie1=[anopheles-epiroticus-epiroticus2scaffoldsaepie1-2, anopheles-epiroticus-epiroticus2scaffoldsaepie1-1], Azie-334=[Azie-334-1, Azie-334-2], Acou-80=[Acou-80-2, Acou-80-1], VBS00158=[VBS00158-1, VBS00158-2], anopheles-arabiensis-dongolascaffoldsaarad1=[anopheles-arabiensis-dongolascaffoldsaarad1-1, anopheles-arabiensis-dongolascaffoldsaarad1-2], VBS00157=[VBS00157-2, VBS00157-1], VBS00154=[VBS00154-1, VBS00154-2], anopheles-culicifacies-37scaffoldsacula1=[anopheles-culicifacies-37scaffoldsacula1-1, anopheles-culicifacies-37scaffoldsacula1-2], VBS00156=[VBS00156-2, VBS00156-1], Afun-13=[Afun-13-2, Afun-13-1], VBS00150=[VBS00150-1, VBS00150-2], Adem-34=[Adem-34-2, Adem-34-1], Ajab-B620=[Ajab-B620-1, Ajab-B620-2], Adem-32=[Adem-32-1, Adem-32-2], Ahan-6-1=[Ahan-6-1-2, Ahan-6-1-1], anopheles-stephensi-indianscaffoldsastei2=[anopheles-stephensi-indianscaffoldsastei2-1, anopheles-stephensi-indianscaffoldsastei2-2], Azie-1055=[Azie-1055-2, Azie-1055-1], anopheles-stephensi-sda-500scaffoldsastes1=[anopheles-stephensi-sda-500scaffoldsastes1-2, anopheles-stephensi-sda-500scaffoldsastes1-1], Amac-50=[Amac-50-2, Amac-50-1], Aimp-M0030=[Aimp-M0030-2, Aimp-M0030-1], Acou-71=[Acou-71-1, Acou-71-2], Acol-645=[Acol-645-2, Acol-645-1], VBS00048=[VBS00048-2, VBS00048-1], Apal-257=[Apal-257-1, Apal-257-2], VBS00049=[VBS00049-1, VBS00049-2], Anil-237=[Anil-237-1, Anil-237-2], Arho-7-3=[Arho-7-3-2, Arho-7-3-1], Anil-236=[Anil-236-1, Anil-236-2], Arho-7-4=[Arho-7-4-2, Arho-7-4-1], Anil-239=[Anil-239-2, Anil-239-1], Anil-238=[Anil-238-1, Anil-238-2], Anil-233=[Anil-233-1, Anil-233-2], anopheles-aquasalis-A_aquasalis_v1=[anopheles-aquasalis-A_aquasalis_v1-1, anopheles-aquasalis-A_aquasalis_v1-2], Arho-7-1=[Arho-7-1-2, Arho-7-1-1], Arho-7-2=[Arho-7-2-1, Arho-7-2-2], anopheles-cracens-ASM209184v1-scaffolds=[anopheles-cracens-ASM209184v1-scaffolds-2, anopheles-cracens-ASM209184v1-scaffolds-1], Amac-49=[Amac-49-2, Amac-49-1], anopheles-minimus-minimus1scaffoldsaminm1=[anopheles-minimus-minimus1scaffoldsaminm1-1, anopheles-minimus-minimus1scaffoldsaminm1-2], anopheles-coluzzii-mali-nihscaffoldsacolm1=[anopheles-coluzzii-mali-nihscaffoldsacolm1-1, anopheles-coluzzii-mali-nihscaffoldsacolm1-2], Amac-42=[Amac-42-2, Amac-42-1], Amac-44=[Amac-44-2, Amac-44-1], Acol-558=[Acol-558-2, Acol-558-1], Agab-M192=[Agab-M192-2, Agab-M192-1], Acou-956=[Acou-956-2, Acou-956-1], Adem-19=[Adem-19-1, Adem-19-2], anopheles-maculatus-maculatus3scaffoldsamacm1=[anopheles-maculatus-maculatus3scaffoldsamacm1-1, anopheles-maculatus-maculatus3scaffoldsamacm1-2], Aory-SP141=[Aory-SP141-2, Aory-SP141-1], anopheles-christyi-achkn1017scaffoldsachra1=[anopheles-christyi-achkn1017scaffoldsachra1-1, anopheles-christyi-achkn1017scaffoldsachra1-2], Agam-30=[Agam-30-2, Agam-30-1], Agam-32=[Agam-32-2, Agam-32-1], Agam-35=[Agam-35-1, Agam-35-2], Acou-959=[Acou-959-1, Acou-959-2], Agam-37=[Agam-37-1, Agam-37-2], Agam-38=[Agam-38-1, Agam-38-2], Azie-77=[Azie-77-2, Azie-77-1], Avin-M0004=[Avin-M0004-1, Avin-M0004-2], Azie-70=[Azie-70-2, Azie-70-1], anopheles-merus-mafscaffoldsamerm2=[anopheles-merus-mafscaffoldsamerm2-2, anopheles-merus-mafscaffoldsamerm2-1], VBS00147=[VBS00147-1, VBS00147-2], Apal-81=[Apal-81-2, Apal-81-1], VBS00146=[VBS00146-1, VBS00146-2], VBS00025=[VBS00025-2, VBS00025-1], VBS00149=[VBS00149-1, VBS00149-2], VBS00148=[VBS00148-1, VBS00148-2], VBS00022=[VBS00022-1, VBS00022-2], VBS00021=[VBS00021-2, VBS00021-1], VBS00024=[VBS00024-1, VBS00024-2], VBS00023=[VBS00023-2, VBS00023-1], VBS00144=[VBS00144-1, VBS00144-2], anopheles-melas-cm1001059ascaffoldsamelc2=[anopheles-melas-cm1001059ascaffoldsamelc2-1, anopheles-melas-cm1001059ascaffoldsamelc2-2]}\n",
      "Taxon occupancy: {VBS00158-1=56, VBS00112-1=57, anopheles-atroparvus-ebrochromosomesaatre3-2=34, Abro-22-2=62, VBS00158-2=56, anopheles-atroparvus-ebrochromosomesaatre3-1=34, anopheles-darlingi-coariscaffoldsadarc3-2=34, anopheles-darlingi-coariscaffoldsadarc3-1=34, Avin-M0012-2=50, Abro-22-1=62, anopheles-aquasalis-A_aquasalis_v1-1=34, Athe-6-2-2=48, Agam-38-1=57, Athe-6-2-1=48, Agam-38-2=57, anopheles-coluzzii-mali-nihscaffoldsacolm1-1=59, anopheles-coluzzii-mali-nihscaffoldsacolm1-2=59, Azie-77-2=47, Azie-77-1=47, VBS00150-1=52, Adem-32-1=28, anopheles-aquasalis-A_aquasalis_v1-2=34, Acar-193-1=48, Acar-193-2=48, VBS00150-2=52, Adem-32-2=28, VBS00112-2=57, Aimp-M190-2=3, VBS00147-1=54, Abro-33-2=38, Acou-80-2=45, VBS00147-2=54, Acou-80-1=45, Aimp-M190-1=3, Abro-33-1=38, Ahan-615-1=53, Ahan-615-2=53, VBS00003-1=50, VBS00049-1=52, VBS00003-2=50, VBS00049-2=52, Anil-238-1=46, Anil-238-2=46, Avin-B0009-1=52, Avin-B0009-2=52, VBS00157-2=56, anopheles-arabiensis-sharakhov-1=60, VBS00157-1=56, Aten-185-2=46, Aten-185-1=46, anopheles-arabiensis-sharakhov-2=60, Abro-21-2=21, Abro-21-1=21, VBS00051-2=27, Acou-962-1=48, VBS00051-1=27, Acou-962-2=48, VBS00059-2=57, VBS00059-1=57, Arho-7-1-2=60, Acar-192-1=51, Arho-7-1-1=60, Acar-192-2=51, Amou-2-1-1=55, Adur-97-6-2=42, Adur-97-6-1=42, VBS00146-1=55, anopheles-funestus-fumozchromosomesafunf3-1=48, VBS00146-2=55, Acou-959-1=53, Acou-959-2=53, Amou-2-1-2=55, anopheles-funestus-fumozchromosomesafunf3-2=48, VBS00086-2=40, anopheles-koliensis-akwgs3contigsjxxb01-1=42, Apal-81-2=33, VBS00002-1=50, VBS00086-1=40, anopheles-koliensis-akwgs3contigsjxxb01-2=42, Apal-81-1=33, VBS00002-2=50, VBS00048-2=47, VBS00025-2=41, Aten-79-1=45, VBS00025-1=41, Anil-237-1=39, Anil-237-2=39, VBS00048-1=47, VBS00108-2=53, VBS00108-1=53, Agam-30-2=58, anopheles-sinensis-sinensisscaffoldsasins2-1=37, Agam-30-1=58, anopheles-sinensis-sinensisscaffoldsasins2-2=37, Aten-79-2=45, Amac-50-2=58, Acou-71-1=44, Amac-50-1=58, VBS00156-2=57, Afun-13-2=1, Afun-13-1=1, Acou-71-2=44, anopheles-funestus-fumozscaffoldsafunf1-1=50, VBS00050-2=52, VBS00050-1=52, anopheles-arabiensis-dongolascaffoldsaarad1-1=62, anopheles-funestus-fumozscaffoldsafunf1-2=50, Adur-97-5-1=29, anopheles-arabiensis-dongolascaffoldsaarad1-2=62, Adem-19-1=45, Adem-19-2=45, Acar-195-2=46, Adem-34-2=58, anopheles-culicifacies-37scaffoldsacula1-1=55, Adem-34-1=58, Acar-195-1=46, VBS00156-1=57, anopheles-culicifacies-37scaffoldsacula1-2=55, Adur-97-5-2=29, VBS00122-2=51, VBS00122-1=51, Ahan-6-1-2=59, VBS00085-1=42, VBS00024-1=41, VBS00001-1=33, VBS00085-2=42, Ahan-6-1-1=59, VBS00001-2=33, Anil-236-1=47, VBS00024-2=41, Anil-236-2=47, VBS00107-2=46, VBS00107-1=46, anopheles-gambiae-pestchromosomesagamp4-2=62, anopheles-gambiae-pestchromosomesagamp4-1=62, Azie-334-1=45, Azie-334-2=45, Abel-SP24-1=16, Abel-SP24-2=16, Adur-97-4-2=38, Adur-97-4-1=38, Anils-7-1=26, Anils-7-2=26, Acar-194-1=49, Acar-194-2=49, anopheles-quadriannulatus-sangwescaffoldsaquas1-1=61, anopheles-quadriannulatus-sangwescaffoldsaquas1-2=61, anopheles-dirus-wrair2scaffoldsadirw1-2=49, Avin-M0009-1=52, anopheles-dirus-wrair2scaffoldsadirw1-1=49, Abro-30-2=59, Abro-30-1=59, anopheles-stephensi-sda-500scaffoldsastes1-2=59, anopheles-stephensi-sda-500scaffoldsastes1-1=59, Acol-570-1=52, VBS00061-2=55, Acol-570-2=52, VBS00061-1=55, Avin-M0009-2=52, VBS00023-2=46, VBS00023-1=46, Agam-32-2=59, Agam-32-1=59, Aimp-M0030-2=46, Avin-M0012-1=50, Aimp-M0030-1=46, VBS00144-1=45, VBS00144-2=45, anopheles-epiroticus-epiroticus2scaffoldsaepie1-2=53, Athe-2-2=61, Athe-2-1=61, anopheles-epiroticus-epiroticus2scaffoldsaepie1-1=53, anopheles-maculatus-maculatus3scaffoldsamacm1-1=44, Adur-97-3-2=45, Adur-97-3-1=45, anopheles-maculatus-maculatus3scaffoldsamacm1-2=44, Amac-49-2=53, Amac-49-1=53, Aten-954-1=45, VBS00154-1=50, Arho-7-4-2=59, Arho-7-4-1=59, Aten-954-2=45, VBS00154-2=50, Acol-558-2=58, Acol-558-1=58, Amou-2-4-1=58, Acru-RS32-1=26, Avin-M0004-1=50, Amou-2-4-2=58, Acru-RS32-2=26, Avin-M0004-2=50, VBS00022-1=44, VBS00083-1=50, VBS00083-2=50, VBS00022-2=44, VBS00128-2=52, anopheles-sinensis-chinascaffoldsasinc2-1=40, VBS00128-1=52, anopheles-sinensis-chinascaffoldsasinc2-2=40, anopheles-cracens-ASM209184v1-scaffolds-2=43, anopheles-cracens-ASM209184v1-scaffolds-1=43, Athe-1-2=60, Athe-1-1=60, Aory-SP141-2=14, Aory-SP141-1=14, Agam-35-1=58, Agam-35-2=58, VBS00055-2=41, VBS00055-1=41, Afun-1-1=61, Afun-1-2=61, VBS00115-2=59, Afun-9-1=3, VBS00115-1=59, Amac-42-2=58, Ajab-B620-1=59, Afun-9-2=3, Amac-42-1=58, Ajab-B620-2=59, Amou-2-5-2=59, VBS00082-1=46, Amou-2-5-1=59, VBS00021-2=46, VBS00082-2=46, VBS00021-1=46, Anil-233-1=45, Anil-233-2=45, Avin-B0004-1=52, anopheles-minimus-minimus1scaffoldsaminm1-1=54, Avin-B0004-2=52, anopheles-minimus-minimus1scaffoldsaminm1-2=54, VBS00127-2=55, VBS00127-1=55, Aimp-M0001-1=48, Aimp-M0001-2=48, Apal-257-1=13, Apal-257-2=13, anopheles-gambiae-pimperenascaffoldsagams1-1=62, anopheles-christyi-achkn1017scaffoldsachra1-1=49, anopheles-christyi-achkn1017scaffoldsachra1-2=49, anopheles-gambiae-pimperenascaffoldsagams1-2=62, anopheles-melas-cm1001059ascaffoldsamelc2-1=60, anopheles-melas-cm1001059ascaffoldsamelc2-2=60, Acar-191-2=49, Arho-7-2-1=3, anopheles-merus-mafscaffoldsamerm2-2=61, anopheles-merus-mafscaffoldsamerm2-1=61, VBS00114-2=54, VBS00114-1=54, Aten-191-2=47, Aten-191-1=47, Acar-191-1=49, Arho-7-2-2=3, VBS00149-1=50, VBS00149-2=50, Amou-2-2-1=60, Acou-956-2=25, Amou-2-2-2=60, Acou-956-1=25, Azie-1032-2=41, Azie-1055-2=30, Azie-1032-1=41, anopheles-albimanus-steclachromosomesaalbs2-2=38, Aimp-M1449-1=48, anopheles-albimanus-steclachromosomesaalbs2-1=38, Azie-1055-1=30, anopheles-stephensi-indianscaffoldsastei2-1=59, anopheles-stephensi-indianscaffoldsastei2-2=59, Aimp-M1449-2=48, Agab-M192-2=55, anopheles-punctulatus-apwgs2contigsjxxa01-2=40, anopheles-punctulatus-apwgs2contigsjxxa01-1=40, VBS00053-1=31, Agam-37-1=55, Agam-37-2=55, Anil-239-2=47, Athe-6-1-2=61, Athe-6-1-1=61, Agab-M192-1=55, VBS00053-2=31, Acol-645-2=45, Acol-645-1=45, Afun-3-1=50, Amac-44-2=56, Afun-3-2=50, Amac-44-1=56, Azie-70-2=34, VBS00113-2=51, Arho-7-3-2=59, Azie-70-1=34, VBS00113-1=51, Arho-7-3-1=59, VBS00148-1=57, VBS00148-2=57, Amou-2-3-1=59, Amou-2-3-2=59, VBS00004-1=56, VBS00004-2=56, anopheles-farauti-far1scaffoldsafarf2-1=45, anopheles-farauti-far1scaffoldsafarf2-2=45, Anil-239-1=47, Aten-333-1=48, Aten-333-2=48, VBS00125-2=59, VBS00125-1=59}\n",
      "Number of gene trees: 62\n",
      "62 trees have missing taxa\n",
      "Calculating quartet distance matrix (for completion of X)\n"
     ]
    },
    {
     "name": "stdout",
     "output_type": "stream",
     "text": [
      "Species tree distances calculated ...\n",
      "Will attempt to complete bipartitions from X before adding using a distance matrix.\n",
      "Building set of clusters (X) from gene trees \n",
      "In second round sampling 2 rounds will be done\n",
      "------------------------------\n",
      "gradient0: 6151\n",
      "------------------------------\n",
      "gradient1: 846\n",
      "Number of Clusters after addition by distance: 6997\n",
      "calculating extra bipartitions to be added at level 1 ...\n",
      "Adding to X using resolutions of greedy consensus ...\n",
      "Limit for sigma of degrees:3875\n",
      "polytomy size limit : 16\n",
      "discarded polytomies:  [3, 3, 3, 3, 3, 3, 3, 3, 3, 3, 3, 3, 3, 3, 3, 3, 3, 3, 3, 4, 4, 4, 4, 4, 4, 4, 4, 4, 4, 4, 4, 4, 4, 4, 5, 5, 5, 5, 5, 5, 5, 5, 5, 5, 5, 5, 6, 7, 9, 9, 11, 15, 15, 16]\n",
      "Threshold 0.0:\n",
      "polytomy of size 3; rounds with additions with at least 5 support: 1; clusters: 7003\n",
      "Threshold 0.01:\n",
      "polytomy of size 3; rounds with additions with at least 5 support: 0; clusters: 7003\n",
      "Threshold 0.02:\n",
      "polytomy of size 4; rounds with additions with at least 5 support: 0; clusters: 7011\n",
      "Threshold 0.05:\n",
      "polytomy of size 3; rounds with additions with at least 5 support: 0; clusters: 7011\n",
      "polytomy of size 7; rounds with additions with at least 5 support: 2; clusters: 7017\n",
      "Threshold 0.1:\n",
      "polytomy of size 3; rounds with additions with at least 5 support: 0; clusters: 7017\n",
      "polytomy of size 4; rounds with additions with at least 5 support: 1; clusters: 7019\n",
      "polytomy of size 4; rounds with additions with at least 5 support: 0; clusters: 7019\n",
      "polytomy of size 3; rounds with additions with at least 5 support: 0; clusters: 7019\n",
      "polytomy of size 11; rounds with additions with at least 5 support: 0; clusters: 7027\n",
      "polytomy of size 3; rounds with additions with at least 5 support: 0; clusters: 7027\n",
      "Threshold 0.2:\n",
      "polytomy of size 3; rounds with additions with at least 5 support: 0; clusters: 7027\n",
      "polytomy of size 4; rounds with additions with at least 5 support: 0; clusters: 7027\n",
      "polytomy of size 5; rounds with additions with at least 5 support: 0; clusters: 7027\n",
      "polytomy of size 3; rounds with additions with at least 5 support: 0; clusters: 7027\n",
      "polytomy of size 5; rounds with additions with at least 5 support: 0; clusters: 7033\n",
      "polytomy of size 4; rounds with additions with at least 5 support: 0; clusters: 7033\n",
      "polytomy of size 3; rounds with additions with at least 5 support: 0; clusters: 7033\n",
      "polytomy of size 4; rounds with additions with at least 5 support: 0; clusters: 7033\n",
      "polytomy of size 4; rounds with additions with at least 5 support: 0; clusters: 7033\n",
      "polytomy of size 15; rounds with additions with at least 5 support: 0; clusters: 7033\n",
      "polytomy of size 3; rounds with additions with at least 5 support: 0; clusters: 7033\n",
      "polytomy of size 3; rounds with additions with at least 5 support: 0; clusters: 7033\n",
      "polytomy of size 5; rounds with additions with at least 5 support: 0; clusters: 7033\n",
      "polytomy of size 6; rounds with additions with at least 5 support: 0; clusters: 7035\n",
      "polytomy of size 5; rounds with additions with at least 5 support: 1; clusters: 7037\n",
      "polytomy of size 3; rounds with additions with at least 5 support: 0; clusters: 7037\n",
      "polytomy of size 4; rounds with additions with at least 5 support: 0; clusters: 7037\n",
      "polytomy of size 5; rounds with additions with at least 5 support: 0; clusters: 7037\n",
      "Threshold 0.3333333333333333:\n",
      "polytomy of size 4; rounds with additions with at least 5 support: 0; clusters: 7037\n",
      "polytomy of size 3; rounds with additions with at least 5 support: 0; clusters: 7037\n",
      "polytomy of size 4; rounds with additions with at least 5 support: 0; clusters: 7037\n",
      "polytomy of size 5; rounds with additions with at least 5 support: 0; clusters: 7037\n",
      "polytomy of size 3; rounds with additions with at least 5 support: 0; clusters: 7037\n",
      "polytomy of size 3; rounds with additions with at least 5 support: 0; clusters: 7037\n",
      "polytomy of size 3; rounds with additions with at least 5 support: 0; clusters: 7037\n",
      "polytomy of size 5; rounds with additions with at least 5 support: 0; clusters: 7037\n",
      "polytomy of size 4; rounds with additions with at least 5 support: 0; clusters: 7037\n",
      "polytomy of size 5; rounds with additions with at least 5 support: 0; clusters: 7037\n",
      "polytomy of size 4; rounds with additions with at least 5 support: 0; clusters: 7037\n",
      "polytomy of size 5; rounds with additions with at least 5 support: 0; clusters: 7037\n",
      "polytomy of size 9; rounds with additions with at least 5 support: 0; clusters: 7043\n",
      "polytomy of size 5; rounds with additions with at least 5 support: 0; clusters: 7043\n",
      "polytomy of size 3; rounds with additions with at least 5 support: 0; clusters: 7043\n",
      "polytomy of size 5; rounds with additions with at least 5 support: 0; clusters: 7043\n",
      "polytomy of size 3; rounds with additions with at least 5 support: 0; clusters: 7043\n",
      "polytomy of size 3; rounds with additions with at least 5 support: 0; clusters: 7043\n",
      "polytomy of size 9; rounds with additions with at least 5 support: 0; clusters: 7043\n",
      "polytomy of size 4; rounds with additions with at least 5 support: 0; clusters: 7043\n",
      "polytomy of size 4; rounds with additions with at least 5 support: 0; clusters: 7043\n",
      "polytomy of size 15; rounds with additions with at least 5 support: 0; clusters: 7043\n",
      "polytomy of size 16; rounds with additions with at least 5 support: 0; clusters: 7051\n",
      "polytomy of size 4; rounds with additions with at least 5 support: 0; clusters: 7051\n",
      "polytomy of size 5; rounds with additions with at least 5 support: 0; clusters: 7051\n",
      "max k is :4\n",
      "Number of Clusters after addition by greedy: 7051\n",
      "gradient0 in heuristiic: 7051\n",
      "calculating extra bipartitions to be added at level 1 ...\n",
      "Adding to X using resolutions of greedy consensus ...\n",
      "Limit for sigma of degrees:3875\n",
      "polytomy size limit : 16\n",
      "discarded polytomies:  [3, 3, 3, 3, 3, 3, 3, 3, 3, 3, 3, 3, 3, 3, 3, 3, 3, 3, 3, 4, 4, 4, 4, 4, 4, 4, 4, 4, 4, 4, 4, 4, 4, 4, 4, 5, 5, 5, 5, 5, 5, 5, 5, 5, 5, 6, 6, 7, 9, 10, 11, 14, 15, 16]\n",
      "Threshold 0.0:\n",
      "polytomy of size 3; rounds with additions with at least 5 support: 1; clusters: 7057\n",
      "Threshold 0.01:\n",
      "polytomy of size 3; rounds with additions with at least 5 support: 0; clusters: 7057\n",
      "Threshold 0.02:\n",
      "polytomy of size 5; rounds with additions with at least 5 support: 0; clusters: 7091\n",
      "Threshold 0.05:\n",
      "polytomy of size 3; rounds with additions with at least 5 support: 0; clusters: 7091\n",
      "polytomy of size 7; rounds with additions with at least 5 support: 1; clusters: 7099\n",
      "Threshold 0.1:\n",
      "polytomy of size 4; rounds with additions with at least 5 support: 0; clusters: 7099\n",
      "polytomy of size 4; rounds with additions with at least 5 support: 0; clusters: 7099\n",
      "polytomy of size 10; rounds with additions with at least 5 support: 1; clusters: 7105\n",
      "polytomy of size 3; rounds with additions with at least 5 support: 0; clusters: 7105\n",
      "Threshold 0.2:\n",
      "polytomy of size 3; rounds with additions with at least 5 support: 0; clusters: 7105\n",
      "polytomy of size 3; rounds with additions with at least 5 support: 0; clusters: 7105\n",
      "polytomy of size 4; rounds with additions with at least 5 support: 0; clusters: 7105\n",
      "polytomy of size 4; rounds with additions with at least 5 support: 0; clusters: 7105\n",
      "polytomy of size 6; rounds with additions with at least 5 support: 0; clusters: 7107\n",
      "polytomy of size 4; rounds with additions with at least 5 support: 0; clusters: 7107\n",
      "polytomy of size 3; rounds with additions with at least 5 support: 0; clusters: 7107\n",
      "polytomy of size 4; rounds with additions with at least 5 support: 0; clusters: 7107\n",
      "polytomy of size 4; rounds with additions with at least 5 support: 0; clusters: 7107\n",
      "polytomy of size 3; rounds with additions with at least 5 support: 0; clusters: 7107\n",
      "polytomy of size 14; rounds with additions with at least 5 support: 0; clusters: 7109\n",
      "polytomy of size 3; rounds with additions with at least 5 support: 0; clusters: 7109\n",
      "polytomy of size 3; rounds with additions with at least 5 support: 0; clusters: 7109\n",
      "polytomy of size 5; rounds with additions with at least 5 support: 0; clusters: 7109\n",
      "polytomy of size 6; rounds with additions with at least 5 support: 0; clusters: 7109\n",
      "polytomy of size 5; rounds with additions with at least 5 support: 0; clusters: 7109\n",
      "polytomy of size 3; rounds with additions with at least 5 support: 0; clusters: 7109\n",
      "polytomy of size 4; rounds with additions with at least 5 support: 0; clusters: 7109\n"
     ]
    },
    {
     "name": "stdout",
     "output_type": "stream",
     "text": [
      "polytomy of size 5; rounds with additions with at least 5 support: 0; clusters: 7109\n",
      "Threshold 0.3333333333333333:\n",
      "polytomy of size 4; rounds with additions with at least 5 support: 0; clusters: 7109\n",
      "polytomy of size 3; rounds with additions with at least 5 support: 0; clusters: 7109\n",
      "polytomy of size 4; rounds with additions with at least 5 support: 0; clusters: 7109\n",
      "polytomy of size 5; rounds with additions with at least 5 support: 0; clusters: 7109\n",
      "polytomy of size 3; rounds with additions with at least 5 support: 0; clusters: 7109\n",
      "polytomy of size 3; rounds with additions with at least 5 support: 0; clusters: 7109\n",
      "polytomy of size 3; rounds with additions with at least 5 support: 0; clusters: 7109\n",
      "polytomy of size 5; rounds with additions with at least 5 support: 0; clusters: 7109\n",
      "polytomy of size 4; rounds with additions with at least 5 support: 0; clusters: 7109\n",
      "polytomy of size 5; rounds with additions with at least 5 support: 0; clusters: 7109\n",
      "polytomy of size 4; rounds with additions with at least 5 support: 0; clusters: 7109\n",
      "polytomy of size 4; rounds with additions with at least 5 support: 0; clusters: 7109\n",
      "polytomy of size 11; rounds with additions with at least 5 support: 0; clusters: 7109\n",
      "polytomy of size 5; rounds with additions with at least 5 support: 0; clusters: 7109\n",
      "polytomy of size 3; rounds with additions with at least 5 support: 0; clusters: 7109\n",
      "polytomy of size 5; rounds with additions with at least 5 support: 0; clusters: 7109\n",
      "polytomy of size 9; rounds with additions with at least 5 support: 0; clusters: 7109\n",
      "polytomy of size 4; rounds with additions with at least 5 support: 0; clusters: 7109\n",
      "polytomy of size 3; rounds with additions with at least 5 support: 0; clusters: 7109\n",
      "polytomy of size 3; rounds with additions with at least 5 support: 0; clusters: 7109\n",
      "polytomy of size 3; rounds with additions with at least 5 support: 0; clusters: 7109\n",
      "polytomy of size 4; rounds with additions with at least 5 support: 0; clusters: 7109\n",
      "polytomy of size 15; rounds with additions with at least 5 support: 0; clusters: 7109\n",
      "polytomy of size 16; rounds with additions with at least 5 support: 0; clusters: 7109\n",
      "polytomy of size 4; rounds with additions with at least 5 support: 0; clusters: 7109\n",
      "polytomy of size 5; rounds with additions with at least 5 support: 0; clusters: 7109\n",
      "max k is :2\n",
      "Number of Clusters after addition by greedy: 7109\n",
      "gradient1 in heuristiic: 58\n",
      "partitions formed in 14.056 secs\n",
      "Dynamic Programming starting after 14.057 secs\n",
      "Using tree-based weight calculation.\n",
      "Using polytree-based weight calculation.\n",
      "Polytree max score: 9218070982\n",
      "Polytree building time: 0.088 seconds.\n",
      "Number of quartet trees in the gene trees: 9218070982\n",
      "Size of largest cluster: 306\n",
      "Greedy score: 5826132031\n",
      "estimationFactor: 1.5821939724249274\n",
      "Sub-optimal score: 6024124951\n",
      "Total Number of elements weighted: 18394\n",
      "Normalized score (portion of input quartet trees satisfied before correcting for multiple individuals): 0.7445506155682584\n",
      "Optimization score: 6863320424\n",
      "Optimal tree inferred in 22.993 secs.\n",
      "(Anils-7,((Anil-237,Anil-239),((Anil-233,(Anil-238,Anil-236)),((Acar-191,(Acar-192,(Acar-195,(Acar-193,Acar-194)))),((((Adur-97-6,(Adur-97-5,(Adur-97-4,Adur-97-3))),(Avin-M0012,(Avin-M0004,(Avin-M0009,(Avin-B0009,Avin-B0004))))),(((Abel-SP24,Acru-RS32),(anopheles-darlingi-coariscaffoldsadarc3,(anopheles-albimanus-steclachromosomesaalbs2,(anopheles-aquasalis-A_aquasalis_v1,Aory-SP141)))),((Aimp-M1449,(Aimp-M190,(Aimp-M0030,Aimp-M0001))),(anopheles-atroparvus-ebrochromosomesaatre3,((VBS00025,(VBS00021,(VBS00023,(VBS00024,VBS00022)))),(((VBS00083,VBS00082),(anopheles-sinensis-sinensisscaffoldsasins2,anopheles-sinensis-chinascaffoldsasinc2)),((VBS00086,VBS00085),(Apal-257,((Aten-185,(Acou-959,(Azie-334,(Aten-191,(Acou-962,Acou-956))))),(Apal-81,((Aten-79,(Azie-77,(Azie-1032,Azie-1055))),((Acou-71,Aten-954),(Acou-80,(Azie-70,Aten-333)))))))))))))),(((VBS00150,VBS00149),((anopheles-punctulatus-apwgs2contigsjxxa01,(anopheles-koliensis-akwgs3contigsjxxb01,anopheles-farauti-far1scaffoldsafarf2)),(VBS00122,(anopheles-cracens-ASM209184v1-scaffolds,(anopheles-dirus-wrair2scaffoldsadirw1,(VBS00049,(VBS00051,(VBS00048,VBS00050)))))))),((anopheles-christyi-achkn1017scaffoldsachra1,((((VBS00157,VBS00154),(VBS00158,VBS00156)),(anopheles-epiroticus-epiroticus2scaffoldsaepie1,((VBS00144,VBS00148),(VBS00147,VBS00146)))),(anopheles-melas-cm1001059ascaffoldsamelc2,(anopheles-merus-mafscaffoldsamerm2,(Acol-645,(anopheles-quadriannulatus-sangwescaffoldsaquas1,((anopheles-arabiensis-sharakhov,anopheles-arabiensis-dongolascaffoldsaarad1),(Agam-37,(((anopheles-coluzzii-mali-nihscaffoldsacolm1,anopheles-gambiae-pestchromosomesagamp4),(Acol-570,Acol-558)),(Agam-38,(Agam-35,(Agam-32,(Agam-30,anopheles-gambiae-pimperenascaffoldsagams1))))))))))))),(((anopheles-stephensi-sda-500scaffoldsastes1,anopheles-stephensi-indianscaffoldsastei2),((anopheles-maculatus-maculatus3scaffoldsamacm1,((VBS00108,VBS00107),(VBS00115,(VBS00114,(VBS00112,VBS00113))))),((Amac-50,(Amac-42,(Amac-49,Amac-44))),((VBS00127,(VBS00128,VBS00125)),(VBS00001,(VBS00003,(VBS00002,VBS00004))))))),(((VBS00055,VBS00053),(anopheles-culicifacies-37scaffoldsacula1,(VBS00061,(VBS00059,anopheles-minimus-minimus1scaffoldsaminm1)))),((Agab-M192,((Arho-7-4,(Arho-7-3,(Arho-7-1,Arho-7-2))),(Afun-13,(Afun-1,(Afun-9,(Afun-3,(anopheles-funestus-fumozchromosomesafunf3,anopheles-funestus-fumozscaffoldsafunf1))))))),((Ajab-B620,((Amou-2-4,Amou-2-5),(Amou-2-2,(Amou-2-1,Amou-2-3)))),((Athe-1,(Athe-6-2,(Athe-2,Athe-6-1))),((Adem-19,Abro-30),(Abro-22,(Abro-21,((Adem-32,Abro-33),(Ahan-615,(Adem-34,Ahan-6-1))))))))))))))))));\n",
      "Final quartet score is: 6965416685\n",
      "Final normalized quartet score is: 0.7556262800103485\n",
      "You may want to ignore posterior probabilities and other statistics related to the following branch branch because the effective number of genes impacting it is only 3:\n",
      "\t{Arho-7-1}\n",
      "You may want to ignore posterior probabilities and other statistics related to the following branch branch because the effective number of genes impacting it is only 3:\n",
      "\t{Arho-7-2}\n",
      "You may want to ignore posterior probabilities and other statistics related to the following branch branch because the effective number of genes impacting it is only 3:\n",
      "\t{Arho-7-1, Arho-7-2}\n",
      "You may want to ignore posterior probabilities and other statistics related to the following branch branch because the effective number of genes impacting it is only 1:\n",
      "\t{Afun-13}\n",
      "You may want to ignore posterior probabilities and other statistics related to the following branch branch because the effective number of genes impacting it is only 3:\n",
      "\t{Afun-9}\n",
      "You may want to ignore posterior probabilities and other statistics related to the following branch branch because the effective number of genes impacting it is only 3:\n",
      "\t{anopheles-funestus-fumozchromosomesafunf3, anopheles-funestus-fumozscaffoldsafunf1, Afun-3}\n",
      "You may want to ignore posterior probabilities and other statistics related to the following branch branch because the effective number of genes impacting it is only 3:\n",
      "\t{anopheles-funestus-fumozchromosomesafunf3, anopheles-funestus-fumozscaffoldsafunf1, Afun-9, Afun-3}\n",
      "You may want to ignore posterior probabilities and other statistics related to the following branch branch because the effective number of genes impacting it is only 1:\n",
      "\t{anopheles-funestus-fumozchromosomesafunf3, anopheles-funestus-fumozscaffoldsafunf1, Afun-1, Afun-9, Afun-3}\n",
      "You may want to ignore posterior probabilities and other statistics related to the following branch branch because the effective number of genes impacting it is only 1:\n",
      "\t{anopheles-funestus-fumozchromosomesafunf3, Afun-13, anopheles-funestus-fumozscaffoldsafunf1, Afun-1, Afun-9, Afun-3}\n",
      "You may want to ignore posterior probabilities and other statistics related to the following branch branch because the effective number of genes impacting it is only 14:\n",
      "\t{Abel-SP24}\n",
      "You may want to ignore posterior probabilities and other statistics related to the following branch branch because the effective number of genes impacting it is only 14:\n",
      "\t{Acru-RS32}\n",
      "You may want to ignore posterior probabilities and other statistics related to the following branch branch because the effective number of genes impacting it is only 13:\n",
      "\t{Abel-SP24, Acru-RS32}\n",
      "You may want to ignore posterior probabilities and other statistics related to the following branch branch because the effective number of genes impacting it is only 10:\n",
      "\t{anopheles-aquasalis-A_aquasalis_v1}\n",
      "You may want to ignore posterior probabilities and other statistics related to the following branch branch because the effective number of genes impacting it is only 10:\n",
      "\t{Aory-SP141}\n",
      "You may want to ignore posterior probabilities and other statistics related to the following branch branch because the effective number of genes impacting it is only 7:\n",
      "\t{anopheles-aquasalis-A_aquasalis_v1, Aory-SP141}\n",
      "You may want to ignore posterior probabilities and other statistics related to the following branch branch because the effective number of genes impacting it is only 3:\n",
      "\t{Aimp-M190}\n",
      "You may want to ignore posterior probabilities and other statistics related to the following branch branch because the effective number of genes impacting it is only 3:\n",
      "\t{Aimp-M0030, Aimp-M0001}\n",
      "You may want to ignore posterior probabilities and other statistics related to the following branch branch because the effective number of genes impacting it is only 3:\n",
      "\t{Aimp-M190, Aimp-M0030, Aimp-M0001}\n"
     ]
    },
    {
     "name": "stdout",
     "output_type": "stream",
     "text": [
      "You may want to ignore posterior probabilities and other statistics related to the following branch branch because the effective number of genes impacting it is only 13:\n",
      "\t{Apal-257}\n",
      "You may want to ignore posterior probabilities and other statistics related to the following branch branch because the effective number of genes impacting it is only 13:\n",
      "\t{Azie-77, Acou-80, Aten-185, Acou-962, Acou-959, Apal-81, Aten-79, Acou-71, Azie-334, Aten-954, Aten-191, Acou-956, Azie-1032, Azie-1055, Azie-70, Aten-333}\n",
      "You may want to ignore posterior probabilities and other statistics related to the following branch branch because the effective number of genes impacting it is only 13:\n",
      "\t{Azie-77, Acou-80, Aten-185, Acou-962, Acou-959, Apal-81, Aten-79, Acou-71, Azie-334, Aten-954, Apal-257, Aten-191, Acou-956, Azie-1032, Azie-1055, Azie-70, Aten-333}\n",
      "((VBS00112-1,VBS00112-2)0.38:0.00565182328245857,((VBS00113-2,VBS00113-1)0.94:0.2592622814761897,((VBS00114-2,VBS00114-1)0.73:0.13040254862920553,((VBS00115-2,VBS00115-1)0.52:0.053673737902192944,(((VBS00108-2,VBS00108-1)0.97:0.34255503481316635,(VBS00107-2,VBS00107-1)0.86:0.22233559087068297)1:0.5700658928892188,((anopheles-maculatus-maculatus3scaffoldsamacm1-1,anopheles-maculatus-maculatus3scaffoldsamacm1-2)1:3.2713979935100257,((((Amac-50-2,Amac-50-1)0.65:0.11247798342669033,((Amac-42-2,Amac-42-1)0.17:0.0,((Amac-49-2,Amac-49-1)0.53:0.0697725402023885,(Amac-44-2,Amac-44-1)0.41:0.017358777879644554)0.41:0.04265520423121429)0.46:0.03960913809504594)1:3.4094624012637236,(((VBS00127-2,VBS00127-1)0.9:0.2404291876012354,((VBS00128-2,VBS00128-1)0.17:0.0,(VBS00125-2,VBS00125-1)0.96:0.3468601951476079)0.59:0.09435154764021315)1:2.569363903119329,((VBS00001-1,VBS00001-2)1:1.6507413723430617,((VBS00003-1,VBS00003-2)0.97:0.3049330404987681,((VBS00002-1,VBS00002-2)1:0.4854216196445419,(VBS00004-1,VBS00004-2)0.91:0.2337583340567621)0.41:0.0448705161815509)0.86:0.22990361558726785)1:2.228247833620875)1:0.4611691403280046)0.6:0.07085876197603914,(((anopheles-stephensi-sda-500scaffoldsastes1-2,anopheles-stephensi-sda-500scaffoldsastes1-1)1:1.6739764335716716,(anopheles-stephensi-indianscaffoldsastei2-1,anopheles-stephensi-indianscaffoldsastei2-2)1:2.335374915817036)1:3.6649851339145028,(((((VBS00055-2,VBS00055-1)1:0.9490805546971459,(VBS00053-1,VBS00053-2)1:1.009537353372958)1:1.7967640220125605,((anopheles-culicifacies-37scaffoldsacula1-1,anopheles-culicifacies-37scaffoldsacula1-2)1:3.531027398734069,((VBS00061-2,VBS00061-1)0.99:0.3893541844047189,((VBS00059-2,VBS00059-1)0.98:0.34324217581665334,(anopheles-minimus-minimus1scaffoldsaminm1-1,anopheles-minimus-minimus1scaffoldsaminm1-2)1:3.1055705798107214)0.49:0.07577313699256791)1:2.1869608492722037)0.95:0.25070081253363613)1:0.8049928323860985,(((Agab-M192-2,Agab-M192-1)1:3.4479887908991955,(((Arho-7-4-2,Arho-7-4-1)0.15:0.0,((Arho-7-3-2,Arho-7-3-1)0.13:0.0,((Arho-7-1-2,Arho-7-1-1)0.22:0.0,(Arho-7-2-1,Arho-7-2-2)0.4:0.0)0.59:0.1636930705370801)0.48:0.06816265143096231)1:3.440906298914514,((Afun-13-2,Afun-13-1)0.33:0.0,((Afun-1-1,Afun-1-2)0.69:0.11188583745094316,((Afun-9-1,Afun-9-2)0.67:0.2876820724517809,((Afun-3-1,Afun-3-2)0.99:0.4452920786162902,((anopheles-funestus-fumozchromosomesafunf3-1,anopheles-funestus-fumozchromosomesafunf3-2)1:1.678226880790557,(anopheles-funestus-fumozscaffoldsafunf1-1,anopheles-funestus-fumozscaffoldsafunf1-2)1:2.3317385937774753)1:0.5343811402285206)0.67:0.2876820724517809)0.67:0.2876820724517809)0.33:0.0)0.67:0.2876820724517809)0.7:0.10345599330698727)0.61:0.07374580691070108,(((Ajab-B620-1,Ajab-B620-2)1:3.052580382177107,(((Amou-2-4-1,Amou-2-4-2)0.18:0.0,(Amou-2-5-2,Amou-2-5-1)0.31:0.0)0.39:0.01661470630537746,((Amou-2-2-1,Amou-2-2-2)0.16:0.0,((Amou-2-1-1,Amou-2-1-2)0.23:0.0,(Amou-2-3-1,Amou-2-3-2)0.11:0.0)0.47:0.04634462191467145)0.49:0.05062763480239835)1:2.455701133966469)1:0.8254756974558252,(((Athe-1-2,Athe-1-1)0.42:0.021731396758090448,((Athe-6-2-2,Athe-6-2-1)1:0.5319112751583294,((Athe-2-2,Athe-2-1)0.2:0.0,(Athe-6-1-2,Athe-6-1-1)0.37:0.0)0.62:0.10278579164677575)0.64:0.10949701389849847)1:1.843191972486021,(((Adem-19-1,Adem-19-2)1:1.048837286299658,(Abro-30-2,Abro-30-1)0.23:0.0)0.38:6.866021319179497E-5,((Abro-22-2,Abro-22-1)0.66:0.13522995446657088,((Abro-21-2,Abro-21-1)0.99:1.0473503032082412,(((Adem-32-1,Adem-32-2)0.94:0.5296842951992928,(Abro-33-2,Abro-33-1)0.61:0.15179150131913965)0.5:0.07029475492619469,((Ahan-615-1,Ahan-615-2)0.69:0.16948072296647237,((Adem-34-2,Adem-34-1)0.25:0.0,(Ahan-6-1-2,Ahan-6-1-1)0.77:0.21796431833991764)0.53:0.11326501872154673)0.51:0.10549729254402009)0.41:0.007365517850260695)0.44:0.03260038021759158)0.4:0.01709882175304677)1:3.044764047318417)1:0.629049074634291)1:0.36609470574974845)0.7:0.09705788762245446)1:0.5878456255568755,(((anopheles-christyi-achkn1017scaffoldsachra1-1,anopheles-christyi-achkn1017scaffoldsachra1-2)1:3.506557897319981,(((((VBS00157-2,VBS00157-1)0.68:0.12979531376560724,(VBS00154-1,VBS00154-2)0.99:0.4926715964121858)0.56:0.07974004037046777,((VBS00158-1,VBS00158-2)0.53:0.06585146168526357,(VBS00156-2,VBS00156-1)0.71:0.13273721631838914)0.37:0.0012838793070465958)1:1.9645073284794945,((anopheles-epiroticus-epiroticus2scaffoldsaepie1-2,anopheles-epiroticus-epiroticus2scaffoldsaepie1-1)1:2.9728238550414336,(((VBS00144-1,VBS00144-2)0.43:0.02708530472672188,(VBS00148-1,VBS00148-2)0.13:0.0)0.47:0.05193058512264701,((VBS00147-1,VBS00147-2)0.67:0.15282040662221202,(VBS00146-1,VBS00146-2)0.63:0.12484523245996444)0.8:0.21737265225588348)0.81:0.17926798281806905)1:2.2858962873578363)1:2.2902423148860733,((anopheles-melas-cm1001059ascaffoldsamelc2-1,anopheles-melas-cm1001059ascaffoldsamelc2-2)1:2.8000209803900202,((anopheles-merus-mafscaffoldsamerm2-2,anopheles-merus-mafscaffoldsamerm2-1)1:3.5384626355013014,((Acol-645-2,Acol-645-1)1:1.0482532148788941,((anopheles-quadriannulatus-sangwescaffoldsaquas1-1,anopheles-quadriannulatus-sangwescaffoldsaquas1-2)1:2.7119973552078616,(((anopheles-arabiensis-sharakhov-1,anopheles-arabiensis-sharakhov-2)0.33:0.0,(anopheles-arabiensis-dongolascaffoldsaarad1-1,anopheles-arabiensis-dongolascaffoldsaarad1-2)0.33:0.0)1:3.38042021903446,((Agam-37-1,Agam-37-2)0.99:0.3397197093542796,((((anopheles-coluzzii-mali-nihscaffoldsacolm1-1,anopheles-coluzzii-mali-nihscaffoldsacolm1-2)1:3.1387104709034537,(anopheles-gambiae-pestchromosomesagamp4-2,anopheles-gambiae-pestchromosomesagamp4-1)1:3.1369478983969397)0.51:0.08390798398129745,((Acol-570-1,Acol-570-2)0.85:0.18640446958606216,(Acol-558-2,Acol-558-1)0.93:0.25065708071508774)0.39:0.01109122768165852)0.6:0.08860027680025745,((Agam-38-1,Agam-38-2)0.18:0.0,((Agam-35-1,Agam-35-2)0.42:0.022678255244942644,((Agam-32-2,Agam-32-1)0.82:0.1750536862852093,((Agam-30-2,Agam-30-1)0.67:0.1104915984746678,(anopheles-gambiae-pimperenascaffoldsagams1-1,anopheles-gambiae-pimperenascaffoldsagams1-2)1:3.1250136012225087)0.44:0.043153298190561955)0.42:0.021174509892442833)0.45:0.031988551833384136)0.57:0.08856540024442107)0.64:0.0971452243918706)0.71:0.1199036234897601)0.51:0.05291131556036855)0.66:0.10655061213645294)0.75:0.138754108656871)0.26:0.0)1:2.6945476584674126)0.56:0.08259923189892322)1:0.5772067067519311,((((VBS00150-1,VBS00150-2)0.97:0.3359590692007471,(VBS00149-1,VBS00149-2)0.98:0.37270735146978134)1:2.180998511615634,(((anopheles-punctulatus-apwgs2contigsjxxa01-2,anopheles-punctulatus-apwgs2contigsjxxa01-1)1:3.205452804536062,((anopheles-koliensis-akwgs3contigsjxxb01-1,anopheles-koliensis-akwgs3contigsjxxb01-2)1:3.0600491389220648,(anopheles-farauti-far1scaffoldsafarf2-1,anopheles-farauti-far1scaffoldsafarf2-2)1:3.0600322166157543)0.81:0.1768012538583057)1:1.609481955238914,((VBS00122-2,VBS00122-1)1:1.6869187109653596,((anopheles-cracens-ASM209184v1-scaffolds-2,anopheles-cracens-ASM209184v1-scaffolds-1)1:3.214843347202904,((anopheles-dirus-wrair2scaffoldsadirw1-2,anopheles-dirus-wrair2scaffoldsadirw1-1)1:2.9623013433804397,((VBS00049-1,VBS00049-2)0.91:0.2530644912347907,((VBS00051-2,VBS00051-1)1:1.4259550023467475,((VBS00048-2,VBS00048-1)1:0.7059853040314757,(VBS00050-2,VBS00050-1)0.56:0.08011088243132572)0.35:0.0)0.56:0.11547202037062697)0.77:0.17429743852745003)1:0.9873222603876444)0.81:0.215421762955916)1:1.28378241328326)0.79:0.14482842066564003)1:0.5345381948239983,(((((Adur-97-6-2,Adur-97-6-1)0.57:0.10919929196499197,((Adur-97-5-1,Adur-97-5-2)0.92:0.6493467019904429,((Adur-97-4-2,Adur-97-4-1)0.9:0.5469002347220991,(Adur-97-3-2,Adur-97-3-1)0.07:0.0)0.77:0.35093667929055)0.35:0.0)1:3.332204510175203,((Avin-M0012-2,Avin-M0012-1)0.59:0.08833828343780407,((Avin-M0004-1,Avin-M0004-2)0.83:0.183620965742003,((Avin-M0009-1,Avin-M0009-2)0.43:0.027235164121966214,((Avin-B0009-1,Avin-B0009-2)0.3:0.0,(Avin-B0004-1,Avin-B0004-2)0.18:0.0)0.58:0.08422225208664846)0.52:0.0595058090094393)0.41:0.018753996973321665)1:2.8711657183859605)1:1.302600358975523,((((Abel-SP24-1,Abel-SP24-2)1:2.2708363946794665,(Acru-RS32-1,Acru-RS32-2)1:1.5645730884199396)1:1.0935232191606385,((anopheles-darlingi-coariscaffoldsadarc3-2,anopheles-darlingi-coariscaffoldsadarc3-1)1:3.1354942159291492,((anopheles-albimanus-steclachromosomesaalbs2-2,anopheles-albimanus-steclachromosomesaalbs2-1)1:3.120895416507997,((anopheles-aquasalis-A_aquasalis_v1-1,anopheles-aquasalis-A_aquasalis_v1-2)1:1.7917594692280545,(Aory-SP141-2,Aory-SP141-1)1:1.106709498900729)0.57:0.15190096009324291)0.71:0.1389318938156375)1:1.3028861903499815)0.91:0.3026074180374423,(((Aimp-M1449-1,Aimp-M1449-2)1:0.4700036292457356,((Aimp-M190-2,Aimp-M190-1)0.83:0.6061358035703156,((Aimp-M0030-2,Aimp-M0030-1)0.18:0.0,(Aimp-M0001-1,Aimp-M0001-2)0.18:0.0)0.46:0.0)0.83:0.5753641449035618)1:3.242592351485518,((anopheles-atroparvus-ebrochromosomesaatre3-2,anopheles-atroparvus-ebrochromosomesaatre3-1)1:3.149882953381249,(((VBS00025-2,VBS00025-1)0.48:0.04549860726312282,((VBS00021-2,VBS00021-1)0.95:0.2892174024311728,((VBS00023-2,VBS00023-1)0.77:0.16281924482060112,((VBS00024-1,VBS00024-2)0.89:0.24419419940557555,(VBS00022-1,VBS00022-2)0.34:0.0)0.68:0.12514434573861738)0.4:0.015781845907701382)0.53:0.06864365506938805)1:2.517362538830981,((((VBS00083-1,VBS00083-2)0.59:0.08656437116312132,(VBS00082-1,VBS00082-2)0.65:0.11297548166334853)1:1.464268130984929,((anopheles-sinensis-sinensisscaffoldsasins2-1,anopheles-sinensis-sinensisscaffoldsasins2-2)1:2.037620500711654,(anopheles-sinensis-chinascaffoldsasinc2-1,anopheles-sinensis-chinascaffoldsasinc2-2)1:2.730029107820986)1:1.0385547768614722)1:0.5924225037751405,(((VBS00086-2,VBS00086-1)0.51:0.06192428598072391,(VBS00085-1,VBS00085-2)0.93:0.30103935029721823)1:2.2976961372266658,((Apal-257-1,Apal-257-2)1:2.1075724569572447,(((Aten-185-2,Aten-185-1)0.77:0.15676108579958362,((Acou-959-1,Acou-959-2)0.68:0.11889005423300907,((Azie-334-1,Azie-334-2)0.95:0.3085351517177832,((Aten-191-2,Aten-191-1)0.39:0.009260239980314382,((Acou-962-1,Acou-962-2)0.08:0.0,(Acou-956-2,Acou-956-1)1:1.230033653201057)0.49:0.05983583762585716)0.45:0.03625880076872461)0.49:0.054971716565861126)0.51:0.062139980320631484)1:0.9360604832812003,((Apal-81-2,Apal-81-1)1:0.7787870998132173,(((Aten-79-1,Aten-79-2)0.74:0.1586138717966787,((Azie-77-2,Azie-77-1)0.71:0.14486856848123436,((Azie-1032-2,Azie-1032-1)0.73:0.21772615358607947,(Azie-1055-2,Azie-1055-1)0.98:0.6140732304382837)0.75:0.2178636666165789)0.36:0.0)0.33:0.0,(((Acou-71-1,Acou-71-2)0.33:0.0,(Aten-954-1,Aten-954-2)0.46:0.042664869588731634)0.65:0.12518873528631816,((Acou-80-2,Acou-80-1)0.42:0.02027090314277974,((Azie-70-2,Azie-70-1)0.27:0.0,(Aten-333-1,Aten-333-2)0.7:0.16353360827747085)0.41:0.020901299587442145)0.63:0.11539135818592512)0.37:8.946749178798457E-4)0.42:0.023243037278327282)1:0.9900899675148976)1:1.0472467643256718)0.54:0.15384844876622578)0.41:0.01668648031693118)1:1.1359250786196315)0.93:0.25681104552362)1:0.5613659021643647)0.82:0.1991486454152236)0.66:0.10049126749428326)0.24:0.014184590881705594,(((Acar-191-2,Acar-191-1)0.57:0.08142069330438843,((Acar-192-1,Acar-192-2)0.63:0.10121776215833415,((Acar-195-2,Acar-195-1)0.69:0.12682185234525517,((Acar-193-1,Acar-193-2)0.32:0.0,(Acar-194-1,Acar-194-2)0.56:0.07866029989849703)0.64:0.1109666656750902)0.39:0.010609917922302425)0.73:0.15061696077607875)1:1.2199558425926709,(((Anil-233-1,Anil-233-2)0.55:0.08474122845509055,((Anil-238-1,Anil-238-2)0.45:0.03781507929724471,(Anil-236-1,Anil-236-2)0.22:0.0)0.47:0.06967992063798982)1:2.245102149772849,(((Anil-237-1,Anil-237-2)0.88:0.3176269431425407,(Anil-239-2,Anil-239-1)0.44:0.030276495830808468)1:1.6197292844058058,(Anils-7-1,Anils-7-2)1:2.793208009442516)1:0.5864485068019936)0.97:0.29040288702814343)1:2.9710158447416632)0.81:0.1416716635728013)1:0.39079817556044444)1:0.3652983604242487)1:0.6027718562296916)0.32:0.0074955541516566835)1:1.665885185094494)1:0.8272704417910308)0.97:0.26606305802845515)0.45:0.03268729851190414)0.69:0.11894133067561168)0.38:0.00565182328245857);\n",
      "Weight calculation took 8.64103985 secs\n",
      "ASTRAL finished in 24.574 secs\n"
     ]
    }
   ],
   "source": [
    "! java -jar {astral} -i {GENE_TREES} -o {SAMPLE_TREE} -a {SAMPLE_MAPPING}"
   ]
  },
  {
   "cell_type": "code",
   "execution_count": null,
   "metadata": {},
   "outputs": [],
   "source": []
  }
 ],
 "metadata": {
  "kernelspec": {
   "display_name": "Python 3",
   "language": "python",
   "name": "python3"
  },
  "language_info": {
   "codemirror_mode": {
    "name": "ipython",
    "version": 3
   },
   "file_extension": ".py",
   "mimetype": "text/x-python",
   "name": "python",
   "nbconvert_exporter": "python",
   "pygments_lexer": "ipython3",
   "version": "3.6.7"
  }
 },
 "nbformat": 4,
 "nbformat_minor": 2
}
