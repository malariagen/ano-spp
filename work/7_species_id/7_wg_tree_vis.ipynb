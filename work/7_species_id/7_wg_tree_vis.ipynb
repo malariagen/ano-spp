{
 "cells": [
  {
   "cell_type": "code",
   "execution_count": null,
   "metadata": {},
   "outputs": [],
   "source": []
  },
  {
   "cell_type": "code",
   "execution_count": 1,
   "metadata": {},
   "outputs": [],
   "source": [
    "%run common.ipynb"
   ]
  },
  {
   "cell_type": "code",
   "execution_count": 2,
   "metadata": {},
   "outputs": [
    {
     "name": "stdout",
     "output_type": "stream",
     "text": [
      "\n",
      "                  /-Anopheles_funestus\n",
      "               /-|\n",
      "              |  |   /-Anopheles_minimus\n",
      "              |   \\-|\n",
      "            /-|      \\-Anopheles_culicifacies\n",
      "           |  |\n",
      "           |  |   /-Anopheles_maculatus\n",
      "           |   \\-|\n",
      "           |      \\-Anopheles_stephensi\n",
      "           |\n",
      "           |         /-Anopheles_gambiae\n",
      "           |        |\n",
      "         /-|        |--Anopheles_colizzii\n",
      "        |  |        |\n",
      "        |  |        |--Anopheles_arabiensis\n",
      "        |  |      /-|\n",
      "        |  |     |  |--Anopheles_quadriannulatus\n",
      "        |  |     |  |\n",
      "        |  |   /-|  |--Anopheles_melas\n",
      "      /-|  |  |  |  |\n",
      "     |  |  |  |  |   \\-Anopheles_merus\n",
      "     |  |   \\-|  |\n",
      "     |  |     |   \\-Anopheles_christyi\n",
      "     |  |     |\n",
      "     |  |      \\-Anopheles_epiroticus\n",
      "   /-|  |\n",
      "  |  |  |   /-Anopheles_dirus\n",
      "  |  |   \\-|\n",
      "  |  |      \\-Anopheles_farauti\n",
      "  |  |\n",
      "--|  |   /-Anopheles_sinensis\n",
      "  |   \\-|\n",
      "  |      \\-Anopheles_atroparvus\n",
      "  |\n",
      "  |   /-Anopheles_albimanus\n",
      "   \\-|\n",
      "      \\-Anopheles_darlingi\n"
     ]
    }
   ],
   "source": [
    "t = ete3.Tree(WG_TREE)\n",
    "print(t)"
   ]
  },
  {
   "cell_type": "code",
   "execution_count": 3,
   "metadata": {},
   "outputs": [],
   "source": [
    "g = {\n",
    "    # subgenera - use basal divergence only\n",
    "    'Anopheles_subgenus':t.get_common_ancestor('Anopheles_sinensis','Anopheles_atroparvus'),\n",
    "    'Nyssorhynchus_subgenus':t.get_common_ancestor('Anopheles_albimanus','Anopheles_darlingi'),\n",
    "    'Celia_subgenus':t.get_common_ancestor('Anopheles_dirus','Anopheles_funestus'),\n",
    "    # series - use basal divergence only\n",
    "    'Myzomiya_series':t.get_common_ancestor('Anopheles_funestus','Anopheles_culicifacies'),\n",
    "    'Neocellia_series':t.get_common_ancestor('Anopheles_stephensi','Anopheles_maculatus'),\n",
    "    'Pyretophorus_series':t.get_common_ancestor('Anopheles_epiroticus','Anopheles_gambiae'),\n",
    "    'Neomyzomia_series':t.get_common_ancestor('Anopheles_farauti','Anopheles_dirus')\n",
    "}"
   ]
  },
  {
   "cell_type": "code",
   "execution_count": 4,
   "metadata": {},
   "outputs": [],
   "source": [
    "# add group names\n",
    "for name, group in g.items():\n",
    "    for s in name.split('_'):\n",
    "        tf = ete3.TextFace(s, fsize=12)\n",
    "        tf.hz_align=1\n",
    "        tf.opacity=0.7\n",
    "        group.add_face(tf, column=0, position='branch-right')"
   ]
  },
  {
   "cell_type": "code",
   "execution_count": 5,
   "metadata": {},
   "outputs": [],
   "source": [
    "# node appearance\n",
    "ns = ete3.NodeStyle(size=0)\n",
    "for n in t.traverse():\n",
    "    n.set_style(ns)"
   ]
  },
  {
   "cell_type": "code",
   "execution_count": 6,
   "metadata": {},
   "outputs": [],
   "source": [
    "t.convert_to_ultrametric()\n",
    "# tree appearance\n",
    "ts = ete3.TreeStyle()\n",
    "ts.orientation = 1\n",
    "# ts.show_branch_support = True\n",
    "# ts.show_leaf_name = True\n",
    "# ts.show_branch_length = False\n",
    "ts.show_scale = False\n",
    "t.render(WG_TREE_FIG, tree_style=ts);"
   ]
  },
  {
   "cell_type": "code",
   "execution_count": null,
   "metadata": {},
   "outputs": [],
   "source": []
  }
 ],
 "metadata": {
  "kernelspec": {
   "display_name": "Python 3",
   "language": "python",
   "name": "python3"
  },
  "language_info": {
   "codemirror_mode": {
    "name": "ipython",
    "version": 3
   },
   "file_extension": ".py",
   "mimetype": "text/x-python",
   "name": "python",
   "nbconvert_exporter": "python",
   "pygments_lexer": "ipython3",
   "version": "3.6.7"
  }
 },
 "nbformat": 4,
 "nbformat_minor": 2
}
