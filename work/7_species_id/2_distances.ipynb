{
 "cells": [
  {
   "cell_type": "markdown",
   "metadata": {},
   "source": [
    "Work with pairwise sequence distances:\n",
    "- remove samples that dramatically increase within-species distances (potential mis-identification)\n",
    "- maximum within-species thresholds (95% assuming normal distribution)\n",
    "- effect of gaps on increased thresholds compared to Ag1000g data\n",
    "\n",
    "Manual steps: choice of species to inspect, removal of bad samples"
   ]
  },
  {
   "cell_type": "code",
   "execution_count": 1,
   "metadata": {},
   "outputs": [],
   "source": [
    "%run common.ipynb"
   ]
  },
  {
   "cell_type": "code",
   "execution_count": 2,
   "metadata": {},
   "outputs": [
    {
     "data": {
      "text/plain": [
       "(10057, 6)"
      ]
     },
     "metadata": {},
     "output_type": "display_data"
    },
    {
     "data": {
      "text/html": [
       "<div>\n",
       "<style scoped>\n",
       "    .dataframe tbody tr th:only-of-type {\n",
       "        vertical-align: middle;\n",
       "    }\n",
       "\n",
       "    .dataframe tbody tr th {\n",
       "        vertical-align: top;\n",
       "    }\n",
       "\n",
       "    .dataframe thead th {\n",
       "        text-align: right;\n",
       "    }\n",
       "</style>\n",
       "<table border=\"1\" class=\"dataframe\">\n",
       "  <thead>\n",
       "    <tr style=\"text-align: right;\">\n",
       "      <th></th>\n",
       "      <th>s_Sample</th>\n",
       "      <th>target</th>\n",
       "      <th>consensus</th>\n",
       "      <th>reads</th>\n",
       "      <th>species</th>\n",
       "      <th>combUID</th>\n",
       "    </tr>\n",
       "  </thead>\n",
       "  <tbody>\n",
       "    <tr>\n",
       "      <th>0</th>\n",
       "      <td>Abro-21</td>\n",
       "      <td>13</td>\n",
       "      <td>TCTCCATTTCTATCTGATGAAACTTGTGCCCGTGGTTTAATTAATG...</td>\n",
       "      <td>23</td>\n",
       "      <td>Anopheles_brohieri</td>\n",
       "      <td>13-0</td>\n",
       "    </tr>\n",
       "  </tbody>\n",
       "</table>\n",
       "</div>"
      ],
      "text/plain": [
       "  s_Sample target                                          consensus reads  \\\n",
       "0  Abro-21     13  TCTCCATTTCTATCTGATGAAACTTGTGCCCGTGGTTTAATTAATG...    23   \n",
       "\n",
       "              species combUID  \n",
       "0  Anopheles_brohieri    13-0  "
      ]
     },
     "execution_count": 2,
     "metadata": {},
     "output_type": "execute_result"
    }
   ],
   "source": [
    "# read mosquito sequencing data\n",
    "seq = pd.read_csv(COMB_SEQ, dtype=str)\n",
    "display(seq.shape)\n",
    "seq.head(1)"
   ]
  },
  {
   "cell_type": "markdown",
   "metadata": {},
   "source": [
    "## Estimate pairwise distances"
   ]
  },
  {
   "cell_type": "code",
   "execution_count": 3,
   "metadata": {},
   "outputs": [
    {
     "data": {
      "text/html": [
       "<div>\n",
       "<style scoped>\n",
       "    .dataframe tbody tr th:only-of-type {\n",
       "        vertical-align: middle;\n",
       "    }\n",
       "\n",
       "    .dataframe tbody tr th {\n",
       "        vertical-align: top;\n",
       "    }\n",
       "\n",
       "    .dataframe thead th {\n",
       "        text-align: right;\n",
       "    }\n",
       "</style>\n",
       "<table border=\"1\" class=\"dataframe\">\n",
       "  <thead>\n",
       "    <tr style=\"text-align: right;\">\n",
       "      <th></th>\n",
       "      <th>seq1</th>\n",
       "      <th>seq2</th>\n",
       "      <th>dist</th>\n",
       "      <th>target</th>\n",
       "    </tr>\n",
       "  </thead>\n",
       "  <tbody>\n",
       "    <tr>\n",
       "      <th>1266</th>\n",
       "      <td>46-12</td>\n",
       "      <td>46-24</td>\n",
       "      <td>0.131868</td>\n",
       "      <td>46</td>\n",
       "    </tr>\n",
       "    <tr>\n",
       "      <th>1424</th>\n",
       "      <td>18-11</td>\n",
       "      <td>18-38</td>\n",
       "      <td>0.329317</td>\n",
       "      <td>18</td>\n",
       "    </tr>\n",
       "    <tr>\n",
       "      <th>4570</th>\n",
       "      <td>16-35</td>\n",
       "      <td>16-125</td>\n",
       "      <td>0.286119</td>\n",
       "      <td>16</td>\n",
       "    </tr>\n",
       "  </tbody>\n",
       "</table>\n",
       "</div>"
      ],
      "text/plain": [
       "       seq1    seq2      dist target\n",
       "1266  46-12   46-24  0.131868     46\n",
       "1424  18-11   18-38  0.329317     18\n",
       "4570  16-35  16-125  0.286119     16"
      ]
     },
     "execution_count": 3,
     "metadata": {},
     "output_type": "execute_result"
    }
   ],
   "source": [
    "dm_data = []\n",
    "for ampl in AMPLS:\n",
    "    # read alignment\n",
    "    aln = AlignIO.read(open(ALN_ALL.format(ampl)), 'fasta')\n",
    "    # calculate identity distance matrix\n",
    "    dm = DistanceCalculator('identity').get_distance(aln)\n",
    "    dm = pd.DataFrame(dm.matrix, index=dm.names, columns=dm.names)\n",
    "    # re-format to pairwise distances, clean-up\n",
    "    pdist = dm.unstack() \\\n",
    "              .dropna() \\\n",
    "              .reset_index()\n",
    "    pdist.columns = ['seq1','seq2','dist']\n",
    "    pdist = pdist[pdist.seq1 != pdist.seq2]\n",
    "    pdist['target'] = ampl\n",
    "    dm_data.append(pdist)\n",
    "dm_data = pd.concat(dm_data)\n",
    "dm_data.sample(3)"
   ]
  },
  {
   "cell_type": "markdown",
   "metadata": {},
   "source": [
    "## Mark within-species distances"
   ]
  },
  {
   "cell_type": "code",
   "execution_count": 4,
   "metadata": {},
   "outputs": [],
   "source": [
    "# species per sequence\n",
    "spp_per_seq = seq.groupby('combUID')['species'].unique()\n",
    "spp_per_seq = spp_per_seq.apply(lambda x: set(x))"
   ]
  },
  {
   "cell_type": "code",
   "execution_count": 5,
   "metadata": {},
   "outputs": [],
   "source": [
    "def common_species(x):\n",
    "        try:\n",
    "            return ';'.join((spp_per_seq[x.seq1] & spp_per_seq[x.seq2]))\n",
    "        except:\n",
    "            raise ValueError(x)\n",
    "\n",
    "dm_data['spp_intersect'] = dm_data.apply(lambda x: common_species(x),\n",
    "                                         axis=1)"
   ]
  },
  {
   "cell_type": "markdown",
   "metadata": {},
   "source": [
    "## Explore within-species distances"
   ]
  },
  {
   "cell_type": "code",
   "execution_count": 6,
   "metadata": {},
   "outputs": [
    {
     "data": {
      "text/plain": [
       "(35,)"
      ]
     },
     "metadata": {},
     "output_type": "display_data"
    },
    {
     "data": {
      "text/plain": [
       "Index(['Anopheles_aconitus', 'Anopheles_annularis', 'Anopheles_arabiensis',\n",
       "       'Anopheles_barbirostris', 'Anopheles_brohieri', 'Anopheles_carnevalei',\n",
       "       'Anopheles_coluzzii', 'Anopheles_coustani', 'Anopheles_demeilloni',\n",
       "       'Anopheles_dirus_A', 'Anopheles_dureni', 'Anopheles_funestus',\n",
       "       'Anopheles_gambiae', 'Anopheles_hancocki', 'Anopheles_hyrcanus',\n",
       "       'Anopheles_implexus', 'Anopheles_jamesii', 'Anopheles_maculatus_A',\n",
       "       'Anopheles_maculipalpis', 'Anopheles_marshallii', 'Anopheles_minimus_A',\n",
       "       'Anopheles_moucheti', 'Anopheles_nili', 'Anopheles_paludis',\n",
       "       'Anopheles_rampae', 'Anopheles_rhodesiensis', 'Anopheles_sinensis',\n",
       "       'Anopheles_stephensi', 'Anopheles_sundaicus', 'Anopheles_tenebrosus',\n",
       "       'Anopheles_tessellatus', 'Anopheles_theileri', 'Anopheles_vagus',\n",
       "       'Anopheles_vinckei', 'Anopheles_ziemanni'],\n",
       "      dtype='object', name='species')"
      ]
     },
     "execution_count": 6,
     "metadata": {},
     "output_type": "execute_result"
    }
   ],
   "source": [
    "# species with multiple samples passing few amplicons filter\n",
    "samples_per_sp = seq.groupby('species')['s_Sample'].nunique()\n",
    "multisample_species = samples_per_sp[samples_per_sp > 1].index\n",
    "display(multisample_species.shape)\n",
    "multisample_species"
   ]
  },
  {
   "cell_type": "code",
   "execution_count": 7,
   "metadata": {},
   "outputs": [
    {
     "data": {
      "image/png": "[encoded data removed]",
      "text/plain": [
       "<Figure size 1440x1440 with 36 Axes>"
      ]
     },
     "metadata": {
      "needs_background": "light"
     },
     "output_type": "display_data"
    }
   ],
   "source": [
    "# Most species have less than 10% within-species divergence averaged across all amplicons. \n",
    "# However, in some species there is a substantial number of distances that are higher than that. \n",
    "fig, axs = plt.subplots(6,6, figsize=(20,20))\n",
    "for ax, sp in zip(axs.flatten(), multisample_species):\n",
    "    ax.axvline(0.1, c='r')\n",
    "    ax.hist(dm_data.loc[dm_data.spp_intersect.str.contains(sp),\n",
    "                        'dist'], bins=25)\n",
    "    ax.set_title('{} {}'.format(sp, samples_per_sp[sp]))\n",
    "fig.tight_layout();"
   ]
  },
  {
   "cell_type": "markdown",
   "metadata": {},
   "source": [
    "## Remove samples to decrease average within-species distance\n"
   ]
  },
  {
   "cell_type": "markdown",
   "metadata": {},
   "source": [
    "If some samples were incorrectly identified, removal of those will result in dramatic reduction of average within-species distances for the remaining samples. If removing samples does not help, we consider entire species as bad. Here, we only check species with significant number of distances higher than 0.1. Small number of high distances are more likely to occur only in a few amplicons, so we will address these cases later."
   ]
  },
  {
   "cell_type": "code",
   "execution_count": 8,
   "metadata": {},
   "outputs": [],
   "source": [
    "def sample_dists(species, excluded_samples=[]):\n",
    "    '''\n",
    "    Distance distribution statistics within given species \n",
    "    relative to a single sample at once.\n",
    "    \n",
    "    A set of samples can be removed from consideration prior \n",
    "    to the analysis.\n",
    "    '''\n",
    "    # subset samples\n",
    "    species_samples = seq[seq['species'] == species] \\\n",
    "                               ['s_Sample'].unique().tolist()\n",
    "    for sample in excluded_samples:\n",
    "        try:\n",
    "            species_samples.remove(sample)\n",
    "        except:\n",
    "            pass\n",
    "    # excluded seqs\n",
    "    excluded_seqs = seq[seq.s_Sample.isin(excluded_samples)] \\\n",
    "                               ['combUID'].unique().tolist()\n",
    "    # subset distances data to species\n",
    "    species_dists = dm_data[dm_data.spp_intersect.str.contains(species)]\n",
    "    # remove distances to sequences of excluded samples\n",
    "    species_dists = species_dists[~species_dists.seq1.isin(excluded_seqs) &\n",
    "                                  ~species_dists.seq2.isin(excluded_seqs)]\n",
    "    sample_dists = dict()\n",
    "    for sample in species_samples:\n",
    "        sample_seqs = seq[seq.s_Sample == sample] \\\n",
    "                               ['combUID'].unique().tolist()\n",
    "        sample_dists[sample] = species_dists.loc[species_dists.seq1.isin(sample_seqs) |\n",
    "                                                 species_dists.seq2.isin(sample_seqs),\n",
    "                                                 'dist'].describe()\n",
    "    return pd.DataFrame(sample_dists).T.sort_values('mean', ascending=False)"
   ]
  },
  {
   "cell_type": "code",
   "execution_count": 9,
   "metadata": {},
   "outputs": [
    {
     "data": {
      "text/html": [
       "<div>\n",
       "<style scoped>\n",
       "    .dataframe tbody tr th:only-of-type {\n",
       "        vertical-align: middle;\n",
       "    }\n",
       "\n",
       "    .dataframe tbody tr th {\n",
       "        vertical-align: top;\n",
       "    }\n",
       "\n",
       "    .dataframe thead th {\n",
       "        text-align: right;\n",
       "    }\n",
       "</style>\n",
       "<table border=\"1\" class=\"dataframe\">\n",
       "  <thead>\n",
       "    <tr style=\"text-align: right;\">\n",
       "      <th></th>\n",
       "      <th>count</th>\n",
       "      <th>mean</th>\n",
       "      <th>std</th>\n",
       "      <th>min</th>\n",
       "      <th>25%</th>\n",
       "      <th>50%</th>\n",
       "      <th>75%</th>\n",
       "      <th>max</th>\n",
       "    </tr>\n",
       "  </thead>\n",
       "  <tbody>\n",
       "    <tr>\n",
       "      <th>Adem-15</th>\n",
       "      <td>117.0</td>\n",
       "      <td>0.121497</td>\n",
       "      <td>0.092212</td>\n",
       "      <td>0.002710</td>\n",
       "      <td>0.032680</td>\n",
       "      <td>0.130312</td>\n",
       "      <td>0.174545</td>\n",
       "      <td>0.388679</td>\n",
       "    </tr>\n",
       "    <tr>\n",
       "      <th>Adem-34</th>\n",
       "      <td>122.0</td>\n",
       "      <td>0.081776</td>\n",
       "      <td>0.092066</td>\n",
       "      <td>0.002681</td>\n",
       "      <td>0.007619</td>\n",
       "      <td>0.033918</td>\n",
       "      <td>0.159864</td>\n",
       "      <td>0.388679</td>\n",
       "    </tr>\n",
       "    <tr>\n",
       "      <th>Adem-32</th>\n",
       "      <td>62.0</td>\n",
       "      <td>0.081055</td>\n",
       "      <td>0.099130</td>\n",
       "      <td>0.002915</td>\n",
       "      <td>0.006626</td>\n",
       "      <td>0.018335</td>\n",
       "      <td>0.165019</td>\n",
       "      <td>0.388679</td>\n",
       "    </tr>\n",
       "    <tr>\n",
       "      <th>Adem-19</th>\n",
       "      <td>89.0</td>\n",
       "      <td>0.075736</td>\n",
       "      <td>0.092592</td>\n",
       "      <td>0.002681</td>\n",
       "      <td>0.006944</td>\n",
       "      <td>0.020725</td>\n",
       "      <td>0.136729</td>\n",
       "      <td>0.388679</td>\n",
       "    </tr>\n",
       "  </tbody>\n",
       "</table>\n",
       "</div>"
      ],
      "text/plain": [
       "         count      mean       std       min       25%       50%       75%  \\\n",
       "Adem-15  117.0  0.121497  0.092212  0.002710  0.032680  0.130312  0.174545   \n",
       "Adem-34  122.0  0.081776  0.092066  0.002681  0.007619  0.033918  0.159864   \n",
       "Adem-32   62.0  0.081055  0.099130  0.002915  0.006626  0.018335  0.165019   \n",
       "Adem-19   89.0  0.075736  0.092592  0.002681  0.006944  0.020725  0.136729   \n",
       "\n",
       "              max  \n",
       "Adem-15  0.388679  \n",
       "Adem-34  0.388679  \n",
       "Adem-32  0.388679  \n",
       "Adem-19  0.388679  "
      ]
     },
     "execution_count": 9,
     "metadata": {},
     "output_type": "execute_result"
    }
   ],
   "source": [
    "# in dem, one sample stands out\n",
    "sample_dists('Anopheles_demeilloni')"
   ]
  },
  {
   "cell_type": "code",
   "execution_count": 10,
   "metadata": {},
   "outputs": [
    {
     "data": {
      "text/html": [
       "<div>\n",
       "<style scoped>\n",
       "    .dataframe tbody tr th:only-of-type {\n",
       "        vertical-align: middle;\n",
       "    }\n",
       "\n",
       "    .dataframe tbody tr th {\n",
       "        vertical-align: top;\n",
       "    }\n",
       "\n",
       "    .dataframe thead th {\n",
       "        text-align: right;\n",
       "    }\n",
       "</style>\n",
       "<table border=\"1\" class=\"dataframe\">\n",
       "  <thead>\n",
       "    <tr style=\"text-align: right;\">\n",
       "      <th></th>\n",
       "      <th>count</th>\n",
       "      <th>mean</th>\n",
       "      <th>std</th>\n",
       "      <th>min</th>\n",
       "      <th>25%</th>\n",
       "      <th>50%</th>\n",
       "      <th>75%</th>\n",
       "      <th>max</th>\n",
       "    </tr>\n",
       "  </thead>\n",
       "  <tbody>\n",
       "    <tr>\n",
       "      <th>Adem-34</th>\n",
       "      <td>46.0</td>\n",
       "      <td>0.008863</td>\n",
       "      <td>0.010012</td>\n",
       "      <td>0.002681</td>\n",
       "      <td>0.004128</td>\n",
       "      <td>0.006716</td>\n",
       "      <td>0.008701</td>\n",
       "      <td>0.068681</td>\n",
       "    </tr>\n",
       "    <tr>\n",
       "      <th>Adem-19</th>\n",
       "      <td>38.0</td>\n",
       "      <td>0.008138</td>\n",
       "      <td>0.005133</td>\n",
       "      <td>0.002681</td>\n",
       "      <td>0.004267</td>\n",
       "      <td>0.006716</td>\n",
       "      <td>0.008643</td>\n",
       "      <td>0.022831</td>\n",
       "    </tr>\n",
       "    <tr>\n",
       "      <th>Adem-32</th>\n",
       "      <td>26.0</td>\n",
       "      <td>0.006689</td>\n",
       "      <td>0.003423</td>\n",
       "      <td>0.002915</td>\n",
       "      <td>0.004128</td>\n",
       "      <td>0.006009</td>\n",
       "      <td>0.008007</td>\n",
       "      <td>0.018265</td>\n",
       "    </tr>\n",
       "  </tbody>\n",
       "</table>\n",
       "</div>"
      ],
      "text/plain": [
       "         count      mean       std       min       25%       50%       75%  \\\n",
       "Adem-34   46.0  0.008863  0.010012  0.002681  0.004128  0.006716  0.008701   \n",
       "Adem-19   38.0  0.008138  0.005133  0.002681  0.004267  0.006716  0.008643   \n",
       "Adem-32   26.0  0.006689  0.003423  0.002915  0.004128  0.006009  0.008007   \n",
       "\n",
       "              max  \n",
       "Adem-34  0.068681  \n",
       "Adem-19  0.022831  \n",
       "Adem-32  0.018265  "
      ]
     },
     "execution_count": 10,
     "metadata": {},
     "output_type": "execute_result"
    }
   ],
   "source": [
    "# removal of a single sample dramatically reduces distances - other subspecies/species\n",
    "bad_samples = ['Adem-15']\n",
    "sample_dists('Anopheles_demeilloni', bad_samples)"
   ]
  },
  {
   "cell_type": "code",
   "execution_count": 11,
   "metadata": {},
   "outputs": [
    {
     "data": {
      "text/html": [
       "<div>\n",
       "<style scoped>\n",
       "    .dataframe tbody tr th:only-of-type {\n",
       "        vertical-align: middle;\n",
       "    }\n",
       "\n",
       "    .dataframe tbody tr th {\n",
       "        vertical-align: top;\n",
       "    }\n",
       "\n",
       "    .dataframe thead th {\n",
       "        text-align: right;\n",
       "    }\n",
       "</style>\n",
       "<table border=\"1\" class=\"dataframe\">\n",
       "  <thead>\n",
       "    <tr style=\"text-align: right;\">\n",
       "      <th></th>\n",
       "      <th>count</th>\n",
       "      <th>mean</th>\n",
       "      <th>std</th>\n",
       "      <th>min</th>\n",
       "      <th>25%</th>\n",
       "      <th>50%</th>\n",
       "      <th>75%</th>\n",
       "      <th>max</th>\n",
       "    </tr>\n",
       "  </thead>\n",
       "  <tbody>\n",
       "    <tr>\n",
       "      <th>VBS00084</th>\n",
       "      <td>21.0</td>\n",
       "      <td>0.115841</td>\n",
       "      <td>0.073323</td>\n",
       "      <td>0.006944</td>\n",
       "      <td>0.021680</td>\n",
       "      <td>0.151762</td>\n",
       "      <td>0.176152</td>\n",
       "      <td>0.186992</td>\n",
       "    </tr>\n",
       "    <tr>\n",
       "      <th>VBS00082</th>\n",
       "      <td>290.0</td>\n",
       "      <td>0.067484</td>\n",
       "      <td>0.065876</td>\n",
       "      <td>0.002611</td>\n",
       "      <td>0.011976</td>\n",
       "      <td>0.048780</td>\n",
       "      <td>0.110215</td>\n",
       "      <td>0.319392</td>\n",
       "    </tr>\n",
       "    <tr>\n",
       "      <th>VBS00083</th>\n",
       "      <td>298.0</td>\n",
       "      <td>0.065811</td>\n",
       "      <td>0.061452</td>\n",
       "      <td>0.002611</td>\n",
       "      <td>0.012404</td>\n",
       "      <td>0.048780</td>\n",
       "      <td>0.100392</td>\n",
       "      <td>0.319392</td>\n",
       "    </tr>\n",
       "    <tr>\n",
       "      <th>VBS00085</th>\n",
       "      <td>271.0</td>\n",
       "      <td>0.065789</td>\n",
       "      <td>0.062124</td>\n",
       "      <td>0.002660</td>\n",
       "      <td>0.012579</td>\n",
       "      <td>0.050938</td>\n",
       "      <td>0.099150</td>\n",
       "      <td>0.292096</td>\n",
       "    </tr>\n",
       "    <tr>\n",
       "      <th>VBS00086</th>\n",
       "      <td>239.0</td>\n",
       "      <td>0.061644</td>\n",
       "      <td>0.059189</td>\n",
       "      <td>0.002660</td>\n",
       "      <td>0.012183</td>\n",
       "      <td>0.042373</td>\n",
       "      <td>0.097734</td>\n",
       "      <td>0.288973</td>\n",
       "    </tr>\n",
       "  </tbody>\n",
       "</table>\n",
       "</div>"
      ],
      "text/plain": [
       "          count      mean       std       min       25%       50%       75%  \\\n",
       "VBS00084   21.0  0.115841  0.073323  0.006944  0.021680  0.151762  0.176152   \n",
       "VBS00082  290.0  0.067484  0.065876  0.002611  0.011976  0.048780  0.110215   \n",
       "VBS00083  298.0  0.065811  0.061452  0.002611  0.012404  0.048780  0.100392   \n",
       "VBS00085  271.0  0.065789  0.062124  0.002660  0.012579  0.050938  0.099150   \n",
       "VBS00086  239.0  0.061644  0.059189  0.002660  0.012183  0.042373  0.097734   \n",
       "\n",
       "               max  \n",
       "VBS00084  0.186992  \n",
       "VBS00082  0.319392  \n",
       "VBS00083  0.319392  \n",
       "VBS00085  0.292096  \n",
       "VBS00086  0.288973  "
      ]
     },
     "execution_count": 11,
     "metadata": {},
     "output_type": "execute_result"
    }
   ],
   "source": [
    "# single sample with very low seqeunce recall stands out\n",
    "sample_dists('Anopheles_hyrcanus', bad_samples)"
   ]
  },
  {
   "cell_type": "code",
   "execution_count": 12,
   "metadata": {},
   "outputs": [
    {
     "data": {
      "text/html": [
       "<div>\n",
       "<style scoped>\n",
       "    .dataframe tbody tr th:only-of-type {\n",
       "        vertical-align: middle;\n",
       "    }\n",
       "\n",
       "    .dataframe tbody tr th {\n",
       "        vertical-align: top;\n",
       "    }\n",
       "\n",
       "    .dataframe thead th {\n",
       "        text-align: right;\n",
       "    }\n",
       "</style>\n",
       "<table border=\"1\" class=\"dataframe\">\n",
       "  <thead>\n",
       "    <tr style=\"text-align: right;\">\n",
       "      <th></th>\n",
       "      <th>count</th>\n",
       "      <th>mean</th>\n",
       "      <th>std</th>\n",
       "      <th>min</th>\n",
       "      <th>25%</th>\n",
       "      <th>50%</th>\n",
       "      <th>75%</th>\n",
       "      <th>max</th>\n",
       "    </tr>\n",
       "  </thead>\n",
       "  <tbody>\n",
       "    <tr>\n",
       "      <th>VBS00082</th>\n",
       "      <td>282.0</td>\n",
       "      <td>0.067512</td>\n",
       "      <td>0.065886</td>\n",
       "      <td>0.002611</td>\n",
       "      <td>0.011740</td>\n",
       "      <td>0.049547</td>\n",
       "      <td>0.110076</td>\n",
       "      <td>0.319392</td>\n",
       "    </tr>\n",
       "    <tr>\n",
       "      <th>VBS00083</th>\n",
       "      <td>288.0</td>\n",
       "      <td>0.065193</td>\n",
       "      <td>0.061087</td>\n",
       "      <td>0.002611</td>\n",
       "      <td>0.012346</td>\n",
       "      <td>0.048780</td>\n",
       "      <td>0.096774</td>\n",
       "      <td>0.319392</td>\n",
       "    </tr>\n",
       "    <tr>\n",
       "      <th>VBS00085</th>\n",
       "      <td>265.0</td>\n",
       "      <td>0.064453</td>\n",
       "      <td>0.060957</td>\n",
       "      <td>0.002660</td>\n",
       "      <td>0.012579</td>\n",
       "      <td>0.050532</td>\n",
       "      <td>0.096774</td>\n",
       "      <td>0.292096</td>\n",
       "    </tr>\n",
       "    <tr>\n",
       "      <th>VBS00086</th>\n",
       "      <td>234.0</td>\n",
       "      <td>0.060619</td>\n",
       "      <td>0.058185</td>\n",
       "      <td>0.002660</td>\n",
       "      <td>0.012140</td>\n",
       "      <td>0.042373</td>\n",
       "      <td>0.096317</td>\n",
       "      <td>0.288973</td>\n",
       "    </tr>\n",
       "  </tbody>\n",
       "</table>\n",
       "</div>"
      ],
      "text/plain": [
       "          count      mean       std       min       25%       50%       75%  \\\n",
       "VBS00082  282.0  0.067512  0.065886  0.002611  0.011740  0.049547  0.110076   \n",
       "VBS00083  288.0  0.065193  0.061087  0.002611  0.012346  0.048780  0.096774   \n",
       "VBS00085  265.0  0.064453  0.060957  0.002660  0.012579  0.050532  0.096774   \n",
       "VBS00086  234.0  0.060619  0.058185  0.002660  0.012140  0.042373  0.096317   \n",
       "\n",
       "               max  \n",
       "VBS00082  0.319392  \n",
       "VBS00083  0.319392  \n",
       "VBS00085  0.292096  \n",
       "VBS00086  0.288973  "
      ]
     },
     "execution_count": 12,
     "metadata": {},
     "output_type": "execute_result"
    }
   ],
   "source": [
    "# removal of a single sample dramatically reduces distances\n",
    "bad_samples.append('VBS00084')\n",
    "sample_dists('Anopheles_hyrcanus', bad_samples)"
   ]
  },
  {
   "cell_type": "code",
   "execution_count": 13,
   "metadata": {},
   "outputs": [
    {
     "data": {
      "text/html": [
       "<div>\n",
       "<style scoped>\n",
       "    .dataframe tbody tr th:only-of-type {\n",
       "        vertical-align: middle;\n",
       "    }\n",
       "\n",
       "    .dataframe tbody tr th {\n",
       "        vertical-align: top;\n",
       "    }\n",
       "\n",
       "    .dataframe thead th {\n",
       "        text-align: right;\n",
       "    }\n",
       "</style>\n",
       "<table border=\"1\" class=\"dataframe\">\n",
       "  <thead>\n",
       "    <tr style=\"text-align: right;\">\n",
       "      <th></th>\n",
       "      <th>count</th>\n",
       "      <th>mean</th>\n",
       "      <th>std</th>\n",
       "      <th>min</th>\n",
       "      <th>25%</th>\n",
       "      <th>50%</th>\n",
       "      <th>75%</th>\n",
       "      <th>max</th>\n",
       "    </tr>\n",
       "  </thead>\n",
       "  <tbody>\n",
       "    <tr>\n",
       "      <th>Amar-5</th>\n",
       "      <td>260.0</td>\n",
       "      <td>0.227367</td>\n",
       "      <td>0.150177</td>\n",
       "      <td>0.002681</td>\n",
       "      <td>0.062714</td>\n",
       "      <td>0.248272</td>\n",
       "      <td>0.345367</td>\n",
       "      <td>0.582222</td>\n",
       "    </tr>\n",
       "    <tr>\n",
       "      <th>Amar-3-1</th>\n",
       "      <td>241.0</td>\n",
       "      <td>0.171919</td>\n",
       "      <td>0.139462</td>\n",
       "      <td>0.002611</td>\n",
       "      <td>0.051282</td>\n",
       "      <td>0.150000</td>\n",
       "      <td>0.253264</td>\n",
       "      <td>0.582222</td>\n",
       "    </tr>\n",
       "    <tr>\n",
       "      <th>Amar-42</th>\n",
       "      <td>265.0</td>\n",
       "      <td>0.169674</td>\n",
       "      <td>0.140084</td>\n",
       "      <td>0.002611</td>\n",
       "      <td>0.044586</td>\n",
       "      <td>0.148352</td>\n",
       "      <td>0.267327</td>\n",
       "      <td>0.577778</td>\n",
       "    </tr>\n",
       "  </tbody>\n",
       "</table>\n",
       "</div>"
      ],
      "text/plain": [
       "          count      mean       std       min       25%       50%       75%  \\\n",
       "Amar-5    260.0  0.227367  0.150177  0.002681  0.062714  0.248272  0.345367   \n",
       "Amar-3-1  241.0  0.171919  0.139462  0.002611  0.051282  0.150000  0.253264   \n",
       "Amar-42   265.0  0.169674  0.140084  0.002611  0.044586  0.148352  0.267327   \n",
       "\n",
       "               max  \n",
       "Amar-5    0.582222  \n",
       "Amar-3-1  0.582222  \n",
       "Amar-42   0.577778  "
      ]
     },
     "execution_count": 13,
     "metadata": {},
     "output_type": "execute_result"
    }
   ],
   "source": [
    "# there is no single sample removal of which would dramatically reduce the distances\n",
    "sample_dists('Anopheles_marshallii', bad_samples)"
   ]
  },
  {
   "cell_type": "code",
   "execution_count": 14,
   "metadata": {},
   "outputs": [],
   "source": [
    "# remove all samples\n",
    "bad_samples.extend(['Amar-5','Amar-3-1','Amar-42'])"
   ]
  },
  {
   "cell_type": "code",
   "execution_count": 15,
   "metadata": {},
   "outputs": [
    {
     "data": {
      "text/html": [
       "<div>\n",
       "<style scoped>\n",
       "    .dataframe tbody tr th:only-of-type {\n",
       "        vertical-align: middle;\n",
       "    }\n",
       "\n",
       "    .dataframe tbody tr th {\n",
       "        vertical-align: top;\n",
       "    }\n",
       "\n",
       "    .dataframe thead th {\n",
       "        text-align: right;\n",
       "    }\n",
       "</style>\n",
       "<table border=\"1\" class=\"dataframe\">\n",
       "  <thead>\n",
       "    <tr style=\"text-align: right;\">\n",
       "      <th></th>\n",
       "      <th>count</th>\n",
       "      <th>mean</th>\n",
       "      <th>std</th>\n",
       "      <th>min</th>\n",
       "      <th>25%</th>\n",
       "      <th>50%</th>\n",
       "      <th>75%</th>\n",
       "      <th>max</th>\n",
       "    </tr>\n",
       "  </thead>\n",
       "  <tbody>\n",
       "    <tr>\n",
       "      <th>Anil-239</th>\n",
       "      <td>136.0</td>\n",
       "      <td>0.052352</td>\n",
       "      <td>0.047252</td>\n",
       "      <td>0.002681</td>\n",
       "      <td>0.012346</td>\n",
       "      <td>0.039688</td>\n",
       "      <td>0.088183</td>\n",
       "      <td>0.230241</td>\n",
       "    </tr>\n",
       "    <tr>\n",
       "      <th>Anil-237</th>\n",
       "      <td>114.0</td>\n",
       "      <td>0.048943</td>\n",
       "      <td>0.047320</td>\n",
       "      <td>0.002681</td>\n",
       "      <td>0.011577</td>\n",
       "      <td>0.032410</td>\n",
       "      <td>0.083874</td>\n",
       "      <td>0.230241</td>\n",
       "    </tr>\n",
       "    <tr>\n",
       "      <th>Anil-233</th>\n",
       "      <td>136.0</td>\n",
       "      <td>0.043322</td>\n",
       "      <td>0.045054</td>\n",
       "      <td>0.002747</td>\n",
       "      <td>0.011151</td>\n",
       "      <td>0.022310</td>\n",
       "      <td>0.070755</td>\n",
       "      <td>0.226804</td>\n",
       "    </tr>\n",
       "    <tr>\n",
       "      <th>Anil-236</th>\n",
       "      <td>145.0</td>\n",
       "      <td>0.042427</td>\n",
       "      <td>0.042011</td>\n",
       "      <td>0.002747</td>\n",
       "      <td>0.010989</td>\n",
       "      <td>0.022642</td>\n",
       "      <td>0.064426</td>\n",
       "      <td>0.230241</td>\n",
       "    </tr>\n",
       "    <tr>\n",
       "      <th>Anil-238</th>\n",
       "      <td>138.0</td>\n",
       "      <td>0.041397</td>\n",
       "      <td>0.042006</td>\n",
       "      <td>0.002747</td>\n",
       "      <td>0.010811</td>\n",
       "      <td>0.019875</td>\n",
       "      <td>0.064426</td>\n",
       "      <td>0.226804</td>\n",
       "    </tr>\n",
       "  </tbody>\n",
       "</table>\n",
       "</div>"
      ],
      "text/plain": [
       "          count      mean       std       min       25%       50%       75%  \\\n",
       "Anil-239  136.0  0.052352  0.047252  0.002681  0.012346  0.039688  0.088183   \n",
       "Anil-237  114.0  0.048943  0.047320  0.002681  0.011577  0.032410  0.083874   \n",
       "Anil-233  136.0  0.043322  0.045054  0.002747  0.011151  0.022310  0.070755   \n",
       "Anil-236  145.0  0.042427  0.042011  0.002747  0.010989  0.022642  0.064426   \n",
       "Anil-238  138.0  0.041397  0.042006  0.002747  0.010811  0.019875  0.064426   \n",
       "\n",
       "               max  \n",
       "Anil-239  0.230241  \n",
       "Anil-237  0.230241  \n",
       "Anil-233  0.226804  \n",
       "Anil-236  0.230241  \n",
       "Anil-238  0.226804  "
      ]
     },
     "execution_count": 15,
     "metadata": {},
     "output_type": "execute_result"
    }
   ],
   "source": [
    "# in nili, distances are over-dispersed\n",
    "sample_dists('Anopheles_nili', bad_samples)"
   ]
  },
  {
   "cell_type": "code",
   "execution_count": 16,
   "metadata": {},
   "outputs": [
    {
     "data": {
      "text/html": [
       "<div>\n",
       "<style scoped>\n",
       "    .dataframe tbody tr th:only-of-type {\n",
       "        vertical-align: middle;\n",
       "    }\n",
       "\n",
       "    .dataframe tbody tr th {\n",
       "        vertical-align: top;\n",
       "    }\n",
       "\n",
       "    .dataframe thead th {\n",
       "        text-align: right;\n",
       "    }\n",
       "</style>\n",
       "<table border=\"1\" class=\"dataframe\">\n",
       "  <thead>\n",
       "    <tr style=\"text-align: right;\">\n",
       "      <th></th>\n",
       "      <th>count</th>\n",
       "      <th>mean</th>\n",
       "      <th>std</th>\n",
       "      <th>min</th>\n",
       "      <th>25%</th>\n",
       "      <th>50%</th>\n",
       "      <th>75%</th>\n",
       "      <th>max</th>\n",
       "    </tr>\n",
       "  </thead>\n",
       "  <tbody>\n",
       "    <tr>\n",
       "      <th>Apal-10</th>\n",
       "      <td>42.0</td>\n",
       "      <td>0.175881</td>\n",
       "      <td>0.114503</td>\n",
       "      <td>0.002710</td>\n",
       "      <td>0.052168</td>\n",
       "      <td>0.269648</td>\n",
       "      <td>0.271003</td>\n",
       "      <td>0.276423</td>\n",
       "    </tr>\n",
       "    <tr>\n",
       "      <th>Apal-4</th>\n",
       "      <td>2.0</td>\n",
       "      <td>0.172422</td>\n",
       "      <td>0.235166</td>\n",
       "      <td>0.006135</td>\n",
       "      <td>0.089279</td>\n",
       "      <td>0.172422</td>\n",
       "      <td>0.255566</td>\n",
       "      <td>0.338710</td>\n",
       "    </tr>\n",
       "    <tr>\n",
       "      <th>Apal-81</th>\n",
       "      <td>61.0</td>\n",
       "      <td>0.107966</td>\n",
       "      <td>0.107322</td>\n",
       "      <td>0.002710</td>\n",
       "      <td>0.035230</td>\n",
       "      <td>0.052209</td>\n",
       "      <td>0.271003</td>\n",
       "      <td>0.338710</td>\n",
       "    </tr>\n",
       "    <tr>\n",
       "      <th>Apal-257</th>\n",
       "      <td>32.0</td>\n",
       "      <td>0.097947</td>\n",
       "      <td>0.091197</td>\n",
       "      <td>0.006135</td>\n",
       "      <td>0.037940</td>\n",
       "      <td>0.054201</td>\n",
       "      <td>0.150362</td>\n",
       "      <td>0.271003</td>\n",
       "    </tr>\n",
       "  </tbody>\n",
       "</table>\n",
       "</div>"
      ],
      "text/plain": [
       "          count      mean       std       min       25%       50%       75%  \\\n",
       "Apal-10    42.0  0.175881  0.114503  0.002710  0.052168  0.269648  0.271003   \n",
       "Apal-4      2.0  0.172422  0.235166  0.006135  0.089279  0.172422  0.255566   \n",
       "Apal-81    61.0  0.107966  0.107322  0.002710  0.035230  0.052209  0.271003   \n",
       "Apal-257   32.0  0.097947  0.091197  0.006135  0.037940  0.054201  0.150362   \n",
       "\n",
       "               max  \n",
       "Apal-10   0.276423  \n",
       "Apal-4    0.338710  \n",
       "Apal-81   0.338710  \n",
       "Apal-257  0.271003  "
      ]
     },
     "execution_count": 16,
     "metadata": {},
     "output_type": "execute_result"
    }
   ],
   "source": [
    "# here, two samples are spurious\n",
    "sample_dists('Anopheles_paludis', bad_samples)"
   ]
  },
  {
   "cell_type": "code",
   "execution_count": 17,
   "metadata": {},
   "outputs": [
    {
     "data": {
      "text/html": [
       "<div>\n",
       "<style scoped>\n",
       "    .dataframe tbody tr th:only-of-type {\n",
       "        vertical-align: middle;\n",
       "    }\n",
       "\n",
       "    .dataframe tbody tr th {\n",
       "        vertical-align: top;\n",
       "    }\n",
       "\n",
       "    .dataframe thead th {\n",
       "        text-align: right;\n",
       "    }\n",
       "</style>\n",
       "<table border=\"1\" class=\"dataframe\">\n",
       "  <thead>\n",
       "    <tr style=\"text-align: right;\">\n",
       "      <th></th>\n",
       "      <th>count</th>\n",
       "      <th>mean</th>\n",
       "      <th>std</th>\n",
       "      <th>min</th>\n",
       "      <th>25%</th>\n",
       "      <th>50%</th>\n",
       "      <th>75%</th>\n",
       "      <th>max</th>\n",
       "    </tr>\n",
       "  </thead>\n",
       "  <tbody>\n",
       "    <tr>\n",
       "      <th>Apal-257</th>\n",
       "      <td>20.0</td>\n",
       "      <td>0.064915</td>\n",
       "      <td>0.041755</td>\n",
       "      <td>0.016949</td>\n",
       "      <td>0.03794</td>\n",
       "      <td>0.05185</td>\n",
       "      <td>0.071701</td>\n",
       "      <td>0.157258</td>\n",
       "    </tr>\n",
       "    <tr>\n",
       "      <th>Apal-81</th>\n",
       "      <td>34.0</td>\n",
       "      <td>0.045113</td>\n",
       "      <td>0.040953</td>\n",
       "      <td>0.002710</td>\n",
       "      <td>0.01154</td>\n",
       "      <td>0.04065</td>\n",
       "      <td>0.053703</td>\n",
       "      <td>0.157258</td>\n",
       "    </tr>\n",
       "  </tbody>\n",
       "</table>\n",
       "</div>"
      ],
      "text/plain": [
       "          count      mean       std       min      25%      50%       75%  \\\n",
       "Apal-257   20.0  0.064915  0.041755  0.016949  0.03794  0.05185  0.071701   \n",
       "Apal-81    34.0  0.045113  0.040953  0.002710  0.01154  0.04065  0.053703   \n",
       "\n",
       "               max  \n",
       "Apal-257  0.157258  \n",
       "Apal-81   0.157258  "
      ]
     },
     "execution_count": 17,
     "metadata": {},
     "output_type": "execute_result"
    }
   ],
   "source": [
    "# the remaining two are closely related\n",
    "bad_samples.extend(['Apal-10','Apal-4'])\n",
    "sample_dists('Anopheles_paludis', bad_samples)"
   ]
  },
  {
   "cell_type": "code",
   "execution_count": 18,
   "metadata": {},
   "outputs": [
    {
     "data": {
      "text/html": [
       "<div>\n",
       "<style scoped>\n",
       "    .dataframe tbody tr th:only-of-type {\n",
       "        vertical-align: middle;\n",
       "    }\n",
       "\n",
       "    .dataframe tbody tr th {\n",
       "        vertical-align: top;\n",
       "    }\n",
       "\n",
       "    .dataframe thead th {\n",
       "        text-align: right;\n",
       "    }\n",
       "</style>\n",
       "<table border=\"1\" class=\"dataframe\">\n",
       "  <thead>\n",
       "    <tr style=\"text-align: right;\">\n",
       "      <th></th>\n",
       "      <th>count</th>\n",
       "      <th>mean</th>\n",
       "      <th>std</th>\n",
       "      <th>min</th>\n",
       "      <th>25%</th>\n",
       "      <th>50%</th>\n",
       "      <th>75%</th>\n",
       "      <th>max</th>\n",
       "    </tr>\n",
       "  </thead>\n",
       "  <tbody>\n",
       "    <tr>\n",
       "      <th>VBS00112</th>\n",
       "      <td>287.0</td>\n",
       "      <td>0.032691</td>\n",
       "      <td>0.036608</td>\n",
       "      <td>0.002611</td>\n",
       "      <td>0.006312</td>\n",
       "      <td>0.016129</td>\n",
       "      <td>0.047575</td>\n",
       "      <td>0.177419</td>\n",
       "    </tr>\n",
       "    <tr>\n",
       "      <th>VBS00115</th>\n",
       "      <td>281.0</td>\n",
       "      <td>0.030838</td>\n",
       "      <td>0.037182</td>\n",
       "      <td>0.002611</td>\n",
       "      <td>0.006173</td>\n",
       "      <td>0.013699</td>\n",
       "      <td>0.038627</td>\n",
       "      <td>0.174731</td>\n",
       "    </tr>\n",
       "    <tr>\n",
       "      <th>VBS00114</th>\n",
       "      <td>298.0</td>\n",
       "      <td>0.030012</td>\n",
       "      <td>0.035230</td>\n",
       "      <td>0.002611</td>\n",
       "      <td>0.006173</td>\n",
       "      <td>0.015077</td>\n",
       "      <td>0.041353</td>\n",
       "      <td>0.177419</td>\n",
       "    </tr>\n",
       "    <tr>\n",
       "      <th>VBS00113</th>\n",
       "      <td>269.0</td>\n",
       "      <td>0.028758</td>\n",
       "      <td>0.032385</td>\n",
       "      <td>0.002611</td>\n",
       "      <td>0.006173</td>\n",
       "      <td>0.014663</td>\n",
       "      <td>0.041353</td>\n",
       "      <td>0.172043</td>\n",
       "    </tr>\n",
       "  </tbody>\n",
       "</table>\n",
       "</div>"
      ],
      "text/plain": [
       "          count      mean       std       min       25%       50%       75%  \\\n",
       "VBS00112  287.0  0.032691  0.036608  0.002611  0.006312  0.016129  0.047575   \n",
       "VBS00115  281.0  0.030838  0.037182  0.002611  0.006173  0.013699  0.038627   \n",
       "VBS00114  298.0  0.030012  0.035230  0.002611  0.006173  0.015077  0.041353   \n",
       "VBS00113  269.0  0.028758  0.032385  0.002611  0.006173  0.014663  0.041353   \n",
       "\n",
       "               max  \n",
       "VBS00112  0.177419  \n",
       "VBS00115  0.174731  \n",
       "VBS00114  0.177419  \n",
       "VBS00113  0.172043  "
      ]
     },
     "execution_count": 18,
     "metadata": {},
     "output_type": "execute_result"
    }
   ],
   "source": [
    "# samples are close, some dispersion exists\n",
    "sample_dists('Anopheles_rampae', bad_samples)"
   ]
  },
  {
   "cell_type": "code",
   "execution_count": 19,
   "metadata": {},
   "outputs": [
    {
     "data": {
      "text/html": [
       "<div>\n",
       "<style scoped>\n",
       "    .dataframe tbody tr th:only-of-type {\n",
       "        vertical-align: middle;\n",
       "    }\n",
       "\n",
       "    .dataframe tbody tr th {\n",
       "        vertical-align: top;\n",
       "    }\n",
       "\n",
       "    .dataframe thead th {\n",
       "        text-align: right;\n",
       "    }\n",
       "</style>\n",
       "<table border=\"1\" class=\"dataframe\">\n",
       "  <thead>\n",
       "    <tr style=\"text-align: right;\">\n",
       "      <th></th>\n",
       "      <th>count</th>\n",
       "      <th>mean</th>\n",
       "      <th>std</th>\n",
       "      <th>min</th>\n",
       "      <th>25%</th>\n",
       "      <th>50%</th>\n",
       "      <th>75%</th>\n",
       "      <th>max</th>\n",
       "    </tr>\n",
       "  </thead>\n",
       "  <tbody>\n",
       "    <tr>\n",
       "      <th>VBS00145</th>\n",
       "      <td>419.0</td>\n",
       "      <td>0.215353</td>\n",
       "      <td>0.135393</td>\n",
       "      <td>0.002611</td>\n",
       "      <td>0.095502</td>\n",
       "      <td>0.230189</td>\n",
       "      <td>0.316884</td>\n",
       "      <td>0.574344</td>\n",
       "    </tr>\n",
       "    <tr>\n",
       "      <th>VBS00144</th>\n",
       "      <td>221.0</td>\n",
       "      <td>0.165115</td>\n",
       "      <td>0.157794</td>\n",
       "      <td>0.002611</td>\n",
       "      <td>0.007833</td>\n",
       "      <td>0.110266</td>\n",
       "      <td>0.297059</td>\n",
       "      <td>0.574344</td>\n",
       "    </tr>\n",
       "    <tr>\n",
       "      <th>VBS00146</th>\n",
       "      <td>265.0</td>\n",
       "      <td>0.161817</td>\n",
       "      <td>0.153690</td>\n",
       "      <td>0.002611</td>\n",
       "      <td>0.008333</td>\n",
       "      <td>0.096220</td>\n",
       "      <td>0.300000</td>\n",
       "      <td>0.574344</td>\n",
       "    </tr>\n",
       "    <tr>\n",
       "      <th>VBS00148</th>\n",
       "      <td>272.0</td>\n",
       "      <td>0.154130</td>\n",
       "      <td>0.153205</td>\n",
       "      <td>0.002611</td>\n",
       "      <td>0.008333</td>\n",
       "      <td>0.091718</td>\n",
       "      <td>0.288952</td>\n",
       "      <td>0.574344</td>\n",
       "    </tr>\n",
       "    <tr>\n",
       "      <th>VBS00147</th>\n",
       "      <td>242.0</td>\n",
       "      <td>0.146546</td>\n",
       "      <td>0.146782</td>\n",
       "      <td>0.002611</td>\n",
       "      <td>0.007969</td>\n",
       "      <td>0.091531</td>\n",
       "      <td>0.273932</td>\n",
       "      <td>0.574344</td>\n",
       "    </tr>\n",
       "  </tbody>\n",
       "</table>\n",
       "</div>"
      ],
      "text/plain": [
       "          count      mean       std       min       25%       50%       75%  \\\n",
       "VBS00145  419.0  0.215353  0.135393  0.002611  0.095502  0.230189  0.316884   \n",
       "VBS00144  221.0  0.165115  0.157794  0.002611  0.007833  0.110266  0.297059   \n",
       "VBS00146  265.0  0.161817  0.153690  0.002611  0.008333  0.096220  0.300000   \n",
       "VBS00148  272.0  0.154130  0.153205  0.002611  0.008333  0.091718  0.288952   \n",
       "VBS00147  242.0  0.146546  0.146782  0.002611  0.007969  0.091531  0.273932   \n",
       "\n",
       "               max  \n",
       "VBS00145  0.574344  \n",
       "VBS00144  0.574344  \n",
       "VBS00146  0.574344  \n",
       "VBS00148  0.574344  \n",
       "VBS00147  0.574344  "
      ]
     },
     "execution_count": 19,
     "metadata": {},
     "output_type": "execute_result"
    }
   ],
   "source": [
    "# one sample stands out\n",
    "sample_dists('Anopheles_sundaicus', bad_samples)"
   ]
  },
  {
   "cell_type": "code",
   "execution_count": 20,
   "metadata": {},
   "outputs": [
    {
     "data": {
      "text/html": [
       "<div>\n",
       "<style scoped>\n",
       "    .dataframe tbody tr th:only-of-type {\n",
       "        vertical-align: middle;\n",
       "    }\n",
       "\n",
       "    .dataframe tbody tr th {\n",
       "        vertical-align: top;\n",
       "    }\n",
       "\n",
       "    .dataframe thead th {\n",
       "        text-align: right;\n",
       "    }\n",
       "</style>\n",
       "<table border=\"1\" class=\"dataframe\">\n",
       "  <thead>\n",
       "    <tr style=\"text-align: right;\">\n",
       "      <th></th>\n",
       "      <th>count</th>\n",
       "      <th>mean</th>\n",
       "      <th>std</th>\n",
       "      <th>min</th>\n",
       "      <th>25%</th>\n",
       "      <th>50%</th>\n",
       "      <th>75%</th>\n",
       "      <th>max</th>\n",
       "    </tr>\n",
       "  </thead>\n",
       "  <tbody>\n",
       "    <tr>\n",
       "      <th>VBS00146</th>\n",
       "      <td>94.0</td>\n",
       "      <td>0.010750</td>\n",
       "      <td>0.017292</td>\n",
       "      <td>0.002611</td>\n",
       "      <td>0.003774</td>\n",
       "      <td>0.006350</td>\n",
       "      <td>0.008744</td>\n",
       "      <td>0.093484</td>\n",
       "    </tr>\n",
       "    <tr>\n",
       "      <th>VBS00148</th>\n",
       "      <td>103.0</td>\n",
       "      <td>0.009576</td>\n",
       "      <td>0.013201</td>\n",
       "      <td>0.002611</td>\n",
       "      <td>0.004032</td>\n",
       "      <td>0.007326</td>\n",
       "      <td>0.009788</td>\n",
       "      <td>0.093484</td>\n",
       "    </tr>\n",
       "    <tr>\n",
       "      <th>VBS00147</th>\n",
       "      <td>89.0</td>\n",
       "      <td>0.009166</td>\n",
       "      <td>0.012738</td>\n",
       "      <td>0.002611</td>\n",
       "      <td>0.004016</td>\n",
       "      <td>0.006024</td>\n",
       "      <td>0.008333</td>\n",
       "      <td>0.087819</td>\n",
       "    </tr>\n",
       "    <tr>\n",
       "      <th>VBS00144</th>\n",
       "      <td>75.0</td>\n",
       "      <td>0.008290</td>\n",
       "      <td>0.011907</td>\n",
       "      <td>0.002611</td>\n",
       "      <td>0.003663</td>\n",
       "      <td>0.005222</td>\n",
       "      <td>0.007885</td>\n",
       "      <td>0.090652</td>\n",
       "    </tr>\n",
       "  </tbody>\n",
       "</table>\n",
       "</div>"
      ],
      "text/plain": [
       "          count      mean       std       min       25%       50%       75%  \\\n",
       "VBS00146   94.0  0.010750  0.017292  0.002611  0.003774  0.006350  0.008744   \n",
       "VBS00148  103.0  0.009576  0.013201  0.002611  0.004032  0.007326  0.009788   \n",
       "VBS00147   89.0  0.009166  0.012738  0.002611  0.004016  0.006024  0.008333   \n",
       "VBS00144   75.0  0.008290  0.011907  0.002611  0.003663  0.005222  0.007885   \n",
       "\n",
       "               max  \n",
       "VBS00146  0.093484  \n",
       "VBS00148  0.093484  \n",
       "VBS00147  0.087819  \n",
       "VBS00144  0.090652  "
      ]
     },
     "execution_count": 20,
     "metadata": {},
     "output_type": "execute_result"
    }
   ],
   "source": [
    "# remaining samples are very close\n",
    "bad_samples.append('VBS00145')\n",
    "sample_dists('Anopheles_sundaicus', bad_samples)"
   ]
  },
  {
   "cell_type": "markdown",
   "metadata": {},
   "source": [
    "## Finalise list of bad samples with known problematic species"
   ]
  },
  {
   "cell_type": "code",
   "execution_count": 21,
   "metadata": {},
   "outputs": [],
   "source": [
    "# from preliminary species tree analysis we saw\n",
    "# that An. rhodesiensis position is compromised\n",
    "# and it belongs to different series\n",
    "# we will remove all of the samples of this species\n",
    "\n",
    "# update - not removing as similar series swap occured for An. jebudensis\n",
    "# bad_samples.extend(['Arho-7-1','Arho-7-2','Arho-7-3','Arho-7-4'])\n"
   ]
  },
  {
   "cell_type": "code",
   "execution_count": 22,
   "metadata": {},
   "outputs": [
    {
     "data": {
      "text/plain": [
       "['Adem-15',\n",
       " 'VBS00084',\n",
       " 'Amar-5',\n",
       " 'Amar-3-1',\n",
       " 'Amar-42',\n",
       " 'Apal-10',\n",
       " 'Apal-4',\n",
       " 'VBS00145']"
      ]
     },
     "execution_count": 22,
     "metadata": {},
     "output_type": "execute_result"
    }
   ],
   "source": [
    "bad_samples"
   ]
  },
  {
   "cell_type": "code",
   "execution_count": 23,
   "metadata": {},
   "outputs": [],
   "source": [
    "# write bad samples\n",
    "with open(BAD_SAMPLES, 'w') as o:\n",
    "    # header\n",
    "    o.write('s_Sample\\n')\n",
    "    # samples\n",
    "    for sample in bad_samples:\n",
    "        o.write(sample + '\\n')\n",
    "        "
   ]
  },
  {
   "cell_type": "markdown",
   "metadata": {},
   "source": [
    "## Remove bad samples from within-species distances"
   ]
  },
  {
   "cell_type": "code",
   "execution_count": 24,
   "metadata": {},
   "outputs": [],
   "source": [
    "# replace bad sample's species with empty string\n",
    "seq.loc[seq.s_Sample.isin(bad_samples),'species'] = ''"
   ]
  },
  {
   "cell_type": "code",
   "execution_count": 25,
   "metadata": {},
   "outputs": [
    {
     "data": {
      "text/plain": [
       "set()"
      ]
     },
     "execution_count": 25,
     "metadata": {},
     "output_type": "execute_result"
    }
   ],
   "source": [
    "def rm_empty(x):\n",
    "    x = set(x)\n",
    "    x.discard('')\n",
    "    return x\n",
    "# species per sequence with bad samples removed\n",
    "spp_per_seq = seq.groupby('combUID')['species'].unique()\n",
    "spp_per_seq = spp_per_seq.apply(rm_empty)\n",
    "spp_per_seq['0-11']"
   ]
  },
  {
   "cell_type": "code",
   "execution_count": 26,
   "metadata": {},
   "outputs": [
    {
     "data": {
      "text/html": [
       "<div>\n",
       "<style scoped>\n",
       "    .dataframe tbody tr th:only-of-type {\n",
       "        vertical-align: middle;\n",
       "    }\n",
       "\n",
       "    .dataframe tbody tr th {\n",
       "        vertical-align: top;\n",
       "    }\n",
       "\n",
       "    .dataframe thead th {\n",
       "        text-align: right;\n",
       "    }\n",
       "</style>\n",
       "<table border=\"1\" class=\"dataframe\">\n",
       "  <thead>\n",
       "    <tr style=\"text-align: right;\">\n",
       "      <th></th>\n",
       "      <th>seq1</th>\n",
       "      <th>seq2</th>\n",
       "      <th>dist</th>\n",
       "      <th>target</th>\n",
       "      <th>spp_intersect</th>\n",
       "      <th>spp_intersect_hq</th>\n",
       "    </tr>\n",
       "  </thead>\n",
       "  <tbody>\n",
       "    <tr>\n",
       "      <th>1</th>\n",
       "      <td>0-0</td>\n",
       "      <td>0-1</td>\n",
       "      <td>0.472103</td>\n",
       "      <td>0</td>\n",
       "      <td></td>\n",
       "      <td></td>\n",
       "    </tr>\n",
       "  </tbody>\n",
       "</table>\n",
       "</div>"
      ],
      "text/plain": [
       "  seq1 seq2      dist target spp_intersect spp_intersect_hq\n",
       "1  0-0  0-1  0.472103      0                               "
      ]
     },
     "execution_count": 26,
     "metadata": {},
     "output_type": "execute_result"
    }
   ],
   "source": [
    "# mark within-species distances species, hq - bad samples removed\n",
    "dm_data['spp_intersect_hq'] = dm_data.apply(lambda x: common_species(x),\n",
    "                                            axis=1)\n",
    "\n",
    "dm_data.head(1)"
   ]
  },
  {
   "cell_type": "markdown",
   "metadata": {},
   "source": [
    "## Within-species variant thresholds\n",
    "\n",
    "Variant counts are not affected by gaps introduced in the alignment, unlike normalised distances."
   ]
  },
  {
   "cell_type": "code",
   "execution_count": 27,
   "metadata": {},
   "outputs": [
    {
     "data": {
      "text/html": [
       "<div>\n",
       "<style scoped>\n",
       "    .dataframe tbody tr th:only-of-type {\n",
       "        vertical-align: middle;\n",
       "    }\n",
       "\n",
       "    .dataframe tbody tr th {\n",
       "        vertical-align: top;\n",
       "    }\n",
       "\n",
       "    .dataframe thead th {\n",
       "        text-align: right;\n",
       "    }\n",
       "</style>\n",
       "<table border=\"1\" class=\"dataframe\">\n",
       "  <thead>\n",
       "    <tr style=\"text-align: right;\">\n",
       "      <th></th>\n",
       "      <th>target</th>\n",
       "      <th>start_insert</th>\n",
       "      <th>end_insert</th>\n",
       "      <th>len_insert</th>\n",
       "      <th>var_ag1k</th>\n",
       "      <th>dist_ag1k</th>\n",
       "    </tr>\n",
       "  </thead>\n",
       "  <tbody>\n",
       "    <tr>\n",
       "      <th>0</th>\n",
       "      <td>0</td>\n",
       "      <td>10356439</td>\n",
       "      <td>10356587</td>\n",
       "      <td>149</td>\n",
       "      <td>5.0</td>\n",
       "      <td>0.033557</td>\n",
       "    </tr>\n",
       "  </tbody>\n",
       "</table>\n",
       "</div>"
      ],
      "text/plain": [
       "  target  start_insert  end_insert  len_insert  var_ag1k  dist_ag1k\n",
       "0      0      10356439    10356587         149       5.0   0.033557"
      ]
     },
     "execution_count": 27,
     "metadata": {},
     "output_type": "execute_result"
    }
   ],
   "source": [
    "t_data = pd.read_csv(GC_THRESHOLDS, dtype={'Primary_ID':str})\n",
    "t_data = t_data.rename(columns={'Primary_ID':'target',\n",
    "                                'max_withinspecies_var':'var_ag1k',\n",
    "                                'max_withinspecies_dist':'dist_ag1k'})\n",
    "t_data.head(1)"
   ]
  },
  {
   "cell_type": "code",
   "execution_count": 28,
   "metadata": {},
   "outputs": [
    {
     "data": {
      "text/plain": [
       "152"
      ]
     },
     "execution_count": 28,
     "metadata": {},
     "output_type": "execute_result"
    }
   ],
   "source": [
    "# read alignment lengths\n",
    "aln_len = dict()\n",
    "for ampl in AMPLS:\n",
    "    aln = AlignIO.read(open(ALN_ALL.format(ampl)), 'fasta')\n",
    "    aln_len[ampl] = aln.get_alignment_length()\n",
    "aln_len['56']"
   ]
  },
  {
   "cell_type": "code",
   "execution_count": 29,
   "metadata": {},
   "outputs": [
    {
     "data": {
      "text/html": [
       "<div>\n",
       "<style scoped>\n",
       "    .dataframe tbody tr th:only-of-type {\n",
       "        vertical-align: middle;\n",
       "    }\n",
       "\n",
       "    .dataframe tbody tr th {\n",
       "        vertical-align: top;\n",
       "    }\n",
       "\n",
       "    .dataframe thead th {\n",
       "        text-align: right;\n",
       "    }\n",
       "</style>\n",
       "<table border=\"1\" class=\"dataframe\">\n",
       "  <thead>\n",
       "    <tr style=\"text-align: right;\">\n",
       "      <th></th>\n",
       "      <th>seq1</th>\n",
       "      <th>seq2</th>\n",
       "      <th>dist</th>\n",
       "      <th>target</th>\n",
       "      <th>spp_intersect</th>\n",
       "      <th>spp_intersect_hq</th>\n",
       "      <th>aln_len</th>\n",
       "      <th>var</th>\n",
       "    </tr>\n",
       "  </thead>\n",
       "  <tbody>\n",
       "    <tr>\n",
       "      <th>1</th>\n",
       "      <td>0-0</td>\n",
       "      <td>0-1</td>\n",
       "      <td>0.472103</td>\n",
       "      <td>0</td>\n",
       "      <td></td>\n",
       "      <td></td>\n",
       "      <td>233</td>\n",
       "      <td>110</td>\n",
       "    </tr>\n",
       "  </tbody>\n",
       "</table>\n",
       "</div>"
      ],
      "text/plain": [
       "  seq1 seq2      dist target spp_intersect spp_intersect_hq  aln_len  var\n",
       "1  0-0  0-1  0.472103      0                                     233  110"
      ]
     },
     "execution_count": 29,
     "metadata": {},
     "output_type": "execute_result"
    }
   ],
   "source": [
    "# alignment lengths to dm\n",
    "dm_data['aln_len'] = dm_data.target.replace(aln_len)\n",
    "# variants\n",
    "dm_data['var'] = (dm_data['dist'] * dm_data['aln_len'] + 0.01).astype(int)\n",
    "dm_data.head(1)"
   ]
  },
  {
   "cell_type": "code",
   "execution_count": 30,
   "metadata": {},
   "outputs": [
    {
     "data": {
      "image/png": "[encoded data removed]",
      "text/plain": [
       "<Figure size 1440x1080 with 64 Axes>"
      ]
     },
     "metadata": {
      "needs_background": "light"
     },
     "output_type": "display_data"
    }
   ],
   "source": [
    "multisp_t = dict()\n",
    "\n",
    "max_dist = 50\n",
    "\n",
    "fig,axs = plt.subplots(8,8, figsize=(20,15))\n",
    "bins = np.arange(0, float(max_dist)) - 0.5\n",
    "kde_bins = np.linspace(0, max_dist, 500)\n",
    "for i, ampl in enumerate(AMPLS):\n",
    "    \n",
    "    # set axis\n",
    "    ax = axs.flatten()[i]\n",
    "    \n",
    "    # get max ag1k within-species distance\n",
    "    gct = t_data.loc[t_data.target == ampl, 'var_ag1k'].iloc[0]\n",
    "    \n",
    "    # subset distances to amplicon\n",
    "    ampl_data = dm_data[dm_data.target == ampl]\n",
    "    # within-species histogram\n",
    "    wspv = ampl_data.loc[ampl_data['spp_intersect_hq'] != '', 'var']\n",
    "    # between-species histogram\n",
    "    bspv = ampl_data.loc[ampl_data['spp_intersect_hq'] == '', 'var']\n",
    "    # estimate threshold\n",
    "    # remove top 5% within-species distances - hopefully rid of outliers\n",
    "    v = wspv.sort_values()[:int(0.95 * wspv.shape[0])]\n",
    "    # make symmetrical\n",
    "    v = pd.concat([v,-v])\n",
    "    # take double standard deviation (95% interval) and round to nvsr\n",
    "    t = round(v.std() * 2)\n",
    "    multisp_t[ampl] = t\n",
    "    \n",
    "    # plot data\n",
    "    ax.hist(wspv, bins=bins, alpha=0.5)\n",
    "    ax.hist(bspv, bins=bins, alpha=0.5)\n",
    "    ax.axvline(t, c='r', alpha=0.7)\n",
    "    ax.axvline(gct, c='b', alpha=0.7)\n",
    "    # plotting settings\n",
    "    ax.set_xlim(0, max(gct, t) * 1.5)\n",
    "    ax.set_ylim(0.1)\n",
    "    ax.set_yscale('log')\n",
    "    ax.set_title(ampl)\n",
    "fig.tight_layout()"
   ]
  },
  {
   "cell_type": "markdown",
   "metadata": {},
   "source": [
    "Key observation - gambiae-based thresholds are often lower than multi-species-based thresholds. In some cases this happens because of erroneous inclusion of high-distance outliers (e.g., `0`). In other cases this is more systematic - `8`,`13` etc. Mixed cases exist. \n",
    "\n",
    "Let's correlate difference between ag1k and multispecies thresholds with number of gaps in alignment"
   ]
  },
  {
   "cell_type": "markdown",
   "metadata": {},
   "source": [
    "## Mean number of gaps in alignment"
   ]
  },
  {
   "cell_type": "code",
   "execution_count": 31,
   "metadata": {},
   "outputs": [
    {
     "data": {
      "text/plain": [
       "95.27536231884058"
      ]
     },
     "execution_count": 31,
     "metadata": {},
     "output_type": "execute_result"
    }
   ],
   "source": [
    "ngaps = dict()\n",
    "for ampl in AMPLS:\n",
    "    aln = AlignIO.read(open(ALN_ALL.format(ampl)), 'fasta')\n",
    "    gaps = [str(s.seq).count('-') for s in aln]\n",
    "    ngaps[ampl] = np.mean(gaps)\n",
    "ngaps['0']"
   ]
  },
  {
   "cell_type": "markdown",
   "metadata": {},
   "source": [
    "## Correlate gaps with difference in thresholds"
   ]
  },
  {
   "cell_type": "code",
   "execution_count": 32,
   "metadata": {},
   "outputs": [
    {
     "data": {
      "text/html": [
       "<div>\n",
       "<style scoped>\n",
       "    .dataframe tbody tr th:only-of-type {\n",
       "        vertical-align: middle;\n",
       "    }\n",
       "\n",
       "    .dataframe tbody tr th {\n",
       "        vertical-align: top;\n",
       "    }\n",
       "\n",
       "    .dataframe thead th {\n",
       "        text-align: right;\n",
       "    }\n",
       "</style>\n",
       "<table border=\"1\" class=\"dataframe\">\n",
       "  <thead>\n",
       "    <tr style=\"text-align: right;\">\n",
       "      <th></th>\n",
       "      <th>target</th>\n",
       "      <th>start_insert</th>\n",
       "      <th>end_insert</th>\n",
       "      <th>len_insert</th>\n",
       "      <th>var_ag1k</th>\n",
       "      <th>dist_ag1k</th>\n",
       "      <th>aln_len</th>\n",
       "      <th>ngaps_mean</th>\n",
       "      <th>var_multisp</th>\n",
       "      <th>delta_t</th>\n",
       "    </tr>\n",
       "  </thead>\n",
       "  <tbody>\n",
       "    <tr>\n",
       "      <th>0</th>\n",
       "      <td>0</td>\n",
       "      <td>10356439</td>\n",
       "      <td>10356587</td>\n",
       "      <td>149</td>\n",
       "      <td>5.0</td>\n",
       "      <td>0.033557</td>\n",
       "      <td>233</td>\n",
       "      <td>95.275362</td>\n",
       "      <td>12.0</td>\n",
       "      <td>7.0</td>\n",
       "    </tr>\n",
       "  </tbody>\n",
       "</table>\n",
       "</div>"
      ],
      "text/plain": [
       "  target  start_insert  end_insert  len_insert  var_ag1k  dist_ag1k  aln_len  \\\n",
       "0      0      10356439    10356587         149       5.0   0.033557      233   \n",
       "\n",
       "   ngaps_mean  var_multisp  delta_t  \n",
       "0   95.275362         12.0      7.0  "
      ]
     },
     "execution_count": 32,
     "metadata": {},
     "output_type": "execute_result"
    }
   ],
   "source": [
    "# add alignment length\n",
    "t_data['aln_len'] = t_data.target.replace(aln_len)\n",
    "# add ngaps\n",
    "t_data['ngaps_mean'] = t_data.target.replace(ngaps)\n",
    "# add minimum multispecies threshoulds\n",
    "t_data['var_multisp'] = t_data.target.replace(multisp_t)\n",
    "# add difference between multispecies and ag1k thresholds\n",
    "t_data['delta_t'] = t_data.var_multisp - t_data.var_ag1k\n",
    "t_data.head(1)"
   ]
  },
  {
   "cell_type": "code",
   "execution_count": 33,
   "metadata": {},
   "outputs": [
    {
     "data": {
      "image/png": "[encoded data removed]",
      "text/plain": [
       "<Figure size 720x216 with 3 Axes>"
      ]
     },
     "metadata": {
      "needs_background": "light"
     },
     "output_type": "display_data"
    }
   ],
   "source": [
    "# correlate?\n",
    "fig, axs = plt.subplots(1,3, figsize=(10,3))\n",
    "for i, t in enumerate(['var_ag1k','var_multisp','delta_t']):\n",
    "    sns.regplot(x=t, y='ngaps_mean', data=t_data, ax=axs[i])\n",
    "    axs[i].set_title(t);"
   ]
  },
  {
   "cell_type": "markdown",
   "metadata": {},
   "source": [
    "Correlation with number of gaps exists for all types of thresholds, and difference between threshold types is also affected.\n",
    "\n",
    "Thus, higher thresholds for gapped alignments are appropriate.  "
   ]
  },
  {
   "cell_type": "markdown",
   "metadata": {},
   "source": [
    "## Write threshold data to file"
   ]
  },
  {
   "cell_type": "code",
   "execution_count": 34,
   "metadata": {},
   "outputs": [],
   "source": [
    "t_data.to_csv(COMB_THRESHOLDS, index=False)"
   ]
  },
  {
   "cell_type": "code",
   "execution_count": null,
   "metadata": {},
   "outputs": [],
   "source": []
  }
 ],
 "metadata": {
  "kernelspec": {
   "display_name": "Python 3",
   "language": "python",
   "name": "python3"
  },
  "language_info": {
   "codemirror_mode": {
    "name": "ipython",
    "version": 3
   },
   "file_extension": ".py",
   "mimetype": "text/x-python",
   "name": "python",
   "nbconvert_exporter": "python",
   "pygments_lexer": "ipython3",
   "version": "3.6.7"
  }
 },
 "nbformat": 4,
 "nbformat_minor": 2
}
