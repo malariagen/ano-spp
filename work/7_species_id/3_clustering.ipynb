{
 "cells": [
  {
   "cell_type": "markdown",
   "metadata": {},
   "source": [
    "- cluster sequences based on Ag1000g and sequencing data thresholds\n",
    "- compare clustering performance (Ag1000g thresholds have higher resolution)\n",
    "- filter outlier samples within species (single genotype in a separate cluster)\n",
    "- filter alleles split between clusters\n",
    "\n",
    "Manual steps: none"
   ]
  },
  {
   "cell_type": "code",
   "execution_count": 1,
   "metadata": {},
   "outputs": [],
   "source": [
    "%run common.ipynb"
   ]
  },
  {
   "cell_type": "code",
   "execution_count": 2,
   "metadata": {},
   "outputs": [
    {
     "data": {
      "text/plain": [
       "8"
      ]
     },
     "execution_count": 2,
     "metadata": {},
     "output_type": "execute_result"
    }
   ],
   "source": [
    "bad_samples = pd.read_csv(BAD_SAMPLES).iloc[:, 0].to_list()\n",
    "len(bad_samples)"
   ]
  },
  {
   "cell_type": "code",
   "execution_count": 3,
   "metadata": {},
   "outputs": [
    {
     "data": {
      "text/html": [
       "<div>\n",
       "<style scoped>\n",
       "    .dataframe tbody tr th:only-of-type {\n",
       "        vertical-align: middle;\n",
       "    }\n",
       "\n",
       "    .dataframe tbody tr th {\n",
       "        vertical-align: top;\n",
       "    }\n",
       "\n",
       "    .dataframe thead th {\n",
       "        text-align: right;\n",
       "    }\n",
       "</style>\n",
       "<table border=\"1\" class=\"dataframe\">\n",
       "  <thead>\n",
       "    <tr style=\"text-align: right;\">\n",
       "      <th></th>\n",
       "      <th>s_Sample</th>\n",
       "      <th>target</th>\n",
       "      <th>consensus</th>\n",
       "      <th>reads</th>\n",
       "      <th>species</th>\n",
       "      <th>combUID</th>\n",
       "    </tr>\n",
       "  </thead>\n",
       "  <tbody>\n",
       "    <tr>\n",
       "      <th>0</th>\n",
       "      <td>Abro-21</td>\n",
       "      <td>13</td>\n",
       "      <td>TCTCCATTTCTATCTGATGAAACTTGTGCCCGTGGTTTAATTAATG...</td>\n",
       "      <td>23.0</td>\n",
       "      <td>Anopheles_brohieri</td>\n",
       "      <td>13-0</td>\n",
       "    </tr>\n",
       "  </tbody>\n",
       "</table>\n",
       "</div>"
      ],
      "text/plain": [
       "  s_Sample  target                                          consensus  reads  \\\n",
       "0  Abro-21      13  TCTCCATTTCTATCTGATGAAACTTGTGCCCGTGGTTTAATTAATG...   23.0   \n",
       "\n",
       "              species combUID  \n",
       "0  Anopheles_brohieri    13-0  "
      ]
     },
     "execution_count": 3,
     "metadata": {},
     "output_type": "execute_result"
    }
   ],
   "source": [
    "seq_data = pd.read_csv(COMB_SEQ)\n",
    "# remove species ID for compromised samples\n",
    "seq_data.loc[seq_data.s_Sample.isin(bad_samples), 'species'] = 'unknown'\n",
    "seq_data.head(1)"
   ]
  },
  {
   "cell_type": "code",
   "execution_count": 4,
   "metadata": {},
   "outputs": [
    {
     "data": {
      "text/html": [
       "<div>\n",
       "<style scoped>\n",
       "    .dataframe tbody tr th:only-of-type {\n",
       "        vertical-align: middle;\n",
       "    }\n",
       "\n",
       "    .dataframe tbody tr th {\n",
       "        vertical-align: top;\n",
       "    }\n",
       "\n",
       "    .dataframe thead th {\n",
       "        text-align: right;\n",
       "    }\n",
       "</style>\n",
       "<table border=\"1\" class=\"dataframe\">\n",
       "  <thead>\n",
       "    <tr style=\"text-align: right;\">\n",
       "      <th></th>\n",
       "      <th>target</th>\n",
       "      <th>start_insert</th>\n",
       "      <th>end_insert</th>\n",
       "      <th>len_insert</th>\n",
       "      <th>var_ag1k</th>\n",
       "      <th>dist_ag1k</th>\n",
       "      <th>aln_len</th>\n",
       "      <th>ngaps_mean</th>\n",
       "      <th>var_multisp</th>\n",
       "      <th>delta_t</th>\n",
       "    </tr>\n",
       "  </thead>\n",
       "  <tbody>\n",
       "    <tr>\n",
       "      <th>0</th>\n",
       "      <td>0</td>\n",
       "      <td>10356439</td>\n",
       "      <td>10356587</td>\n",
       "      <td>149</td>\n",
       "      <td>5.0</td>\n",
       "      <td>0.033557</td>\n",
       "      <td>233</td>\n",
       "      <td>95.275362</td>\n",
       "      <td>12.0</td>\n",
       "      <td>7.0</td>\n",
       "    </tr>\n",
       "  </tbody>\n",
       "</table>\n",
       "</div>"
      ],
      "text/plain": [
       "   target  start_insert  end_insert  len_insert  var_ag1k  dist_ag1k  aln_len  \\\n",
       "0       0      10356439    10356587         149       5.0   0.033557      233   \n",
       "\n",
       "   ngaps_mean  var_multisp  delta_t  \n",
       "0   95.275362         12.0      7.0  "
      ]
     },
     "execution_count": 4,
     "metadata": {},
     "output_type": "execute_result"
    }
   ],
   "source": [
    "t_data = pd.read_csv(COMB_THRESHOLDS)\n",
    "t_data.head(1)"
   ]
  },
  {
   "cell_type": "markdown",
   "metadata": {},
   "source": [
    "## cd-hit-est clustering with two sets of identity thresholds"
   ]
  },
  {
   "cell_type": "code",
   "execution_count": 5,
   "metadata": {},
   "outputs": [
    {
     "data": {
      "text/plain": [
       "0.9914529914529915"
      ]
     },
     "execution_count": 5,
     "metadata": {},
     "output_type": "execute_result"
    }
   ],
   "source": [
    "def clust(ampl, max_var=1, word_len=10):\n",
    "    \n",
    "    # subset amplicon data\n",
    "    ampl_data = seq_data[seq_data.target == ampl]\n",
    "    # get only unique sequences\n",
    "    ampl_data = ampl_data[~ampl_data.combUID.duplicated()]\n",
    "    # write sequences under combUID name\n",
    "    with open('temp.fa', 'w') as o:\n",
    "        for (i, row) in ampl_data.iterrows():\n",
    "            o.write('>{}\\n{}\\n'.format(row.combUID,\n",
    "                                       row.consensus))\n",
    "    \n",
    "    # cd-hit-est identity definition:\n",
    "    # number of identical bases in alignment\n",
    "    # divided by the full length of the shorter sequence\n",
    "    min_len = ampl_data.consensus.str.len().min()\n",
    "    identity = 1 - max_var / float(min_len)\n",
    "    # cd-hit does not work for <0.8 identity\n",
    "    identity = max(identity, 0.8)\n",
    "    \n",
    "    # run clustering\n",
    "    ! cd-hit-est -i temp.fa -o cl -c {identity} -n {word_len} > cl.log\n",
    "    # parse clusters into dict\n",
    "    cl_data = dict()\n",
    "    with open('cl.clstr') as f:\n",
    "        for l in f:\n",
    "            l = l.strip('\\n')\n",
    "            # cluster name\n",
    "            if l.startswith('>'):\n",
    "                cluster = 'cl-{}-{}'.format(ampl,\n",
    "                                            l.split(' ')[1])\n",
    "            # cluster members\n",
    "            else:\n",
    "                seq = l.split('>')[1].split('...')[0]\n",
    "                cl_data[seq] = cluster\n",
    "    # clean up\n",
    "    ! rm cl cl.clstr cl.log temp.fa\n",
    "    # all input sequences clustered?\n",
    "    assert len(cl_data) == ampl_data.combUID.nunique()\n",
    "    \n",
    "    return cl_data, identity\n",
    "clust(0)[1]"
   ]
  },
  {
   "cell_type": "code",
   "execution_count": 6,
   "metadata": {},
   "outputs": [
    {
     "name": "stdout",
     "output_type": "stream",
     "text": [
      "61\n",
      "Done!\n"
     ]
    },
    {
     "data": {
      "text/plain": [
       "5606"
      ]
     },
     "metadata": {},
     "output_type": "display_data"
    },
    {
     "data": {
      "text/plain": [
       "{0: 0.9572649572649573,\n",
       " 1: 0.9869281045751634,\n",
       " 2: 0.9482758620689655,\n",
       " 3: 0.9230769230769231,\n",
       " 4: 0.9789473684210527,\n",
       " 5: 0.9465648854961832,\n",
       " 6: 0.9615384615384616,\n",
       " 7: 0.9507042253521126,\n",
       " 8: 0.9541984732824428,\n",
       " 9: 0.9735099337748344,\n",
       " 10: 0.9618320610687023,\n",
       " 11: 0.9416666666666667,\n",
       " 12: 0.9181818181818182,\n",
       " 13: 0.9669421487603306,\n",
       " 14: 0.9748427672955975,\n",
       " 15: 0.9748427672955975,\n",
       " 16: 0.9761904761904762,\n",
       " 17: 0.9612903225806452,\n",
       " 18: 0.9624060150375939,\n",
       " 19: 0.9722222222222222,\n",
       " 20: 0.9792746113989638,\n",
       " 21: 0.9728260869565217,\n",
       " 22: 0.9577464788732395,\n",
       " 23: 0.9278350515463918,\n",
       " 24: 0.9808917197452229,\n",
       " 25: 0.9212598425196851,\n",
       " 26: 0.8876404494382022,\n",
       " 27: 0.9820359281437125,\n",
       " 28: 0.9797297297297297,\n",
       " 29: 0.9861111111111112,\n",
       " 30: 0.9849624060150376,\n",
       " 31: 0.9666666666666667,\n",
       " 32: 0.875,\n",
       " 33: 0.8901098901098901,\n",
       " 34: 0.9743589743589743,\n",
       " 35: 0.9473684210526316,\n",
       " 36: 0.974025974025974,\n",
       " 37: 0.952755905511811,\n",
       " 38: 0.9456521739130435,\n",
       " 39: 0.9814814814814815,\n",
       " 40: 0.9411764705882353,\n",
       " 41: 0.9594594594594594,\n",
       " 42: 0.941747572815534,\n",
       " 43: 0.9558823529411765,\n",
       " 44: 0.9333333333333333,\n",
       " 45: 0.9595959595959596,\n",
       " 46: 0.9186046511627907,\n",
       " 47: 0.9615384615384616,\n",
       " 48: 0.9310344827586207,\n",
       " 49: 0.945054945054945,\n",
       " 50: 0.9603960396039604,\n",
       " 51: 0.9541984732824428,\n",
       " 52: 0.9389312977099237,\n",
       " 53: 0.9836065573770492,\n",
       " 54: 0.9545454545454546,\n",
       " 55: 0.9615384615384616,\n",
       " 56: 0.9793103448275862,\n",
       " 57: 0.9803921568627451,\n",
       " 58: 0.9876543209876543,\n",
       " 59: 0.9230769230769231,\n",
       " 60: 0.9523809523809523,\n",
       " 61: 0.9873417721518988}"
      ]
     },
     "execution_count": 6,
     "metadata": {},
     "output_type": "execute_result"
    }
   ],
   "source": [
    "# ag1k thresholds\n",
    "gc_clustering = dict()\n",
    "gc_identities = dict()\n",
    "for ampl in AMPLS:\n",
    "    sys.stdout.write('\\r'+ampl)\n",
    "    ampl = int(ampl)\n",
    "    # variants\n",
    "    v = t_data.loc[t_data.target == ampl, 'var_ag1k'].iloc[0]\n",
    "    # clustering\n",
    "    (c, i) = clust(ampl, v)\n",
    "    # record\n",
    "    gc_clustering.update(c)\n",
    "    gc_identities[ampl] = i\n",
    "print('\\nDone!')\n",
    "display(len(gc_clustering))\n",
    "gc_identities"
   ]
  },
  {
   "cell_type": "code",
   "execution_count": 7,
   "metadata": {},
   "outputs": [
    {
     "name": "stdout",
     "output_type": "stream",
     "text": [
      "61\n",
      "Done!\n"
     ]
    },
    {
     "data": {
      "text/plain": [
       "5606"
      ]
     },
     "metadata": {},
     "output_type": "display_data"
    },
    {
     "data": {
      "text/plain": [
       "{0: 0.8974358974358975,\n",
       " 1: 0.9803921568627451,\n",
       " 2: 0.9051724137931034,\n",
       " 3: 0.9038461538461539,\n",
       " 4: 0.9894736842105263,\n",
       " 5: 0.9312977099236641,\n",
       " 6: 0.9,\n",
       " 7: 0.8802816901408451,\n",
       " 8: 0.8931297709923665,\n",
       " 9: 0.9801324503311258,\n",
       " 10: 0.8244274809160306,\n",
       " 11: 0.8833333333333333,\n",
       " 12: 0.9454545454545454,\n",
       " 13: 0.9173553719008265,\n",
       " 14: 0.9685534591194969,\n",
       " 15: 0.9685534591194969,\n",
       " 16: 0.8988095238095238,\n",
       " 17: 0.832258064516129,\n",
       " 18: 0.9097744360902256,\n",
       " 19: 0.9305555555555556,\n",
       " 20: 0.9792746113989638,\n",
       " 21: 0.9836956521739131,\n",
       " 22: 0.9577464788732395,\n",
       " 23: 0.8,\n",
       " 24: 0.9808917197452229,\n",
       " 25: 0.889763779527559,\n",
       " 26: 0.8089887640449438,\n",
       " 27: 0.9640718562874252,\n",
       " 28: 0.9527027027027027,\n",
       " 29: 0.9861111111111112,\n",
       " 30: 0.8,\n",
       " 31: 0.9809523809523809,\n",
       " 32: 0.8,\n",
       " 33: 0.8571428571428572,\n",
       " 34: 0.9807692307692307,\n",
       " 35: 0.9532163742690059,\n",
       " 36: 0.974025974025974,\n",
       " 37: 0.8582677165354331,\n",
       " 38: 0.9456521739130435,\n",
       " 39: 0.9814814814814815,\n",
       " 40: 0.8,\n",
       " 41: 0.9054054054054054,\n",
       " 42: 0.8640776699029127,\n",
       " 43: 0.8602941176470589,\n",
       " 44: 0.8,\n",
       " 45: 0.8282828282828283,\n",
       " 46: 0.8604651162790697,\n",
       " 47: 0.8653846153846154,\n",
       " 48: 0.8,\n",
       " 49: 0.8,\n",
       " 50: 0.8,\n",
       " 51: 0.8549618320610687,\n",
       " 52: 0.916030534351145,\n",
       " 53: 0.9890710382513661,\n",
       " 54: 0.8863636363636364,\n",
       " 55: 0.8,\n",
       " 56: 0.9862068965517241,\n",
       " 57: 0.9803921568627451,\n",
       " 58: 0.9814814814814815,\n",
       " 59: 0.8,\n",
       " 60: 0.8968253968253969,\n",
       " 61: 0.9810126582278481}"
      ]
     },
     "execution_count": 7,
     "metadata": {},
     "output_type": "execute_result"
    }
   ],
   "source": [
    "# multispecies thresholds\n",
    "mu_clustering = dict()\n",
    "mu_identities = dict()\n",
    "for ampl in AMPLS:\n",
    "    sys.stdout.write('\\r'+ampl)\n",
    "    ampl = int(ampl)\n",
    "    # variants\n",
    "    v = t_data.loc[t_data.target == ampl, 'var_multisp'].iloc[0]\n",
    "    # clustering\n",
    "    (c, i) = clust(ampl, v)\n",
    "    # record\n",
    "    mu_clustering.update(c)\n",
    "    mu_identities[ampl] = i\n",
    "print('\\nDone!')\n",
    "display(len(mu_clustering))\n",
    "mu_identities"
   ]
  },
  {
   "cell_type": "markdown",
   "metadata": {},
   "source": [
    "In case of multispecies-based clustering, minimum 80% similarity threshold was hit 7 times."
   ]
  },
  {
   "cell_type": "markdown",
   "metadata": {},
   "source": [
    "## Compare clustering performance"
   ]
  },
  {
   "cell_type": "code",
   "execution_count": 8,
   "metadata": {},
   "outputs": [],
   "source": [
    "# combine clustering results with sequencing data\n",
    "seq_data['ag1k_cluster'] = seq_data.combUID.replace(gc_clustering)\n",
    "seq_data['multisp_cluster'] = seq_data.combUID.replace(mu_clustering)\n",
    "clustering_types = ('ag1k_cluster', 'multisp_cluster')"
   ]
  },
  {
   "cell_type": "code",
   "execution_count": 9,
   "metadata": {},
   "outputs": [
    {
     "data": {
      "text/plain": [
       "(10057, 8)"
      ]
     },
     "metadata": {},
     "output_type": "display_data"
    },
    {
     "data": {
      "text/plain": [
       "(9589, 8)"
      ]
     },
     "metadata": {},
     "output_type": "display_data"
    }
   ],
   "source": [
    "# limit stats calculation to high quality species\n",
    "hq_seq_data = seq_data[seq_data.species != 'unknown']\n",
    "display(seq_data.shape, hq_seq_data.shape)"
   ]
  },
  {
   "cell_type": "code",
   "execution_count": 10,
   "metadata": {},
   "outputs": [
    {
     "data": {
      "text/html": [
       "<div>\n",
       "<style scoped>\n",
       "    .dataframe tbody tr th:only-of-type {\n",
       "        vertical-align: middle;\n",
       "    }\n",
       "\n",
       "    .dataframe tbody tr th {\n",
       "        vertical-align: top;\n",
       "    }\n",
       "\n",
       "    .dataframe thead th {\n",
       "        text-align: right;\n",
       "    }\n",
       "</style>\n",
       "<table border=\"1\" class=\"dataframe\">\n",
       "  <thead>\n",
       "    <tr style=\"text-align: right;\">\n",
       "      <th></th>\n",
       "      <th>ag1k_cluster</th>\n",
       "      <th>multisp_cluster</th>\n",
       "    </tr>\n",
       "  </thead>\n",
       "  <tbody>\n",
       "    <tr>\n",
       "      <th>count</th>\n",
       "      <td>1951.000000</td>\n",
       "      <td>1353.000000</td>\n",
       "    </tr>\n",
       "    <tr>\n",
       "      <th>mean</th>\n",
       "      <td>1.667350</td>\n",
       "      <td>2.254989</td>\n",
       "    </tr>\n",
       "    <tr>\n",
       "      <th>std</th>\n",
       "      <td>1.988829</td>\n",
       "      <td>3.016109</td>\n",
       "    </tr>\n",
       "    <tr>\n",
       "      <th>min</th>\n",
       "      <td>1.000000</td>\n",
       "      <td>1.000000</td>\n",
       "    </tr>\n",
       "    <tr>\n",
       "      <th>25%</th>\n",
       "      <td>1.000000</td>\n",
       "      <td>1.000000</td>\n",
       "    </tr>\n",
       "    <tr>\n",
       "      <th>50%</th>\n",
       "      <td>1.000000</td>\n",
       "      <td>1.000000</td>\n",
       "    </tr>\n",
       "    <tr>\n",
       "      <th>75%</th>\n",
       "      <td>2.000000</td>\n",
       "      <td>3.000000</td>\n",
       "    </tr>\n",
       "    <tr>\n",
       "      <th>max</th>\n",
       "      <td>41.000000</td>\n",
       "      <td>45.000000</td>\n",
       "    </tr>\n",
       "  </tbody>\n",
       "</table>\n",
       "</div>"
      ],
      "text/plain": [
       "       ag1k_cluster  multisp_cluster\n",
       "count   1951.000000      1353.000000\n",
       "mean       1.667350         2.254989\n",
       "std        1.988829         3.016109\n",
       "min        1.000000         1.000000\n",
       "25%        1.000000         1.000000\n",
       "50%        1.000000         1.000000\n",
       "75%        2.000000         3.000000\n",
       "max       41.000000        45.000000"
      ]
     },
     "execution_count": 10,
     "metadata": {},
     "output_type": "execute_result"
    }
   ],
   "source": [
    "# species per cluster - indication of merged multispecies clusters \n",
    "species_merged_cl = pd.DataFrame({cl:hq_seq_data.groupby([cl,'target'])['species'].nunique().describe()\n",
    "                                  for cl in clustering_types})\n",
    "species_merged_cl"
   ]
  },
  {
   "cell_type": "code",
   "execution_count": 11,
   "metadata": {},
   "outputs": [
    {
     "data": {
      "text/html": [
       "<div>\n",
       "<style scoped>\n",
       "    .dataframe tbody tr th:only-of-type {\n",
       "        vertical-align: middle;\n",
       "    }\n",
       "\n",
       "    .dataframe tbody tr th {\n",
       "        vertical-align: top;\n",
       "    }\n",
       "\n",
       "    .dataframe thead th {\n",
       "        text-align: right;\n",
       "    }\n",
       "</style>\n",
       "<table border=\"1\" class=\"dataframe\">\n",
       "  <thead>\n",
       "    <tr style=\"text-align: right;\">\n",
       "      <th></th>\n",
       "      <th>ag1k_cluster</th>\n",
       "      <th>multisp_cluster</th>\n",
       "    </tr>\n",
       "  </thead>\n",
       "  <tbody>\n",
       "    <tr>\n",
       "      <th>count</th>\n",
       "      <td>2826.000000</td>\n",
       "      <td>2826.000000</td>\n",
       "    </tr>\n",
       "    <tr>\n",
       "      <th>mean</th>\n",
       "      <td>1.151097</td>\n",
       "      <td>1.079618</td>\n",
       "    </tr>\n",
       "    <tr>\n",
       "      <th>std</th>\n",
       "      <td>0.476893</td>\n",
       "      <td>0.284767</td>\n",
       "    </tr>\n",
       "    <tr>\n",
       "      <th>min</th>\n",
       "      <td>1.000000</td>\n",
       "      <td>1.000000</td>\n",
       "    </tr>\n",
       "    <tr>\n",
       "      <th>25%</th>\n",
       "      <td>1.000000</td>\n",
       "      <td>1.000000</td>\n",
       "    </tr>\n",
       "    <tr>\n",
       "      <th>50%</th>\n",
       "      <td>1.000000</td>\n",
       "      <td>1.000000</td>\n",
       "    </tr>\n",
       "    <tr>\n",
       "      <th>75%</th>\n",
       "      <td>1.000000</td>\n",
       "      <td>1.000000</td>\n",
       "    </tr>\n",
       "    <tr>\n",
       "      <th>max</th>\n",
       "      <td>6.000000</td>\n",
       "      <td>3.000000</td>\n",
       "    </tr>\n",
       "  </tbody>\n",
       "</table>\n",
       "</div>"
      ],
      "text/plain": [
       "       ag1k_cluster  multisp_cluster\n",
       "count   2826.000000      2826.000000\n",
       "mean       1.151097         1.079618\n",
       "std        0.476893         0.284767\n",
       "min        1.000000         1.000000\n",
       "25%        1.000000         1.000000\n",
       "50%        1.000000         1.000000\n",
       "75%        1.000000         1.000000\n",
       "max        6.000000         3.000000"
      ]
     },
     "execution_count": 11,
     "metadata": {},
     "output_type": "execute_result"
    }
   ],
   "source": [
    "# clusters per species - indications of split species cluster\n",
    "species_split_cl = pd.DataFrame({cl:hq_seq_data.groupby(['species','target'])[cl].nunique().describe()\n",
    "                        for cl in clustering_types}) \n",
    "species_split_cl"
   ]
  },
  {
   "cell_type": "code",
   "execution_count": 12,
   "metadata": {},
   "outputs": [
    {
     "data": {
      "text/html": [
       "<div>\n",
       "<style scoped>\n",
       "    .dataframe tbody tr th:only-of-type {\n",
       "        vertical-align: middle;\n",
       "    }\n",
       "\n",
       "    .dataframe tbody tr th {\n",
       "        vertical-align: top;\n",
       "    }\n",
       "\n",
       "    .dataframe thead th {\n",
       "        text-align: right;\n",
       "    }\n",
       "</style>\n",
       "<table border=\"1\" class=\"dataframe\">\n",
       "  <thead>\n",
       "    <tr style=\"text-align: right;\">\n",
       "      <th></th>\n",
       "      <th>ag1k_cluster</th>\n",
       "      <th>multisp_cluster</th>\n",
       "    </tr>\n",
       "  </thead>\n",
       "  <tbody>\n",
       "    <tr>\n",
       "      <th>count</th>\n",
       "      <td>7224.000000</td>\n",
       "      <td>7224.000000</td>\n",
       "    </tr>\n",
       "    <tr>\n",
       "      <th>mean</th>\n",
       "      <td>1.043328</td>\n",
       "      <td>1.029347</td>\n",
       "    </tr>\n",
       "    <tr>\n",
       "      <th>std</th>\n",
       "      <td>0.206310</td>\n",
       "      <td>0.170420</td>\n",
       "    </tr>\n",
       "    <tr>\n",
       "      <th>min</th>\n",
       "      <td>1.000000</td>\n",
       "      <td>1.000000</td>\n",
       "    </tr>\n",
       "    <tr>\n",
       "      <th>25%</th>\n",
       "      <td>1.000000</td>\n",
       "      <td>1.000000</td>\n",
       "    </tr>\n",
       "    <tr>\n",
       "      <th>50%</th>\n",
       "      <td>1.000000</td>\n",
       "      <td>1.000000</td>\n",
       "    </tr>\n",
       "    <tr>\n",
       "      <th>75%</th>\n",
       "      <td>1.000000</td>\n",
       "      <td>1.000000</td>\n",
       "    </tr>\n",
       "    <tr>\n",
       "      <th>max</th>\n",
       "      <td>3.000000</td>\n",
       "      <td>3.000000</td>\n",
       "    </tr>\n",
       "  </tbody>\n",
       "</table>\n",
       "</div>"
      ],
      "text/plain": [
       "       ag1k_cluster  multisp_cluster\n",
       "count   7224.000000      7224.000000\n",
       "mean       1.043328         1.029347\n",
       "std        0.206310         0.170420\n",
       "min        1.000000         1.000000\n",
       "25%        1.000000         1.000000\n",
       "50%        1.000000         1.000000\n",
       "75%        1.000000         1.000000\n",
       "max        3.000000         3.000000"
      ]
     },
     "execution_count": 12,
     "metadata": {},
     "output_type": "execute_result"
    }
   ],
   "source": [
    "# same sample genotypes split between clusters - indication of excessive splitting of clusters or contamination \n",
    "sample_split_cl = pd.DataFrame({cl:hq_seq_data.groupby(['s_Sample','target'])[cl].nunique().describe()\n",
    "                                for cl in clustering_types}) \n",
    "sample_split_cl"
   ]
  },
  {
   "cell_type": "code",
   "execution_count": 13,
   "metadata": {},
   "outputs": [
    {
     "data": {
      "image/png": "[encoded data removed]",
      "text/plain": [
       "<Figure size 432x288 with 1 Axes>"
      ]
     },
     "metadata": {
      "needs_background": "light"
     },
     "output_type": "display_data"
    }
   ],
   "source": [
    "fig, ax = plt.subplots()\n",
    "ax.set_xlabel('Average species per cluster (merge)')\n",
    "ax.set_ylabel('Average clusters per species (split)')\n",
    "for cl in clustering_types:\n",
    "    mean_merge = species_merged_cl.loc['mean',cl]\n",
    "    std_merge = species_merged_cl.loc['std',cl]\n",
    "    mean_split = species_split_cl.loc['mean',cl]\n",
    "    std_split = species_split_cl.loc['std',cl]\n",
    "    ax.plot(mean_merge,\n",
    "            mean_split, 'o', label=cl)\n",
    "    ax.vlines(mean_merge, mean_split-std_split, mean_split+std_split)\n",
    "    ax.hlines(mean_split, mean_merge-std_split, mean_merge+std_split)\n",
    "    ax.legend()"
   ]
  },
  {
   "cell_type": "markdown",
   "metadata": {},
   "source": [
    "Clustering with multi-species thresholds results in significant increase of merging several species in one cluster compared to ag1000g derived thresholds. On the other hand, decrease of split of species between clusters is quite moderate, thus use of ag1000g thresholds would give a more fine-grained picture without much false splits. In principle, the difference could be more pronounced for amplicons where difference between ag1k and multisp thresholds is the biggest."
   ]
  },
  {
   "cell_type": "markdown",
   "metadata": {},
   "source": [
    "# Filtering"
   ]
  },
  {
   "cell_type": "code",
   "execution_count": 14,
   "metadata": {},
   "outputs": [],
   "source": [
    "# set clustering column to be used for filtering\n",
    "cl_col = 'ag1k_cluster'"
   ]
  },
  {
   "cell_type": "markdown",
   "metadata": {},
   "source": [
    "## Outlier samples within species"
   ]
  },
  {
   "cell_type": "code",
   "execution_count": 15,
   "metadata": {},
   "outputs": [
    {
     "data": {
      "text/html": [
       "<div>\n",
       "<style scoped>\n",
       "    .dataframe tbody tr th:only-of-type {\n",
       "        vertical-align: middle;\n",
       "    }\n",
       "\n",
       "    .dataframe tbody tr th {\n",
       "        vertical-align: top;\n",
       "    }\n",
       "\n",
       "    .dataframe thead th {\n",
       "        text-align: right;\n",
       "    }\n",
       "</style>\n",
       "<table border=\"1\" class=\"dataframe\">\n",
       "  <thead>\n",
       "    <tr style=\"text-align: right;\">\n",
       "      <th></th>\n",
       "      <th>target</th>\n",
       "      <th>ag1k_cluster</th>\n",
       "    </tr>\n",
       "  </thead>\n",
       "  <tbody>\n",
       "    <tr>\n",
       "      <th>count</th>\n",
       "      <td>328.000000</td>\n",
       "      <td>328.000000</td>\n",
       "    </tr>\n",
       "    <tr>\n",
       "      <th>mean</th>\n",
       "      <td>31.716463</td>\n",
       "      <td>2.301829</td>\n",
       "    </tr>\n",
       "    <tr>\n",
       "      <th>std</th>\n",
       "      <td>16.092112</td>\n",
       "      <td>0.679807</td>\n",
       "    </tr>\n",
       "    <tr>\n",
       "      <th>min</th>\n",
       "      <td>0.000000</td>\n",
       "      <td>2.000000</td>\n",
       "    </tr>\n",
       "    <tr>\n",
       "      <th>25%</th>\n",
       "      <td>18.000000</td>\n",
       "      <td>2.000000</td>\n",
       "    </tr>\n",
       "    <tr>\n",
       "      <th>50%</th>\n",
       "      <td>32.000000</td>\n",
       "      <td>2.000000</td>\n",
       "    </tr>\n",
       "    <tr>\n",
       "      <th>75%</th>\n",
       "      <td>45.250000</td>\n",
       "      <td>2.000000</td>\n",
       "    </tr>\n",
       "    <tr>\n",
       "      <th>max</th>\n",
       "      <td>61.000000</td>\n",
       "      <td>6.000000</td>\n",
       "    </tr>\n",
       "  </tbody>\n",
       "</table>\n",
       "</div>"
      ],
      "text/plain": [
       "           target  ag1k_cluster\n",
       "count  328.000000    328.000000\n",
       "mean    31.716463      2.301829\n",
       "std     16.092112      0.679807\n",
       "min      0.000000      2.000000\n",
       "25%     18.000000      2.000000\n",
       "50%     32.000000      2.000000\n",
       "75%     45.250000      2.000000\n",
       "max     61.000000      6.000000"
      ]
     },
     "execution_count": 15,
     "metadata": {},
     "output_type": "execute_result"
    }
   ],
   "source": [
    "# find cases where genotypes of a single species are split between clusters \n",
    "cl_per_spt = hq_seq_data.groupby(['species','target'])[cl_col].nunique()\n",
    "multicl_per_spt = cl_per_spt[cl_per_spt > 1].reset_index()\n",
    "multicl_per_spt.describe()"
   ]
  },
  {
   "cell_type": "code",
   "execution_count": 16,
   "metadata": {},
   "outputs": [
    {
     "data": {
      "text/plain": [
       "species\n",
       "Anopheles_hyrcanus       34.0\n",
       "Anopheles_nili           22.0\n",
       "Anopheles_tenebrosus     20.0\n",
       "Anopheles_theileri       19.0\n",
       "Anopheles_rampae         18.0\n",
       "Anopheles_coustani       17.0\n",
       "Anopheles_ziemanni       17.0\n",
       "Anopheles_gambiae        16.0\n",
       "Anopheles_coluzzii       16.0\n",
       "Anopheles_tessellatus    13.0\n",
       "Name: ag1k_cluster, dtype: float64"
      ]
     },
     "execution_count": 16,
     "metadata": {},
     "output_type": "execute_result"
    }
   ],
   "source": [
    "# species with split genotypes\n",
    "(cl_per_spt > 1).sum(level='species') \\\n",
    "          .sort_values(ascending=False).head(10)"
   ]
  },
  {
   "cell_type": "code",
   "execution_count": 17,
   "metadata": {},
   "outputs": [
    {
     "data": {
      "text/plain": [
       "target\n",
       "50    16.0\n",
       "19    14.0\n",
       "47    14.0\n",
       "40    13.0\n",
       "16    12.0\n",
       "30    12.0\n",
       "32    12.0\n",
       "41    12.0\n",
       "43    12.0\n",
       "18    12.0\n",
       "Name: ag1k_cluster, dtype: float64"
      ]
     },
     "execution_count": 17,
     "metadata": {},
     "output_type": "execute_result"
    }
   ],
   "source": [
    "# targets with split genotypes\n",
    "(cl_per_spt > 1).sum(level='target') \\\n",
    "          .sort_values(ascending=False).head(10)"
   ]
  },
  {
   "cell_type": "markdown",
   "metadata": {},
   "source": [
    "Top targets also have significant number of within-species distances higher than ag1k threshold (see 3_distances notebook)"
   ]
  },
  {
   "cell_type": "code",
   "execution_count": 18,
   "metadata": {},
   "outputs": [
    {
     "data": {
      "text/plain": [
       "(292,)"
      ]
     },
     "metadata": {},
     "output_type": "display_data"
    },
    {
     "data": {
      "text/plain": [
       "species             target  ag1k_cluster\n",
       "Anopheles_aconitus  29      cl-29-13        VBS00055\n",
       "                            cl-29-4         VBS00053\n",
       "                    41      cl-41-15        VBS00053\n",
       "                            cl-41-21        VBS00055\n",
       "                    43      cl-43-2         VBS00053\n",
       "Name: s_Sample, dtype: object"
      ]
     },
     "execution_count": 18,
     "metadata": {},
     "output_type": "execute_result"
    }
   ],
   "source": [
    "# clusters containing only a single sample from the species\n",
    "# TODO - double-check that this actually works as expected\n",
    "outlier_gt = []\n",
    "for _, r in multicl_per_spt.iterrows():\n",
    "    # subset sequencing data to problematic species and target\n",
    "    sub_data = hq_seq_data[(hq_seq_data.species == r.species) & \n",
    "                         (hq_seq_data.target == r.target)]\n",
    "    # count samples per cluster\n",
    "    sp_group = sub_data.groupby(['species','target',cl_col])['s_Sample'].unique()\n",
    "    # one off - one sample per cluster for a given species-target\n",
    "    outlier_gt.append(sp_group[sp_group.apply(lambda x: len(x)) == 1])\n",
    "# convert to series\n",
    "outlier_gt = pd.concat(outlier_gt).apply(lambda x: x[0])\n",
    "display(outlier_gt.shape)\n",
    "outlier_gt.head()"
   ]
  },
  {
   "cell_type": "code",
   "execution_count": 19,
   "metadata": {},
   "outputs": [
    {
     "data": {
      "text/plain": [
       "Azie-334                                      13\n",
       "VBS00149                                      13\n",
       "Acol-645                                       9\n",
       "VBS00115                                       9\n",
       "Apal-257                                       7\n",
       "VBS00122                                       7\n",
       "VBS00112                                       7\n",
       "Apal-81                                        7\n",
       "VBS00108                                       7\n",
       "anopheles-sinensis-sinensisscaffoldsasins2     6\n",
       "Name: s_Sample, dtype: int64"
      ]
     },
     "execution_count": 19,
     "metadata": {},
     "output_type": "execute_result"
    }
   ],
   "source": [
    "# most frequently excluded samples\n",
    "outlier_gt.value_counts().head(10)"
   ]
  },
  {
   "cell_type": "code",
   "execution_count": 20,
   "metadata": {},
   "outputs": [
    {
     "data": {
      "text/plain": [
       "(292,)"
      ]
     },
     "metadata": {},
     "output_type": "display_data"
    },
    {
     "data": {
      "text/plain": [
       "(273,)"
      ]
     },
     "metadata": {},
     "output_type": "display_data"
    }
   ],
   "source": [
    "# exclude reference genomes from outliers - those are expected to be ground truth\n",
    "display(outlier_gt.shape)\n",
    "outlier_gt = outlier_gt[~outlier_gt.str.startswith('anopheles')]\n",
    "display(outlier_gt.shape)"
   ]
  },
  {
   "cell_type": "code",
   "execution_count": 21,
   "metadata": {},
   "outputs": [],
   "source": [
    "outlier_gt = outlier_gt.reset_index()"
   ]
  },
  {
   "cell_type": "code",
   "execution_count": 22,
   "metadata": {},
   "outputs": [
    {
     "name": "stdout",
     "output_type": "stream",
     "text": [
      "species\ttarget\tag1k_cluster\ts_Sample\r\n",
      "Anopheles_aconitus\t29\tcl-29-13\tVBS00055\r\n",
      "Anopheles_aconitus\t29\tcl-29-4\tVBS00053\r\n",
      "Anopheles_aconitus\t41\tcl-41-15\tVBS00053\r\n",
      "Anopheles_aconitus\t41\tcl-41-21\tVBS00055\r\n",
      "Anopheles_aconitus\t43\tcl-43-2\tVBS00053\r\n",
      "Anopheles_aconitus\t43\tcl-43-3\tVBS00055\r\n",
      "Anopheles_aconitus\t52\tcl-52-24\tVBS00053\r\n",
      "Anopheles_aconitus\t52\tcl-52-31\tVBS00055\r\n",
      "Anopheles_aconitus\t55\tcl-55-10\tVBS00053\r\n"
     ]
    }
   ],
   "source": [
    "# write file\n",
    "outlier_gt.to_csv(OUTLIER_GENOTYPES, index=False, sep='\\t')\n",
    "! head {OUTLIER_GENOTYPES}"
   ]
  },
  {
   "cell_type": "code",
   "execution_count": 23,
   "metadata": {},
   "outputs": [],
   "source": [
    "# get outlier sequence status by matching original sequences with outliers on 4 cols\n",
    "seq_data = pd.merge(seq_data, \n",
    "                    outlier_gt, \n",
    "                    on=('species','target','ag1k_cluster','s_Sample'), \n",
    "                    indicator=True, \n",
    "                    how='outer')\n",
    "# make sure no unmatched genotypes in outlier exist\n",
    "assert (seq_data['_merge'] == 'right_only').sum() == 0"
   ]
  },
  {
   "cell_type": "code",
   "execution_count": 24,
   "metadata": {},
   "outputs": [],
   "source": [
    "# convert indicator to outlier genotype\n",
    "seq_data = seq_data.rename(columns={'_merge':'outlier_genotype'})\n",
    "seq_data['outlier_genotype'] = seq_data['outlier_genotype'] \\\n",
    "        .replace({'left_only':False,\n",
    "                  'both':True})"
   ]
  },
  {
   "cell_type": "markdown",
   "metadata": {},
   "source": [
    "## Filter allelic splits"
   ]
  },
  {
   "cell_type": "code",
   "execution_count": 25,
   "metadata": {},
   "outputs": [
    {
     "data": {
      "image/png": "[encoded data removed]",
      "text/plain": [
       "<Figure size 432x288 with 1 Axes>"
      ]
     },
     "metadata": {
      "needs_background": "light"
     },
     "output_type": "display_data"
    }
   ],
   "source": [
    "# for all samples\n",
    "cl_per_sample = seq_data.groupby(['s_Sample','target']) \\\n",
    "                             [cl_col].nunique()\n",
    "                       \n",
    "cl_per_sample.mean(level='s_Sample') \\\n",
    "      .sort_values(ascending=False) \\\n",
    "      .plot.hist(bins=20, logy=True);"
   ]
  },
  {
   "cell_type": "code",
   "execution_count": 26,
   "metadata": {},
   "outputs": [],
   "source": [
    "split_alleles = cl_per_sample[cl_per_sample > 1].reset_index()"
   ]
  },
  {
   "cell_type": "code",
   "execution_count": 27,
   "metadata": {},
   "outputs": [
    {
     "data": {
      "text/plain": [
       "(363, 3)"
      ]
     },
     "execution_count": 27,
     "metadata": {},
     "output_type": "execute_result"
    }
   ],
   "source": [
    "# total number of split allelic genotypes\n",
    "split_alleles.shape"
   ]
  },
  {
   "cell_type": "code",
   "execution_count": 28,
   "metadata": {},
   "outputs": [
    {
     "data": {
      "text/plain": [
       "VBS00145    40\n",
       "VBS00112     9\n",
       "VBS00149     9\n",
       "Athe-1       8\n",
       "Athe-6-1     8\n",
       "Name: s_Sample, dtype: int64"
      ]
     },
     "execution_count": 28,
     "metadata": {},
     "output_type": "execute_result"
    }
   ],
   "source": [
    "# most frequently split samples - cross-contamination?\n",
    "split_alleles.s_Sample.value_counts().head()"
   ]
  },
  {
   "cell_type": "code",
   "execution_count": 29,
   "metadata": {},
   "outputs": [
    {
     "data": {
      "text/plain": [
       "50    25\n",
       "47    18\n",
       "17    17\n",
       "16    17\n",
       "32    17\n",
       "10    16\n",
       "30    15\n",
       "40    15\n",
       "43    13\n",
       "19    12\n",
       "Name: target, dtype: int64"
      ]
     },
     "execution_count": 29,
     "metadata": {},
     "output_type": "execute_result"
    }
   ],
   "source": [
    "# most frequently split targets - overly specific clustering\n",
    "# amplicons are similar to the ones identified in outlier genotypes\n",
    "split_alleles.target.value_counts().head(10)"
   ]
  },
  {
   "cell_type": "code",
   "execution_count": 30,
   "metadata": {},
   "outputs": [
    {
     "name": "stdout",
     "output_type": "stream",
     "text": [
      "s_Sample\ttarget\tag1k_cluster\r\n",
      "Abro-30\t28\t2\r\n",
      "Acar-191\t16\t2\r\n",
      "Acar-192\t10\t2\r\n",
      "Acar-192\t16\t2\r\n",
      "Acar-192\t19\t2\r\n",
      "Acar-192\t37\t2\r\n",
      "Acar-192\t41\t2\r\n",
      "Acar-192\t55\t2\r\n",
      "Acar-193\t10\t2\r\n"
     ]
    }
   ],
   "source": [
    "# write to file\n",
    "split_alleles.to_csv(SPLIT_ALLELES, index=False, sep='\\t')\n",
    "! head {SPLIT_ALLELES}"
   ]
  },
  {
   "cell_type": "code",
   "execution_count": 31,
   "metadata": {},
   "outputs": [],
   "source": [
    "seq_data = pd.merge(seq_data, \n",
    "                    split_alleles[['s_Sample','target']], \n",
    "                    on=['s_Sample','target'], \n",
    "                    indicator=True, \n",
    "                    how='outer')\n",
    "# make sure no unmatched genotypes in outlier exist\n",
    "assert (seq_data['_merge'] == 'right_only').sum() == 0"
   ]
  },
  {
   "cell_type": "code",
   "execution_count": 32,
   "metadata": {},
   "outputs": [],
   "source": [
    "# convert indicator to outlier genotype\n",
    "seq_data = seq_data.rename(columns={'_merge':'split_alleles'})\n",
    "seq_data['split_alleles'] = seq_data['split_alleles'] \\\n",
    "        .replace({'left_only':False,\n",
    "                  'both':True})"
   ]
  },
  {
   "cell_type": "markdown",
   "metadata": {},
   "source": [
    "# Check and write"
   ]
  },
  {
   "cell_type": "code",
   "execution_count": 33,
   "metadata": {},
   "outputs": [
    {
     "data": {
      "text/html": [
       "<div>\n",
       "<style scoped>\n",
       "    .dataframe tbody tr th:only-of-type {\n",
       "        vertical-align: middle;\n",
       "    }\n",
       "\n",
       "    .dataframe tbody tr th {\n",
       "        vertical-align: top;\n",
       "    }\n",
       "\n",
       "    .dataframe thead th {\n",
       "        text-align: right;\n",
       "    }\n",
       "</style>\n",
       "<table border=\"1\" class=\"dataframe\">\n",
       "  <thead>\n",
       "    <tr style=\"text-align: right;\">\n",
       "      <th></th>\n",
       "      <th>s_Sample</th>\n",
       "      <th>target</th>\n",
       "      <th>consensus</th>\n",
       "      <th>reads</th>\n",
       "      <th>species</th>\n",
       "      <th>combUID</th>\n",
       "      <th>ag1k_cluster</th>\n",
       "      <th>multisp_cluster</th>\n",
       "      <th>outlier_genotype</th>\n",
       "      <th>split_alleles</th>\n",
       "    </tr>\n",
       "  </thead>\n",
       "  <tbody>\n",
       "    <tr>\n",
       "      <th>0</th>\n",
       "      <td>Abro-21</td>\n",
       "      <td>13</td>\n",
       "      <td>TCTCCATTTCTATCTGATGAAACTTGTGCCCGTGGTTTAATTAATG...</td>\n",
       "      <td>23.0</td>\n",
       "      <td>Anopheles_brohieri</td>\n",
       "      <td>13-0</td>\n",
       "      <td>cl-13-18</td>\n",
       "      <td>cl-13-11</td>\n",
       "      <td>False</td>\n",
       "      <td>False</td>\n",
       "    </tr>\n",
       "    <tr>\n",
       "      <th>1</th>\n",
       "      <td>Abro-21</td>\n",
       "      <td>17</td>\n",
       "      <td>GGTCTAGACCCGGAAGCCCTCACCGGCAAATACCCGGTAAGTGTTT...</td>\n",
       "      <td>14.0</td>\n",
       "      <td>Anopheles_brohieri</td>\n",
       "      <td>17-0</td>\n",
       "      <td>cl-17-8</td>\n",
       "      <td>cl-17-5</td>\n",
       "      <td>False</td>\n",
       "      <td>False</td>\n",
       "    </tr>\n",
       "    <tr>\n",
       "      <th>2</th>\n",
       "      <td>Abro-21</td>\n",
       "      <td>18</td>\n",
       "      <td>AAAAAGGATGAGGTGAGTACCAGACTCCTCCCAGAATGATTATAAT...</td>\n",
       "      <td>14.0</td>\n",
       "      <td>Anopheles_brohieri</td>\n",
       "      <td>18-0</td>\n",
       "      <td>cl-18-21</td>\n",
       "      <td>cl-18-17</td>\n",
       "      <td>False</td>\n",
       "      <td>False</td>\n",
       "    </tr>\n",
       "    <tr>\n",
       "      <th>3</th>\n",
       "      <td>Abro-21</td>\n",
       "      <td>19</td>\n",
       "      <td>TATTTGTCCACCTTTTGCCGACCGAGTTTTCTTGCCCGAGACGCGT...</td>\n",
       "      <td>23.0</td>\n",
       "      <td>Anopheles_brohieri</td>\n",
       "      <td>19-0</td>\n",
       "      <td>cl-19-41</td>\n",
       "      <td>cl-19-22</td>\n",
       "      <td>False</td>\n",
       "      <td>False</td>\n",
       "    </tr>\n",
       "    <tr>\n",
       "      <th>4</th>\n",
       "      <td>Abro-21</td>\n",
       "      <td>24</td>\n",
       "      <td>AATGTAGCCCCGAGCGCGAAGCCGTGAAGCTTCTGCGCGCCACCTC...</td>\n",
       "      <td>36.0</td>\n",
       "      <td>Anopheles_brohieri</td>\n",
       "      <td>24-0</td>\n",
       "      <td>cl-24-1</td>\n",
       "      <td>cl-24-1</td>\n",
       "      <td>False</td>\n",
       "      <td>False</td>\n",
       "    </tr>\n",
       "  </tbody>\n",
       "</table>\n",
       "</div>"
      ],
      "text/plain": [
       "  s_Sample  target                                          consensus  reads  \\\n",
       "0  Abro-21      13  TCTCCATTTCTATCTGATGAAACTTGTGCCCGTGGTTTAATTAATG...   23.0   \n",
       "1  Abro-21      17  GGTCTAGACCCGGAAGCCCTCACCGGCAAATACCCGGTAAGTGTTT...   14.0   \n",
       "2  Abro-21      18  AAAAAGGATGAGGTGAGTACCAGACTCCTCCCAGAATGATTATAAT...   14.0   \n",
       "3  Abro-21      19  TATTTGTCCACCTTTTGCCGACCGAGTTTTCTTGCCCGAGACGCGT...   23.0   \n",
       "4  Abro-21      24  AATGTAGCCCCGAGCGCGAAGCCGTGAAGCTTCTGCGCGCCACCTC...   36.0   \n",
       "\n",
       "              species combUID ag1k_cluster multisp_cluster  outlier_genotype  \\\n",
       "0  Anopheles_brohieri    13-0     cl-13-18        cl-13-11             False   \n",
       "1  Anopheles_brohieri    17-0      cl-17-8         cl-17-5             False   \n",
       "2  Anopheles_brohieri    18-0     cl-18-21        cl-18-17             False   \n",
       "3  Anopheles_brohieri    19-0     cl-19-41        cl-19-22             False   \n",
       "4  Anopheles_brohieri    24-0      cl-24-1         cl-24-1             False   \n",
       "\n",
       "   split_alleles  \n",
       "0          False  \n",
       "1          False  \n",
       "2          False  \n",
       "3          False  \n",
       "4          False  "
      ]
     },
     "execution_count": 33,
     "metadata": {},
     "output_type": "execute_result"
    }
   ],
   "source": [
    "seq_data.head()"
   ]
  },
  {
   "cell_type": "code",
   "execution_count": 34,
   "metadata": {},
   "outputs": [],
   "source": [
    "seq_data.to_csv(CLUSTERING, index=False)"
   ]
  },
  {
   "cell_type": "code",
   "execution_count": null,
   "metadata": {},
   "outputs": [],
   "source": []
  }
 ],
 "metadata": {
  "kernelspec": {
   "display_name": "Python 3",
   "language": "python",
   "name": "python3"
  },
  "language_info": {
   "codemirror_mode": {
    "name": "ipython",
    "version": 3
   },
   "file_extension": ".py",
   "mimetype": "text/x-python",
   "name": "python",
   "nbconvert_exporter": "python",
   "pygments_lexer": "ipython3",
   "version": "3.6.7"
  }
 },
 "nbformat": 4,
 "nbformat_minor": 2
}
