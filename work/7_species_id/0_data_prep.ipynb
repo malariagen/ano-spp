{
 "cells": [
  {
   "cell_type": "markdown",
   "metadata": {},
   "source": [
    "Prepare sequencing data and metadata.\n",
    "\n",
    "Sequencing data is loaded on the run basis. Metadata is loaded on the sample set basis. Only overlapping samples are taken into further analysis.\n",
    "\n",
    "Manual steps: setting sample sets and sequencing runs; setting species taxonomy"
   ]
  },
  {
   "cell_type": "code",
   "execution_count": 1,
   "metadata": {},
   "outputs": [],
   "source": [
    "%run common.ipynb"
   ]
  },
  {
   "cell_type": "code",
   "execution_count": 2,
   "metadata": {},
   "outputs": [],
   "source": [
    "# input files\n",
    "RAW_SEQ_FILE = '../../../data/phylo_ampl_dada2/run{}/dada2/output/haplotypes.tsv'\n",
    "SAMPLESET_FILE = 'src/samples_{}.csv'"
   ]
  },
  {
   "cell_type": "markdown",
   "metadata": {},
   "source": [
    "# Sequencing data"
   ]
  },
  {
   "cell_type": "code",
   "execution_count": 3,
   "metadata": {},
   "outputs": [
    {
     "data": {
      "text/html": [
       "<div>\n",
       "<style scoped>\n",
       "    .dataframe tbody tr th:only-of-type {\n",
       "        vertical-align: middle;\n",
       "    }\n",
       "\n",
       "    .dataframe tbody tr th {\n",
       "        vertical-align: top;\n",
       "    }\n",
       "\n",
       "    .dataframe thead th {\n",
       "        text-align: right;\n",
       "    }\n",
       "</style>\n",
       "<table border=\"1\" class=\"dataframe\">\n",
       "  <thead>\n",
       "    <tr style=\"text-align: right;\">\n",
       "      <th></th>\n",
       "      <th>s_Sample</th>\n",
       "      <th>target</th>\n",
       "      <th>consensus</th>\n",
       "      <th>reads</th>\n",
       "      <th>total_reads</th>\n",
       "      <th>frac_reads</th>\n",
       "      <th>source</th>\n",
       "    </tr>\n",
       "  </thead>\n",
       "  <tbody>\n",
       "    <tr>\n",
       "      <th>0</th>\n",
       "      <td>3D7</td>\n",
       "      <td>10</td>\n",
       "      <td>GTGGAGAGCTGCCAGACAGAAGTTTCCGAGGTACGGTAATCGCCCT...</td>\n",
       "      <td>12</td>\n",
       "      <td>12</td>\n",
       "      <td>1.0</td>\n",
       "      <td>run1</td>\n",
       "    </tr>\n",
       "    <tr>\n",
       "      <th>1</th>\n",
       "      <td>3D7</td>\n",
       "      <td>11</td>\n",
       "      <td>ATCGTATCTGGAAGGGTATTTGAAAGCAGACAGAAAGCAAATGTAG...</td>\n",
       "      <td>10</td>\n",
       "      <td>20</td>\n",
       "      <td>0.5</td>\n",
       "      <td>run1</td>\n",
       "    </tr>\n",
       "    <tr>\n",
       "      <th>2</th>\n",
       "      <td>3D7</td>\n",
       "      <td>11</td>\n",
       "      <td>ATCGTATCTGGAAGTGTATTTGAAAGCAGACAGAAAGCAAATGTAG...</td>\n",
       "      <td>10</td>\n",
       "      <td>20</td>\n",
       "      <td>0.5</td>\n",
       "      <td>run1</td>\n",
       "    </tr>\n",
       "    <tr>\n",
       "      <th>3</th>\n",
       "      <td>3D7</td>\n",
       "      <td>13</td>\n",
       "      <td>GATTTTCCATTCCTCCCATTGCACCCGGTGGATTAATTAATGCGTA...</td>\n",
       "      <td>46</td>\n",
       "      <td>46</td>\n",
       "      <td>1.0</td>\n",
       "      <td>run1</td>\n",
       "    </tr>\n",
       "    <tr>\n",
       "      <th>4</th>\n",
       "      <td>3D7</td>\n",
       "      <td>15</td>\n",
       "      <td>AAGCGGTCGCGCATCGGGCCGGCGGTCCGCATCCTCGGCATGATCG...</td>\n",
       "      <td>21</td>\n",
       "      <td>21</td>\n",
       "      <td>1.0</td>\n",
       "      <td>run1</td>\n",
       "    </tr>\n",
       "  </tbody>\n",
       "</table>\n",
       "</div>"
      ],
      "text/plain": [
       "  s_Sample target                                          consensus reads  \\\n",
       "0      3D7     10  GTGGAGAGCTGCCAGACAGAAGTTTCCGAGGTACGGTAATCGCCCT...    12   \n",
       "1      3D7     11  ATCGTATCTGGAAGGGTATTTGAAAGCAGACAGAAAGCAAATGTAG...    10   \n",
       "2      3D7     11  ATCGTATCTGGAAGTGTATTTGAAAGCAGACAGAAAGCAAATGTAG...    10   \n",
       "3      3D7     13  GATTTTCCATTCCTCCCATTGCACCCGGTGGATTAATTAATGCGTA...    46   \n",
       "4      3D7     15  AAGCGGTCGCGCATCGGGCCGGCGGTCCGCATCCTCGGCATGATCG...    21   \n",
       "\n",
       "  total_reads frac_reads source  \n",
       "0          12        1.0   run1  \n",
       "1          20        0.5   run1  \n",
       "2          20        0.5   run1  \n",
       "3          46        1.0   run1  \n",
       "4          21        1.0   run1  "
      ]
     },
     "execution_count": 3,
     "metadata": {},
     "output_type": "execute_result"
    }
   ],
   "source": [
    "# read amplicon sequencing data\n",
    "seq_data = []\n",
    "for i in (1,2,9):\n",
    "    s = pd.read_csv(RAW_SEQ_FILE.format(i), sep='\\t', dtype=str)\n",
    "    s['source'] = 'run{}'.format(i)\n",
    "    seq_data.append(s)\n",
    "seq_data = pd.concat(seq_data)\n",
    "seq_data.head()"
   ]
  },
  {
   "cell_type": "code",
   "execution_count": 4,
   "metadata": {},
   "outputs": [
    {
     "data": {
      "text/plain": [
       "Series([], Name: source, dtype: bool)"
      ]
     },
     "execution_count": 4,
     "metadata": {},
     "output_type": "execute_result"
    }
   ],
   "source": [
    "# assert sample names are not reused between runs\n",
    "is_reused = seq_data.groupby('s_Sample')['source'].nunique() > 1\n",
    "is_reused[is_reused]"
   ]
  },
  {
   "cell_type": "markdown",
   "metadata": {},
   "source": [
    "# Sample metadata"
   ]
  },
  {
   "cell_type": "code",
   "execution_count": 5,
   "metadata": {},
   "outputs": [
    {
     "name": "stdout",
     "output_type": "stream",
     "text": [
      "src/samples_ga.csv\n",
      "src/samples_kh.csv\n",
      "src/samples_sa.csv\n"
     ]
    },
    {
     "data": {
      "text/plain": [
       "(268, 16)"
      ]
     },
     "metadata": {},
     "output_type": "display_data"
    },
    {
     "data": {
      "text/plain": [
       "kh    159\n",
       "ga    106\n",
       "sa      3\n",
       "Name: Sample Set, dtype: int64"
      ]
     },
     "metadata": {},
     "output_type": "display_data"
    },
    {
     "data": {
      "text/plain": [
       "Index(['Collection Context', 'Collection Method', 'Collection Time', 'Country',\n",
       "       'Date of Collection', 'External ID', 'Extraction Method', 'Latitude',\n",
       "       'Location', 'Longitude', 'Sample Set', 'Sample Type', 'Species',\n",
       "       'Specimen Sex', 'Specimen Type', 's_Sample'],\n",
       "      dtype='object')"
      ]
     },
     "execution_count": 5,
     "metadata": {},
     "output_type": "execute_result"
    }
   ],
   "source": [
    "# concatenate sample metadata from key sources \n",
    "sample_meta = list()\n",
    "for sampleset in 'ga','kh','sa':\n",
    "    f = SAMPLESET_FILE.format(sampleset)\n",
    "    print(f)\n",
    "    df = pd.read_csv(f, dtype=str)\n",
    "    df['Sample Set'] = sampleset\n",
    "    sample_meta.append(df)\n",
    "sample_meta = pd.concat(sample_meta, sort=False)\n",
    "display(sample_meta.shape)\n",
    "display(sample_meta['Sample Set'].value_counts())\n",
    "sample_meta.columns.sort_values()"
   ]
  },
  {
   "cell_type": "code",
   "execution_count": 6,
   "metadata": {},
   "outputs": [
    {
     "data": {
      "text/plain": [
       "0"
      ]
     },
     "execution_count": 6,
     "metadata": {},
     "output_type": "execute_result"
    }
   ],
   "source": [
    "# samples with missing species ID\n",
    "sample_meta.Species.isna().sum()"
   ]
  },
  {
   "cell_type": "code",
   "execution_count": 7,
   "metadata": {},
   "outputs": [
    {
     "data": {
      "text/plain": [
       "Athe-2        2\n",
       "VBS00091      1\n",
       "VBS00045      1\n",
       "VBS00106      1\n",
       "Aimp-M0030    1\n",
       "Name: s_Sample, dtype: int64"
      ]
     },
     "execution_count": 7,
     "metadata": {},
     "output_type": "execute_result"
    }
   ],
   "source": [
    "# check for missing and duplicated sample IDs\n",
    "assert sample_meta.s_Sample.isna().sum() == 0\n",
    "# output is sorted by reverse value counts\n",
    "sample_meta.s_Sample.value_counts().head()"
   ]
  },
  {
   "cell_type": "code",
   "execution_count": 8,
   "metadata": {},
   "outputs": [
    {
     "data": {
      "text/html": [
       "<div>\n",
       "<style scoped>\n",
       "    .dataframe tbody tr th:only-of-type {\n",
       "        vertical-align: middle;\n",
       "    }\n",
       "\n",
       "    .dataframe tbody tr th {\n",
       "        vertical-align: top;\n",
       "    }\n",
       "\n",
       "    .dataframe thead th {\n",
       "        text-align: right;\n",
       "    }\n",
       "</style>\n",
       "<table border=\"1\" class=\"dataframe\">\n",
       "  <thead>\n",
       "    <tr style=\"text-align: right;\">\n",
       "      <th></th>\n",
       "      <th>s_Sample</th>\n",
       "      <th>External ID</th>\n",
       "      <th>Date of Collection</th>\n",
       "      <th>Location</th>\n",
       "      <th>Country</th>\n",
       "      <th>Latitude</th>\n",
       "      <th>Longitude</th>\n",
       "      <th>Species</th>\n",
       "      <th>Collection Context</th>\n",
       "      <th>Collection Method</th>\n",
       "      <th>Collection Time</th>\n",
       "      <th>Specimen Sex</th>\n",
       "      <th>Specimen Type</th>\n",
       "      <th>Extraction Method</th>\n",
       "      <th>Sample Type</th>\n",
       "      <th>Sample Set</th>\n",
       "    </tr>\n",
       "  </thead>\n",
       "  <tbody>\n",
       "  </tbody>\n",
       "</table>\n",
       "</div>"
      ],
      "text/plain": [
       "Empty DataFrame\n",
       "Columns: [s_Sample, External ID, Date of Collection, Location, Country, Latitude, Longitude, Species, Collection Context, Collection Method, Collection Time, Specimen Sex, Specimen Type, Extraction Method, Sample Type, Sample Set]\n",
       "Index: []"
      ]
     },
     "execution_count": 8,
     "metadata": {},
     "output_type": "execute_result"
    }
   ],
   "source": [
    "sample_meta[sample_meta.s_Sample.isna()]"
   ]
  },
  {
   "cell_type": "markdown",
   "metadata": {},
   "source": [
    "# Overlap sequencing data with metadata"
   ]
  },
  {
   "cell_type": "code",
   "execution_count": 9,
   "metadata": {},
   "outputs": [
    {
     "data": {
      "text/plain": [
       "(135,)"
      ]
     },
     "execution_count": 9,
     "metadata": {},
     "output_type": "execute_result"
    }
   ],
   "source": [
    "# sequenced sample names matching sample metadata\n",
    "# note that not for all samples sequencing data was generated\n",
    "overlap_ids = seq_data[seq_data.s_Sample.isin(sample_meta.s_Sample)]['s_Sample'].unique()\n",
    "overlap_ids.shape"
   ]
  },
  {
   "cell_type": "code",
   "execution_count": 10,
   "metadata": {},
   "outputs": [
    {
     "data": {
      "text/plain": [
       "(268, 16)"
      ]
     },
     "metadata": {},
     "output_type": "display_data"
    },
    {
     "data": {
      "text/plain": [
       "(136, 16)"
      ]
     },
     "metadata": {},
     "output_type": "display_data"
    }
   ],
   "source": [
    "# subset samples to sequenced ones\n",
    "subset_sample_meta = sample_meta[sample_meta.s_Sample.isin(overlap_ids)].copy()\n",
    "# write sample metadata to file\n",
    "display(sample_meta.shape, subset_sample_meta.shape)"
   ]
  },
  {
   "cell_type": "code",
   "execution_count": 11,
   "metadata": {},
   "outputs": [
    {
     "data": {
      "text/plain": [
       "(58824, 7)"
      ]
     },
     "metadata": {},
     "output_type": "display_data"
    },
    {
     "data": {
      "text/plain": [
       "(8685, 7)"
      ]
     },
     "metadata": {},
     "output_type": "display_data"
    }
   ],
   "source": [
    "# subset sequencing data to samples with matching sample metadata\n",
    "subset_seq_data = seq_data[seq_data.s_Sample.isin(overlap_ids)].copy()\n",
    "display(seq_data.shape, subset_seq_data.shape)"
   ]
  },
  {
   "cell_type": "markdown",
   "metadata": {},
   "source": [
    "## Metadata - add source"
   ]
  },
  {
   "cell_type": "code",
   "execution_count": 12,
   "metadata": {},
   "outputs": [
    {
     "data": {
      "text/plain": [
       "run1    71\n",
       "run2    62\n",
       "run9     3\n",
       "Name: Source, dtype: int64"
      ]
     },
     "execution_count": 12,
     "metadata": {},
     "output_type": "execute_result"
    }
   ],
   "source": [
    "# copy source info from sequencing to metadata\n",
    "sample_source_mapping = subset_seq_data.groupby('s_Sample')['source'].max().to_dict()\n",
    "subset_sample_meta['Source'] = subset_sample_meta.s_Sample.replace(sample_source_mapping)\n",
    "subset_sample_meta.Source.value_counts()"
   ]
  },
  {
   "cell_type": "code",
   "execution_count": 13,
   "metadata": {},
   "outputs": [],
   "source": [
    "# write expanded sample metadata\n",
    "subset_sample_meta.to_csv(SEQ_META_FILE, index=False)"
   ]
  },
  {
   "cell_type": "markdown",
   "metadata": {},
   "source": [
    "## Sequencing data - remove plasmodium amplicons, limit columns"
   ]
  },
  {
   "cell_type": "code",
   "execution_count": 14,
   "metadata": {},
   "outputs": [
    {
     "data": {
      "text/plain": [
       "(8685, 7)"
      ]
     },
     "metadata": {},
     "output_type": "display_data"
    },
    {
     "data": {
      "text/plain": [
       "(8685, 4)"
      ]
     },
     "metadata": {},
     "output_type": "display_data"
    }
   ],
   "source": [
    "# remove excessive columns\n",
    "display(subset_seq_data.shape)\n",
    "subset_seq_data = subset_seq_data.drop(columns=['source','frac_reads','total_reads'])\n",
    "display(subset_seq_data.shape)"
   ]
  },
  {
   "cell_type": "code",
   "execution_count": 15,
   "metadata": {},
   "outputs": [
    {
     "data": {
      "text/plain": [
       "(8685, 4)"
      ]
     },
     "metadata": {},
     "output_type": "display_data"
    },
    {
     "data": {
      "text/plain": [
       "(8632, 4)"
      ]
     },
     "metadata": {},
     "output_type": "display_data"
    }
   ],
   "source": [
    "# remove non-mosquito amplicons\n",
    "display(subset_seq_data.shape)\n",
    "subset_seq_data = subset_seq_data[subset_seq_data.target.isin(AMPLS)]\n",
    "display(subset_seq_data.shape)"
   ]
  },
  {
   "cell_type": "code",
   "execution_count": 16,
   "metadata": {},
   "outputs": [],
   "source": [
    "# write subsetted sequencing data\n",
    "subset_seq_data.to_csv(SEQ_FILE, index=False)"
   ]
  },
  {
   "cell_type": "markdown",
   "metadata": {},
   "source": [
    "## Combine metadata"
   ]
  },
  {
   "cell_type": "code",
   "execution_count": 17,
   "metadata": {},
   "outputs": [
    {
     "data": {
      "text/html": [
       "<div>\n",
       "<style scoped>\n",
       "    .dataframe tbody tr th:only-of-type {\n",
       "        vertical-align: middle;\n",
       "    }\n",
       "\n",
       "    .dataframe tbody tr th {\n",
       "        vertical-align: top;\n",
       "    }\n",
       "\n",
       "    .dataframe thead th {\n",
       "        text-align: right;\n",
       "    }\n",
       "</style>\n",
       "<table border=\"1\" class=\"dataframe\">\n",
       "  <thead>\n",
       "    <tr style=\"text-align: right;\">\n",
       "      <th></th>\n",
       "      <th>s_Sample</th>\n",
       "      <th>External ID</th>\n",
       "      <th>Date of Collection</th>\n",
       "      <th>Location</th>\n",
       "      <th>Country</th>\n",
       "      <th>Latitude</th>\n",
       "      <th>Longitude</th>\n",
       "      <th>Species</th>\n",
       "      <th>Collection Context</th>\n",
       "      <th>Collection Method</th>\n",
       "      <th>Collection Time</th>\n",
       "      <th>Specimen Sex</th>\n",
       "      <th>Specimen Type</th>\n",
       "      <th>Extraction Method</th>\n",
       "      <th>Sample Type</th>\n",
       "      <th>Sample Set</th>\n",
       "      <th>Source</th>\n",
       "    </tr>\n",
       "  </thead>\n",
       "  <tbody>\n",
       "    <tr>\n",
       "      <th>28</th>\n",
       "      <td>Aten-185</td>\n",
       "      <td>185</td>\n",
       "      <td>2015-02-09</td>\n",
       "      <td>Benguia</td>\n",
       "      <td>Gabon</td>\n",
       "      <td>-1.63281</td>\n",
       "      <td>13.49217</td>\n",
       "      <td>Anopheles_tenebrosus</td>\n",
       "      <td>Outdoors</td>\n",
       "      <td>Human Landing Catch</td>\n",
       "      <td>NaN</td>\n",
       "      <td>Female</td>\n",
       "      <td>Wild caught adult</td>\n",
       "      <td>QIAGEN</td>\n",
       "      <td>Genomic DNA</td>\n",
       "      <td>ga</td>\n",
       "      <td>run1</td>\n",
       "    </tr>\n",
       "    <tr>\n",
       "      <th>14</th>\n",
       "      <td>Acou-71</td>\n",
       "      <td>71</td>\n",
       "      <td>2015-02-09</td>\n",
       "      <td>Benguia</td>\n",
       "      <td>Gabon</td>\n",
       "      <td>-1.63281</td>\n",
       "      <td>13.49217</td>\n",
       "      <td>Anopheles_coustani</td>\n",
       "      <td>Outdoors</td>\n",
       "      <td>Human Landing Catch</td>\n",
       "      <td>NaN</td>\n",
       "      <td>Female</td>\n",
       "      <td>Wild caught adult</td>\n",
       "      <td>QIAGEN</td>\n",
       "      <td>Genomic DNA</td>\n",
       "      <td>ga</td>\n",
       "      <td>run1</td>\n",
       "    </tr>\n",
       "    <tr>\n",
       "      <th>23</th>\n",
       "      <td>Azie-334</td>\n",
       "      <td>334</td>\n",
       "      <td>2015-09-15</td>\n",
       "      <td>Benguia</td>\n",
       "      <td>Gabon</td>\n",
       "      <td>-1.63281</td>\n",
       "      <td>13.49217</td>\n",
       "      <td>Anopheles_ziemanni</td>\n",
       "      <td>Outdoors</td>\n",
       "      <td>Human Landing Catch</td>\n",
       "      <td>NaN</td>\n",
       "      <td>Female</td>\n",
       "      <td>Wild caught adult</td>\n",
       "      <td>QIAGEN</td>\n",
       "      <td>Genomic DNA</td>\n",
       "      <td>ga</td>\n",
       "      <td>run1</td>\n",
       "    </tr>\n",
       "  </tbody>\n",
       "</table>\n",
       "</div>"
      ],
      "text/plain": [
       "    s_Sample External ID Date of Collection Location Country  Latitude  \\\n",
       "28  Aten-185         185         2015-02-09  Benguia   Gabon  -1.63281   \n",
       "14   Acou-71          71         2015-02-09  Benguia   Gabon  -1.63281   \n",
       "23  Azie-334         334         2015-09-15  Benguia   Gabon  -1.63281   \n",
       "\n",
       "    Longitude               Species Collection Context    Collection Method  \\\n",
       "28   13.49217  Anopheles_tenebrosus           Outdoors  Human Landing Catch   \n",
       "14   13.49217    Anopheles_coustani           Outdoors  Human Landing Catch   \n",
       "23   13.49217    Anopheles_ziemanni           Outdoors  Human Landing Catch   \n",
       "\n",
       "    Collection Time Specimen Sex      Specimen Type Extraction Method  \\\n",
       "28              NaN       Female  Wild caught adult            QIAGEN   \n",
       "14              NaN       Female  Wild caught adult            QIAGEN   \n",
       "23              NaN       Female  Wild caught adult            QIAGEN   \n",
       "\n",
       "    Sample Type Sample Set Source  \n",
       "28  Genomic DNA         ga   run1  \n",
       "14  Genomic DNA         ga   run1  \n",
       "23  Genomic DNA         ga   run1  "
      ]
     },
     "execution_count": 17,
     "metadata": {},
     "output_type": "execute_result"
    }
   ],
   "source": [
    "meta = list()\n",
    "\n",
    "for f in (SEQ_META_FILE, REF_META_FILE):\n",
    "    meta.append(pd.read_csv(f))\n",
    "meta = pd.concat(meta, sort=False)\n",
    "meta.sample(3)"
   ]
  },
  {
   "cell_type": "code",
   "execution_count": 18,
   "metadata": {},
   "outputs": [],
   "source": [
    "# any missing sample IDs?\n",
    "assert ~meta.s_Sample.isna().any()"
   ]
  },
  {
   "cell_type": "code",
   "execution_count": 19,
   "metadata": {},
   "outputs": [],
   "source": [
    "# any missing species IDs?\n",
    "assert ~meta.Species.isna().any()"
   ]
  },
  {
   "cell_type": "code",
   "execution_count": 20,
   "metadata": {},
   "outputs": [],
   "source": [
    "meta.to_csv(COMB_META, index=False)"
   ]
  },
  {
   "cell_type": "markdown",
   "metadata": {},
   "source": [
    "## Combine sequencing data, add metadata"
   ]
  },
  {
   "cell_type": "code",
   "execution_count": 21,
   "metadata": {},
   "outputs": [
    {
     "data": {
      "text/html": [
       "<div>\n",
       "<style scoped>\n",
       "    .dataframe tbody tr th:only-of-type {\n",
       "        vertical-align: middle;\n",
       "    }\n",
       "\n",
       "    .dataframe tbody tr th {\n",
       "        vertical-align: top;\n",
       "    }\n",
       "\n",
       "    .dataframe thead th {\n",
       "        text-align: right;\n",
       "    }\n",
       "</style>\n",
       "<table border=\"1\" class=\"dataframe\">\n",
       "  <thead>\n",
       "    <tr style=\"text-align: right;\">\n",
       "      <th></th>\n",
       "      <th>s_Sample</th>\n",
       "      <th>target</th>\n",
       "      <th>consensus</th>\n",
       "      <th>reads</th>\n",
       "    </tr>\n",
       "  </thead>\n",
       "  <tbody>\n",
       "    <tr>\n",
       "      <th>7850</th>\n",
       "      <td>VBS00145</td>\n",
       "      <td>43</td>\n",
       "      <td>TTGAGTACTCGGGCGTAAGCGGGATGCTTTTCCCTCGTCCAAATTC...</td>\n",
       "      <td>93</td>\n",
       "    </tr>\n",
       "  </tbody>\n",
       "</table>\n",
       "</div>"
      ],
      "text/plain": [
       "      s_Sample target                                          consensus reads\n",
       "7850  VBS00145     43  TTGAGTACTCGGGCGTAAGCGGGATGCTTTTCCCTCGTCCAAATTC...    93"
      ]
     },
     "execution_count": 21,
     "metadata": {},
     "output_type": "execute_result"
    }
   ],
   "source": [
    "seq = list()\n",
    "\n",
    "for f in (SEQ_FILE, REF_FILE):\n",
    "    seq.append(pd.read_csv(f, dtype=str))\n",
    "seq = pd.concat(seq, sort=False)\n",
    "seq.sample()"
   ]
  },
  {
   "cell_type": "code",
   "execution_count": 22,
   "metadata": {},
   "outputs": [],
   "source": [
    "sample_species = meta.set_index('s_Sample')['Species'].to_dict()\n",
    "seq['species'] = seq.s_Sample.replace(sample_species)"
   ]
  },
  {
   "cell_type": "code",
   "execution_count": 23,
   "metadata": {},
   "outputs": [
    {
     "data": {
      "text/html": [
       "<div>\n",
       "<style scoped>\n",
       "    .dataframe tbody tr th:only-of-type {\n",
       "        vertical-align: middle;\n",
       "    }\n",
       "\n",
       "    .dataframe tbody tr th {\n",
       "        vertical-align: top;\n",
       "    }\n",
       "\n",
       "    .dataframe thead th {\n",
       "        text-align: right;\n",
       "    }\n",
       "</style>\n",
       "<table border=\"1\" class=\"dataframe\">\n",
       "  <thead>\n",
       "    <tr style=\"text-align: right;\">\n",
       "      <th></th>\n",
       "      <th>s_Sample</th>\n",
       "      <th>target</th>\n",
       "      <th>consensus</th>\n",
       "      <th>reads</th>\n",
       "      <th>species</th>\n",
       "      <th>combUID</th>\n",
       "    </tr>\n",
       "  </thead>\n",
       "  <tbody>\n",
       "    <tr>\n",
       "      <th>2509</th>\n",
       "      <td>Amou-2-5</td>\n",
       "      <td>30</td>\n",
       "      <td>CCAATATGTCGAGGCTTCTTTGAAAACACATGAAAAATATTGATAA...</td>\n",
       "      <td>217</td>\n",
       "      <td>Anopheles_moucheti</td>\n",
       "      <td>30-19</td>\n",
       "    </tr>\n",
       "    <tr>\n",
       "      <th>1954</th>\n",
       "      <td>Amar-3-1</td>\n",
       "      <td>43</td>\n",
       "      <td>TTGAGTACTCGGGCGTAAGCGGGATGCTTTTCCCTCGTCCAAATTC...</td>\n",
       "      <td>223</td>\n",
       "      <td>Anopheles_marshallii</td>\n",
       "      <td>43-20</td>\n",
       "    </tr>\n",
       "    <tr>\n",
       "      <th>6494</th>\n",
       "      <td>VBS00059</td>\n",
       "      <td>20</td>\n",
       "      <td>CAAACTGCACATCGATGATGTTGGTAAACTCGCCCGGCTTCTCCAG...</td>\n",
       "      <td>260</td>\n",
       "      <td>Anopheles_minimus_A</td>\n",
       "      <td>20-45</td>\n",
       "    </tr>\n",
       "  </tbody>\n",
       "</table>\n",
       "</div>"
      ],
      "text/plain": [
       "      s_Sample target                                          consensus  \\\n",
       "2509  Amou-2-5     30  CCAATATGTCGAGGCTTCTTTGAAAACACATGAAAAATATTGATAA...   \n",
       "1954  Amar-3-1     43  TTGAGTACTCGGGCGTAAGCGGGATGCTTTTCCCTCGTCCAAATTC...   \n",
       "6494  VBS00059     20  CAAACTGCACATCGATGATGTTGGTAAACTCGCCCGGCTTCTCCAG...   \n",
       "\n",
       "     reads               species combUID  \n",
       "2509   217    Anopheles_moucheti   30-19  \n",
       "1954   223  Anopheles_marshallii   43-20  \n",
       "6494   260   Anopheles_minimus_A   20-45  "
      ]
     },
     "execution_count": 23,
     "metadata": {},
     "output_type": "execute_result"
    }
   ],
   "source": [
    "# assign IDs to unique sequences\n",
    "combuids = dict()\n",
    "for tgt, group in seq.groupby(['target']):\n",
    "    for (i, cons) in enumerate(group['consensus'].unique()):\n",
    "        combuids[tgt+cons] = '{}-{}'.format(tgt, i)\n",
    "seq['combUID'] = (seq.target + seq.consensus).replace(combuids)\n",
    "seq.sample(3)"
   ]
  },
  {
   "cell_type": "code",
   "execution_count": 24,
   "metadata": {},
   "outputs": [],
   "source": [
    "seq.to_csv(COMB_SEQ, index=False)"
   ]
  },
  {
   "cell_type": "markdown",
   "metadata": {},
   "source": [
    "## Generate alignments"
   ]
  },
  {
   "cell_type": "code",
   "execution_count": 25,
   "metadata": {},
   "outputs": [
    {
     "name": "stdout",
     "output_type": "stream",
     "text": [
      "61\n",
      "Done!\n"
     ]
    }
   ],
   "source": [
    "# generate alignments\n",
    "for ampl in AMPLS:\n",
    "    sys.stdout.write('\\r' + ampl)\n",
    "    # subset amplicon data\n",
    "    ampl_data = seq[seq.target == ampl]\n",
    "    # get only unique sequences\n",
    "    ampl_data = ampl_data[~ampl_data.combUID.duplicated()]\n",
    "    # write under combUID name\n",
    "    with open('temp.fa', 'w') as o:\n",
    "        for (i, row) in ampl_data.iterrows():\n",
    "            o.write('>{}\\n{}\\n'.format(row.combUID,\n",
    "                                       row.consensus))\n",
    "    # align\n",
    "    ! mafft temp.fa > {ALN_ALL.format(ampl)} 2> /dev/null\n",
    "    ! rm temp.fa\n",
    "print('\\nDone!')"
   ]
  },
  {
   "cell_type": "markdown",
   "metadata": {},
   "source": [
    "## Generate taxonomy"
   ]
  },
  {
   "cell_type": "code",
   "execution_count": 28,
   "metadata": {},
   "outputs": [
    {
     "name": "stderr",
     "output_type": "stream",
     "text": [
      "Downloading taxdump.tar.gz from NCBI FTP site (via HTTP)...\n",
      "Done. Parsing...\n"
     ]
    },
    {
     "name": "stdout",
     "output_type": "stream",
     "text": [
      "Loading node names...\n",
      "2248558 names loaded.\n",
      "218746 synonyms loaded.\n",
      "Loading nodes...\n",
      "2248558 nodes loaded.\n",
      "Linking nodes...\n",
      "Tree is loaded.\n",
      "Updating database: /Users/am60/.etetoolkit/taxa.sqlite ...\n",
      " 2248000 generating entries...  generating entries... \n",
      "Uploading to /Users/am60/.etetoolkit/taxa.sqlite\n"
     ]
    },
    {
     "name": "stderr",
     "output_type": "stream",
     "text": [
      "Inserting synonyms:      25000 "
     ]
    },
    {
     "name": "stdout",
     "output_type": "stream",
     "text": [
      "\n"
     ]
    },
    {
     "name": "stderr",
     "output_type": "stream",
     "text": [
      "Inserting taxid merges:  55000   "
     ]
    },
    {
     "name": "stdout",
     "output_type": "stream",
     "text": [
      "\n",
      "\n"
     ]
    },
    {
     "name": "stderr",
     "output_type": "stream",
     "text": [
      "Inserting taxids:       2245000 "
     ]
    },
    {
     "name": "stdout",
     "output_type": "stream",
     "text": [
      "\n"
     ]
    }
   ],
   "source": [
    "from ete3 import NCBITaxa\n",
    "ncbi = NCBITaxa()\n",
    "ncbi.update_taxonomy_database()"
   ]
  },
  {
   "cell_type": "code",
   "execution_count": 29,
   "metadata": {},
   "outputs": [
    {
     "name": "stdout",
     "output_type": "stream",
     "text": [
      "{'Anopheles nili ss', 'Anopheles brohieri', 'Anopheles dureni', 'Anopheles maculatus B', 'Anopheles maculatus A'}\n"
     ]
    }
   ],
   "source": [
    "all_spp = meta.Species.str.replace('_',' ').unique()\n",
    "ncbi_spp = ncbi.get_name_translator(all_spp)\n",
    "# species not in NCBI Taxonomy - to be replaced later by closest representative\n",
    "print(set(all_spp) - set(ncbi_spp.keys()))"
   ]
  },
  {
   "cell_type": "code",
   "execution_count": 30,
   "metadata": {},
   "outputs": [
    {
     "data": {
      "text/plain": [
       "58"
      ]
     },
     "execution_count": 30,
     "metadata": {},
     "output_type": "execute_result"
    }
   ],
   "source": [
    "# replace unparsed species IDs with the close species\n",
    "# based on Harbach\n",
    "def subst_sp(orig_sp, other_sp):\n",
    "    '''\n",
    "    Substitute species ID with the one existing in NCBI\n",
    "    '''\n",
    "    try:\n",
    "        taxid = ncbi.get_name_translator([other_sp])[other_sp]\n",
    "        return ({orig_sp:taxid})\n",
    "    except:\n",
    "        print('{} not found in NCBI taxonomy'.format(other_sp))\n",
    "        \n",
    "        return 0\n",
    "    \n",
    "    \n",
    "ncbi_spp.update(subst_sp('Anopheles nili ss', 'Anopheles nili'))\n",
    "ncbi_spp.update(subst_sp('Anopheles maculatus A', 'Anopheles maculatus'))\n",
    "ncbi_spp.update(subst_sp('Anopheles maculatus B', 'Anopheles maculatus'))\n",
    "ncbi_spp.update(subst_sp('Anopheles dureni', 'Anopheles vinckei'))\n",
    "ncbi_spp.update(subst_sp('Anopheles brohieri', 'Anopheles hancocki'))\n",
    "len(ncbi_spp)"
   ]
  },
  {
   "cell_type": "code",
   "execution_count": 31,
   "metadata": {},
   "outputs": [
    {
     "name": "stdout",
     "output_type": "stream",
     "text": [
      "root no rank\n",
      "cellular organisms no rank\n",
      "Eukaryota superkingdom\n",
      "Opisthokonta no rank\n",
      "Metazoa kingdom\n",
      "Eumetazoa no rank\n",
      "Bilateria no rank\n",
      "Protostomia no rank\n",
      "Ecdysozoa no rank\n",
      "Panarthropoda no rank\n",
      "Arthropoda phylum\n",
      "Mandibulata no rank\n",
      "Pancrustacea no rank\n",
      "Hexapoda subphylum\n",
      "Insecta class\n",
      "Dicondylia no rank\n",
      "Pterygota subclass\n",
      "Neoptera infraclass\n",
      "Holometabola cohort\n",
      "Diptera order\n",
      "Nematocera suborder\n",
      "Culicomorpha infraorder\n",
      "Culicoidea superfamily\n",
      "Culicidae family\n",
      "Anophelinae subfamily\n",
      "Anopheles genus\n",
      "Cellia subgenus\n",
      "Neomyzomyia no rank\n",
      "leucosphyrus group species group\n",
      "leucosphyrus subgroup species subgroup\n",
      "dirus species complex no rank\n",
      "Anopheles dirus species\n",
      "Anopheles dirus A no rank\n"
     ]
    }
   ],
   "source": [
    "# check ranks, report non-species ranks with complete lineage\n",
    "ncbi_ranks = ncbi.get_rank([x[0] for x in ncbi_spp.values()])\n",
    "for taxid, rank in ncbi_ranks.items():\n",
    "    if rank != 'species':\n",
    "        lineage = ncbi.get_lineage(taxid)\n",
    "        names = ncbi.get_taxid_translator(lineage)\n",
    "        ranks = ncbi.get_rank(lineage)\n",
    "        for t in lineage:\n",
    "            print(names[t],ranks[t])"
   ]
  },
  {
   "cell_type": "code",
   "execution_count": 32,
   "metadata": {},
   "outputs": [
    {
     "data": {
      "text/plain": [
       "58"
      ]
     },
     "execution_count": 32,
     "metadata": {},
     "output_type": "execute_result"
    }
   ],
   "source": [
    "# replace non-species IDs with upstream species\n",
    "ncbi_spp.update(subst_sp('Anopheles dirus A', 'Anopheles dirus'))\n",
    "len(ncbi_spp)"
   ]
  },
  {
   "cell_type": "code",
   "execution_count": 33,
   "metadata": {},
   "outputs": [],
   "source": [
    "# parse out relevant parts of taxonomy\n",
    "taxonomy = dict()\n",
    "for (species, taxids) in ncbi_spp.items():\n",
    "    \n",
    "    # init taxonomy dict for species\n",
    "    taxonomy[species] = dict()\n",
    "    # get species lineage\n",
    "    taxid = taxids[0]\n",
    "    lineage = ncbi.get_lineage(taxid)\n",
    "    # start from smallest taxa\n",
    "    lineage.reverse()\n",
    "\n",
    "    names = ncbi.get_taxid_translator(lineage)\n",
    "    ranks = ncbi.get_rank(lineage)\n",
    "    # iterate\n",
    "    i = 1\n",
    "    for t in lineage:\n",
    "        rank = ranks[t]\n",
    "        name = names[t]\n",
    "        # existing rank - save as is\n",
    "        if rank != 'no rank':\n",
    "            taxonomy[species][rank] = name\n",
    "            # terminate at subgenus\n",
    "            if rank == 'subgenus':\n",
    "                break\n",
    "            else:\n",
    "                continue\n",
    "        name_split = name.split(' ')\n",
    "        # unknown rank\n",
    "        # split names - series, section, complex\n",
    "        if len(name_split) > 1:\n",
    "            # extract rank from name\n",
    "            rank = name_split[-1]\n",
    "            name = name_split[0].capitalize()\n",
    "            taxonomy[species][rank] = name\n",
    "            continue\n",
    "        # non-split name - should be only series\n",
    "        else:\n",
    "            rank = rank + ' ' + str(i)\n",
    "            taxonomy[species][rank] = name\n",
    "            i += 1"
   ]
  },
  {
   "cell_type": "code",
   "execution_count": 34,
   "metadata": {},
   "outputs": [
    {
     "data": {
      "text/html": [
       "<div>\n",
       "<style scoped>\n",
       "    .dataframe tbody tr th:only-of-type {\n",
       "        vertical-align: middle;\n",
       "    }\n",
       "\n",
       "    .dataframe tbody tr th {\n",
       "        vertical-align: top;\n",
       "    }\n",
       "\n",
       "    .dataframe thead th {\n",
       "        text-align: right;\n",
       "    }\n",
       "</style>\n",
       "<table border=\"1\" class=\"dataframe\">\n",
       "  <thead>\n",
       "    <tr style=\"text-align: right;\">\n",
       "      <th></th>\n",
       "      <th>subgenus</th>\n",
       "      <th>section</th>\n",
       "      <th>series</th>\n",
       "      <th>group</th>\n",
       "      <th>subgroup</th>\n",
       "      <th>complex</th>\n",
       "      <th>species_ncbi</th>\n",
       "    </tr>\n",
       "    <tr>\n",
       "      <th>species</th>\n",
       "      <th></th>\n",
       "      <th></th>\n",
       "      <th></th>\n",
       "      <th></th>\n",
       "      <th></th>\n",
       "      <th></th>\n",
       "      <th></th>\n",
       "    </tr>\n",
       "  </thead>\n",
       "  <tbody>\n",
       "    <tr>\n",
       "      <th>Anopheles_aconitus</th>\n",
       "      <td>Cellia</td>\n",
       "      <td></td>\n",
       "      <td>Myzomyia</td>\n",
       "      <td>Minimus</td>\n",
       "      <td></td>\n",
       "      <td></td>\n",
       "      <td>Anopheles aconitus</td>\n",
       "    </tr>\n",
       "    <tr>\n",
       "      <th>Anopheles_albimanus</th>\n",
       "      <td>Nyssorhynchus</td>\n",
       "      <td>Albimanus</td>\n",
       "      <td>Albimanus</td>\n",
       "      <td></td>\n",
       "      <td></td>\n",
       "      <td></td>\n",
       "      <td>Anopheles albimanus</td>\n",
       "    </tr>\n",
       "    <tr>\n",
       "      <th>Anopheles_annularis</th>\n",
       "      <td>Cellia</td>\n",
       "      <td></td>\n",
       "      <td>Neocellia</td>\n",
       "      <td>Annularis</td>\n",
       "      <td></td>\n",
       "      <td>Annularis</td>\n",
       "      <td>Anopheles annularis</td>\n",
       "    </tr>\n",
       "    <tr>\n",
       "      <th>Anopheles_aquasalis</th>\n",
       "      <td>Nyssorhynchus</td>\n",
       "      <td>Albimanus</td>\n",
       "      <td>Oswaldoi</td>\n",
       "      <td>Oswaldoi</td>\n",
       "      <td>Oswaldoi</td>\n",
       "      <td></td>\n",
       "      <td>Anopheles aquasalis</td>\n",
       "    </tr>\n",
       "    <tr>\n",
       "      <th>Anopheles_arabiensis</th>\n",
       "      <td>Cellia</td>\n",
       "      <td></td>\n",
       "      <td>Pyretophorus</td>\n",
       "      <td></td>\n",
       "      <td></td>\n",
       "      <td>Gambiae</td>\n",
       "      <td>Anopheles arabiensis</td>\n",
       "    </tr>\n",
       "  </tbody>\n",
       "</table>\n",
       "</div>"
      ],
      "text/plain": [
       "                           subgenus    section        series      group  \\\n",
       "species                                                                   \n",
       "Anopheles_aconitus           Cellia                 Myzomyia    Minimus   \n",
       "Anopheles_albimanus   Nyssorhynchus  Albimanus     Albimanus              \n",
       "Anopheles_annularis          Cellia                Neocellia  Annularis   \n",
       "Anopheles_aquasalis   Nyssorhynchus  Albimanus      Oswaldoi   Oswaldoi   \n",
       "Anopheles_arabiensis         Cellia             Pyretophorus              \n",
       "\n",
       "                      subgroup    complex          species_ncbi  \n",
       "species                                                          \n",
       "Anopheles_aconitus                           Anopheles aconitus  \n",
       "Anopheles_albimanus                         Anopheles albimanus  \n",
       "Anopheles_annularis             Annularis   Anopheles annularis  \n",
       "Anopheles_aquasalis   Oswaldoi              Anopheles aquasalis  \n",
       "Anopheles_arabiensis              Gambiae  Anopheles arabiensis  "
      ]
     },
     "execution_count": 34,
     "metadata": {},
     "output_type": "execute_result"
    }
   ],
   "source": [
    "# examine the output\n",
    "td = pd.DataFrame(taxonomy).T.fillna('')\n",
    "# td.head()\n",
    "# corrections\n",
    "# `no rank 1` is indeed series, combine\n",
    "td['series'] = td['no rank 1'] + td['series']\n",
    "# rename some ranks for consistency\n",
    "td = td.rename(columns={'species group':'group',\n",
    "                        'species subgroup':'subgroup',\n",
    "                        'species':'species_ncbi'})\n",
    "# order taxonomically\n",
    "td = td[['subgenus','section','series','group','subgroup','complex','species_ncbi']]\n",
    "# Get titile from long group/subgroup name\n",
    "# heterogeneity - `minimus group`, but `Anopheles annularis group`\n",
    "for col in ('group','subgroup'):\n",
    "    td[col] = td[col].str.split(' ').str.get(-2).str.capitalize().fillna('')\n",
    "# return underscores in species names\n",
    "td.index = td.index.str.replace(' ','_')\n",
    "td.index.name = 'species'\n",
    "# sort\n",
    "td = td.sort_index()\n",
    "# inspect\n",
    "td.head()"
   ]
  },
  {
   "cell_type": "code",
   "execution_count": 35,
   "metadata": {},
   "outputs": [
    {
     "data": {
      "text/html": [
       "<div>\n",
       "<style scoped>\n",
       "    .dataframe tbody tr th:only-of-type {\n",
       "        vertical-align: middle;\n",
       "    }\n",
       "\n",
       "    .dataframe tbody tr th {\n",
       "        vertical-align: top;\n",
       "    }\n",
       "\n",
       "    .dataframe thead th {\n",
       "        text-align: right;\n",
       "    }\n",
       "</style>\n",
       "<table border=\"1\" class=\"dataframe\">\n",
       "  <thead>\n",
       "    <tr style=\"text-align: right;\">\n",
       "      <th></th>\n",
       "      <th>subgenus</th>\n",
       "      <th>section</th>\n",
       "      <th>series</th>\n",
       "      <th>group</th>\n",
       "      <th>subgroup</th>\n",
       "      <th>complex</th>\n",
       "      <th>species_ncbi</th>\n",
       "    </tr>\n",
       "    <tr>\n",
       "      <th>species</th>\n",
       "      <th></th>\n",
       "      <th></th>\n",
       "      <th></th>\n",
       "      <th></th>\n",
       "      <th></th>\n",
       "      <th></th>\n",
       "      <th></th>\n",
       "    </tr>\n",
       "  </thead>\n",
       "  <tbody>\n",
       "    <tr>\n",
       "      <th>Anopheles_quadriannulatus</th>\n",
       "      <td>Cellia</td>\n",
       "      <td></td>\n",
       "      <td>Pyretophorus</td>\n",
       "      <td></td>\n",
       "      <td></td>\n",
       "      <td>Gambiae</td>\n",
       "      <td>Anopheles quadriannulatus</td>\n",
       "    </tr>\n",
       "  </tbody>\n",
       "</table>\n",
       "</div>"
      ],
      "text/plain": [
       "                          subgenus section        series group subgroup  \\\n",
       "species                                                                   \n",
       "Anopheles_quadriannulatus   Cellia          Pyretophorus                  \n",
       "\n",
       "                           complex               species_ncbi  \n",
       "species                                                        \n",
       "Anopheles_quadriannulatus  Gambiae  Anopheles quadriannulatus  "
      ]
     },
     "execution_count": 35,
     "metadata": {},
     "output_type": "execute_result"
    }
   ],
   "source": [
    "td[td.index.str.contains('quad')]"
   ]
  },
  {
   "cell_type": "code",
   "execution_count": 36,
   "metadata": {},
   "outputs": [],
   "source": [
    "# manually add missing values from Harbach\n",
    "td.loc['Anopheles_marshallii', 'group'] = 'Marshallii'\n",
    "td.loc['Anopheles_brohieri', 'group'] = 'Marshallii'\n",
    "td.loc['Anopheles_hancocki', 'group'] = 'Marshallii'\n",
    "td.loc['Anopheles_carnevalei', 'group'] = 'Ardensis'\n",
    "td.loc['Anopheles_carnevalei', 'complex'] = 'Nili'\n",
    "#\n",
    "td.loc['Anopheles_theileri', 'series'] = 'Myzomyia'\n",
    "td.loc['Anopheles_rhodesiensis', 'series'] = 'Neomyzomyia'\n",
    "td.loc['Anopheles_jebudensis', 'series'] = 'Neomyzomyia'\n",
    "td.loc['Anopheles_carnevalei', 'series'] = 'Neomyzomyia'\n"
   ]
  },
  {
   "cell_type": "code",
   "execution_count": 37,
   "metadata": {},
   "outputs": [],
   "source": [
    "td.to_csv(TAXONOMY_FILE)"
   ]
  },
  {
   "cell_type": "markdown",
   "metadata": {},
   "source": [
    "## Sandbox - manual taxonomy input"
   ]
  },
  {
   "cell_type": "code",
   "execution_count": null,
   "metadata": {},
   "outputs": [],
   "source": [
    "# x = pd.DataFrame(meta.Species.unique(), columns=['species'])\n",
    "# x['subgenus'] = 'Cellia'\n",
    "# x.loc[x.species.isin(['Anopheles_paludis',\n",
    "#            'Anopheles_ziemanni',\n",
    "#            'Anopheles_tenebrosus',\n",
    "#            'Anopheles_coustani',\n",
    "#            'Anopheles_sinensis',\n",
    "#            'Anopheles_hyrcanus',\n",
    "#            'Anopheles_barbirostris',\n",
    "#            'Anopheles_atroparvus',\n",
    "#            'Anopheles_implexus']), 'subgenus'] = 'Anopheles'\n",
    "# x.loc[x.species.isin(['Anopheles_albimanus',\n",
    "#            'Anopheles_aquasalis',\n",
    "#            'Anopheles_darlingi',\n",
    "#            'Anopheles_oryzalimnetes']), 'subgenus'] = 'Kertezsia'\n",
    "# x.loc[x.species.isin(['Anopheles_cruzii',\n",
    "#            'Anopheles_bellator']), 'subgenus'] = 'Nyssorhynchus'\n",
    "# x.head()"
   ]
  },
  {
   "cell_type": "code",
   "execution_count": null,
   "metadata": {},
   "outputs": [],
   "source": [
    "# x['series'] = ''\n",
    "# x.loc[x.species.isin(\n",
    "#     ['Anopheles_nili_ss',\n",
    "#     'Anopheles_nili',\n",
    "#     'Anopheles_carnevalei',\n",
    "#     'Anopheles_koliensis',\n",
    "#     'Anopheles_farauti',\n",
    "#     'Anopheles_punctulatus',\n",
    "#     'Anopheles_tessellatus',\n",
    "#     'Anopheles_cracens',\n",
    "#     'Anopheles_balabacensis',\n",
    "#     'Anopheles_dirus_A',\n",
    "#     'Anopheles_dureni',\n",
    "#     'Anopheles_vinckei',\n",
    "#     'Anopheles_rhodesiensis']), 'series'] = 'Neomyzomiya'\n",
    "# x.loc[x.species.isin(\n",
    "#     ['Anopheles_coluzzii',\n",
    "#     'Anopheles_gambiae',\n",
    "#     'Anopheles_arabiensis',\n",
    "#     'Anopheles_quadriannulatus',\n",
    "#     'Anopheles_melas',\n",
    "#     'Anopheles_merus',\n",
    "#     'Anopheles_epiroticus',\n",
    "#     'Anopheles_sundaicus',\n",
    "#     'Anopheles_vagus',\n",
    "#     'Anopheles_christyi']), 'series'] = 'Pyretophorus'\n",
    "# x.loc[x.species.isin(\n",
    "#     ['Anopheles_maculatus_A',\n",
    "#     'Anopheles_maculatus_B',\n",
    "#     'Anopheles_rampae',\n",
    "#     'Anopheles_maculipalpis',\n",
    "#     'Anopheles_jamesii',\n",
    "#     'Anopheles_annularis',\n",
    "#     'Anopheles_stephensi']), 'series'] = 'Neocellia'\n",
    "# x.loc[x.species.isin(\n",
    "#     ['Anopheles_marshalli',\n",
    "#     'Anopheles_hancocki',\n",
    "#     'Anopheles_demeilloni',\n",
    "#     'Anopheles_theileri',\n",
    "#     'Anopheles_jebudensis',\n",
    "#     'Anopheles_merus',\n",
    "#     'Anopheles_epiroticus',\n",
    "#     'Anopheles_sundaicus',\n",
    "#     'Anopheles_vagus',\n",
    "#     'Anopheles_christyi']), 'series'] = 'Pyretophorus'"
   ]
  }
 ],
 "metadata": {
  "kernelspec": {
   "display_name": "Python 3",
   "language": "python",
   "name": "python3"
  },
  "language_info": {
   "codemirror_mode": {
    "name": "ipython",
    "version": 3
   },
   "file_extension": ".py",
   "mimetype": "text/x-python",
   "name": "python",
   "nbconvert_exporter": "python",
   "pygments_lexer": "ipython3",
   "version": "3.6.7"
  }
 },
 "nbformat": 4,
 "nbformat_minor": 2
}
